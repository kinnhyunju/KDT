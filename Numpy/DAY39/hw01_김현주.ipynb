{
 "cells": [
  {
   "cell_type": "code",
   "execution_count": 43,
   "metadata": {},
   "outputs": [],
   "source": [
    "import pandas as pd\n",
    "import numpy as np\n",
    "import matplotlib.pyplot as plt"
   ]
  },
  {
   "cell_type": "markdown",
   "metadata": {},
   "source": [
    "#### 1. 서울시 지하철 역별 이용객수"
   ]
  },
  {
   "cell_type": "code",
   "execution_count": 44,
   "metadata": {},
   "outputs": [
    {
     "data": {
      "text/html": [
       "<div>\n",
       "<style scoped>\n",
       "    .dataframe tbody tr th:only-of-type {\n",
       "        vertical-align: middle;\n",
       "    }\n",
       "\n",
       "    .dataframe tbody tr th {\n",
       "        vertical-align: top;\n",
       "    }\n",
       "\n",
       "    .dataframe thead th {\n",
       "        text-align: right;\n",
       "    }\n",
       "</style>\n",
       "<table border=\"1\" class=\"dataframe\">\n",
       "  <thead>\n",
       "    <tr style=\"text-align: right;\">\n",
       "      <th></th>\n",
       "      <th>사용일자</th>\n",
       "      <th>노선명</th>\n",
       "      <th>역명</th>\n",
       "      <th>승차총승객수</th>\n",
       "      <th>하차총승객수</th>\n",
       "      <th>승하차객수</th>\n",
       "    </tr>\n",
       "  </thead>\n",
       "  <tbody>\n",
       "    <tr>\n",
       "      <th>0</th>\n",
       "      <td>20240701</td>\n",
       "      <td>9호선2~3단계</td>\n",
       "      <td>석촌고분</td>\n",
       "      <td>7665</td>\n",
       "      <td>7414</td>\n",
       "      <td>15079</td>\n",
       "    </tr>\n",
       "    <tr>\n",
       "      <th>1</th>\n",
       "      <td>20240701</td>\n",
       "      <td>중앙선</td>\n",
       "      <td>도농</td>\n",
       "      <td>12178</td>\n",
       "      <td>10957</td>\n",
       "      <td>23135</td>\n",
       "    </tr>\n",
       "    <tr>\n",
       "      <th>2</th>\n",
       "      <td>20240701</td>\n",
       "      <td>중앙선</td>\n",
       "      <td>구리</td>\n",
       "      <td>14053</td>\n",
       "      <td>14085</td>\n",
       "      <td>28138</td>\n",
       "    </tr>\n",
       "    <tr>\n",
       "      <th>3</th>\n",
       "      <td>20240701</td>\n",
       "      <td>4호선</td>\n",
       "      <td>길음</td>\n",
       "      <td>22687</td>\n",
       "      <td>22215</td>\n",
       "      <td>44902</td>\n",
       "    </tr>\n",
       "    <tr>\n",
       "      <th>4</th>\n",
       "      <td>20240701</td>\n",
       "      <td>분당선</td>\n",
       "      <td>복정</td>\n",
       "      <td>1</td>\n",
       "      <td>0</td>\n",
       "      <td>1</td>\n",
       "    </tr>\n",
       "  </tbody>\n",
       "</table>\n",
       "</div>"
      ],
      "text/plain": [
       "       사용일자       노선명    역명  승차총승객수  하차총승객수  승하차객수\n",
       "0  20240701  9호선2~3단계  석촌고분    7665    7414  15079\n",
       "1  20240701       중앙선    도농   12178   10957  23135\n",
       "2  20240701       중앙선    구리   14053   14085  28138\n",
       "3  20240701       4호선    길음   22687   22215  44902\n",
       "4  20240701       분당선    복정       1       0      1"
      ]
     },
     "execution_count": 44,
     "metadata": {},
     "output_type": "execute_result"
    }
   ],
   "source": [
    "sub = pd.read_csv('과제1-데이터예시(seoul.csv).csv')\n",
    "sub.head()"
   ]
  },
  {
   "cell_type": "code",
   "execution_count": 53,
   "metadata": {},
   "outputs": [
    {
     "data": {
      "text/plain": [
       "역명\n",
       "4.19민주묘지       89203.0\n",
       "가능            186709.0\n",
       "가락시장          505516.5\n",
       "가산디지털단지      1788430.5\n",
       "가양            656598.0\n",
       "               ...    \n",
       "회기            715718.0\n",
       "회룡            378788.5\n",
       "회현(남대문시장)     810470.0\n",
       "효창공원앞         303225.5\n",
       "흑석(중앙대입구)     256607.0\n",
       "Name: 승하차객수, Length: 528, dtype: float64"
      ]
     },
     "execution_count": 53,
     "metadata": {},
     "output_type": "execute_result"
    }
   ],
   "source": [
    "# 1. 각 지하철 역별 평균 이용객수\n",
    "sub_df = sub.groupby('역명')\n",
    "avg = (sub_df['승하차객수'].sum())/2\n",
    "avg"
   ]
  },
  {
   "cell_type": "code",
   "execution_count": 113,
   "metadata": {},
   "outputs": [
    {
     "data": {
      "text/plain": [
       "역명\n",
       "4.19민주묘지       763.978555\n",
       "가능            2242.258296\n",
       "가락시장          4052.100494\n",
       "가산디지털단지      35085.671021\n",
       "가양            9110.213862\n",
       "                 ...     \n",
       "회기            7077.440020\n",
       "회룡            4448.056103\n",
       "회현(남대문시장)    13135.829043\n",
       "효창공원앞         4141.904922\n",
       "흑석(중앙대입구)     3921.212603\n",
       "Name: 승하차객수, Length: 528, dtype: float64"
      ]
     },
     "execution_count": 113,
     "metadata": {},
     "output_type": "execute_result"
    }
   ],
   "source": [
    "# 2. 각 지하철 역별 이용객 수의 표준편차\n",
    "std = sub_df['승하차객수'].std()\n",
    "std"
   ]
  },
  {
   "cell_type": "code",
   "execution_count": 104,
   "metadata": {},
   "outputs": [
    {
     "data": {
      "text/plain": [
       "5993237"
      ]
     },
     "execution_count": 104,
     "metadata": {},
     "output_type": "execute_result"
    }
   ],
   "source": [
    "# 3. 가장 많은 이용객이 있는 역의 이용객 수\n",
    "max = sub_df['승하차객수'].sum().max()\n",
    "max"
   ]
  },
  {
   "cell_type": "code",
   "execution_count": 105,
   "metadata": {},
   "outputs": [
    {
     "data": {
      "text/plain": [
       "1"
      ]
     },
     "execution_count": 105,
     "metadata": {},
     "output_type": "execute_result"
    }
   ],
   "source": [
    "# 4. 가장 적은 이용객이 있는 역의 이용객 수\n",
    "min = sub_df['승하차객수'].sum().min()\n",
    "min"
   ]
  },
  {
   "cell_type": "code",
   "execution_count": 102,
   "metadata": {},
   "outputs": [
    {
     "name": "stdout",
     "output_type": "stream",
     "text": [
      "이용객 수가 가장 많은 역 : 잠실(송파구청)\n"
     ]
    }
   ],
   "source": [
    "# 6. 이용객 수가 가장 많은 역의 이름\n",
    "max_name = sub_df['승하차객수'].sum().idxmax()\n",
    "print(f'이용객 수가 가장 많은 역 : {max_name}')"
   ]
  },
  {
   "cell_type": "code",
   "execution_count": 100,
   "metadata": {},
   "outputs": [
    {
     "name": "stdout",
     "output_type": "stream",
     "text": [
      "이용객 수가 가장 적은 역 : 까치울\n"
     ]
    }
   ],
   "source": [
    "# 6. 이용객 수가 가장 적은 역의 이름\n",
    "min_name = sub_df['승하차객수'].sum().idxmin()\n",
    "print(f'이용객 수가 가장 적은 역 : {min_name}')"
   ]
  },
  {
   "cell_type": "code",
   "execution_count": 101,
   "metadata": {},
   "outputs": [
    {
     "name": "stdout",
     "output_type": "stream",
     "text": [
      "이용객 수가 가장 많은 역 : 홍대입구\n"
     ]
    }
   ],
   "source": [
    "# # 5. 이용객 수가 가장 많은 역의 이름\n",
    "# max_name = sub[sub['승하차객수']==max]['역명'].to_list()\n",
    "# print(f'이용객 수가 가장 많은 역 : {max_name[0]}')"
   ]
  },
  {
   "cell_type": "code",
   "execution_count": 91,
   "metadata": {},
   "outputs": [
    {
     "name": "stdout",
     "output_type": "stream",
     "text": [
      "[ 이용객 수가 가장 적은 역 ]\n",
      "복정 지축 김포공항 신내 검암 지축 신내 연신내 지축 지축\n",
      "연신내 신내 신내 지축 신내 연신내 까치울 계양 검암 계양\n",
      "창동 지축 지축 계양 지축 신내 창동 연신내 연신내 연신내\n",
      "지축 연신내 신내 연신내 신내 지축 "
     ]
    }
   ],
   "source": [
    "# # 6. 이용객 수가 가장 적은 역의 이름\n",
    "# min_name = sub[sub['승하차객수']==min]['역명'].to_list()\n",
    "# print('[ 이용객 수가 가장 적은 역 ]')\n",
    "# for i in range(1, len(min_name)+1):\n",
    "#     if i%10 == 0:\n",
    "#         print(min_name[i-1])\n",
    "#     else:\n",
    "#         print(min_name[i-1], end=' ')"
   ]
  },
  {
   "cell_type": "code",
   "execution_count": 108,
   "metadata": {},
   "outputs": [
    {
     "data": {
      "image/png": "[encoded data removed]",
      "text/plain": [
       "<Figure size 640x480 with 1 Axes>"
      ]
     },
     "metadata": {},
     "output_type": "display_data"
    }
   ],
   "source": [
    "# 7. 이용객 수의 분포를 히스토그램으로 시각화\n",
    "plt.hist(sub_df['승하차객수'].sum().to_list())\n",
    "plt.xlabel('[number of people]', fontweight = 'bold')\n",
    "plt.ylabel('[number of station]', fontweight = 'bold')\n",
    "plt.show()"
   ]
  },
  {
   "cell_type": "markdown",
   "metadata": {},
   "source": [
    "#### 2. Boston House Prices"
   ]
  },
  {
   "cell_type": "code",
   "execution_count": null,
   "metadata": {},
   "outputs": [
    {
     "data": {
      "text/html": [
       "<div>\n",
       "<style scoped>\n",
       "    .dataframe tbody tr th:only-of-type {\n",
       "        vertical-align: middle;\n",
       "    }\n",
       "\n",
       "    .dataframe tbody tr th {\n",
       "        vertical-align: top;\n",
       "    }\n",
       "\n",
       "    .dataframe thead th {\n",
       "        text-align: right;\n",
       "    }\n",
       "</style>\n",
       "<table border=\"1\" class=\"dataframe\">\n",
       "  <thead>\n",
       "    <tr style=\"text-align: right;\">\n",
       "      <th></th>\n",
       "      <th>crim</th>\n",
       "      <th>zn</th>\n",
       "      <th>indus</th>\n",
       "      <th>chas</th>\n",
       "      <th>nox</th>\n",
       "      <th>rm</th>\n",
       "      <th>age</th>\n",
       "      <th>dis</th>\n",
       "      <th>rad</th>\n",
       "      <th>tax</th>\n",
       "      <th>ptratio</th>\n",
       "      <th>b</th>\n",
       "      <th>lstat</th>\n",
       "      <th>medv</th>\n",
       "    </tr>\n",
       "  </thead>\n",
       "  <tbody>\n",
       "    <tr>\n",
       "      <th>0</th>\n",
       "      <td>0.00632</td>\n",
       "      <td>18.0</td>\n",
       "      <td>2.31</td>\n",
       "      <td>0</td>\n",
       "      <td>0.538</td>\n",
       "      <td>6.575</td>\n",
       "      <td>65.2</td>\n",
       "      <td>4.0900</td>\n",
       "      <td>1</td>\n",
       "      <td>296</td>\n",
       "      <td>15.3</td>\n",
       "      <td>396.90</td>\n",
       "      <td>4.98</td>\n",
       "      <td>24.0</td>\n",
       "    </tr>\n",
       "    <tr>\n",
       "      <th>1</th>\n",
       "      <td>0.02731</td>\n",
       "      <td>0.0</td>\n",
       "      <td>7.07</td>\n",
       "      <td>0</td>\n",
       "      <td>0.469</td>\n",
       "      <td>6.421</td>\n",
       "      <td>78.9</td>\n",
       "      <td>4.9671</td>\n",
       "      <td>2</td>\n",
       "      <td>242</td>\n",
       "      <td>17.8</td>\n",
       "      <td>396.90</td>\n",
       "      <td>9.14</td>\n",
       "      <td>21.6</td>\n",
       "    </tr>\n",
       "    <tr>\n",
       "      <th>2</th>\n",
       "      <td>0.02729</td>\n",
       "      <td>0.0</td>\n",
       "      <td>7.07</td>\n",
       "      <td>0</td>\n",
       "      <td>0.469</td>\n",
       "      <td>7.185</td>\n",
       "      <td>61.1</td>\n",
       "      <td>4.9671</td>\n",
       "      <td>2</td>\n",
       "      <td>242</td>\n",
       "      <td>17.8</td>\n",
       "      <td>392.83</td>\n",
       "      <td>4.03</td>\n",
       "      <td>34.7</td>\n",
       "    </tr>\n",
       "    <tr>\n",
       "      <th>3</th>\n",
       "      <td>0.03237</td>\n",
       "      <td>0.0</td>\n",
       "      <td>2.18</td>\n",
       "      <td>0</td>\n",
       "      <td>0.458</td>\n",
       "      <td>6.998</td>\n",
       "      <td>45.8</td>\n",
       "      <td>6.0622</td>\n",
       "      <td>3</td>\n",
       "      <td>222</td>\n",
       "      <td>18.7</td>\n",
       "      <td>394.63</td>\n",
       "      <td>2.94</td>\n",
       "      <td>33.4</td>\n",
       "    </tr>\n",
       "    <tr>\n",
       "      <th>4</th>\n",
       "      <td>0.06905</td>\n",
       "      <td>0.0</td>\n",
       "      <td>2.18</td>\n",
       "      <td>0</td>\n",
       "      <td>0.458</td>\n",
       "      <td>7.147</td>\n",
       "      <td>54.2</td>\n",
       "      <td>6.0622</td>\n",
       "      <td>3</td>\n",
       "      <td>222</td>\n",
       "      <td>18.7</td>\n",
       "      <td>396.90</td>\n",
       "      <td>5.33</td>\n",
       "      <td>36.2</td>\n",
       "    </tr>\n",
       "  </tbody>\n",
       "</table>\n",
       "</div>"
      ],
      "text/plain": [
       "      crim    zn  indus  chas    nox     rm   age     dis  rad  tax  ptratio  \\\n",
       "0  0.00632  18.0   2.31     0  0.538  6.575  65.2  4.0900    1  296     15.3   \n",
       "1  0.02731   0.0   7.07     0  0.469  6.421  78.9  4.9671    2  242     17.8   \n",
       "2  0.02729   0.0   7.07     0  0.469  7.185  61.1  4.9671    2  242     17.8   \n",
       "3  0.03237   0.0   2.18     0  0.458  6.998  45.8  6.0622    3  222     18.7   \n",
       "4  0.06905   0.0   2.18     0  0.458  7.147  54.2  6.0622    3  222     18.7   \n",
       "\n",
       "        b  lstat  medv  \n",
       "0  396.90   4.98  24.0  \n",
       "1  396.90   9.14  21.6  \n",
       "2  392.83   4.03  34.7  \n",
       "3  394.63   2.94  33.4  \n",
       "4  396.90   5.33  36.2  "
      ]
     },
     "execution_count": 4,
     "metadata": {},
     "output_type": "execute_result"
    }
   ],
   "source": [
    "house = pd.read_csv('BostonHousing.csv')\n",
    "house.head()"
   ]
  },
  {
   "cell_type": "code",
   "execution_count": null,
   "metadata": {},
   "outputs": [
    {
     "data": {
      "text/plain": [
       "0      24000.0\n",
       "1      21600.0\n",
       "2      34700.0\n",
       "3      33400.0\n",
       "4      36200.0\n",
       "        ...   \n",
       "501    22400.0\n",
       "502    20600.0\n",
       "503    23900.0\n",
       "504    22000.0\n",
       "505    11900.0\n",
       "Name: medv, Length: 506, dtype: float64"
      ]
     },
     "execution_count": 8,
     "metadata": {},
     "output_type": "execute_result"
    }
   ],
   "source": [
    "house_df = house['medv']*1000\n",
    "house_df"
   ]
  },
  {
   "cell_type": "code",
   "execution_count": null,
   "metadata": {},
   "outputs": [
    {
     "name": "stdout",
     "output_type": "stream",
     "text": [
      "평균 가격 : $22532.81\n"
     ]
    }
   ],
   "source": [
    "# 1. 주택 가격의 평균\n",
    "avg = round(house_df.mean(),2)\n",
    "print(f'평균 가격 : ${avg}')"
   ]
  },
  {
   "cell_type": "code",
   "execution_count": null,
   "metadata": {},
   "outputs": [
    {
     "name": "stdout",
     "output_type": "stream",
     "text": [
      "중앙값 : $21200.0\n"
     ]
    }
   ],
   "source": [
    "# 2. 주택 가격의 중앙값\n",
    "med = house_df.median()\n",
    "print(f'중앙값 : ${med}')"
   ]
  },
  {
   "cell_type": "code",
   "execution_count": null,
   "metadata": {},
   "outputs": [
    {
     "name": "stdout",
     "output_type": "stream",
     "text": [
      "표준편차 : 9197.1\n"
     ]
    }
   ],
   "source": [
    "# 3. 주택 가격의 표준편차\n",
    "std = round(house_df.std(),2)\n",
    "print(f'표준편차 : {std}')"
   ]
  },
  {
   "cell_type": "code",
   "execution_count": null,
   "metadata": {},
   "outputs": [
    {
     "name": "stdout",
     "output_type": "stream",
     "text": [
      "최댓값 : 50000.0\n"
     ]
    }
   ],
   "source": [
    "# 4. 주택 가격의 최댓값\n",
    "max = house_df.max()\n",
    "print(f'최댓값 : {max}')"
   ]
  },
  {
   "cell_type": "code",
   "execution_count": null,
   "metadata": {},
   "outputs": [
    {
     "name": "stdout",
     "output_type": "stream",
     "text": [
      "최솟값 : 5000.0\n"
     ]
    }
   ],
   "source": [
    "# 5. 주택 가격의 최솟값\n",
    "min = house_df.min()\n",
    "print(f'최솟값 : {min}')"
   ]
  },
  {
   "cell_type": "code",
   "execution_count": null,
   "metadata": {},
   "outputs": [
    {
     "name": "stdout",
     "output_type": "stream",
     "text": [
      "최빈값 : 0    50000.0\n",
      "Name: medv, dtype: float64\n"
     ]
    }
   ],
   "source": [
    "# 6. 주택 가격의 최빈값\n",
    "mode = house_df.mode()\n",
    "print(f'최빈값 : {mode}')"
   ]
  },
  {
   "cell_type": "code",
   "execution_count": null,
   "metadata": {},
   "outputs": [
    {
     "data": {
      "image/png": "[encoded data removed]",
      "text/plain": [
       "<Figure size 640x480 with 1 Axes>"
      ]
     },
     "metadata": {},
     "output_type": "display_data"
    }
   ],
   "source": [
    "# 7. 주택 가격의 분포 시각화\n",
    "plt.hist(house_df)\n",
    "plt.xlabel('[cost]', fontweight = 'bold')\n",
    "plt.ylabel('[number of houses]', fontweight = 'bold')\n",
    "plt.show()"
   ]
  },
  {
   "cell_type": "code",
   "execution_count": null,
   "metadata": {},
   "outputs": [],
   "source": []
  }
 ],
 "metadata": {
  "kernelspec": {
   "display_name": "base",
   "language": "python",
   "name": "python3"
  },
  "language_info": {
   "codemirror_mode": {
    "name": "ipython",
    "version": 3
   },
   "file_extension": ".py",
   "mimetype": "text/x-python",
   "name": "python",
   "nbconvert_exporter": "python",
   "pygments_lexer": "ipython3",
   "version": "3.11.7"
  }
 },
 "nbformat": 4,
 "nbformat_minor": 2
}
