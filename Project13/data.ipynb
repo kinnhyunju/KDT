{
 "cells": [
  {
   "cell_type": "markdown",
   "metadata": {
    "vscode": {
     "languageId": "plaintext"
    }
   },
   "source": [
    "## 카카오톡 대화 주제 분류 모델\n",
    "- DB에서 데이터를 가지고 와서 학습 시키기"
   ]
  },
  {
   "cell_type": "code",
   "execution_count": 1,
   "metadata": {},
   "outputs": [],
   "source": [
    "# 모듈 로딩\n",
    "import torch\n",
    "from torch import nn\n",
    "from torch.utils.data import DataLoader, Dataset, TensorDataset\n",
    "from torch import optim\n",
    "import torch.optim.lr_scheduler as lr_scheduler\n",
    "from torchmetrics.classification import BinaryF1Score, BinaryAccuracy\n",
    "\n",
    "from konlpy.tag import *\n",
    "from custom import *\n",
    "\n",
    "import os\n",
    "import pickle\n",
    "\n",
    "import pandas as pd\n",
    "import pymysql\n",
    "import numpy as np\n",
    "import matplotlib.pyplot as plt"
   ]
  },
  {
   "cell_type": "code",
   "execution_count": 2,
   "metadata": {},
   "outputs": [
    {
     "name": "stderr",
     "output_type": "stream",
     "text": [
      "C:\\Users\\kdp\\AppData\\Local\\Temp\\ipykernel_21800\\2587438357.py:13: UserWarning: pandas only supports SQLAlchemy connectable (engine/connection) or database string URI or sqlite3 DBAPI2 connection. Other DBAPI2 objects are not tested. Please consider using SQLAlchemy.\n",
      "  militaryDF = pd.read_sql(query_mil, connection)\n",
      "C:\\Users\\kdp\\AppData\\Local\\Temp\\ipykernel_21800\\2587438357.py:16: UserWarning: pandas only supports SQLAlchemy connectable (engine/connection) or database string URI or sqlite3 DBAPI2 connection. Other DBAPI2 objects are not tested. Please consider using SQLAlchemy.\n",
      "  foodDF = pd.read_sql(query_food, connection)\n"
     ]
    }
   ],
   "source": [
    "# MySQL 연결 설정\n",
    "connection = pymysql.connect(\n",
    "    host= '172.20.60.151',      # MySQL 서버 주소\n",
    "    user='hyunju',\n",
    "    password='1234',\n",
    "    db='web_project',\n",
    ")\n",
    "\n",
    "try:\n",
    "    query_mil = \"SELECT * FROM military\"  \n",
    "    militaryDF = pd.read_sql(query_mil, connection)\n",
    "\n",
    "    query_food = \"SELECT * FROM food\"  \n",
    "    foodDF = pd.read_sql(query_food, connection)\n",
    "\n",
    "finally:\n",
    "    # 연결 종료\n",
    "    connection.close()"
   ]
  },
  {
   "cell_type": "code",
   "execution_count": 3,
   "metadata": {},
   "outputs": [
    {
     "data": {
      "text/html": [
       "<div>\n",
       "<style scoped>\n",
       "    .dataframe tbody tr th:only-of-type {\n",
       "        vertical-align: middle;\n",
       "    }\n",
       "\n",
       "    .dataframe tbody tr th {\n",
       "        vertical-align: top;\n",
       "    }\n",
       "\n",
       "    .dataframe thead th {\n",
       "        text-align: right;\n",
       "    }\n",
       "</style>\n",
       "<table border=\"1\" class=\"dataframe\">\n",
       "  <thead>\n",
       "    <tr style=\"text-align: right;\">\n",
       "      <th></th>\n",
       "      <th>id</th>\n",
       "      <th>category</th>\n",
       "      <th>text</th>\n",
       "    </tr>\n",
       "  </thead>\n",
       "  <tbody>\n",
       "    <tr>\n",
       "      <th>0</th>\n",
       "      <td>0</td>\n",
       "      <td>식음료</td>\n",
       "      <td>배 아프면 약국 가서 소 화제 라도 마시는 거 어때</td>\n",
       "    </tr>\n",
       "    <tr>\n",
       "      <th>1</th>\n",
       "      <td>1</td>\n",
       "      <td>식음료</td>\n",
       "      <td>얼마나 먹었다고 배 아프데</td>\n",
       "    </tr>\n",
       "    <tr>\n",
       "      <th>2</th>\n",
       "      <td>2</td>\n",
       "      <td>식음료</td>\n",
       "      <td>떡볶이 랑 튀김 이랑 닭 껍질 튀김 이랑 마카롱 먹었어</td>\n",
       "    </tr>\n",
       "    <tr>\n",
       "      <th>3</th>\n",
       "      <td>3</td>\n",
       "      <td>식음료</td>\n",
       "      <td>하긴 배는 파리 보다 작으니까 당연히 그만큼 먹어도 배부르지</td>\n",
       "    </tr>\n",
       "    <tr>\n",
       "      <th>4</th>\n",
       "      <td>4</td>\n",
       "      <td>식음료</td>\n",
       "      <td>아닌데 많이 먹은 거 같은데</td>\n",
       "    </tr>\n",
       "    <tr>\n",
       "      <th>...</th>\n",
       "      <td>...</td>\n",
       "      <td>...</td>\n",
       "      <td>...</td>\n",
       "    </tr>\n",
       "    <tr>\n",
       "      <th>67436</th>\n",
       "      <td>67436</td>\n",
       "      <td>식음료</td>\n",
       "      <td>이름 부터 이상하긴 하다</td>\n",
       "    </tr>\n",
       "    <tr>\n",
       "      <th>67437</th>\n",
       "      <td>67437</td>\n",
       "      <td>식음료</td>\n",
       "      <td>우선 음료 이상하고 크림 위 뿌려진 가루 별로</td>\n",
       "    </tr>\n",
       "    <tr>\n",
       "      <th>67438</th>\n",
       "      <td>67438</td>\n",
       "      <td>식음료</td>\n",
       "      <td>할로윈 이라 호박 음료 출시 한 건가</td>\n",
       "    </tr>\n",
       "    <tr>\n",
       "      <th>67439</th>\n",
       "      <td>67439</td>\n",
       "      <td>식음료</td>\n",
       "      <td>한국 정서 와는 안 어울리는 것 같아</td>\n",
       "    </tr>\n",
       "    <tr>\n",
       "      <th>67440</th>\n",
       "      <td>67440</td>\n",
       "      <td>식음료</td>\n",
       "      <td>나도 호박 은 호박죽 으로나 먹긴 해</td>\n",
       "    </tr>\n",
       "  </tbody>\n",
       "</table>\n",
       "<p>67441 rows × 3 columns</p>\n",
       "</div>"
      ],
      "text/plain": [
       "          id category                               text\n",
       "0          0      식음료       배 아프면 약국 가서 소 화제 라도 마시는 거 어때\n",
       "1          1      식음료                     얼마나 먹었다고 배 아프데\n",
       "2          2      식음료     떡볶이 랑 튀김 이랑 닭 껍질 튀김 이랑 마카롱 먹었어\n",
       "3          3      식음료  하긴 배는 파리 보다 작으니까 당연히 그만큼 먹어도 배부르지\n",
       "4          4      식음료                    아닌데 많이 먹은 거 같은데\n",
       "...      ...      ...                                ...\n",
       "67436  67436      식음료                      이름 부터 이상하긴 하다\n",
       "67437  67437      식음료          우선 음료 이상하고 크림 위 뿌려진 가루 별로\n",
       "67438  67438      식음료               할로윈 이라 호박 음료 출시 한 건가\n",
       "67439  67439      식음료               한국 정서 와는 안 어울리는 것 같아\n",
       "67440  67440      식음료               나도 호박 은 호박죽 으로나 먹긴 해\n",
       "\n",
       "[67441 rows x 3 columns]"
      ]
     },
     "execution_count": 3,
     "metadata": {},
     "output_type": "execute_result"
    }
   ],
   "source": [
    "foodDF"
   ]
  },
  {
   "cell_type": "code",
   "execution_count": 4,
   "metadata": {},
   "outputs": [
    {
     "data": {
      "text/html": [
       "<div>\n",
       "<style scoped>\n",
       "    .dataframe tbody tr th:only-of-type {\n",
       "        vertical-align: middle;\n",
       "    }\n",
       "\n",
       "    .dataframe tbody tr th {\n",
       "        vertical-align: top;\n",
       "    }\n",
       "\n",
       "    .dataframe thead th {\n",
       "        text-align: right;\n",
       "    }\n",
       "</style>\n",
       "<table border=\"1\" class=\"dataframe\">\n",
       "  <thead>\n",
       "    <tr style=\"text-align: right;\">\n",
       "      <th></th>\n",
       "      <th>id</th>\n",
       "      <th>category</th>\n",
       "      <th>text</th>\n",
       "    </tr>\n",
       "  </thead>\n",
       "  <tbody>\n",
       "    <tr>\n",
       "      <th>0</th>\n",
       "      <td>0</td>\n",
       "      <td>군대</td>\n",
       "      <td>군인 들 은 산재 처리 되나</td>\n",
       "    </tr>\n",
       "    <tr>\n",
       "      <th>1</th>\n",
       "      <td>1</td>\n",
       "      <td>군대</td>\n",
       "      <td>엄청 많이 다치잖아</td>\n",
       "    </tr>\n",
       "    <tr>\n",
       "      <th>2</th>\n",
       "      <td>2</td>\n",
       "      <td>군대</td>\n",
       "      <td>군인 들 은 나라 사랑 카드 발급 받으면 최대 만원 까지 보험 처리 되는데 죽어야 ...</td>\n",
       "    </tr>\n",
       "    <tr>\n",
       "      <th>3</th>\n",
       "      <td>3</td>\n",
       "      <td>군대</td>\n",
       "      <td>군인 산재 어딨냐 걍 국군 병원 고고 지</td>\n",
       "    </tr>\n",
       "    <tr>\n",
       "      <th>4</th>\n",
       "      <td>4</td>\n",
       "      <td>군대</td>\n",
       "      <td>죽어야 나중 아들 낳으면 꽁꽁 숨겨 놔야지 안되겠어</td>\n",
       "    </tr>\n",
       "    <tr>\n",
       "      <th>...</th>\n",
       "      <td>...</td>\n",
       "      <td>...</td>\n",
       "      <td>...</td>\n",
       "    </tr>\n",
       "    <tr>\n",
       "      <th>55012</th>\n",
       "      <td>55012</td>\n",
       "      <td>군대</td>\n",
       "      <td>여자친구 고 무신 거꾸로 안 신고 이쁘게 사랑 했으면 좋겠네</td>\n",
       "    </tr>\n",
       "    <tr>\n",
       "      <th>55013</th>\n",
       "      <td>55013</td>\n",
       "      <td>군대</td>\n",
       "      <td>다른사람 만나지 않게 휴가 나와서 잘해야 지</td>\n",
       "    </tr>\n",
       "    <tr>\n",
       "      <th>55014</th>\n",
       "      <td>55014</td>\n",
       "      <td>군대</td>\n",
       "      <td>추억 생각나고 풋풋 해보여서 까지 기분 좋더라</td>\n",
       "    </tr>\n",
       "    <tr>\n",
       "      <th>55015</th>\n",
       "      <td>55015</td>\n",
       "      <td>군대</td>\n",
       "      <td>군생활 중 별 통보 제일 슬프다던데 잘 해줘야지</td>\n",
       "    </tr>\n",
       "    <tr>\n",
       "      <th>55016</th>\n",
       "      <td>55016</td>\n",
       "      <td>군대</td>\n",
       "      <td>군대 생활 에서 여자친구 생각 하면서 버티면 그나마 힘 될꺼야</td>\n",
       "    </tr>\n",
       "  </tbody>\n",
       "</table>\n",
       "<p>55017 rows × 3 columns</p>\n",
       "</div>"
      ],
      "text/plain": [
       "          id category                                               text\n",
       "0          0       군대                                    군인 들 은 산재 처리 되나\n",
       "1          1       군대                                         엄청 많이 다치잖아\n",
       "2          2       군대  군인 들 은 나라 사랑 카드 발급 받으면 최대 만원 까지 보험 처리 되는데 죽어야 ...\n",
       "3          3       군대                             군인 산재 어딨냐 걍 국군 병원 고고 지\n",
       "4          4       군대                       죽어야 나중 아들 낳으면 꽁꽁 숨겨 놔야지 안되겠어\n",
       "...      ...      ...                                                ...\n",
       "55012  55012       군대                  여자친구 고 무신 거꾸로 안 신고 이쁘게 사랑 했으면 좋겠네\n",
       "55013  55013       군대                           다른사람 만나지 않게 휴가 나와서 잘해야 지\n",
       "55014  55014       군대                          추억 생각나고 풋풋 해보여서 까지 기분 좋더라\n",
       "55015  55015       군대                         군생활 중 별 통보 제일 슬프다던데 잘 해줘야지\n",
       "55016  55016       군대                 군대 생활 에서 여자친구 생각 하면서 버티면 그나마 힘 될꺼야\n",
       "\n",
       "[55017 rows x 3 columns]"
      ]
     },
     "execution_count": 4,
     "metadata": {},
     "output_type": "execute_result"
    }
   ],
   "source": [
    "militaryDF"
   ]
  },
  {
   "cell_type": "code",
   "execution_count": 5,
   "metadata": {},
   "outputs": [
    {
     "name": "stdout",
     "output_type": "stream",
     "text": [
      "<class 'pandas.core.frame.DataFrame'>\n",
      "RangeIndex: 122458 entries, 0 to 122457\n",
      "Data columns (total 2 columns):\n",
      " #   Column    Non-Null Count   Dtype \n",
      "---  ------    --------------   ----- \n",
      " 0   category  122458 non-null  object\n",
      " 1   text      122458 non-null  object\n",
      "dtypes: object(2)\n",
      "memory usage: 1.9+ MB\n"
     ]
    }
   ],
   "source": [
    "# 데이터프레임 합치기 + 카테고리, 텍스트 열만 사용\n",
    "dataDF = pd.concat([foodDF, militaryDF],ignore_index=True)[['category','text']]\n",
    "dataDF.info()"
   ]
  },
  {
   "cell_type": "code",
   "execution_count": 6,
   "metadata": {},
   "outputs": [
    {
     "data": {
      "text/html": [
       "<div>\n",
       "<style scoped>\n",
       "    .dataframe tbody tr th:only-of-type {\n",
       "        vertical-align: middle;\n",
       "    }\n",
       "\n",
       "    .dataframe tbody tr th {\n",
       "        vertical-align: top;\n",
       "    }\n",
       "\n",
       "    .dataframe thead th {\n",
       "        text-align: right;\n",
       "    }\n",
       "</style>\n",
       "<table border=\"1\" class=\"dataframe\">\n",
       "  <thead>\n",
       "    <tr style=\"text-align: right;\">\n",
       "      <th></th>\n",
       "      <th>category</th>\n",
       "      <th>text</th>\n",
       "    </tr>\n",
       "  </thead>\n",
       "  <tbody>\n",
       "    <tr>\n",
       "      <th>122453</th>\n",
       "      <td>0</td>\n",
       "      <td>여자친구 고 무신 거꾸로 안 신고 이쁘게 사랑 했으면 좋겠네</td>\n",
       "    </tr>\n",
       "    <tr>\n",
       "      <th>122454</th>\n",
       "      <td>0</td>\n",
       "      <td>다른사람 만나지 않게 휴가 나와서 잘해야 지</td>\n",
       "    </tr>\n",
       "    <tr>\n",
       "      <th>122455</th>\n",
       "      <td>0</td>\n",
       "      <td>추억 생각나고 풋풋 해보여서 까지 기분 좋더라</td>\n",
       "    </tr>\n",
       "    <tr>\n",
       "      <th>122456</th>\n",
       "      <td>0</td>\n",
       "      <td>군생활 중 별 통보 제일 슬프다던데 잘 해줘야지</td>\n",
       "    </tr>\n",
       "    <tr>\n",
       "      <th>122457</th>\n",
       "      <td>0</td>\n",
       "      <td>군대 생활 에서 여자친구 생각 하면서 버티면 그나마 힘 될꺼야</td>\n",
       "    </tr>\n",
       "  </tbody>\n",
       "</table>\n",
       "</div>"
      ],
      "text/plain": [
       "        category                                text\n",
       "122453         0   여자친구 고 무신 거꾸로 안 신고 이쁘게 사랑 했으면 좋겠네\n",
       "122454         0            다른사람 만나지 않게 휴가 나와서 잘해야 지\n",
       "122455         0           추억 생각나고 풋풋 해보여서 까지 기분 좋더라\n",
       "122456         0          군생활 중 별 통보 제일 슬프다던데 잘 해줘야지\n",
       "122457         0  군대 생활 에서 여자친구 생각 하면서 버티면 그나마 힘 될꺼야"
      ]
     },
     "execution_count": 6,
     "metadata": {},
     "output_type": "execute_result"
    }
   ],
   "source": [
    "# 카테고리 데이터 : 텍스트 => 정수로 변경\n",
    "dataDF['category'] = dataDF['category'].replace({'군대':0, '식음료':1})\n",
    "dataDF.tail()"
   ]
  },
  {
   "cell_type": "code",
   "execution_count": 7,
   "metadata": {},
   "outputs": [
    {
     "name": "stdout",
     "output_type": "stream",
     "text": [
      "<class 'pandas.core.frame.DataFrame'>\n",
      "RangeIndex: 122458 entries, 0 to 122457\n",
      "Data columns (total 2 columns):\n",
      " #   Column    Non-Null Count   Dtype \n",
      "---  ------    --------------   ----- \n",
      " 0   category  122458 non-null  int64 \n",
      " 1   text      122458 non-null  object\n",
      "dtypes: int64(1), object(1)\n",
      "memory usage: 1.9+ MB\n"
     ]
    }
   ],
   "source": [
    "dataDF.info()"
   ]
  },
  {
   "cell_type": "code",
   "execution_count": 8,
   "metadata": {},
   "outputs": [
    {
     "name": "stdout",
     "output_type": "stream",
     "text": [
      "|        |   category | text                         |\n",
      "|-------:|-----------:|:-----------------------------|\n",
      "|  15025 |          1 | 칼국수 땡기 기는 한데        |\n",
      "| 116477 |          0 | 위드 코로나                  |\n",
      "|  50292 |          1 | 고기 같이 먹어 주는게 좋은데 |\n",
      "|  78979 |          0 | 가능하지                     |\n",
      "|  42520 |          1 | 비꼬 카레 제일 낫더라        |\n",
      "97966 24492\n"
     ]
    }
   ],
   "source": [
    "# 훈련, 검증용 데이터 나누기\n",
    "train = dataDF.sample(frac=0.8, random_state=10)\n",
    "val = dataDF.drop(train.index)\n",
    "\n",
    "print(train.head(5).to_markdown())\n",
    "print(len(train), len(val))"
   ]
  },
  {
   "cell_type": "code",
   "execution_count": 9,
   "metadata": {},
   "outputs": [],
   "source": [
    "# 데이터 토큰화 및 단어사전 구축\n",
    "tokenizer = Okt()"
   ]
  },
  {
   "cell_type": "code",
   "execution_count": 10,
   "metadata": {},
   "outputs": [
    {
     "name": "stdout",
     "output_type": "stream",
     "text": [
      "train : 97966, valid : 24492\n"
     ]
    }
   ],
   "source": [
    "train_tokens = [tokenizer.morphs(sentence) for sentence in train.text]\n",
    "val_tokens = [tokenizer.morphs(sentence) for sentence in val.text]\n",
    "print(f'train : {len(train_tokens)}, valid : {len(val_tokens)}')"
   ]
  },
  {
   "cell_type": "code",
   "execution_count": 11,
   "metadata": {},
   "outputs": [
    {
     "name": "stdout",
     "output_type": "stream",
     "text": [
      "['<PAD>', '<UNK>', '은', '안', '군대', '거', '들', '에서', '뭐', '잘']\n",
      "10002\n"
     ]
    }
   ],
   "source": [
    "vocab = build_vocab(corpus=train_tokens, n_vocab=10000, special_tokens=[\"<PAD>\",\"<UNK>\"])\n",
    "token_to_id = {token: idx for idx, token in enumerate(vocab)}\n",
    "it_to_token = {idx: token for idx, token in enumerate(vocab)}\n",
    "\n",
    "print(vocab[:10])\n",
    "print(len(vocab))"
   ]
  },
  {
   "cell_type": "code",
   "execution_count": 12,
   "metadata": {},
   "outputs": [
    {
     "name": "stdout",
     "output_type": "stream",
     "text": [
      "단어 사전이 저장되었습니다.\n"
     ]
    }
   ],
   "source": [
    "# 단어 사전 저장\n",
    "import pickle\n",
    "with open('./vocab_okt.pkl', 'wb') as f:\n",
    "\tpickle.dump(token_to_id, f)\n",
    "\n",
    "print(\"단어 사전이 저장되었습니다.\")"
   ]
  },
  {
   "cell_type": "code",
   "execution_count": 13,
   "metadata": {},
   "outputs": [
    {
     "data": {
      "text/plain": [
       "(array([6.8439e+04, 2.6648e+04, 2.5570e+03, 2.7100e+02, 4.1000e+01,\n",
       "        3.0000e+00, 5.0000e+00, 2.0000e+00]),\n",
       " array([ 1.,  7., 13., 19., 25., 31., 37., 43., 49.]),\n",
       " <BarContainer object of 8 artists>)"
      ]
     },
     "execution_count": 13,
     "metadata": {},
     "output_type": "execute_result"
    },
    {
     "data": {
      "image/png": "[encoded data removed]",
      "text/plain": [
       "<Figure size 640x480 with 1 Axes>"
      ]
     },
     "metadata": {},
     "output_type": "display_data"
    }
   ],
   "source": [
    "# 패딩 적정 길이 찾기\n",
    "datalen = [len(tokens) for tokens in train_tokens]\n",
    "plt.hist(datalen, bins=8)"
   ]
  },
  {
   "cell_type": "code",
   "execution_count": 14,
   "metadata": {},
   "outputs": [
    {
     "data": {
      "text/plain": [
       "(array([24976., 43463., 15808.,  9456.,  2864.,   742.,   430.,   134.]),\n",
       " array([ 1.   ,  3.625,  6.25 ,  8.875, 11.5  , 14.125, 16.75 , 19.375,\n",
       "        22.   ]),\n",
       " <BarContainer object of 8 artists>)"
      ]
     },
     "execution_count": 14,
     "metadata": {},
     "output_type": "execute_result"
    },
    {
     "data": {
      "image/png": "[encoded data removed]",
      "text/plain": [
       "<Figure size 640x480 with 1 Axes>"
      ]
     },
     "metadata": {},
     "output_type": "display_data"
    }
   ],
   "source": [
    "# 패딩 적정 길이 찾기\n",
    "datalen_22 = [len(tokens) for tokens in train_tokens if len(tokens) <=22]\n",
    "plt.hist(datalen_22, bins=8)"
   ]
  },
  {
   "cell_type": "code",
   "execution_count": 15,
   "metadata": {},
   "outputs": [
    {
     "name": "stdout",
     "output_type": "stream",
     "text": [
      "[ 709 7170 1792  426    0    0    0    0    0    0    0    0    0    0\n",
      "    0    0    0    0    0    0]\n",
      "[ 202   39  584   58  406 2631  584   58  641   68    0    0    0    0\n",
      "    0    0    0    0    0    0]\n"
     ]
    }
   ],
   "source": [
    "# 정수 인코딩 및 패딩\n",
    "unk_id = token_to_id['<UNK>']\n",
    "train_ids = [[token_to_id.get(token, unk_id)for token in text] for text in train_tokens]\n",
    "val_ids = [[token_to_id.get(token, unk_id)for token in text] for text in val_tokens]\n",
    "\n",
    "max_length = 20\n",
    "pad_id = token_to_id['<PAD>']\n",
    "train_ids = pad_sequences(train_ids, max_length, pad_id)\n",
    "val_ids = pad_sequences(val_ids, max_length, pad_id)\n",
    "\n",
    "print(train_ids[0])\n",
    "print(val_ids[0])"
   ]
  },
  {
   "cell_type": "code",
   "execution_count": 16,
   "metadata": {},
   "outputs": [],
   "source": [
    "# 데이터로더 적용\n",
    "batch_size=32\n",
    "train_ids = torch.tensor(train_ids)\n",
    "val_ids = torch.tensor(val_ids)\n",
    "\n",
    "train_labels = torch.tensor(train.category.values, dtype=torch.float32)\n",
    "val_labels = torch.tensor(val.category.values, dtype=torch.float32)\n",
    "\n",
    "train_dataset = TensorDataset(train_ids, train_labels)\n",
    "val_dataset = TensorDataset(val_ids, val_labels)\n",
    "\n",
    "train_loader = DataLoader(train_dataset, batch_size=batch_size, shuffle=True)\n",
    "val_loader = DataLoader(val_dataset, batch_size=batch_size, shuffle=False)"
   ]
  },
  {
   "cell_type": "code",
   "execution_count": 17,
   "metadata": {},
   "outputs": [
    {
     "name": "stderr",
     "output_type": "stream",
     "text": [
      "c:\\Users\\kdp\\anaconda3\\envs\\TEXT_018_230_38\\lib\\site-packages\\torch\\optim\\lr_scheduler.py:28: UserWarning: The verbose parameter is deprecated. Please use get_last_lr() to access the learning rate.\n",
      "  warnings.warn(\"The verbose parameter is deprecated. Please use get_last_lr() \"\n"
     ]
    }
   ],
   "source": [
    "# 손실함수와 최적화 함수 정의\n",
    "n_vocab = len(token_to_id)\n",
    "hidden_dim = 8\n",
    "embedding_dim = 128\n",
    "n_layers = 2\n",
    "model_type = 'lstm'\n",
    "\n",
    "device = 'cuda' if torch.cuda.is_available() else 'cpu'\n",
    "\n",
    "classifier = SentenceClassifier(n_vocab=n_vocab, hidden_dim=hidden_dim, \n",
    "                                embedding_dim=embedding_dim, n_layers=n_layers, model_type=model_type).to(device)\n",
    "criterion = nn.BCEWithLogitsLoss().to(device)\n",
    "optimizer = optim.Adam(classifier.parameters(), lr=0.01)\n",
    "# 최적화 스케줄링 인스턴스 생성\n",
    "scheduler = lr_scheduler.ReduceLROnPlateau(optimizer, mode='max', patience=5, verbose=True)"
   ]
  },
  {
   "cell_type": "code",
   "execution_count": 18,
   "metadata": {},
   "outputs": [],
   "source": [
    "# 저장 경로\n",
    "SAVE_PATH = './models/'\n",
    "# 경로상 폴더 존재 여부 체크\n",
    "if not os.path.exists(SAVE_PATH) : os.makedirs(SAVE_PATH)   # 폴더 / 폴더 / ...  하위폴더까지 생성"
   ]
  },
  {
   "cell_type": "code",
   "execution_count": 19,
   "metadata": {},
   "outputs": [],
   "source": [
    "# ----------------------------------------------------------------------------\n",
    "# 모델 학습 및 테스트\n",
    "# ----------------------------------------------------------------------------\n",
    "def train_model(model, datasets, criterion, optimizer, device, interval):\n",
    "    model.train()\n",
    "    losses = list()\n",
    "    f1scores = list()\n",
    "    accuracy = list()\n",
    "\n",
    "    for step, (input_ids, labels) in enumerate(datasets):\n",
    "        input_ids = input_ids.to(device)\n",
    "        labels = labels.to(device).unsqueeze(1)\n",
    "\n",
    "        logits = model(input_ids)\n",
    "        loss = criterion(logits, labels)\n",
    "        losses.append(loss.item())\n",
    "\n",
    "        train_score = BinaryF1Score()(logits, labels)\n",
    "        f1scores.append(train_score)\n",
    "\n",
    "        train_acc = BinaryAccuracy()(logits, labels)\n",
    "        accuracy.append(train_acc)\n",
    "\n",
    "        optimizer.zero_grad()\n",
    "        loss.backward()\n",
    "        optimizer.step()\n",
    "\n",
    "        if step% interval == 0:\n",
    "            print(f'Train {step} Loss : {np.mean(losses)} Accuracy : {np.mean(accuracy)}')\n",
    "\n",
    "def test_model(model, datasets, criterion, device):\n",
    "    model.eval()\n",
    "    losses = list()\n",
    "    corrects = list()\n",
    "    f1scores = list()\n",
    "    accuracy = list()\n",
    "\n",
    "    for step, (input_ids, labels) in enumerate(datasets):\n",
    "        input_ids = input_ids.to(device)\n",
    "        labels = labels.to(device).unsqueeze(1)\n",
    "\n",
    "        logits = model(input_ids)\n",
    "        loss = criterion(logits, labels)\n",
    "        losses.append(loss.item())\n",
    "\n",
    "        val_score = BinaryF1Score()(logits, labels)\n",
    "        f1scores.append(val_score)\n",
    "\n",
    "        val_acc = BinaryAccuracy()(logits, labels)\n",
    "        accuracy.append(val_acc)\n",
    "        \n",
    "        yhat = torch.sigmoid(logits)>.5\n",
    "        corrects.extend(torch.eq(yhat, labels).cpu().tolist())\n",
    "    print('-'*100)\n",
    "    print(f\"Validation Loss : {np.mean(losses)} Accuracy : {np.mean(accuracy)}\")\n",
    "    return np.mean(losses), np.mean(accuracy)"
   ]
  },
  {
   "cell_type": "code",
   "execution_count": 20,
   "metadata": {},
   "outputs": [
    {
     "name": "stdout",
     "output_type": "stream",
     "text": [
      "[1/50]\n",
      "Train 0 Loss : 0.7010743021965027 Accuracy : 0.5\n",
      "Train 500 Loss : 0.6742204126721608 Accuracy : 0.5418537855148315\n",
      "Train 1000 Loss : 0.6358876246493775 Accuracy : 0.6097028255462646\n",
      "Train 1500 Loss : 0.598737741116283 Accuracy : 0.6593729257583618\n",
      "Train 2000 Loss : 0.5655157492048797 Accuracy : 0.6924037933349609\n",
      "Train 2500 Loss : 0.5400094674115942 Accuracy : 0.714326798915863\n",
      "Train 3000 Loss : 0.5195936582428898 Accuracy : 0.7298712730407715\n",
      "----------------------------------------------------------------------------------------------------\n",
      "Validation Loss : 0.3553646059011355 Accuracy : 0.8332926034927368\n",
      "scheduler.num_bad_epochs => 0\n",
      "\n",
      "[2/50]\n",
      "Train 0 Loss : 0.4540441334247589 Accuracy : 0.71875\n",
      "Train 500 Loss : 0.37687959229041956 Accuracy : 0.8322729468345642\n",
      "Train 1000 Loss : 0.37688471975324156 Accuracy : 0.8339473009109497\n",
      "Train 1500 Loss : 0.3735084832806654 Accuracy : 0.8360468149185181\n",
      "Train 2000 Loss : 0.3698796742353244 Accuracy : 0.838736891746521\n",
      "Train 2500 Loss : 0.36466996721485434 Accuracy : 0.8408761620521545\n",
      "Train 3000 Loss : 0.36288406320787675 Accuracy : 0.8420943021774292\n",
      "----------------------------------------------------------------------------------------------------\n",
      "Validation Loss : 0.33351505557974853 Accuracy : 0.8484551310539246\n",
      "scheduler.num_bad_epochs => 0\n",
      "\n",
      "[3/50]\n",
      "Train 0 Loss : 0.25632762908935547 Accuracy : 0.875\n",
      "Train 500 Loss : 0.32736995658593737 Accuracy : 0.8564745783805847\n",
      "Train 1000 Loss : 0.32654709253575537 Accuracy : 0.8588286638259888\n",
      "Train 1500 Loss : 0.3233897513713065 Accuracy : 0.8591980338096619\n",
      "Train 2000 Loss : 0.3241307624522178 Accuracy : 0.858586311340332\n",
      "Train 2500 Loss : 0.32215574041741796 Accuracy : 0.858144223690033\n",
      "Train 3000 Loss : 0.32289088769421426 Accuracy : 0.8586200475692749\n",
      "----------------------------------------------------------------------------------------------------\n",
      "Validation Loss : 0.3086371342736654 Accuracy : 0.8602316975593567\n",
      "scheduler.num_bad_epochs => 0\n",
      "\n",
      "[4/50]\n",
      "Train 0 Loss : 0.24851638078689575 Accuracy : 0.90625\n",
      "Train 500 Loss : 0.2964563753730999 Accuracy : 0.8721307516098022\n",
      "Train 1000 Loss : 0.29485698341281263 Accuracy : 0.8725649118423462\n",
      "Train 1500 Loss : 0.29635725240362715 Accuracy : 0.8727514743804932\n",
      "Train 2000 Loss : 0.2998834316325986 Accuracy : 0.8707677125930786\n",
      "Train 2500 Loss : 0.3002846411845294 Accuracy : 0.8703893423080444\n",
      "Train 3000 Loss : 0.29984325017706825 Accuracy : 0.8704806566238403\n",
      "----------------------------------------------------------------------------------------------------\n",
      "Validation Loss : 0.30646820776845396 Accuracy : 0.8577975034713745\n",
      "scheduler.num_bad_epochs => 1\n",
      "\n",
      "[5/50]\n",
      "Train 0 Loss : 0.33114880323410034 Accuracy : 0.84375\n",
      "Train 500 Loss : 0.28443423145545454 Accuracy : 0.8791791200637817\n",
      "Train 1000 Loss : 0.2864088349930056 Accuracy : 0.8779969811439514\n",
      "Train 1500 Loss : 0.2834711716393087 Accuracy : 0.8789557218551636\n",
      "Train 2000 Loss : 0.28681988276909853 Accuracy : 0.8758745789527893\n",
      "Train 2500 Loss : 0.2895166764124447 Accuracy : 0.8743752241134644\n",
      "Train 3000 Loss : 0.29136365994200314 Accuracy : 0.8737920522689819\n",
      "----------------------------------------------------------------------------------------------------\n",
      "Validation Loss : 0.3156270784333193 Accuracy : 0.8495295643806458\n",
      "scheduler.num_bad_epochs => 2\n",
      "\n",
      "[6/50]\n",
      "Train 0 Loss : 0.08941227942705154 Accuracy : 0.96875\n",
      "Train 500 Loss : 0.272727650053011 Accuracy : 0.8816117644309998\n",
      "Train 1000 Loss : 0.2795201348853516 Accuracy : 0.8780906796455383\n",
      "Train 1500 Loss : 0.2810315021241132 Accuracy : 0.8770819306373596\n",
      "Train 2000 Loss : 0.2827198513109109 Accuracy : 0.8767803311347961\n",
      "Train 2500 Loss : 0.28355297243378247 Accuracy : 0.8761245608329773\n",
      "Train 3000 Loss : 0.2854626463755335 Accuracy : 0.8751457929611206\n",
      "----------------------------------------------------------------------------------------------------\n",
      "Validation Loss : 0.31224692770943785 Accuracy : 0.8552002310752869\n",
      "scheduler.num_bad_epochs => 3\n",
      "\n",
      "[7/50]\n",
      "Train 0 Loss : 0.20028913021087646 Accuracy : 0.90625\n",
      "Train 500 Loss : 0.27665143183426943 Accuracy : 0.8803018927574158\n",
      "Train 1000 Loss : 0.27433992805076646 Accuracy : 0.8813061714172363\n",
      "Train 1500 Loss : 0.2780790010034085 Accuracy : 0.8798925876617432\n",
      "Train 2000 Loss : 0.2789185760353786 Accuracy : 0.8787168860435486\n",
      "Train 2500 Loss : 0.2795582916252449 Accuracy : 0.8786985278129578\n",
      "Train 3000 Loss : 0.28197301947938447 Accuracy : 0.8778740167617798\n",
      "----------------------------------------------------------------------------------------------------\n",
      "Validation Loss : 0.30627503275248774 Accuracy : 0.8539898991584778\n",
      "scheduler.num_bad_epochs => 4\n",
      "\n",
      "[8/50]\n",
      "Train 0 Loss : 0.23092003166675568 Accuracy : 0.84375\n",
      "Train 500 Loss : 0.2746876630999014 Accuracy : 0.8801147937774658\n",
      "Train 1000 Loss : 0.27808239845769267 Accuracy : 0.8794955015182495\n",
      "Train 1500 Loss : 0.27676676087414004 Accuracy : 0.8802881240844727\n",
      "Train 2000 Loss : 0.2785946658641651 Accuracy : 0.8794509172439575\n",
      "Train 2500 Loss : 0.27885954769127896 Accuracy : 0.8789359331130981\n",
      "Train 3000 Loss : 0.2787978185383589 Accuracy : 0.8793318867683411\n",
      "----------------------------------------------------------------------------------------------------\n",
      "Validation Loss : 0.31084032608171824 Accuracy : 0.8600549697875977\n",
      "scheduler.num_bad_epochs => 5\n",
      "\n",
      "성능 개선이 없어서 8 EPOCH에 조기 종료함!\n"
     ]
    }
   ],
   "source": [
    "epochs = 50\n",
    "interval = 500\n",
    "for epoch in range(epochs):\n",
    "    print(f'[{epoch+1}/{epochs}]')\n",
    "    train_model(classifier, train_loader, criterion, optimizer, device, interval)\n",
    "    loss_val, score_val = test_model(classifier,val_loader, criterion, device)\n",
    "\n",
    "    # 최적화 스케줄러 인스턴스 업데이트\n",
    "    scheduler.step(score_val)\n",
    "    print(f'scheduler.num_bad_epochs => {scheduler.num_bad_epochs}\\n')\n",
    "\n",
    "    SAVE_MODEL = SAVE_PATH + f'ltsm2_loss{loss_val:.3f}_acc{score_val:.3f}.pth'\n",
    "    torch.save(classifier, SAVE_MODEL)\n",
    "\n",
    "    if scheduler.num_bad_epochs >= scheduler.patience :\n",
    "        print(f'성능 개선이 없어서 {epoch+1} EPOCH에 조기 종료함!')\n",
    "        break"
   ]
  },
  {
   "cell_type": "markdown",
   "metadata": {},
   "source": [
    "#### 예측하기"
   ]
  },
  {
   "cell_type": "code",
   "execution_count": 30,
   "metadata": {},
   "outputs": [],
   "source": [
    "# 모델 로딩\n",
    "SAVE_MODEL = \"./models/ltsm_loss0.304_acc0.866.pth\"\n",
    "model = torch.load(SAVE_MODEL)"
   ]
  },
  {
   "cell_type": "code",
   "execution_count": 45,
   "metadata": {},
   "outputs": [
    {
     "name": "stdout",
     "output_type": "stream",
     "text": [
      "맞아 습도 안 그래도 제습기 사려고 상품 페이지 보고 있었어 키키\n"
     ]
    }
   ],
   "source": [
    "data = '맞아 습도! 안 그래도 제습기 사려고 상품 페이지 보고 있었어 키키'\n",
    "text = re.sub(r'[^\\가-힣\\s]', '', data)\n",
    "print(text)"
   ]
  },
  {
   "cell_type": "code",
   "execution_count": 46,
   "metadata": {},
   "outputs": [],
   "source": [
    "# 불용어처리\n",
    "stopwords= ['키키', '아', '나', '는', '그래', '응', '응응', '휴', '어휴', '에고', '야', '진짜', '엉', '웅', '하하', '너', '가', '든', \n",
    "        '앜', '헐', '어', '여기', '에', '다', '아니', '근데', '악', '히익', '챡챡챡챡', '으', '도', '네', '넵', '오', '그냥', \n",
    "        '그럼', '그거', '그러네','그러게', '헐', '엥', '음', '을', '이', '와', '역시', '어어', '그래도', '맞아', '그', '막', \n",
    "        '그렇지', '넹', '어머', '하', '우와', '오호', '오오','와우']"
   ]
  },
  {
   "cell_type": "code",
   "execution_count": 47,
   "metadata": {},
   "outputs": [
    {
     "name": "stdout",
     "output_type": "stream",
     "text": [
      "{'<PAD>': 0, '<UNK>': 1, '은': 2, '안': 3, '군대': 4, '거': 5, '들': 6, '에서': 7, '뭐': 8, '잘': 9, '것': 10, '나도': 11, '난': 12, '많이': 13, '한': 14, '해': 15, '너무': 16, '를': 17, '만': 18, '내': 19, '때': 20, '로': 21, '못': 22, '먹어': 23, '먹고': 24, '더': 25, '오늘': 26, '같아': 27, '으로': 28, '맛': 29, '좀': 30, '우리': 31, '요즘': 32, '게': 33, '생각': 34, '사람': 35, '하고': 36, '하는': 37, '말': 38, '랑': 39, '집': 40, '그런': 41, '고': 42, '엄청': 43, '지': 44, '이야': 45, '밥': 46, '왜': 47, '할': 48, '있어': 49, '수': 50, '요': 51, '군인': 52, '지금': 53, '저녁': 54, '좋아': 55, '배달': 56, '그래서': 57, '이랑': 58, '거기': 59, '의': 60, '같이': 61, '해서': 62, '치킨': 63, '저': 64, '봐': 65, '하면': 66, '정말': 67, '먹었어': 68, '음식': 69, '거야': 70, '친구': 71, '또': 72, '커피': 73, '일': 74, '면': 75, '점심': 76, '적': 77, '한번': 78, '먹는': 79, '이제': 80, '그렇게': 81, '전': 82, '인데': 83, '라고': 84, '애': 85, '서': 86, '훈련': 87, '듯': 88, '아침': 89, '시간': 90, '걸': 91, '라': 92, '군': 93, '보다': 94, '먹을': 95, '무슨': 96, '그건': 97, '시켜': 98, '가서': 99, '있는': 100, '정도': 101, '완전': 102, '알': 103, '먹으면': 104, '그게': 105, '제일': 106, '하나': 107, '에는': 108, '엄마': 109, '아직': 110, '인': 111, '했어': 112, '휴가': 113, '중': 114, '부대': 115, '좋은': 116, '좋아해': 117, '년': 118, '건': 119, '공군': 120, '하지': 121, '생활': 122, '곳': 123, '맛있어': 124, '엔': 125, '같은': 126, '이지': 127, '다른': 128, '니': 129, '육군': 130, '니까': 131, '메뉴': 132, '맛집': 133, '별로': 134, '살': 135, '동생': 136, '같은데': 137, '오빠': 138, '어디': 139, '보고': 140, '자주': 141, '까지': 142, '구': 143, '어떻게': 144, '싶다': 145, '해군': 146, '한테': 147, '봤어': 148, '가면': 149, '아니야': 150, '다시': 151, '번': 152, '어떤': 153, '고기': 154, '라면': 155, '그치': 156, '어제': 157, '얘기': 158, '그니까': 159, '줄': 160, '갈': 161, '없어': 162, '빵': 163, '맛있는': 164, '돈': 165, '다음': 166, '이나': 167, '돼': 168, '이네': 169, '병': 170, '이번': 171, '하는데': 172, '두': 173, '사': 174, '그때': 175, '좋지': 176, '부터': 177, '이라': 178, '몇': 179, '개': 180, '인가': 181, '않아': 182, '하더라': 183, '그리고': 184, '날': 185, '해병대': 186, '데': 187, '배': 188, '있지': 189, '했는데': 190, '처음': 191, '제': 192, '복무': 193, '이다': 194, '그러면': 195, '내일': 196, '싶어': 197, '들어': 198, '이런': 199, '기억': 200, '때문': 201, '떡볶이': 202, '거의': 203, '그것': 204, '가는': 205, '원래': 206, '이라고': 207, '기간': 208, '보면': 209, '피자': 210, '전역': 211, '시': 212, '맛있지': 213, '조금': 214, '요새': 215, '함': 216, '언니': 217, '먹었는데': 218, '간': 219, '얼마나': 220, '예전': 221, '대': 222, '김치': 223, '언제': 224, '그러니까': 225, '뭔가': 226, '에도': 227, '빨리': 228, '맨날': 229, '먹음': 230, '특전사': 231, '본': 232, '해야': 233, '형': 234, '가지': 235, '대박': 236, '디저트': 237, '꼭': 238, '맛있겠다': 239, '거지': 240, '있는데': 241, '님': 242, '코로나': 243, '가고': 244, '넘': 245, '바로': 246, '같아요': 247, '씩': 248, '있을': 249, '건가': 250, '음료': 251, '입대': 252, '최고': 253, '먹지': 254, '카페': 255, '보': 256, '남자': 257, '원': 258, '갑자기': 259, '있어서': 260, '맛있더라': 261, '어때': 262, '술': 263, '분': 264, '나중': 265, '사실': 266, '요리': 267, '갔다': 268, '야식': 269, '하긴': 270, '운전': 271, '런가': 272, '개월': 273, '먹어야': 274, '훈련소': 275, '아빠': 276, '물': 277, '그렇구나': 278, '주': 279, '오래': 280, '우유': 281, '봤는데': 282, '가끔': 283, '비': 284, '수도': 285, '얼마': 286, '처럼': 287, '되는': 288, '그럴': 289, '다행': 290, '말고': 291, '하루': 292, '느낌': 293, '있고': 294, '반': 295, '먹으러': 296, '직업': 297, '아아': 298, '없는': 299, '먹자': 300, '먹기': 301, '몸': 302, '있나': 303, '아니면': 304, '달': 305, '해도': 306, '니깐': 307, '추천': 308, '먹어야지': 309, '식사': 310, '없어서': 311, '넌': 312, '있으면': 313, '월급': 314, '계속': 315, '일이': 316, '했지': 317, '잖아': 318, '다이어트': 319, '저번': 320, '뭘': 321, '않을까': 322, '참': 323, '고민': 324, '고생': 325, '아냐': 326, '밖에': 327, '치즈': 328, '가야': 329, '자기': 330, '좋아하는': 331, '뭔': 332, '오랜': 333, '문제': 334, '된': 335, '반찬': 336, '먹어서': 337, '한다고': 338, '먹은': 339, '걱정': 340, '예비군': 341, '누나': 342, '보통': 343, '계란': 344, '나라': 345, '무조건': 346, '주변': 347, '햄버거': 348, '양': 349, '간다': 350, '과': 351, '많아': 352, '맞아요': 353, '연락': 354, '마다': 355, '몰라': 356, '콜라': 357, '앞': 358, '선임': 359, '챙겨': 360, '좋겠다': 361, '임': 362, '하니까': 363, '딱': 364, '자': 365, '명': 366, '맛있게': 367, '먹을까': 368, '항상': 369, '혼자': 370, '달라': 371, '국밥': 372, '삼겹살': 373, '아들': 374, '지원': 375, '아무래도': 376, '회사': 377, '같다': 378, '주말': 379, '제대': 380, '되면': 381, '여': 382, '볼': 383, '가자': 384, '인들': 385, '소고기': 386, '될': 387, '과자': 388, '김밥': 389, '병사': 390, '족발': 391, '면회': 392, '아직도': 393, '맞어': 394, '옛날': 395, '에서는': 396, '혹시': 397, '였어': 398, '라떼': 399, '벌써': 400, '머리': 401, '먹어도': 402, '둘': 403, '매운': 404, '되지': 405, '닭': 406, '국물': 407, '하던데': 408, '마셔': 409, '종류': 410, '이름': 411, '이렇게': 412, '보네': 413, '좋다': 414, '매일': 415, '되게': 416, '아니고': 417, '좋아하는데': 418, '동네': 419, '짬뽕': 420, '소스': 421, '약간': 422, '근처': 423, '식': 424, '초코': 425, '한데': 426, '차': 427, '아마': 428, '없지': 429, '일단': 430, '여자': 431, '누가': 432, '짱': 433, '맛있는데': 434, '가기': 435, '가격': 436, '핸드폰': 437, '하기': 438, '나이': 439, '크림': 440, '행': 441, '래': 442, '나온': 443, '있음': 444, '아메리카노': 445, '그런데': 446, '아는': 447, '아무': 448, '사진': 449, '샐러드': 450, '않나': 451, '아이스크림': 452, '있었어': 453, '외식': 454, '많아서': 455, '넣고': 456, '마음': 457, '라서': 458, '세상': 459, '아님': 460, '가게': 461, '탕': 462, '양념': 463, '맞다': 464, '아주': 465, '와서': 466, '만원': 467, '사용': 468, '편지': 469, '달달': 470, '나오는': 471, '공익': 472, '젤': 473, '군생활': 474, '이야기': 475, '죠': 476, '갈비': 477, '먹는데': 478, '사서': 479, '만들어': 480, '우리나라': 481, '고구마': 482, '간부': 483, '하더라고': 484, '감자': 485, '가장': 486, '총': 487, '나와서': 488, '대신': 489, '소리': 490, '같': 491, '마라': 492, '별': 493, '하지만': 494, '해야지': 495, '많은': 496, '과일': 497, '편이': 498, '주문': 499, '온': 500, '꺼': 501, '근무': 502, '떡': 503, '운동': 504, '한잔': 505, '하게': 506, '당': 507, '올': 508, '하자': 509, '가족': 510, '힘든': 511, '싶은': 512, '에서도': 513, '점': 514, '보니': 515, '기': 516, '재료': 517, '먹게': 518, '열심히': 519, '있잖아': 520, '샌드위치': 521, '어디서': 522, '잠': 523, '아하': 524, '남편': 525, '당연히': 526, '기분': 527, '땐': 528, '너희': 529, '파스타': 530, '면제': 531, '이유': 532, '라는': 533, '건데': 534, '알았어': 535, '입': 536, '큰': 537, '식당': 538, '한다': 539, '사회': 540, '이미': 541, '전쟁': 542, '안녕': 543, '케이크': 544, '괜찮아': 545, '따로': 546, '입맛': 547, '이고': 548, '딸기': 549, '그걸': 550, '해먹': 551, '하네': 552, '볶음': 553, '꿀': 554, '머': 555, '돈까스': 556, '장': 557, '회': 558, '맥주': 559, '없이': 560, '학교': 561, '쪽': 562, '파는': 563, '사고': 564, '맞지': 565, '후': 566, '싶은데': 567, '냉동': 568, '장난': 569, '출신': 570, '싫어': 571, '먹었지': 572, '군복': 573, '쯤': 574, '감': 575, '기본': 576, '나름': 577, '후임': 578, '하니': 579, '아니라': 580, '바': 581, '눈': 582, '보다는': 583, '튀김': 584, '이래': 585, '힘들어': 586, '모르겠어': 587, '끼': 588, '냐': 589, '추억': 590, '병장': 591, '했다': 592, '있다': 593, '있어요': 594, '하면서': 595, '봄': 596, '좋은데': 597, '남자친구': 598, '먹으려고': 599, '동기': 600, '일반': 601, '티': 602, '긴': 603, '던데': 604, '꽤': 605, '라도': 606, '인정': 607, '전화': 608, '드라마': 609, '오면': 610, '폰': 611, '했나': 612, '비빔밥': 613, '기도': 614, '갔어': 615, '피': 616, '간식': 617, '아까': 618, '되고': 619, '산': 620, '이면': 621, '은근': 622, '그런거': 623, '우린': 624, '밤': 625, '준비': 626, '만두': 627, '편의점': 628, '볶음밥': 629, '살이': 630, '위': 631, '당연하지': 632, '스벅': 633, '겨울': 634, '동안': 635, '먹': 636, '추가': 637, '짜장면': 638, '검색': 639, '일찍': 640, '마카롱': 641, '마시고': 642, '이라도': 643, '직접': 644, '카레': 645, '부사관': 646, '얘': 647, '곱창': 648, '장교': 649, '있다고': 650, '새우': 651, '없다': 652, '왔어': 653, '먹고싶다': 654, '하다': 655, '사랑': 656, '인터넷': 657, '그렇긴': 658, '얼른': 659, '인기': 660, '울': 661, '넣어': 662, '도시락': 663, '오징어': 664, '김': 665, '이라서': 666, '강철': 667, '마': 668, '들고': 669, '잔': 670, '버거': 671, '마트': 672, '이었어': 673, '늦게': 674, '시작': 675, '마자': 676, '냄새': 677, '간장': 678, '누구': 679, '밖': 680, '있더라': 681, '어느': 682, '좋더라': 683, '되는데': 684, '배고파': 685, '세': 686, '존맛': 687, '써': 688, '해줘': 689, '받고': 690, '텐데': 691, '월': 692, '속': 693, '가봐': 694, '없는데': 695, '줘': 696, '특히': 697, '국': 698, '들었어': 699, '선택': 700, '좋고': 701, '헉': 702, '담': 703, '요거트': 704, '사과': 705, '아니가': 706, '아닌가': 707, '히': 708, '칼국수': 709, '나서': 710, '맛있었어': 711, '구워': 712, '정': 713, '냉면': 714, '제대로': 715, '싶네': 716, '주로': 717, '불고기': 718, '먹었나': 719, '팔': 720, '이니까': 721, '모': 722, '하잖아': 723, '손': 724, '했네': 725, '솔직히': 726, '주는': 727, '관심': 728, '꿈': 729, '금방': 730, '소': 731, '같은거': 732, '없을': 733, '부모님': 734, '신': 735, '초밥': 736, '절대': 737, '곧': 738, '차이': 739, '한식': 740, '방금': 741, '돼지': 742, '맞나': 743, '봐요': 744, '여서': 745, '좋을': 746, '닭발': 747, '먹었어요': 748, '순': 749, '걍': 750, '행군': 751, '단': 752, '타': 753, '북한': 754, '보단': 755, '좋아해서': 756, '도전': 757, '경우': 758, '돼서': 759, '좋네': 760, '중이': 761, '건강': 762, '마늘': 763, '먹었다': 764, '포장': 765, '나왔어': 766, '할까': 767, '웅웅': 768, '나면': 769, '사건': 770, '아이': 771, '이라는': 772, '없네': 773, '야채': 774, '뉴스': 775, '쓸': 776, '밀': 777, '키트': 778, '미리': 779, '나가서': 780, '소주': 781, '아예': 782, '필수': 783, '명절': 784, '이는': 785, '갔는데': 786, '추석': 787, '그랬어': 788, '급': 789, '있었는데': 790, '징': 791, '신랑': 792, '아닐까': 793, '받아': 794, '남': 795, '디피': 796, '아이스': 797, '육': 798, '냉장고': 799, '이해': 800, '놀러': 801, '정신': 802, '김치찌개': 803, '힘들': 804, '어쩔': 805, '편': 806, '모르겠네': 807, '오는': 808, '퇴근': 809, '하겠다': 810, '할게': 811, '휴대폰': 812, '제로': 813, '아닌': 814, '보는': 815, '공부': 816, '좋아해요': 817, '있구나': 818, '아니지': 819, '확실히': 820, '수가': 821, '싸': 822, '된다': 823, '덜': 824, '사격': 825, '급식': 826, '체력': 827, '이라니': 828, '난리': 829, '가라': 830, '먹는다': 831, '할인': 832, '여군': 833, '가요': 834, '않았어': 835, '나물': 836, '고마워': 837, '보자': 838, '넣어서': 839, '세트': 840, '여자친구': 841, '인지': 842, '나와': 843, '파': 844, '사는': 845, '갈래': 846, '통': 847, '타고': 848, '시켜서': 849, '나오면': 850, '당근': 851, '위해': 852, '됨': 853, '의무': 854, '주고': 855, '했던': 856, '맛있던데': 857, '생선': 858, '먹을래': 859, '남은': 860, '뎅': 861, '맛있음': 862, '아닌데': 863, '음료수': 864, '향': 865, '남친': 866, '가슴': 867, '마시는': 868, '거리': 869, '시장': 870, '끝': 871, '안나': 872, '조합': 873, '에요': 874, '실제': 875, '스트레스': 876, '자꾸': 877, '끓여': 878, '의경': 879, '먹어요': 880, '무': 881, '개인': 882, '힘들지': 883, '따': 884, '없으면': 885, '먼저': 886, '어릴': 887, '있대': 888, '저희': 889, '최근': 890, '없고': 891, '식단': 892, '있으니까': 893, '처갓집': 894, '라니': 895, '새로': 896, '교육': 897, '상': 898, '쓰는': 899, '먹나': 900, '에게': 901, '에이': 902, '좋겠어': 903, '많지': 904, '경험': 905, '탕수육': 906, '스타벅스': 907, '마시면': 908, '보직': 909, '되나': 910, '먹었': 911, '들어간': 912, '만큼': 913, '바다': 914, '날씨': 915, '받는': 916, '많더라': 917, '부분': 918, '없었어': 919, '여러': 920, '설탕': 921, '까': 922, '같아서': 923, '했어요': 924, '좋': 925, '늘': 926, '부럽다': 927, '들어가': 928, '행사': 929, '백신': 930, '축구': 931, '상상': 932, '나올': 933, '얼': 934, '강원도': 935, '복숭아': 936, '대부분': 937, '신기하다': 938, '훨씬': 939, '뒤': 940, '끼리': 941, '구이': 942, '드': 943, '그런지': 944, '자체': 945, '이상': 946, '옷': 947, '잡채': 948, '이었는데': 949, '걔': 950, '어땠어': 951, '알겠어': 952, '같더라': 953, '이구나': 954, '참치': 955, '하는거': 956, '제육': 957, '옆': 958, '시험': 959, '유명한': 960, '탄산': 961, '가도': 962, '방법': 963, '에선': 964, '찌': 965, '겁나': 966, '나쁘지': 967, '레시피': 968, '쌀국수': 969, '하다가': 970, '티비': 971, '하는거야': 972, '엇': 973, '등': 974, '없나': 975, '봐야겠다': 976, '탈영': 977, '제복': 978, '이긴': 979, '연': 980, '서울': 981, '되': 982, '계급': 983, '입니다': 984, '인가요': 985, '모르겠다': 986, '차라리': 987, '결국': 988, '예': 989, '글': 990, '키': 991, '맛있다': 992, '비행기': 993, '먹으니까': 994, '이에요': 995, '스테이크': 996, '기름': 997, '갔을': 998, '천원': 999, '배고프다': 1000, '나오고': 1001, '딱히': 1002, '했을': 1003, '그러고': 1004, '됐어': 1005, '웃겨': 1006, '대해': 1007, '생': 1008, '민방위': 1009, '대충': 1010, '였는데': 1011, '알았는데': 1012, '화장품': 1013, '봐서': 1014, '취사': 1015, '쿠폰': 1016, '간단하게': 1017, '플': 1018, '하는게': 1019, '같음': 1020, '있던데': 1021, '없음': 1022, '얼굴': 1023, '찍어': 1024, '맘': 1025, '보기': 1026, '병원': 1027, '그나마': 1028, '우동': 1029, '만나서': 1030, '괜히': 1031, '글쎄': 1032, '힘들었어': 1033, '어차피': 1034, '동': 1035, '그러게요': 1036, '모든': 1037, '된다고': 1038, '죽': 1039, '대요': 1040, '현역': 1041, '맞는': 1042, '비싸': 1043, '그러니깐': 1044, '싶지': 1045, '넣으면': 1046, '쓰고': 1047, '괜찮은': 1048, '예요': 1049, '매콤': 1050, '먹어야겠다': 1051, '바나나': 1052, '일주일': 1053, '거나': 1054, '유튜브': 1055, '흠': 1056, '알려줘': 1057, '먹는게': 1058, '알바': 1059, '한국': 1060, '새': 1061, '불': 1062, '힘': 1063, '찜': 1064, '해보고': 1065, '서로': 1066, '억': 1067, '해봐': 1068, '하이': 1069, '시켰어': 1070, '입고': 1071, '맛있는거': 1072, '맵': 1073, '굳이': 1074, '갈비찜': 1075, '낫': 1076, '분위기': 1077, '않은': 1078, '뿐': 1079, '카페인': 1080, '겠다': 1081, '하려고': 1082, '개선': 1083, '않고': 1084, '있네': 1085, '미안': 1086, '운': 1087, '최애': 1088, '엑스': 1089, '나지': 1090, '부대찌개': 1091, '바삭': 1092, '미역국': 1093, '주면': 1094, '영화': 1095, '생일': 1096, '용': 1097, '같네': 1098, '쉽지': 1099, '되겠다': 1100, '여친': 1101, '목': 1102, '전방': 1103, '돼지고기': 1104, '좋아하지': 1105, '먹었네': 1106, '길': 1107, '자고': 1108, '포상': 1109, '싶어서': 1110, '갈까': 1111, '는데': 1112, '옹': 1113, '로는': 1114, '같던데': 1115, '했다고': 1116, '성': 1117, '낼': 1118, '있겠다': 1119, '며칠': 1120, '대로': 1121, '행위': 1122, '많은데': 1123, '에만': 1124, '만드는': 1125, '마리': 1126, '오히려': 1127, '관리': 1128, '실': 1129, '하겠지': 1130, '눈물': 1131, '우': 1132, '후기': 1133, '먹는거': 1134, '빙수': 1135, '브랜드': 1136, '필요': 1137, '순대': 1138, '눈치': 1139, '사면': 1140, '부조리': 1141, '잘못': 1142, '가보고': 1143, '모두': 1144, '좋긴': 1145, '출근': 1146, '시키면': 1147, '어머님': 1148, '제한': 1149, '각': 1150, '최': 1151, '아저씨': 1152, '집은': 1153, '선물': 1154, '후라이드': 1155, '아무리': 1156, '내년': 1157, '집밥': 1158, '있을까': 1159, '사이다': 1160, '프로그램': 1161, '가는데': 1162, '사다': 1163, '전혀': 1164, '약속': 1165, '가혹': 1166, '멋있어': 1167, '받았어': 1168, '자리': 1169, '뼈': 1170, '육회': 1171, '맛있더라고': 1172, '앗': 1173, '담배': 1174, '편하게': 1175, '베': 1176, '자살': 1177, '따라': 1178, '이건': 1179, '유행': 1180, '볼까': 1181, '종일': 1182, '그랬는데': 1183, '삼': 1184, '인거': 1185, '평소': 1186, '속이': 1187, '스파게티': 1188, '족구': 1189, '맛있': 1190, '만든': 1191, '리': 1192, '다가': 1193, '설마': 1194, '마지막': 1195, '첨': 1196, '젠': 1197, '비벼': 1198, '대단한': 1199, '본적': 1200, '스타일': 1201, '했으면': 1202, '이니': 1203, '취향': 1204, '까지는': 1205, '군대리아': 1206, '기준': 1207, '문': 1208, '연어': 1209, '초코파이': 1210, '으로는': 1211, '연예인': 1212, '노래': 1213, '였지': 1214, '있어야': 1215, '혜택': 1216, '보면서': 1217, '구나': 1218, '해결': 1219, '부산': 1220, '먹으니': 1221, '하러': 1222, '큰일': 1223, '끝나고': 1224, '좋아서': 1225, '맛있다고': 1226, '열': 1227, '이후': 1228, '샀어': 1229, '케익': 1230, '많고': 1231, '신경': 1232, '크게': 1233, '맛있어서': 1234, '땡기네': 1235, '콩나물': 1236, '받은': 1237, '옴': 1238, '중독': 1239, '고추': 1240, '상황': 1241, '몰랐어': 1242, '먹네': 1243, '롯데리아': 1244, '화생방': 1245, '국가': 1246, '먹었니': 1247, '관련': 1248, '되어': 1249, '가루': 1250, '막상': 1251, '햄': 1252, '거든': 1253, '보이': 1254, '같기도': 1255, '맞네': 1256, '왠지': 1257, '괜찮지': 1258, '문화': 1259, '사나이': 1260, '적당히': 1261, '포도': 1262, '짜파게티': 1263, '로제': 1264, '무엇': 1265, '짜장': 1266, '지역': 1267, '준': 1268, '사이': 1269, '경찰': 1270, '힘들겠다': 1271, '소화': 1272, '공': 1273, '되니까': 1274, '디': 1275, '미국': 1276, '막창': 1277, '먹었던': 1278, '올해': 1279, '받아서': 1280, '얼음': 1281, '청소': 1282, '좋아함': 1283, '건지': 1284, '오이': 1285, '영상': 1286, '땡긴다': 1287, '여름': 1288, '교촌': 1289, '스무디': 1290, '쵸': 1291, '보내': 1292, '엽떡': 1293, '영창': 1294, '논산': 1295, '몰래': 1296, '재미': 1297, '화장실': 1298, '줬어': 1299, '방': 1300, '당장': 1301, '들어가는': 1302, '안주': 1303, '있긴': 1304, '씨': 1305, '있더라고': 1306, '맞': 1307, '봤지': 1308, '전투기': 1309, '없잖아': 1310, '겨': 1311, '언': 1312, '배민': 1313, '했었어': 1314, '건빵': 1315, '양파': 1316, '천': 1317, '봐야': 1318, '맛있긴': 1319, '살짝': 1320, '짜': 1321, '이용': 1322, '크': 1323, '국수': 1324, '대단하다': 1325, '가능': 1326, '대체': 1327, '하는구나': 1328, '웃기': 1329, '크로': 1330, '좋음': 1331, '본인': 1332, '해주는': 1333, '아이고': 1334, '아니냐': 1335, '그땐': 1336, '형님': 1337, '비싼': 1338, '법': 1339, '얌': 1340, '보내고': 1341, '오뎅': 1342, '보상': 1343, '그렇다고': 1344, '믹스': 1345, '봐도': 1346, '신고': 1347, '쟤': 1348, '그렇고': 1349, '특수부대': 1350, '맛있잖아': 1351, '컵라면': 1352, '중국': 1353, '오후': 1354, '두부': 1355, '잠깐': 1356, '아무튼': 1357, '바닐라': 1358, '받을': 1359, '이런거': 1360, '몰랐네': 1361, '좋아요': 1362, '적은': 1363, '민트': 1364, '아니다': 1365, '작은': 1366, '같긴': 1367, '식혜': 1368, '그래요': 1369, '칼로리': 1370, '전부': 1371, '편한': 1372, '쉬': 1373, '보여': 1374, '봉지': 1375, '맛있고': 1376, '버스': 1377, '행정': 1378, '간지': 1379, '정리': 1380, '탱': 1381, '않을': 1382, '그대로': 1383, '있으니': 1384, '있': 1385, '뭐라고': 1386, '했대': 1387, '기사': 1388, '이따': 1389, '배치': 1390, '그러지': 1391, '주위': 1392, '꿔': 1393, '시절': 1394, '해야겠다': 1395, '그릇': 1396, '신기하네': 1397, '궁금하다': 1398, '활동': 1399, '드세요': 1400, '백': 1401, '새로운': 1402, '국방부': 1403, '먹더라': 1404, '께': 1405, '똑같은': 1406, '어울려': 1407, '됐다': 1408, '동반': 1409, '철': 1410, '생기': 1411, '래야': 1412, '노력': 1413, '어머니': 1414, '물론': 1415, '는걸': 1416, '가봤어': 1417, '여행': 1418, '도넛': 1419, '들어가서': 1420, '비슷한': 1421, '자유': 1422, '점점': 1423, '부탁': 1424, '인생': 1425, '모병제': 1426, '화': 1427, '아기': 1428, '국방': 1429, '체험': 1430, '거임': 1431, '그렇겠지': 1432, '봐야지': 1433, '들은': 1434, '누': 1435, '취업': 1436, '땡겨': 1437, '가성': 1438, '좋았어': 1439, '이등병': 1440, '대한': 1441, '들어가면': 1442, '충격': 1443, '게임': 1444, '따뜻한': 1445, '녹차': 1446, '쿠키': 1447, '무서워': 1448, '안해': 1449, '가나': 1450, '중식': 1451, '확인': 1452, '포기': 1453, '이상한': 1454, '해산물': 1455, '한참': 1456, '기회': 1457, '찌개': 1458, '잼': 1459, '집도': 1460, '후회': 1461, '주스': 1462, '할머니': 1463, '진리': 1464, '생긴': 1465, '내용': 1466, '가본': 1467, '짐': 1468, '흑': 1469, '닭갈비': 1470, '갔지': 1471, '발': 1472, '있는거': 1473, '않아요': 1474, '좋겠네': 1475, '먹을지': 1476, '일까': 1477, '봤어요': 1478, '일과': 1479, '모르는': 1480, '귀찮아서': 1481, '으로도': 1482, '샀는데': 1483, '통일': 1484, '빼고': 1485, '현실': 1486, '조리': 1487, '보지': 1488, '하네요': 1489, '장점': 1490, '없더라': 1491, '탄산수': 1492, '귀신': 1493, '시대': 1494, '민초': 1495, '나오더라': 1496, '했': 1497, '혹': 1498, '그만큼': 1499, '진심': 1500, '들었는데': 1501, '생활관': 1502, '시키고': 1503, '였나': 1504, '적응': 1505, '되서': 1506, '매': 1507, '공무원': 1508, '가보자': 1509, '대학교': 1510, '만해': 1511, '되더라': 1512, '합니다': 1513, '된장찌개': 1514, '만약': 1515, '돈가스': 1516, '괜찮더라': 1517, '고추장': 1518, '말년': 1519, '둘다': 1520, '애기': 1521, '군기': 1522, '했잖아': 1523, '박스': 1524, '들어갈': 1525, '했구나': 1526, '블랙': 1527, '맛있었는데': 1528, '먹고싶어': 1529, '난다': 1530, '여보': 1531, '안되는': 1532, '서는': 1533, '갔다가': 1534, '여자도': 1535, '지는': 1536, '막내': 1537, '일본': 1538, '찜닭': 1539, '싸게': 1540, '뷔페': 1541, '값': 1542, '암튼': 1543, '와플': 1544, '다르지': 1545, '결혼': 1546, '겠지': 1547, '밀크': 1548, '같지': 1549, '그렇군요': 1550, '완젼': 1551, '먹을게': 1552, '미군': 1553, '기대': 1554, '저런': 1555, '작년': 1556, '먹었음': 1557, '소금': 1558, '배고파서': 1559, '만에': 1560, '외출': 1561, '네네': 1562, '선': 1563, '중국집': 1564, '영': 1565, '제발': 1566, '사촌': 1567, '봤나': 1568, '덕분': 1569, '달팽이': 1570, '새벽': 1571, '않아서': 1572, '나왔는데': 1573, '되겠네': 1574, '싫다': 1575, '그만': 1576, '물건': 1577, '부담': 1578, '그렇': 1579, '해장국': 1580, '핫도그': 1581, '감자탕': 1582, '어플': 1583, '만들어서': 1584, '만나면': 1585, '쓰': 1586, '샵': 1587, '사장': 1588, '자대': 1589, '했음': 1590, '매번': 1591, '싶었어': 1592, '광주': 1593, '해줄게': 1594, '레드': 1595, '있게': 1596, '싶었는데': 1597, '복귀': 1598, '했었는데': 1599, '꺼야': 1600, '이냐': 1601, '파티': 1602, '신청': 1603, '약': 1604, '아버지': 1605, '불닭': 1606, '힘들다': 1607, '적금': 1608, '아파트': 1609, '소세지': 1610, '상큼': 1611, '앙': 1612, '들어서': 1613, '가려고': 1614, '있었지': 1615, '시리얼': 1616, '브런치': 1617, '조교': 1618, '무기': 1619, '먹는다고': 1620, '검사': 1621, '권': 1622, '그러는': 1623, '있나요': 1624, '많을': 1625, '력': 1626, '택배': 1627, '그렇죠': 1628, '비싸서': 1629, '맛있을': 1630, '주더': 1631, '맛있었겠다': 1632, '만들기': 1633, '높은': 1634, '상태': 1635, '시키는': 1636, '인분': 1637, '드디어': 1638, '국군': 1639, '분들': 1640, '캠핑': 1641, '랑은': 1642, '먹고싶네': 1643, '한기': 1644, '필요한': 1645, '조': 1646, '비비큐': 1647, '보는데': 1648, '해봤어': 1649, '쌈': 1650, '찐': 1651, '줌': 1652, '먹은지': 1653, '업체': 1654, '쓴': 1655, '맥날': 1656, '국룰': 1657, '버터': 1658, '키로': 1659, '제주도': 1660, '똑같이': 1661, '대단해': 1662, '보쌈': 1663, '탈영병': 1664, '지키는': 1665, '간단히': 1666, '물이': 1667, '땅': 1668, '서브웨이': 1669, '낭': 1670, '조금씩': 1671, '타코야끼': 1672, '버거킹': 1673, '시킬까': 1674, '예정': 1675, '막걸리': 1676, '사관학교': 1677, '거래': 1678, '만이': 1679, '오키': 1680, '년도': 1681, '덮': 1682, '쌀': 1683, '먹잖아': 1684, '괜찮은데': 1685, '대구': 1686, '빡세': 1687, '다녀온': 1688, '군부': 1689, '좋죠': 1690, '라멘': 1691, '받으면': 1692, '없어요': 1693, '하는거지': 1694, '아니니까': 1695, '다닐': 1696, '종교': 1697, '핫': 1698, '에서만': 1699, '꿀맛': 1700, '마실': 1701, '준다고': 1702, '낙지': 1703, '궁금해': 1704, '문신': 1705, '쥐': 1706, '같고': 1707, '정비': 1708, '듣고': 1709, '즈': 1710, '수제비': 1711, '괜찮을': 1712, '간만': 1713, '왔는데': 1714, '나고': 1715, '우선': 1716, '격리': 1717, '리뷰': 1718, '터치': 1719, '붕어빵': 1720, '체질': 1721, '시킬': 1722, '아니요': 1723, '남아': 1724, '많네': 1725, '있었나': 1726, '허니': 1727, '어우': 1728, '하느라': 1729, '그러자': 1730, '제도': 1731, '진주': 1732, '토스트': 1733, '지만': 1734, '하냐': 1735, '홍차': 1736, '곳도': 1737, '식감': 1738, '업무': 1739, '시원한': 1740, '맛있어요': 1741, '팩': 1742, '편해': 1743, '근': 1744, '일어나서': 1745, '전이': 1746, '군사': 1747, '컵': 1748, '지도': 1749, '복': 1750, '거가': 1751, '하기도': 1752, '먹어라': 1753, '싫어해': 1754, '먹긴': 1755, '한다는': 1756, '먹을거야': 1757, '먹을거': 1758, '골라': 1759, '먹다': 1760, '식빵': 1761, '각자': 1762, '햇': 1763, '신라면': 1764, '괴롭힘': 1765, '평생': 1766, '오고': 1767, '수준': 1768, '왜케': 1769, '상병': 1770, '힘들다고': 1771, '드셨어요': 1772, '놈': 1773, '구경': 1774, '재입대': 1775, '최대한': 1776, '하겠네': 1777, '나옴': 1778, '샤브샤브': 1779, '해장': 1780, '갈게': 1781, '코바': 1782, '멋있는': 1783, '않는': 1784, '버섯': 1785, '와인': 1786, '기다려': 1787, '재밌어': 1788, '그릭': 1789, '소개': 1790, '된대': 1791, '기는': 1792, '않지': 1793, '어디가': 1794, '나갈': 1795, '먹으려': 1796, '없다고': 1797, '고등어': 1798, '사러': 1799, '정보': 1800, '알려': 1801, '매장': 1802, '재': 1803, '사오': 1804, '어른': 1805, '인원': 1806, '갖고': 1807, '아마도': 1808, '많던데': 1809, '있어도': 1810, '막국수': 1811, '까진': 1812, '이상하게': 1813, '모습': 1814, '할래': 1815, '좋다고': 1816, '모르겠는데': 1817, '많다': 1818, '뭐라도': 1819, '먹었더니': 1820, '형부': 1821, '도착': 1822, '나눠': 1823, '나더라': 1824, '데리': 1825, '이란': 1826, '당면': 1827, '만들': 1828, '심지어': 1829, '맥도날드': 1830, '대학': 1831, '시켰는데': 1832, '던킨': 1833, '싶더라': 1834, '그랬나': 1835, '갈비탕': 1836, '조각': 1837, '공차': 1838, '하라': 1839, '다녀왔어': 1840, '중간': 1841, '치맥': 1842, '아이스티': 1843, '된장': 1844, '사단': 1845, '진': 1846, '있겠지': 1847, '이모': 1848, '상관': 1849, '힘든데': 1850, '다녀': 1851, '이따가': 1852, '장사': 1853, '가을': 1854, '군번': 1855, '굿': 1856, '있던': 1857, '거도': 1858, '보이더라': 1859, '박': 1860, '귀찮아': 1861, '허리': 1862, '빵집': 1863, '카투사': 1864, '신기해': 1865, '움': 1866, '줬는데': 1867, '맘스': 1868, '써서': 1869, '전어': 1870, '옥수수': 1871, '해본': 1872, '싶어요': 1873, '만하': 1874, '의외로': 1875, '발라': 1876, '욕': 1877, '말뚝': 1878, '체': 1879, '하는지': 1880, '스프': 1881, '토마토': 1882, '쓰면': 1883, '나오지': 1884, '힘들어서': 1885, '누룽지': 1886, '시킴': 1887, '김치볶음밥': 1888, '대하': 1889, '어린': 1890, '조만간': 1891, '내는': 1892, '오전': 1893, '통닭': 1894, '밑': 1895, '먹이': 1896, '평일': 1897, '닭강정': 1898, '많잖아': 1899, '패스': 1900, '딸': 1901, '다양한': 1902, '자부심': 1903, '나쁜': 1904, '뚝딱': 1905, '위드': 1906, '됐는데': 1907, '줘서': 1908, '류': 1909, '났어': 1910, '땜': 1911, '생각난다': 1912, '샤인': 1913, '습관': 1914, '단체': 1915, '맛있나': 1916, '양배추': 1917, '찾아': 1918, '회식': 1919, '나가면': 1920, '없': 1921, '수육': 1922, '조림': 1923, '껄': 1924, '줘야': 1925, '조카': 1926, '콤보': 1927, '점심시간': 1928, '저기': 1929, '굽': 1930, '밀가루': 1931, '식품': 1932, '엉엉': 1933, '마셔서': 1934, '있니': 1935, '카드': 1936, '싶음': 1937, '서비스': 1938, '전투': 1939, '거구': 1940, '들으면': 1941, '일부러': 1942, '여성': 1943, '짓': 1944, '그렇네': 1945, '군복무': 1946, '잉': 1947, '지옥': 1948, '기억나': 1949, '힘들게': 1950, '싼': 1951, '시킨': 1952, '장모님': 1953, '후식': 1954, '호박': 1955, '그랬구나': 1956, '되는거': 1957, '역할': 1958, '조개': 1959, '폭행': 1960, '걔네': 1961, '매우': 1962, '배는': 1963, '몇개': 1964, '양도': 1965, '있는지': 1966, '관심병사': 1967, '하늘': 1968, '애가': 1969, '아이돌': 1970, '다리': 1971, '먹다가': 1972, '잡는': 1973, '워낙': 1974, '이마트': 1975, '분대': 1976, '두발': 1977, '아몬드': 1978, '일병': 1979, '시기': 1980, '놔': 1981, '대비': 1982, '환경': 1983, '짬': 1984, '구워서': 1985, '바람': 1986, '그럴까': 1987, '복지': 1988, '어떤거': 1989, '지난번': 1990, '이드': 1991, '왕': 1992, '넷플릭스': 1993, '싫은': 1994, '어묵': 1995, '가봤는데': 1996, '먹던': 1997, '백숙': 1998, '먹니': 1999, '다양하게': 2000, '있겠네': 2001, '내고': 2002, '가능한': 2003, '많았어': 2004, '이여': 2005, '무시': 2006, '이도': 2007, '준서': 2008, '갔으면': 2009, '콜': 2010, '치': 2011, '배불러': 2012, '남동생': 2013, '놓고': 2014, '생각나': 2015, '고고': 2016, '예능': 2017, '테': 2018, '싶당': 2019, '되긴': 2020, '귀': 2021, '도움': 2022, '줘도': 2023, '일도': 2024, '매력': 2025, '소식': 2026, '나': 2027, '예약': 2028, '해봤는데': 2029, '한두': 2030, '인간': 2031, '직': 2032, '양식': 2033, '없으니까': 2034, '팔더라': 2035, '됐지': 2036, '먹었냐': 2037, '알아서': 2038, '답': 2039, '표': 2040, '마치': 2041, '핵': 2042, '취소': 2043, '육개장': 2044, '유격': 2045, '뻔': 2046, '초': 2047, '그런게': 2048, '광고': 2049, '종종': 2050, '걸까': 2051, '튼': 2052, '쉽게': 2053, '갓': 2054, '미': 2055, '입장': 2056, '함께': 2057, '추워서': 2058, '맛있으면': 2059, '쉬는': 2060, '며': 2061, '자랑': 2062, '같더라고': 2063, '차별': 2064, '몰랐는데': 2065, '그런건': 2066, '넘게': 2067, '사리': 2068, '해준': 2069, '힘들었겠다': 2070, '팝콘': 2071, '괜찮았어': 2072, '프로': 2073, '가야겠다': 2074, '콤': 2075, '뽀글이': 2076, '크크': 2077, '듣기': 2078, '쿠팡': 2079, '강제': 2080, '콜드': 2081, '포': 2082, '봤다': 2083, '군데': 2084, '그랬지': 2085, '될까': 2086, '해주': 2087, '한국인': 2088, '지뢰': 2089, '이벤트': 2090, '논란': 2091, '수술': 2092, '카톡': 2093, '받지': 2094, '가니까': 2095, '싫어하는': 2096, '보낼': 2097, '어려운': 2098, '그날': 2099, '주지': 2100, '덕': 2101, '셋': 2102, '많다고': 2103, '보관': 2104, '최악': 2105, '질': 2106, '아는데': 2107, '된거': 2108, '통화': 2109, '거짓말': 2110, '오케이': 2111, '팥': 2112, '모아서': 2113, '멋있더라': 2114, '단백질': 2115, '참고': 2116, '오리고기': 2117, '생겨서': 2118, '구타': 2119, '재밌는': 2120, '안보': 2121, '장비': 2122, '주먹밥': 2123, '모자': 2124, '가봐서': 2125, '고파': 2126, '없었는데': 2127, '고급': 2128, '모르겠지만': 2129, '규정': 2130, '자는': 2131, '해야겠네': 2132, '척': 2133, '초반': 2134, '작업': 2135, '좋아하세요': 2136, '미필': 2137, '부위': 2138, '방송': 2139, '하던': 2140, '군악대': 2141, '설빙': 2142, '않을까요': 2143, '않은데': 2144, '포병': 2145, '해줘야': 2146, '들어도': 2147, '굉장히': 2148, '했거든': 2149, '쫌': 2150, '시럽': 2151, '짜리': 2152, '같습니다': 2153, '좋아하나': 2154, '노': 2155, '집단': 2156, '길게': 2157, '아쉬워': 2158, '려고': 2159, '해병': 2160, '궁금하네': 2161, '이지만': 2162, '면서': 2163, '성격': 2164, '힘들긴': 2165, '생각나네': 2166, '수고': 2167, '두고': 2168, '의외': 2169, '브루': 2170, '괜찮': 2171, '고등학교': 2172, '정해': 2173, '찍': 2174, '오렌지': 2175, '왔지': 2176, '외국': 2177, '다녀와서': 2178, '했었지': 2179, '좋았는데': 2180, '하더라구요': 2181, '탈': 2182, '아니에요': 2183, '환상': 2184, '에다가': 2185, '봐야겠네': 2186, '맥심': 2187, '넣은': 2188, '되네': 2189, '했더니': 2190, '나네': 2191, '아웃백': 2192, '토요일': 2193, '레몬': 2194, '쓰레기': 2195, '침': 2196, '나오는데': 2197, '왔다': 2198, '있다면': 2199, '이었지': 2200, '찾아서': 2201, '부실': 2202, '비빔면': 2203, '순간': 2204, '흰': 2205, '보급': 2206, '됐네': 2207, '지인': 2208, '번은': 2209, '해보면': 2210, '나왔지': 2211, '처리': 2212, '듣는': 2213, '출퇴근': 2214, '아메': 2215, '인도': 2216, '중요한': 2217, '않았나': 2218, '수영': 2219, '하세요': 2220, '아쉽다': 2221, '하려면': 2222, '부심': 2223, '미사일': 2224, '뿌': 2225, '마니': 2226, '그리': 2227, '대서': 2228, '먹을려고': 2229, '참기름': 2230, '아무나': 2231, '텀블러': 2232, '가능해': 2233, '않다': 2234, '않네': 2235, '할아버지': 2236, '궁': 2237, '소문': 2238, '돌려': 2239, '할거': 2240, '국민': 2241, '일식': 2242, '장이': 2243, '괜찮네': 2244, '차려': 2245, '지방': 2246, '말고는': 2247, '해줘서': 2248, '고깃집': 2249, '멀리': 2250, '먹으면서': 2251, '싶네요': 2252, '단호박': 2253, '라이': 2254, '꽈배기': 2255, '부': 2256, '건강한': 2257, '생크림': 2258, '감동': 2259, '하겠어': 2260, '쳐': 2261, '궁금해서': 2262, '군가': 2263, '요원': 2264, '김치전': 2265, '뭇': 2266, '떠': 2267, '몰라서': 2268, '본다': 2269, '제사': 2270, '먹을만': 2271, '먹었잖아': 2272, '연애': 2273, '풀': 2274, '푹': 2275, '모양': 2276, '나야': 2277, '전날': 2278, '특기': 2279, '좋아했는데': 2280, '달아서': 2281, '한지': 2282, '단계': 2283, '출발': 2284, '베이컨': 2285, '과연': 2286, '어떡해': 2287, '싫어서': 2288, '보이는': 2289, '문어': 2290, '비도': 2291, '보러': 2292, '좋던데': 2293, '끝나면': 2294, '진급': 2295, '안되지': 2296, '자몽': 2297, '공기': 2298, '젊은': 2299, '확': 2300, '그러다': 2301, '설거지': 2302, '대단하네': 2303, '캠프': 2304, '샌': 2305, '이리': 2306, '많더라고': 2307, '군화': 2308, '이던': 2309, '먹는구나': 2310, '않냐': 2311, '효과': 2312, '베트남': 2313, '세대': 2314, '숯불': 2315, '겸': 2316, '먹어야해': 2317, '가까이': 2318, '빠졌어': 2319, '나아': 2320, '내내': 2321, '도대체': 2322, '넘나': 2323, '먹냐': 2324, '오리': 2325, '첫': 2326, '쌈밥': 2327, '육수': 2328, '돼지국밥': 2329, '좋아할': 2330, '펩시': 2331, '뜻': 2332, '기상': 2333, '좋겠어요': 2334, '아닌가요': 2335, '결정': 2336, '여긴': 2337, '꼬치': 2338, '먹어줘야': 2339, '멸치': 2340, '할텐데': 2341, '맞춰서': 2342, '싸이': 2343, '싫은데': 2344, '싶으면': 2345, '동의': 2346, '봤네': 2347, '모르지': 2348, '식욕': 2349, '적도': 2350, '편하지': 2351, '이래서': 2352, '메': 2353, '행복': 2354, '해보니': 2355, '오는데': 2356, '커': 2357, '멋있지': 2358, '였음': 2359, '자극': 2360, '좋아하잖아': 2361, '로더': 2362, '안되나': 2363, '다니는': 2364, '송편': 2365, '가긴': 2366, '안정': 2367, '대한민국': 2368, '먹어야겠어': 2369, '대형': 2370, '만나고': 2371, '되어서': 2372, '고무신': 2373, '적어': 2374, '좋대': 2375, '망고': 2376, '의지': 2377, '축하': 2378, '빨': 2379, '해물': 2380, '장병': 2381, '초콜릿': 2382, '랄': 2383, '분식': 2384, '찬성': 2385, '계란후라이': 2386, '규칙': 2387, '매워서': 2388, '했다가': 2389, '빼': 2390, '웨이': 2391, '간대': 2392, '좋아하고': 2393, '일해': 2394, '시즌': 2395, '싸고': 2396, '안녕하세요': 2397, '보냈어': 2398, '있다니': 2399, '먹을라고': 2400, '멋져': 2401, '돼요': 2402, '해야해': 2403, '만들고': 2404, '이병': 2405, '기초': 2406, '받아야': 2407, '닌': 2408, '위로': 2409, '한우': 2410, '스': 2411, '의미': 2412, '먹으라고': 2413, '아침밥': 2414, '데워': 2415, '갈치': 2416, '팬': 2417, '먹고싶은데': 2418, '귤': 2419, '오라': 2420, '낮': 2421, '비교': 2422, '같네요': 2423, '있죠': 2424, '할거야': 2425, '있지만': 2426, '오픈': 2427, '그랬던': 2428, '빡빡': 2429, '어려워': 2430, '치약': 2431, '추울': 2432, '기계': 2433, '소바': 2434, '한거야': 2435, '구매': 2436, '아파': 2437, '공감': 2438, '사먹어': 2439, '당황': 2440, '단점': 2441, '아픈': 2442, '금지': 2443, '시력': 2444, '물어봐': 2445, '시설': 2446, '등등': 2447, '겨우': 2448, '나온다': 2449, '와도': 2450, '맞으면': 2451, '뭐라': 2452, '여러가지': 2453, '키위': 2454, '하는건': 2455, '재밌게': 2456, '그러던데': 2457, '병영': 2458, '청년': 2459, '봉': 2460, '호텔': 2461, '되니': 2462, '미안해': 2463, '백반': 2464, '비리': 2465, '저렇게': 2466, '채': 2467, '당신': 2468, '져': 2469, '상추': 2470, '걸려': 2471, '체인점': 2472, '유': 2473, '제철': 2474, '에나': 2475, '힘들었지': 2476, '특별한': 2477, '썰': 2478, '고라니': 2479, '보네요': 2480, '부터는': 2481, '마찬가지': 2482, '탱크': 2483, '였구나': 2484, '육전': 2485, '싹': 2486, '돌이': 2487, '어찌': 2488, '당직': 2489, '만날': 2490, '쏘는': 2491, '모르지만': 2492, '이었던': 2493, '파는데': 2494, '나오나': 2495, '치고': 2496, '좋아하는구나': 2497, '그렇겠다': 2498, '발견': 2499, '야간': 2500, '나게': 2501, '부추': 2502, '블루베리': 2503, '만나는': 2504, '박보검': 2505, '보더': 2506, '아니잖아': 2507, '된다면': 2508, '조기': 2509, '처벌': 2510, '슬슬': 2511, '보안': 2512, '커서': 2513, '아파서': 2514, '대화': 2515, '감사합니다': 2516, '이기': 2517, '위주': 2518, '오지': 2519, '엊그제': 2520, '할만': 2521, '싫을': 2522, '날짜': 2523, '젤리': 2524, '꽃': 2525, '세금': 2526, '진해': 2527, '하필': 2528, '시도': 2529, '골고루': 2530, '맞고': 2531, '그렇다': 2532, '친': 2533, '오래된': 2534, '계획': 2535, '개발': 2536, '벌': 2537, '어떤게': 2538, '호': 2539, '되잖아': 2540, '민족': 2541, '현': 2542, '슈퍼': 2543, '재난': 2544, '줘야지': 2545, '무난': 2546, '자마자': 2547, '보장': 2548, '있었던': 2549, '파야': 2550, '목소리': 2551, '해줄': 2552, '그래야지': 2553, '멋있다': 2554, '있다는': 2555, '똥': 2556, '샷': 2557, '않음': 2558, '사와': 2559, '역': 2560, '다시는': 2561, '아쉽네': 2562, '되는거야': 2563, '쌤': 2564, '작전': 2565, '낚시': 2566, '하시는': 2567, '많대': 2568, '보려고': 2569, '실력': 2570, '나을': 2571, '금액': 2572, '자신': 2573, '계': 2574, '맛있겠네': 2575, '맞을': 2576, '대우': 2577, '쓰지': 2578, '유지': 2579, '나는데': 2580, '사야지': 2581, '애호박': 2582, '연습': 2583, '맛있죠': 2584, '달고나': 2585, '해주고': 2586, '수업': 2587, '같어': 2588, '했겠네': 2589, '로만': 2590, '링클': 2591, '마셔야': 2592, '넣는': 2593, '반대': 2594, '심': 2595, '식초': 2596, '어떨까': 2597, '스팸': 2598, '자취': 2599, '먹겠더라': 2600, '시켜야지': 2601, '필요해': 2602, '땅콩': 2603, '캔': 2604, '금요일': 2605, '아뇨': 2606, '하더라고요': 2607, '시급': 2608, '피부': 2609, '거절': 2610, '마심': 2611, '관': 2612, '언제나': 2613, '팀': 2614, '팅': 2615, '나오잖아': 2616, '대게': 2617, '최대': 2618, '유부초밥': 2619, '입은': 2620, '온라인': 2621, '정촌': 2622, '멀어서': 2623, '바빠서': 2624, '악몽': 2625, '호불호': 2626, '폭력': 2627, '많아요': 2628, '넷플': 2629, '하다니': 2630, '껍질': 2631, '거제': 2632, '전국': 2633, '갔었어': 2634, '손질': 2635, '좋네요': 2636, '조용히': 2637, '서서': 2638, '땡겨서': 2639, '이랑은': 2640, '보리차': 2641, '낙': 2642, '만나': 2643, '쓰게': 2644, '산거': 2645, '콩': 2646, '내도': 2647, '민간인': 2648, '그러나': 2649, '충성': 2650, '남는': 2651, '쫄면': 2652, '그렇더라': 2653, '하셨어요': 2654, '먹자고': 2655, '하지마': 2656, '쌈장': 2657, '한다면': 2658, '사라': 2659, '시내': 2660, '좋게': 2661, '늦은': 2662, '요구르트': 2663, '파전': 2664, '하도': 2665, '그러': 2666, '이모티콘': 2667, '킹': 2668, '모르고': 2669, '타임': 2670, '밀면': 2671, '다신': 2672, '투썸': 2673, '있다가': 2674, '마요네즈': 2675, '앱': 2676, '마셨어': 2677, '전골': 2678, '소름': 2679, '좋아하더라': 2680, '마셨는데': 2681, '타는': 2682, '불러': 2683, '싶을': 2684, '꽁치': 2685, '꾸': 2686, '처': 2687, '많이는': 2688, '힘들었던': 2689, '쏴': 2690, '연금': 2691, '맞은': 2692, '홍': 2693, '있었으면': 2694, '원두': 2695, '충분히': 2696, '파병': 2697, '실화': 2698, '멋진': 2699, '맛있었음': 2700, '맛있대': 2701, '마신다': 2702, '닭도리탕': 2703, '아니지만': 2704, '있거든': 2705, '싸서': 2706, '인스타': 2707, '쉬운': 2708, '억이': 2709, '용돈': 2710, '암': 2711, '규': 2712, '판': 2713, '집중': 2714, '따라서': 2715, '이었나': 2716, '이럴': 2717, '진행': 2718, '깨': 2719, '채소': 2720, '배송': 2721, '리터': 2722, '기다리는': 2723, '책': 2724, '배불러서': 2725, '그렇지만': 2726, '사야': 2727, '삼계탕': 2728, '널': 2729, '당시': 2730, '태국': 2731, '학생': 2732, '알았네': 2733, '한다던데': 2734, '뜨거운': 2735, '시댁': 2736, '졸업': 2737, '에어팟': 2738, '있는게': 2739, '깔깔이': 2740, '매형': 2741, '졸': 2742, '어렵지': 2743, '괜찮고': 2744, '넣어도': 2745, '코': 2746, '고참': 2747, '맛없는': 2748, '그러더라': 2749, '극단': 2750, '팔고': 2751, '원금': 2752, '기술': 2753, '않나요': 2754, '대통령': 2755, '원하는': 2756, '없으니': 2757, '겉': 2758, '총기': 2759, '칭찬': 2760, '기능': 2761, '나온대': 2762, '일요일': 2763, '버블티': 2764, '탄산음료': 2765, '탄': 2766, '맛있네': 2767, '아니네': 2768, '다른건': 2769, '고통': 2770, '하노': 2771, '다녀와': 2772, '에어': 2773, '마셔도': 2774, '고기랑': 2775, '고해': 2776, '스콘': 2777, '다음주': 2778, '빕스': 2779, '받았는데': 2780, '능력': 2781, '믄': 2782, '맛없어': 2783, '들이': 2784, '과장': 2785, '아녀': 2786, '칩': 2787, '인사': 2788, '위치': 2789, '영어': 2790, '멋있긴': 2791, '놀랐어': 2792, '보긴': 2793, '궁금': 2794, '무서운': 2795, '질려': 2796, '양상추': 2797, '기다리고': 2798, '신기': 2799, '먹구': 2800, '아닐': 2801, '기프티콘': 2802, '그렇다면': 2803, '쏘': 2804, '네이버': 2805, '나은': 2806, '머신': 2807, '싶기도': 2808, '손님': 2809, '쥬스': 2810, '주는데': 2811, '매워': 2812, '건강하게': 2813, '나가고': 2814, '억지로': 2815, '아니라고': 2816, '글치': 2817, '제설': 2818, '신분': 2819, '지나면': 2820, '조종사': 2821, '보이던데': 2822, '있다던데': 2823, '갈거야': 2824, '가래떡': 2825, '나오니까': 2826, '해줘야지': 2827, '버': 2828, '없는거': 2829, '샀지': 2830, '데이': 2831, '싶은거': 2832, '좋지만': 2833, '어케': 2834, '친한': 2835, '써야': 2836, '에프': 2837, '갔었는데': 2838, '료': 2839, '든든하게': 2840, '봉봉': 2841, '멀미': 2842, '채식': 2843, '상사': 2844, '대가': 2845, '면세': 2846, '여기는': 2847, '비싼데': 2848, '가는게': 2849, '싶다고': 2850, '다르게': 2851, '보게': 2852, '해동': 2853, '세계': 2854, '받는다고': 2855, '쉐이크': 2856, '불침번': 2857, '하죠': 2858, '남은거': 2859, '비비고': 2860, '했었나': 2861, '식이': 2862, '하려나': 2863, '발생': 2864, '삼각김밥': 2865, '콩나물국': 2866, '경쟁률': 2867, '갔나': 2868, '출시': 2869, '반죽': 2870, '아쉽': 2871, '나왔다고': 2872, '친정': 2873, '맞음': 2874, '고양이': 2875, '성추행': 2876, '착한': 2877, '동그랑땡': 2878, '이군': 2879, '간단한': 2880, '호두': 2881, '단축': 2882, '가는거': 2883, '그럴수도': 2884, '이틀': 2885, '부러워': 2886, '돼지갈비': 2887, '마냥': 2888, '줄까': 2889, '깜짝': 2890, '외': 2891, '심한': 2892, '잔뜩': 2893, '주식': 2894, '썼어': 2895, '들어가고': 2896, '온다고': 2897, '배추': 2898, '사줘': 2899, '없더라고': 2900, '이사': 2901, '땀': 2902, '사이즈': 2903, '응원': 2904, '고수': 2905, '안될': 2906, '돌체': 2907, '먹겠어': 2908, '봤음': 2909, '어딘데': 2910, '양념치킨': 2911, '으론': 2912, '좋아한다': 2913, '아': 2914, '섞어': 2915, '화가': 2916, '조절': 2917, '드셨나요': 2918, '쪄': 2919, '먹는건': 2920, '군무원': 2921, '끝나서': 2922, '푸드': 2923, '있겠어': 2924, '리가': 2925, '전자렌지': 2926, '먹던데': 2927, '생각나는': 2928, '카라멜': 2929, '본거': 2930, '시골': 2931, '침대': 2932, '자격증': 2933, '운영': 2934, '피해': 2935, '비해': 2936, '신전': 2937, '삼겹': 2938, '해야겠어': 2939, '톡': 2940, '색': 2941, '씻고': 2942, '의견': 2943, '칼': 2944, '달리기': 2945, '다를': 2946, '잠수함': 2947, '제거': 2948, '수색대': 2949, '차도': 2950, '다해': 2951, '굳': 2952, '빨래': 2953, '괜찮다': 2954, '비싸지': 2955, '마셔요': 2956, '도너츠': 2957, '일반인': 2958, '나가': 2959, '파이': 2960, '마저': 2961, '선배': 2962, '란': 2963, '대전': 2964, '감사': 2965, '직장': 2966, '미안한데': 2967, '있어야지': 2968, '진짜사나이': 2969, '카': 2970, '청국장': 2971, '기한': 2972, '랬': 2973, '거만': 2974, '초대': 2975, '나온다고': 2976, '제품': 2977, '슬퍼': 2978, '신세계': 2979, '하길래': 2980, '짧은': 2981, '나온거': 2982, '많으니까': 2983, '초장': 2984, '먹었다고': 2985, '휴전': 2986, '이디야': 2987, '한창': 2988, '시국': 2989, '조심': 2990, '리얼': 2991, '강아지': 2992, '할지': 2993, '색깔': 2994, '존재': 2995, '오우': 2996, '낫다': 2997, '코카콜라': 2998, '먹었을': 2999, '먹을라': 3000, '갈수록': 3001, '해주면': 3002, '대표': 3003, '외박': 3004, '판다': 3005, '편하고': 3006, '됐으면': 3007, '직원': 3008, '알았다': 3009, '달이': 3010, '로우': 3011, '했지만': 3012, '입영': 3013, '쏘고': 3014, '비슷하게': 3015, '째': 3016, '엄청나게': 3017, '해볼게': 3018, '솜씨': 3019, '같으면': 3020, '이기도': 3021, '삼촌': 3022, '콘': 3023, '신체검사': 3024, '다니고': 3025, '치료': 3026, '알았지': 3027, '야근': 3028, '가보': 3029, '살아서': 3030, '짜증나': 3031, '쏠': 3032, '끈': 3033, '경기도': 3034, '잡고': 3035, '궁금하네요': 3036, '신기한': 3037, '웬': 3038, '지난': 3039, '상담': 3040, '짠': 3041, '어울리는': 3042, '시행': 3043, '거니': 3044, '끔': 3045, '샤워': 3046, '콩국수': 3047, '쪄서': 3048, '훈련병': 3049, '둔': 3050, '짧게': 3051, '적어서': 3052, '있었어요': 3053, '층': 3054, '아니었어': 3055, '특공대': 3056, '코스': 3057, '단맛': 3058, '티라미수': 3059, '신기하더라': 3060, '떡갈비': 3061, '들어가야': 3062, '찌는': 3063, '끓이면': 3064, '심해': 3065, '정상': 3066, '빨간': 3067, '후추': 3068, '모르겠어요': 3069, '왤케': 3070, '아니구나': 3071, '갠': 3072, '사병': 3073, '찾아보니까': 3074, '땡기는': 3075, '그르': 3076, '쭈꾸미': 3077, '작': 3078, '대기': 3079, '해봐야겠다': 3080, '모이': 3081, '대파': 3082, '설명': 3083, '아니라서': 3084, '푸라': 3085, '없던데': 3086, '교회': 3087, '먹겠네': 3088, '시켜야겠다': 3089, '아닌거': 3090, '하사': 3091, '부럽': 3092, '긴한데': 3093, '있는거야': 3094, '즐겨': 3095, '꾸준히': 3096, '만났어': 3097, '깻잎': 3098, '물어': 3099, '롯데': 3100, '버려': 3101, '월남쌈': 3102, '워': 3103, '크기': 3104, '놓은': 3105, '땡큐': 3106, '맥': 3107, '선생님': 3108, '갔어요': 3109, '단어': 3110, '노랑': 3111, '했니': 3112, '앉아서': 3113, '껴': 3114, '여기저기': 3115, '긴장': 3116, '둘째': 3117, '갔던': 3118, '많구나': 3119, '갔잖아': 3120, '어렸을': 3121, '살로': 3122, '예산': 3123, '베이글': 3124, '마스크': 3125, '나더라고': 3126, '오븐': 3127, '특급': 3128, '유투브': 3129, '몇번': 3130, '통과': 3131, '내부': 3132, '타서': 3133, '싫다고': 3134, '에어쇼': 3135, '이미지': 3136, '분식집': 3137, '있냐': 3138, '짤': 3139, '최저': 3140, '연유': 3141, '유명해': 3142, '슈크림': 3143, '용어': 3144, '불쌍해': 3145, '떄': 3146, '댕': 3147, '가짜': 3148, '적게': 3149, '원인': 3150, '끓여서': 3151, '비행': 3152, '팁': 3153, '애플': 3154, '자세히는': 3155, '간이': 3156, '자서': 3157, '공짜': 3158, '존경': 3159, '서도': 3160, '사줄게': 3161, '나가는': 3162, '매운거': 3163, '좋아진': 3164, '가볍게': 3165, '백종원': 3166, '좋아졌어': 3167, '통신': 3168, '갑': 3169, '없어도': 3170, '막사': 3171, '튀': 3172, '거고': 3173, '변비': 3174, '업': 3175, '미친': 3176, '강한': 3177, '가져다': 3178, '허용': 3179, '사이드': 3180, '받음': 3181, '추운': 3182, '가득': 3183, '남았어': 3184, '맞아서': 3185, '미노': 3186, '이상해': 3187, '힘들대': 3188, '머스켓': 3189, '존중': 3190, '싫더라': 3191, '좋을까': 3192, '차가': 3193, '마시려고': 3194, '인권': 3195, '시키자': 3196, '나가야': 3197, '무서워서': 3198, '병과': 3199, '면접': 3200, '나오던데': 3201, '판정': 3202, '궁합': 3203, '경계': 3204, '좋았지': 3205, '생각나서': 3206, '슬': 3207, '치면': 3208, '해보니까': 3209, '있으니깐': 3210, '특별히': 3211, '먹었으면': 3212, '실망': 3213, '까요': 3214, '고충': 3215, '좋았겠다': 3216, '인천': 3217, '먹었거든': 3218, '계절': 3219, '구만': 3220, '메론': 3221, '먼': 3222, '해볼까': 3223, '안된다': 3224, '과제': 3225, '중요하지': 3226, '후후': 3227, '좋아졌네': 3228, '품': 3229, '대장': 3230, '좋아하니': 3231, '티백': 3232, '상하이': 3233, '들어있는': 3234, '왠': 3235, '빠질': 3236, '종전': 3237, '알기': 3238, '양주': 3239, '였던': 3240, '정성': 3241, '파인애플': 3242, '있었거든': 3243, '대위': 3244, '아닝': 3245, '다른거': 3246, '괜찮던데': 3247, '좋으면': 3248, '대상': 3249, '도둑': 3250, '노래방': 3251, '냥': 3252, '위문': 3253, '옹옹': 3254, '있었구나': 3255, '통제': 3256, '미래': 3257, '맞게': 3258, '론': 3259, '공장': 3260, '숨': 3261, '훨': 3262, '배고프네': 3263, '시중': 3264, '좋아하네': 3265, '스시': 3266, '쟁': 3267, '가': 3268, '트': 3269, '많으면': 3270, '목표': 3271, '그렇구만': 3272, '해놓고': 3273, '모를': 3274, '좋아하니까': 3275, '징병제': 3276, '거부': 3277, '어떨': 3278, '죽어': 3279, '반응': 3280, '가잖아': 3281, '요플레': 3282, '행동': 3283, '비싸다': 3284, '짜증': 3285, '시키지': 3286, '세월': 3287, '토': 3288, '정돈': 3289, '힘들고': 3290, '한개': 3291, '다행히': 3292, '소총': 3293, '적성': 3294, '느끼한': 3295, '준다': 3296, '비빔': 3297, '인걸': 3298, '군장': 3299, '패티': 3300, '분명': 3301, '좋잖아': 3302, '없겠네': 3303, '공간': 3304, '보이는데': 3305, '산책': 3306, '이전': 3307, '점심때': 3308, '방향': 3309, '인성': 3310, '더워서': 3311, '헤헤': 3312, '갔구나': 3313, '만은': 3314, '슈프림': 3315, '먹어야겠네': 3316, '하신': 3317, '먹고싶어서': 3318, '썰어서': 3319, '단골': 3320, '살살': 3321, '결제': 3322, '위생': 3323, '태민': 3324, '음식점': 3325, '일어나면': 3326, '괜춘': 3327, '든지': 3328, '영향': 3329, '마시지': 3330, '생길': 3331, '무섭다': 3332, '매운탕': 3333, '소시지': 3334, '완화': 3335, '아니구': 3336, '사탕': 3337, '단거': 3338, '여태': 3339, '무료': 3340, '병역': 3341, '꽉': 3342, '봤을': 3343, '봐야겠어': 3344, '많나': 3345, '항': 3346, '명도': 3347, '합격': 3348, '전문': 3349, '화이트': 3350, '마을': 3351, '국방력': 3352, '땡기더라': 3353, '먹으려면': 3354, '해보자': 3355, '스타': 3356, '환자': 3357, '나왔잖아': 3358, '뿌려': 3359, '궁금한': 3360, '감자칩': 3361, '같았어': 3362, '안심': 3363, '길어': 3364, '관계': 3365, '터': 3366, '늦잠': 3367, '써도': 3368, '보라': 3369, '쓰니까': 3370, '비빔국수': 3371, '많음': 3372, '힘들더라': 3373, '식성': 3374, '맛있으니까': 3375, '심해서': 3376, '먹겠다': 3377, '교관': 3378, '장기': 3379, '대창': 3380, '시켜줘': 3381, '보낸': 3382, '조직': 3383, '형도': 3384, '시원하게': 3385, '주시': 3386, '마시는데': 3387, '힘들잖아': 3388, '혀': 3389, '아니래': 3390, '다른데': 3391, '덜덜': 3392, '찾기': 3393, '반숙': 3394, '사천': 3395, '하기로': 3396, '배운': 3397, '걸려서': 3398, '달걀': 3399, '생겼어': 3400, '줬으면': 3401, '편하긴': 3402, '하드': 3403, '연등': 3404, '스킨': 3405, '호떡': 3406, '싶긴': 3407, '설렁탕': 3408, '짬타이거': 3409, '노노': 3410, '애초': 3411, '갖다': 3412, '뜨끈한': 3413, '나갔어': 3414, '행복한': 3415, '좋아했어': 3416, '사왔어': 3417, '싶다는': 3418, '홍보': 3419, '푸': 3420, '남한': 3421, '가능하지': 3422, '걸리면': 3423, '였어요': 3424, '후배': 3425, '냉동식품': 3426, '고맙다': 3427, '참아': 3428, '갔다고': 3429, '먹노': 3430, '아까워': 3431, '먹으니깐': 3432, '수류탄': 3433, '산다': 3434, '조치': 3435, '보인다': 3436, '당일': 3437, '케잌': 3438, '힘들었을': 3439, '안타깝다': 3440, '어때요': 3441, '다녀왔지': 3442, '빼빼로': 3443, '체조': 3444, '맞습니다': 3445, '먹거든': 3446, '싶진': 3447, '배부르다': 3448, '맞는데': 3449, '하구': 3450, '들깨': 3451, '겠네': 3452, '칠': 3453, '박군': 3454, '그러다가': 3455, '없니': 3456, '같은데요': 3457, '지급': 3458, '부침개': 3459, '유통': 3460, '안되는데': 3461, '이슈': 3462, '왔음': 3463, '길이': 3464, '방독면': 3465, '아가': 3466, '매점': 3467, '구리': 3468, '해야되': 3469, '선호': 3470, '삶': 3471, '이어서': 3472, '먹은거': 3473, '물집': 3474, '많았는데': 3475, '급여': 3476, '됐다고': 3477, '외국인': 3478, '없었나': 3479, '배고플': 3480, '싸지': 3481, '포함': 3482, '않았을까': 3483, '같은건': 3484, '할듯': 3485, '볶아': 3486, '두유': 3487, '닭고기': 3488, '될지': 3489, '홈': 3490, '지롱': 3491, '별거': 3492, '들었다': 3493, '점호': 3494, '할수': 3495, '괴롭히는': 3496, '번호': 3497, '올려': 3498, '컴퓨터': 3499, '육지': 3500, '반입': 3501, '버리는': 3502, '사회생활': 3503, '커리': 3504, '헌병': 3505, '꺼내서': 3506, '랫': 3507, '조아': 3508, '되었어': 3509, '피클': 3510, '먼가': 3511, '멋있': 3512, '모닝': 3513, '가까운': 3514, '한동안': 3515, '좋다던데': 3516, '놀고': 3517, '사망': 3518, '자기야': 3519, '연기': 3520, '읍': 3521, '이서': 3522, '했죠': 3523, '모카': 3524, '먹었었는데': 3525, '먹었당': 3526, '나오네': 3527, '버림': 3528, '품절': 3529, '갈아': 3530, '신의': 3531, '내무반': 3532, '야야': 3533, '모르게': 3534, '보내는': 3535, '지내': 3536, '넣어야': 3537, '모르는데': 3538, '알고있어': 3539, '참여': 3540, '팔지': 3541, '일상': 3542, '파는거': 3543, '블로그': 3544, '지가': 3545, '만둣국': 3546, '나왔을': 3547, '미쳤다': 3548, '룸메': 3549, '한다더라': 3550, '건더기': 3551, '바닷가': 3552, '죽어도': 3553, '큰집': 3554, '변화': 3555, '계란찜': 3556, '돌아': 3557, '식비': 3558, '맞죠': 3559, '추운데': 3560, '그람': 3561, '드는': 3562, '포항': 3563, '가더라': 3564, '부상': 3565, '만의': 3566, '치는': 3567, '되겠어': 3568, '레전드': 3569, '않게': 3570, '양심': 3571, '인절미': 3572, '리아': 3573, '설치': 3574, '왔네': 3575, '사온': 3576, '구조': 3577, '가산': 3578, '잘해야': 3579, '안경': 3580, '였잖아': 3581, '힘들겠지': 3582, '뒷': 3583, '그랬잖아': 3584, '한텐': 3585, '좋겠는데': 3586, '닷': 3587, '허르': 3588, '그저': 3589, '가네': 3590, '좋았던': 3591, '해경': 3592, '받는데': 3593, '그닥': 3594, '구분': 3595, '빠른': 3596, '경력': 3597, '아내': 3598, '즐거운': 3599, '어쩐지': 3600, '있었음': 3601, '금': 3602, '가스': 3603, '먹는거야': 3604, '피는': 3605, '드심': 3606, '꼬': 3607, '좀더': 3608, '특수': 3609, '하고는': 3610, '안좋아': 3611, '봤니': 3612, '똑같지': 3613, '수제': 3614, '해외': 3615, '알어': 3616, '모르니까': 3617, '작아서': 3618, '적당한': 3619, '들으니까': 3620, '아인': 3621, '않잖아': 3622, '많긴': 3623, '모임': 3624, '않겠나': 3625, '가진': 3626, '욬': 3627, '이삭': 3628, '동료': 3629, '해봤지': 3630, '명감': 3631, '중요해': 3632, '와이프': 3633, '건물': 3634, '질리': 3635, '교': 3636, '곱': 3637, '목살': 3638, '없겠다': 3639, '윽': 3640, '잡아서': 3641, '진자': 3642, '마시기': 3643, '예비역': 3644, '차는': 3645, '생겼더라': 3646, '옥': 3647, '씀': 3648, '껀데': 3649, '감정': 3650, '사려': 3651, '오더라': 3652, '이었다': 3653, '시금치': 3654, '이왕': 3655, '보내면': 3656, '해줌': 3657, '모아': 3658, '별루': 3659, '해야하나': 3660, '빽': 3661, '다쳐서': 3662, '끔찍하다': 3663, '크고': 3664, '대학생': 3665, '딴': 3666, '나왔': 3667, '피시방': 3668, '사이버': 3669, '같은게': 3670, '만들면': 3671, '까지만': 3672, '배워': 3673, '창고': 3674, '신상': 3675, '왕따': 3676, '맞았어': 3677, '그러잖아': 3678, '맨': 3679, '통해': 3680, '닭다리': 3681, '되겠지': 3682, '학과': 3683, '아는구나': 3684, '놀이': 3685, '공원': 3686, '시켜야': 3687, '꼰대': 3688, '재밌을': 3689, '체계': 3690, '헬기': 3691, '좋아하겠다': 3692, '공격': 3693, '매니아': 3694, '알려줄게': 3695, '전차': 3696, '어깨': 3697, '케이스': 3698, '있을까요': 3699, '바지락': 3700, '먹방': 3701, '부럽네': 3702, '지내고': 3703, '마켓': 3704, '회도': 3705, '묵자': 3706, '초소': 3707, '생강': 3708, '씹는': 3709, '펄': 3710, '성인': 3711, '같아도': 3712, '판매': 3713, '멤버': 3714, '나를': 3715, '않니': 3716, '때려': 3717, '물가': 3718, '슬프다': 3719, '재밌었어': 3720, '맛있더라구요': 3721, '엄청난': 3722, '빠져': 3723, '사왔는데': 3724, '광안': 3725, '골': 3726, '볶아서': 3727, '들어와': 3728, '야함': 3729, '할매': 3730, '더욱': 3731, '신체': 3732, '그치만': 3733, '사지': 3734, '따고': 3735, '순두부찌개': 3736, '사도': 3737, '여유': 3738, '블': 3739, '특이한': 3740, '닝': 3741, '파리바게트': 3742, '요금': 3743, '삭': 3744, '누텔라': 3745, '어딨어': 3746, '없지만': 3747, '가고싶다': 3748, '오랜만': 3749, '온다': 3750, '좋아하면': 3751, '찾아보고': 3752, '그렇군': 3753, '먹을건데': 3754, '끼니': 3755, '허': 3756, '몽쉘': 3757, '밍밍': 3758, '방위': 3759, '시위': 3760, '않으면': 3761, '마른': 3762, '먹을수': 3763, '접종': 3764, '정확히': 3765, '맛있었겠네': 3766, '길지': 3767, '럼': 3768, '있자나': 3769, '신발': 3770, '비싸고': 3771, '전복': 3772, '마음대로': 3773, '스펙': 3774, '정답': 3775, '에바': 3776, '캬': 3777, '어쩌': 3778, '특': 3779, '있으려나': 3780, '전체': 3781, '어떻': 3782, '알려줘서': 3783, '노후': 3784, '하기가': 3785, '마셔야지': 3786, '내려': 3787, '먹는거지': 3788, '거꾸로': 3789, '최고다': 3790, '육사': 3791, '주신': 3792, '생명': 3793, '걸릴': 3794, '빌려': 3795, '잡아': 3796, '바스': 3797, '자유롭게': 3798, '해주지': 3799, '외계인': 3800, '죽는': 3801, '같았는데': 3802, '온대': 3803, '사와서': 3804, '용량': 3805, '타르트': 3806, '그랬음': 3807, '전자레인지': 3808, '우려': 3809, '재밌겠다': 3810, '아니겠지': 3811, '가봐야겠다': 3812, '까지도': 3813, '극혐': 3814, '보구': 3815, '어떤지': 3816, '그렇대': 3817, '다르고': 3818, '접시': 3819, '그래야겠다': 3820, '잇어': 3821, '기를': 3822, '빠지는': 3823, '될듯': 3824, '와야': 3825, '배우는': 3826, '그런것': 3827, '주방': 3828, '일만': 3829, '지나서': 3830, '알람': 3831, '면도': 3832, '모름': 3833, '아보카도': 3834, '있네요': 3835, '폭': 3836, '발사': 3837, '대답': 3838, '찾아봐야겠다': 3839, '지점': 3840, '배고픈데': 3841, '실수': 3842, '연예': 3843, '맛있었지': 3844, '가겠다': 3845, '가리는': 3846, '심하게': 3847, '들어와서': 3848, '인상': 3849, '으로만': 3850, '가고싶어': 3851, '참지': 3852, '재밌지': 3853, '겉절이': 3854, '하얀': 3855, '트럭': 3856, '얼려': 3857, '되던데': 3858, '공연': 3859, '괜찮다고': 3860, '잊을': 3861, '보신': 3862, '했는지': 3863, '정식': 3864, '가는구나': 3865, '비밀': 3866, '상하': 3867, '우울증': 3868, '다녀옴': 3869, '설': 3870, '기념': 3871, '휴무': 3872, '기억나는': 3873, '장님': 3874, '자식': 3875, '요기': 3876, '첵스': 3877, '있었네': 3878, '마인드': 3879, '이득': 3880, '했으니': 3881, '됐나': 3882, '버리면': 3883, '먹었구나': 3884, '편하겠다': 3885, '불쌍하다': 3886, '범죄': 3887, '뿌려서': 3888, '너구리': 3889, '실패': 3890, '치즈케이크': 3891, '주세요': 3892, '되는구나': 3893, '마왕': 3894, '탈출': 3895, '학사장교': 3896, '할려고': 3897, '술집': 3898, '먹을려': 3899, '했겠지': 3900, '힘들거': 3901, '살찌는': 3902, '귀여워': 3903, '듬뿍': 3904, '해봐야': 3905, '어쩌다': 3906, '말씀': 3907, '먹더라고': 3908, '비싸더라': 3909, '춘천': 3910, '하진': 3911, '시키': 3912, '팔던데': 3913, '해물찜': 3914, '요리사': 3915, '무리': 3916, '폭발': 3917, '볶고': 3918, '빠져서': 3919, '취급': 3920, '가려면': 3921, '타면': 3922, '나나': 3923, '훠궈': 3924, '스캣': 3925, '넘어서': 3926, '대접': 3927, '손맛': 3928, '한편': 3929, '슬리퍼': 3930, '특유': 3931, '하아': 3932, '물회': 3933, '쥐포': 3934, '숙주': 3935, '너무해': 3936, '웹툰': 3937, '차원': 3938, '없긴': 3939, '기적': 3940, '물품': 3941, '생겨': 3942, '쥬': 3943, '겠어': 3944, '않는데': 3945, '모르네': 3946, '어떰': 3947, '했겠다': 3948, '윗': 3949, '졸려': 3950, '제외': 3951, '체인': 3952, '청': 3953, '있을거야': 3954, '담당': 3955, '싶지는': 3956, '쳐서': 3957, '우애': 3958, '울면': 3959, '판단': 3960, '기숙사': 3961, '산이': 3962, '냉': 3963, '드실': 3964, '와퍼': 3965, '면허': 3966, '경주': 3967, '양념장': 3968, '발전': 3969, '유명하지': 3970, '하더니': 3971, '천국': 3972, '찾는': 3973, '수통': 3974, '마무리': 3975, '개는': 3976, '많네요': 3977, '비타민': 3978, '형제': 3979, '미역': 3980, '피곤해서': 3981, '나오는거': 3982, '하지는': 3983, '옮겨': 3984, '자가': 3985, '위험한': 3986, '소속': 3987, '느낄': 3988, '크면': 3989, '차량': 3990, '뭐더': 3991, '울산': 3992, '닭볶음탕': 3993, '해주시': 3994, '오설록': 3995, '감기': 3996, '황소': 3997, '그랬다': 3998, '있을걸': 3999, '토익': 4000, '사야겠다': 4001, '비슷해': 4002, '있구': 4003, '자율': 4004, '비싸긴': 4005, '왔나': 4006, '피곤해': 4007, '배고프겠다': 4008, '버렸어': 4009, '나머지': 4010, '힘들까': 4011, '앞다리': 4012, '않더라고': 4013, '탑': 4014, '싶고': 4015, '파바': 4016, '아니아니': 4017, '살기': 4018, '다양해서': 4019, '완전히': 4020, '나오더라고': 4021, '짧아서': 4022, '때매': 4023, '리더': 4024, '였다': 4025, '평균': 4026, '지휘': 4027, '박일': 4028, '따뜻하게': 4029, '먹었습니다': 4030, '파일럿': 4031, '편식': 4032, '출장': 4033, '가는거야': 4034, '신맛': 4035, '소위': 4036, '부드럽고': 4037, '먹을듯': 4038, '코인': 4039, '버텨': 4040, '했고': 4041, '왔': 4042, '일지': 4043, '조건': 4044, '된장국': 4045, '학년': 4046, '감염': 4047, '들면': 4048, '플레인': 4049, '되니깐': 4050, '했다던데': 4051, '봉사': 4052, '악기': 4053, '가볼까': 4054, '있더라고요': 4055, '전투화': 4056, '생수': 4057, '쓴다고': 4058, '생각나더라': 4059, '그러는데': 4060, '일어나는': 4061, '나간': 4062, '왔으면': 4063, '좋겠네요': 4064, '십': 4065, '재밌더라': 4066, '만나자': 4067, '나왔더라': 4068, '땡초': 4069, '조심해야': 4070, '지고': 4071, '만큼은': 4072, '써줘': 4073, '허허': 4074, '코코넛': 4075, '에그': 4076, '길어서': 4077, '러더': 4078, '평화': 4079, '보셨나요': 4080, '물어본': 4081, '두면': 4082, '문자': 4083, '나오긴': 4084, '박카스': 4085, '단무지': 4086, '원사': 4087, '찾아봐': 4088, '차지': 4089, '대원': 4090, '백화점': 4091, '풀어': 4092, '자면': 4093, '귀찮은데': 4094, '아버님': 4095, '바질': 4096, '살쪄서': 4097, '순두부': 4098, '당한': 4099, '뉘': 4100, '집안': 4101, '의사': 4102, '공중전화': 4103, '올라서': 4104, '잠도': 4105, '대단': 4106, '및': 4107, '공유': 4108, '해줬어': 4109, '갈수': 4110, '불가능': 4111, '기름진': 4112, '개도': 4113, '부자': 4114, '똑같아': 4115, '어딘': 4116, '케찹': 4117, '엠티': 4118, '타입': 4119, '편해서': 4120, '맛있다던데': 4121, '퍼': 4122, '잘라서': 4123, '되기': 4124, '질문': 4125, '골드': 4126, '쇼핑': 4127, '냉장': 4128, '에다': 4129, '사갈게': 4130, '보호': 4131, '견과류': 4132, '어떤데': 4133, '인증': 4134, '몰아서': 4135, '선수': 4136, '보일러': 4137, '였으면': 4138, '사무실': 4139, '잇음': 4140, '멋지다': 4141, '장군': 4142, '느꼈어': 4143, '벌레': 4144, '스탈': 4145, '라나': 4146, '하실': 4147, '감사해요': 4148, '샀다': 4149, '뱃살': 4150, '했습니다': 4151, '불편해': 4152, '걸그룹': 4153, '쩐다': 4154, '싫': 4155, '덩': 4156, '근육': 4157, '훈제': 4158, '유도': 4159, '할께': 4160, '당분간': 4161, '떨어져서': 4162, '피해자': 4163, '투움바': 4164, '보다가': 4165, '프라이어': 4166, '썼는데': 4167, '땡기는데': 4168, '사기': 4169, '라니까': 4170, '좋을거': 4171, '다녀오면': 4172, '준대': 4173, '이동': 4174, '실컷': 4175, '올리브': 4176, '아오': 4177, '좋구만': 4178, '방탄': 4179, '지냈어': 4180, '자존심': 4181, '명예': 4182, '산청': 4183, '했던거': 4184, '다녀오는': 4185, '성공': 4186, '곰탕': 4187, '나와야': 4188, '말로': 4189, '좋아졌다': 4190, '찾으러': 4191, '향신료': 4192, '있었고': 4193, '찔': 4194, '일어났어': 4195, '큰거': 4196, '크으': 4197, '배부르게': 4198, '상품': 4199, '드셔': 4200, '부어': 4201, '피하': 4202, '조식': 4203, '기억난다': 4204, '땅땅': 4205, '열정': 4206, '섭취': 4207, '쫀득': 4208, '다방': 4209, '그동안': 4210, '하구나': 4211, '중대': 4212, '맛있겠': 4213, '보고서': 4214, '클': 4215, '올린': 4216, '정말로': 4217, '아니었나': 4218, '개꿀': 4219, '헬스': 4220, '중국음식': 4221, '여전히': 4222, '힘들면': 4223, '시켜도': 4224, '지키고': 4225, '삶은': 4226, '스마트폰': 4227, '침해': 4228, '상대': 4229, '점수': 4230, '다르긴': 4231, '만들었어': 4232, '사골': 4233, '프라': 4234, '동물': 4235, '꿀팁': 4236, '들어갔어': 4237, '상관없이': 4238, '자세히': 4239, '뿌리': 4240, '이': 4241, '크로와상': 4242, '몰라요': 4243, '배우고': 4244, '먹을꺼야': 4245, '마시자': 4246, '통조림': 4247, '느끼는': 4248, '장소': 4249, '예스': 4250, '잖아요': 4251, '우도': 4252, '고마운': 4253, '맞춰': 4254, '빠진': 4255, '챙겨서': 4256, '어이': 4257, '에여': 4258, '색시': 4259, '느끼해서': 4260, '체육대회': 4261, '샀나': 4262, '가자고': 4263, '게다가': 4264, '소갈비': 4265, '물어보고': 4266, '아쉽네요': 4267, '가입': 4268, '알볼': 4269, '당연한': 4270, '곤약': 4271, '공주': 4272, '얼그레이': 4273, '지식': 4274, '하냐고': 4275, '다르더라': 4276, '애도': 4277, '와야지': 4278, '들어가지': 4279, '희생': 4280, '말고도': 4281, '그렇겠네': 4282, '차로': 4283, '끔찍해': 4284, '화이팅': 4285, '싸움': 4286, '치가': 4287, '끓이는': 4288, '아니더라': 4289, '왜냐면': 4290, '시계': 4291, '가보네': 4292, '상근': 4293, '떨어지면': 4294, '끊어야': 4295, '춥고': 4296, '혼밥': 4297, '야외': 4298, '가봐요': 4299, '직장인': 4300, '왔어요': 4301, '낮게': 4302, '높아': 4303, '그런거야': 4304, '받나': 4305, '궁금한데': 4306, '새우깡': 4307, '껍데기': 4308, '넣을': 4309, '라며': 4310, '그림': 4311, '군침': 4312, '계산': 4313, '젓갈': 4314, '고로케': 4315, '려': 4316, '의식': 4317, '받으러': 4318, '없었지': 4319, '폐쇄적': 4320, '고사리': 4321, '나던데': 4322, '잊지': 4323, '없겠지': 4324, '맛있었어요': 4325, '아깝다': 4326, '남긴': 4327, '직전': 4328, '유디티': 4329, '될거야': 4330, '언니네': 4331, '사는데': 4332, '요청': 4333, '감자전': 4334, '하나요': 4335, '재밌었던': 4336, '먹거나': 4337, '링크': 4338, '사주': 4339, '봤거든': 4340, '그러냐': 4341, '투어': 4342, '커피숍': 4343, '얇게': 4344, '가더라고': 4345, '감옥': 4346, '해공': 4347, '데리러': 4348, '걸리는': 4349, '저녁식사': 4350, '씨유': 4351, '슈넬': 4352, '기강': 4353, '친오빠': 4354, '다르네': 4355, '더니': 4356, '너넨': 4357, '이든': 4358, '가능성': 4359, '남성': 4360, '디카': 4361, '손해': 4362, '숫자': 4363, '버틸': 4364, '있었잖아': 4365, '광어': 4366, '미니': 4367, '넣었어': 4368, '아니니': 4369, '동원': 4370, '걸어서': 4371, '대회': 4372, '들었어요': 4373, '했다는': 4374, '빤': 4375, '쭉': 4376, '무화과': 4377, '욕심': 4378, '부차': 4379, '저렴하게': 4380, '무게': 4381, '난다고': 4382, '유튜버': 4383, '우리동네': 4384, '거르': 4385, '어딜': 4386, '포카리': 4387, '있었을': 4388, '대리': 4389, '만족': 4390, '쉬워': 4391, '전화해서': 4392, '가방': 4393, '해봄': 4394, '없구나': 4395, '골뱅이': 4396, '그랬으면': 4397, '싸더라': 4398, '식후': 4399, '캡슐': 4400, '추워': 4401, '셨': 4402, '위험': 4403, '양은': 4404, '배고픈': 4405, '양고기': 4406, '제공': 4407, '제법': 4408, '한다는데': 4409, '가니': 4410, '불가': 4411, '봅니다': 4412, '끌려': 4413, '전투식량': 4414, '든든히': 4415, '되는게': 4416, '카나': 4417, '기밀': 4418, '바꿔': 4419, '드시고': 4420, '사자': 4421, '내면': 4422, '힘들겠지만': 4423, '전도': 4424, '유자': 4425, '전우': 4426, '파김치': 4427, '리스': 4428, '모르겠네요': 4429, '스럽게': 4430, '발병': 4431, '과정': 4432, '몰라도': 4433, '정부': 4434, '참깨': 4435, '탄약': 4436, '둘이서': 4437, '데이트': 4438, '이었어요': 4439, '표현': 4440, '투입': 4441, '드립': 4442, '친하게': 4443, '우는': 4444, '이만': 4445, '울었어': 4446, '결혼식': 4447, '대패': 4448, '줄어서': 4449, '이었음': 4450, '양치': 4451, '왔었어': 4452, '해양': 4453, '유서': 4454, '리지': 4455, '삽질': 4456, '않더라': 4457, '한정': 4458, '찬': 4459, '않겠지': 4460, '먹은거야': 4461, '셈': 4462, '등산': 4463, '베이': 4464, '잤어': 4465, '장애': 4466, '몸무게': 4467, '실험': 4468, '부모': 4469, '떨어진': 4470, '지나': 4471, '배울': 4472, '주인': 4473, '배고프면': 4474, '있길래': 4475, '카메라': 4476, '사이트': 4477, '봤잖아': 4478, '시키게': 4479, '불금': 4480, '내서': 4481, '참가': 4482, '마신': 4483, '결과': 4484, '되요': 4485, '물어보는': 4486, '남녀': 4487, '일정': 4488, '등급': 4489, '자긴': 4490, '오던데': 4491, '잡으러': 4492, '사먹는': 4493, '월요일': 4494, '시키려고': 4495, '느껴': 4496, '먹고싶': 4497, '바사삭': 4498, '고픈데': 4499, '카스테라': 4500, '똑같네': 4501, '버블': 4502, '그랬대': 4503, '극': 4504, '이발': 4505, '볶': 4506, '비슷한데': 4507, '까르보나라': 4508, '선크림': 4509, '않어': 4510, '주기': 4511, '수료': 4512, '있었': 4513, '배도': 4514, '외부': 4515, '영양사': 4516, '신기했어': 4517, '해보는': 4518, '하며': 4519, '하셨나요': 4520, '버릇': 4521, '급하게': 4522, '미터': 4523, '가겠지': 4524, '무섭': 4525, '정해진': 4526, '목숨': 4527, '용이': 4528, '임관': 4529, '갈증': 4530, '물놀이': 4531, '빠지면': 4532, '공항': 4533, '나도야': 4534, '괴롭히고': 4535, '보병': 4536, '만난': 4537, '좋으니까': 4538, '비슷하지': 4539, '기절': 4540, '친척': 4541, '메밀': 4542, '니야': 4543, '멋': 4544, '했나요': 4545, '먹여야지': 4546, '구울': 4547, '남으면': 4548, '위계': 4549, '질서': 4550, '이었잖아': 4551, '했냐': 4552, '사촌동생': 4553, '센': 4554, '헌병대': 4555, '말투': 4556, '있겠네요': 4557, '맘대로': 4558, '핫팩': 4559, '누님': 4560, '알러지': 4561, '많았지': 4562, '너무하다': 4563, '필자': 4564, '한계': 4565, '돌격': 4566, '전사': 4567, '따돌림': 4568, '이러다가': 4569, '되려나': 4570, '이쁜': 4571, '선발': 4572, '튀긴': 4573, '가정': 4574, '가져': 4575, '비비': 4576, '먹지는': 4577, '샤베트': 4578, '신형': 4579, '본가': 4580, '했으니까': 4581, '같은디': 4582, '맛있더나': 4583, '아래': 4584, '굿굿': 4585, '차돌': 4586, '뜯어': 4587, '샘': 4588, '보람': 4589, '폐지': 4590, '윤': 4591, '얀': 4592, '방문': 4593, '받더라': 4594, '팍팍': 4595, '정수기': 4596, '좋아야': 4597, '쇼': 4598, '꾼': 4599, '그럼요': 4600, '몰아': 4601, '끊어': 4602, '하기는': 4603, '마시나': 4604, '해줄까': 4605, '홍콩': 4606, '습': 4607, '보충': 4608, '귀찮다': 4609, '했더라': 4610, '꽃게': 4611, '봤냐': 4612, '최소': 4613, '글쎄요': 4614, '위장': 4615, '잠시': 4616, '산미': 4617, '해봐야지': 4618, '깍두기': 4619, '없어져서': 4620, '날라': 4621, '올까': 4622, '자연': 4623, '줬지': 4624, '강릉': 4625, '뺄': 4626, '느껴져': 4627, '별사탕': 4628, '인연': 4629, '나왔나': 4630, '홀': 4631, '휘': 4632, '자원': 4633, '멋지더라': 4634, '왕창': 4635, '칙촉': 4636, '서야': 4637, '소대장': 4638, '아플': 4639, '프랜차이즈': 4640, '미안하다': 4641, '아프고': 4642, '간장게장': 4643, '먹는지': 4644, '남자라면': 4645, '됐어요': 4646, '장면': 4647, '비용': 4648, '가서도': 4649, '주던데': 4650, '랭': 4651, '래미': 4652, '낸': 4653, '멀어': 4654, '상인동': 4655, '꼬박꼬박': 4656, '교촌치킨': 4657, '픽업': 4658, '가실': 4659, '봤던': 4660, '롤': 4661, '황태': 4662, '맛있을거': 4663, '유자차': 4664, '바뀐': 4665, '어쩌지': 4666, '바꿔야': 4667, '황': 4668, '불닭볶음면': 4669, '일부': 4670, '오오오': 4671, '안쓰러워': 4672, '넣음': 4673, '많': 4674, '전투복': 4675, '해체': 4676, '걸고': 4677, '쿨': 4678, '당첨': 4679, '부족해서': 4680, '싫었어': 4681, '했어도': 4682, '안된다고': 4683, '연천': 4684, '생으로': 4685, '모르니': 4686, '먹는것도': 4687, '아까워서': 4688, '봐야겠어요': 4689, '유명하잖아': 4690, '트라우마': 4691, '단지': 4692, '심리': 4693, '에가': 4694, '종이': 4695, '먹을걸': 4696, '나치': 4697, '뽕': 4698, '되었으면': 4699, '뼈찜': 4700, '조종': 4701, '않았는데': 4702, '순위': 4703, '목적': 4704, '자두': 4705, '버리고': 4706, '괜찮아요': 4707, '연휴': 4708, '모집': 4709, '대응': 4710, '텐트': 4711, '이쁘게': 4712, '안됨': 4713, '쏘면': 4714, '가수': 4715, '들었나': 4716, '그려': 4717, '지에스': 4718, '끝나': 4719, '나왔대': 4720, '없대': 4721, '입소': 4722, '아니겠어': 4723, '얼어': 4724, '안좋은': 4725, '자격': 4726, '승선': 4727, '있데': 4728, '농담': 4729, '좋아하는거': 4730, '이었네': 4731, '보내야': 4732, '멋있는데': 4733, '헐헐': 4734, '예쁜': 4735, '찾아보니': 4736, '따듯': 4737, '싫어해서': 4738, '영양': 4739, '다양해': 4740, '과거': 4741, '맛있드': 4742, '에이스': 4743, '해보려고': 4744, '갔었지': 4745, '공약': 4746, '집앞': 4747, '빼고는': 4748, '군필': 4749, '사는게': 4750, '힘들다던데': 4751, '보험': 4752, '차돌박이': 4753, '도망': 4754, '지켜': 4755, '힘들어도': 4756, '비싸네': 4757, '염통': 4758, '태양': 4759, '나왔으면': 4760, '귀찮': 4761, '뒷다리': 4762, '남았는데': 4763, '하겠지만': 4764, '끔찍한': 4765, '없겠어': 4766, '몰랐어요': 4767, '왔을': 4768, '없어지는': 4769, '스프레드': 4770, '댐': 4771, '저렴해': 4772, '가봐야': 4773, '주제': 4774, '쨈': 4775, '운동장': 4776, '핵심': 4777, '마시게': 4778, '경례': 4779, '왔구나': 4780, '갔': 4781, '땡길': 4782, '있었다고': 4783, '그래두': 4784, '오아시스': 4785, '시켰어요': 4786, '기운': 4787, '들어간다': 4788, '없어진': 4789, '어쩌다가': 4790, '애국심': 4791, '착해': 4792, '없냐': 4793, '쓰는데': 4794, '봤구나': 4795, '괜찮겠다': 4796, '김말이': 4797, '아프면': 4798, '실감': 4799, '남사': 4800, '끼는': 4801, '있긴한데': 4802, '들어갔는데': 4803, '헐랭': 4804, '추위': 4805, '싶': 4806, '그린': 4807, '배기': 4808, '순이': 4809, '그랬을': 4810, '군용': 4811, '호봉': 4812, '탄수화물': 4813, '슬픈': 4814, '베이스': 4815, '번가': 4816, '비법': 4817, '편히': 4818, '달다': 4819, '바지': 4820, '절': 4821, '진라면': 4822, '많은가': 4823, '한마디': 4824, '페이': 4825, '아니냐고': 4826, '있었대': 4827, '미쳤어': 4828, '갔대': 4829, '좋아하긴': 4830, '안이': 4831, '그래야겠어': 4832, '갈아서': 4833, '빼는': 4834, '엌': 4835, '표정': 4836, '자동': 4837, '닥터': 4838, '웃긴': 4839, '갔음': 4840, '바리': 4841, '나쵸': 4842, '높아서': 4843, '나왔던': 4844, '그러니': 4845, '스프라이트': 4846, '필요할': 4847, '아이구': 4848, '돌': 4849, '아이디어': 4850, '메인': 4851, '보조': 4852, '서열': 4853, '서방': 4854, '줄여': 4855, '흡입': 4856, '군사력': 4857, '가능함': 4858, '축제': 4859, '멀지': 4860, '전용': 4861, '찾으면': 4862, '끓이고': 4863, '웬일': 4864, '버전': 4865, '같다고': 4866, '장인': 4867, '복무신조': 4868, '재밌던데': 4869, '겹': 4870, '글레이': 4871, '힙': 4872, '예상': 4873, '알아요': 4874, '짜게': 4875, '어짜피': 4876, '나때': 4877, '아니예요': 4878, '갈굼': 4879, '인대': 4880, '나왔던데': 4881, '할리스': 4882, '말아서': 4883, '누군가': 4884, '인구': 4885, '신검': 4886, '조사': 4887, '궁금하긴': 4888, '줄여야': 4889, '물어봤어': 4890, '가야겠네': 4891, '빈': 4892, '감성': 4893, '싶더라고': 4894, '갈릭': 4895, '생존': 4896, '인공': 4897, '애슐리': 4898, '북어': 4899, '마실래': 4900, '배우': 4901, '꺼내': 4902, '일로': 4903, '굽는': 4904, '했는데도': 4905, '보는게': 4906, '냄비': 4907, '해주세요': 4908, '시스템': 4909, '한정식': 4910, '쫄깃해': 4911, '마시러': 4912, '싶은게': 4913, '쫄깃': 4914, '부드러운': 4915, '받았지': 4916, '잘한': 4917, '잘게': 4918, '다진': 4919, '입으면': 4920, '핫바': 4921, '수당': 4922, '숙취': 4923, '초록색': 4924, '찍은': 4925, '블론드': 4926, '전주': 4927, '튀겨': 4928, '프라푸치노': 4929, '묵': 4930, '횟집': 4931, '오봉': 4932, '얻어': 4933, '해양경찰': 4934, '천재': 4935, '햇반': 4936, '깔끔한': 4937, '불어': 4938, '무거운': 4939, '먹는대': 4940, '댓': 4941, '일듯': 4942, '거진': 4943, '배경': 4944, '있겠지만': 4945, '페인': 4946, '짬밥': 4947, '배정': 4948, '증말': 4949, '이길': 4950, '다친': 4951, '물어봤는데': 4952, '보여주는': 4953, '졸리': 4954, '계곡': 4955, '적용': 4956, '낮잠': 4957, '답장': 4958, '밑반찬': 4959, '붙어서': 4960, '두루치기': 4961, '들어가기': 4962, '지키러': 4963, '성적': 4964, '고장': 4965, '군입대': 4966, '아세요': 4967, '던져': 4968, '론데': 4969, '돌려서': 4970, '잘라': 4971, '영통': 4972, '부작용': 4973, '리스트': 4974, '수련': 4975, '붙어': 4976, '댁': 4977, '먹네요': 4978, '채워': 4979, '우웅': 4980, '맛있겠는데': 4981, '안되고': 4982, '알았어요': 4983, '데려가': 4984, '싫지': 4985, '차가운': 4986, '치즈스틱': 4987, '내기': 4988, '하고도': 4989, '먹었길래': 4990, '잇겟다': 4991, '통신병': 4992, '봤': 4993, '행복해': 4994, '잇': 4995, '알아보고': 4996, '비싼거': 4997, '범': 4998, '강': 4999, '중대장': 5000, '조심해': 5001, '간거야': 5002, '위험해': 5003, '정작': 5004, '방식': 5005, '현재': 5006, '장갑': 5007, '단절': 5008, '멋있잖아': 5009, '빼면': 5010, '박격포': 5011, '고맙지': 5012, '본점': 5013, '참을': 5014, '이런건': 5015, '마파두부': 5016, '걸린': 5017, '부럽더라': 5018, '강남': 5019, '께서': 5020, '완성': 5021, '마끼아또': 5022, '수면': 5023, '환타': 5024, '수행': 5025, '시더': 5026, '무사히': 5027, '묵은지': 5028, '한강': 5029, '놔야': 5030, '되네요': 5031, '권력': 5032, '미안하네': 5033, '유독': 5034, '해줬는데': 5035, '어째': 5036, '둠': 5037, '뜨': 5038, '짧아져서': 5039, '플라스틱': 5040, '식판': 5041, '안전': 5042, '편할': 5043, '힘들었나': 5044, '안되네': 5045, '맛있었나': 5046, '갈지': 5047, '에스': 5048, '갔네': 5049, '테스트': 5050, '봐라': 5051, '드시나요': 5052, '주잖아': 5053, '안성탕면': 5054, '적어도': 5055, '불편할': 5056, '보다도': 5057, '많으니': 5058, '때리고': 5059, '다나': 5060, '현미': 5061, '장거리': 5062, '끊을': 5063, '민어': 5064, '대국': 5065, '생김': 5066, '원격': 5067, '해볼': 5068, '어렵다': 5069, '땡김': 5070, '진료': 5071, '바깥': 5072, '나가지': 5073, '어쨌든': 5074, '리조또': 5075, '중인': 5076, '없었으면': 5077, '무침': 5078, '미숫가루': 5079, '괜찮으면': 5080, '콧물': 5081, '어회': 5082, '지났는데': 5083, '한다네': 5084, '생겼는데': 5085, '보겠어': 5086, '잡': 5087, '탈수': 5088, '밀푀유': 5089, '싶었던': 5090, '행운': 5091, '불만': 5092, '이율': 5093, '사나': 5094, '없어져야': 5095, '맛다시': 5096, '사먹고': 5097, '구보': 5098, '웬만하면': 5099, '골목': 5100, '먹진': 5101, '하나로': 5102, '마시면서': 5103, '우럭': 5104, '무한리필': 5105, '진정한': 5106, '후예': 5107, '페리': 5108, '봤자': 5109, '대량': 5110, '하더라도': 5111, '뺏어': 5112, '불편한': 5113, '염색': 5114, '공포': 5115, '사라짐': 5116, '산거에요': 5117, '빠르게': 5118, '상처': 5119, '프렌': 5120, '이즈': 5121, '무릎': 5122, '다르구나': 5123, '고치': 5124, '믿고': 5125, '써브웨이': 5126, '콩국': 5127, '뭐임': 5128, '그립다': 5129, '좋나': 5130, '택': 5131, '자장면': 5132, '이근': 5133, '원조': 5134, '늦어서': 5135, '말구': 5136, '그랬어요': 5137, '빡센': 5138, '당나라': 5139, '줄었다고': 5140, '들어가는데': 5141, '모범': 5142, '있을거': 5143, '후보': 5144, '태어나서': 5145, '댓글': 5146, '쓰면서': 5147, '살면서': 5148, '말차': 5149, '대단하네요': 5150, '이러다': 5151, '받긴': 5152, '팔아서': 5153, '힘들었다고': 5154, '만든거': 5155, '모로': 5156, '영하': 5157, '코다리': 5158, '고소하고': 5159, '구래': 5160, '인게': 5161, '룩': 5162, '살까': 5163, '화제': 5164, '샐러': 5165, '찍어서': 5166, '다는': 5167, '해봐서': 5168, '비만': 5169, '할껄': 5170, '숙제': 5171, '예쁘게': 5172, '평택': 5173, '주워': 5174, '분도': 5175, '오시': 5176, '다르니까': 5177, '배떡': 5178, '먹여': 5179, '그래그래': 5180, '선후': 5181, '올려서': 5182, '청원': 5183, '현금': 5184, '베이커리': 5185, '준다던데': 5186, '아껴': 5187, '멧돼지': 5188, '위험하지': 5189, '팔도': 5190, '크지': 5191, '붓고': 5192, '곱창전골': 5193, '나잖아': 5194, '라야': 5195, '비주': 5196, '이러니': 5197, '비는': 5198, '같긴해': 5199, '그렇네요': 5200, '초딩': 5201, '떨어져': 5202, '취미': 5203, '초등학생': 5204, '봤으면': 5205, '곰신': 5206, '오레오': 5207, '갔다오면': 5208, '의문': 5209, '장어': 5210, '기대되': 5211, '기름기': 5212, '남았지': 5213, '웬만한': 5214, '해지': 5215, '송중기': 5216, '듣는데': 5217, '갈려고': 5218, '싫고': 5219, '그니': 5220, '파랑': 5221, '합': 5222, '좋아하거든요': 5223, '찹쌀': 5224, '맛있겠지': 5225, '로망': 5226, '담아': 5227, '움직': 5228, '민원': 5229, '사놓은': 5230, '마제': 5231, '없었어요': 5232, '가져가서': 5233, '먹다니': 5234, '지내는': 5235, '고기만': 5236, '울어': 5237, '풍': 5238, '이었구나': 5239, '임마': 5240, '너무한': 5241, '블랙이글스': 5242, '단련': 5243, '아프다': 5244, '기차': 5245, '절반': 5246, '인물': 5247, '치즈볼': 5248, '기전': 5249, '올라가': 5250, '없네요': 5251, '심했어': 5252, '슈페': 5253, '규제': 5254, '듯이': 5255, '많아져서': 5256, '민간': 5257, '죽은': 5258, '바빠': 5259, '많죠': 5260, '전라도': 5261, '도라지': 5262, '없을까': 5263, '서바이벌': 5264, '바뀔': 5265, '열라면': 5266, '빈속': 5267, '들려서': 5268, '피곤하다': 5269, '액': 5270, '편하다고': 5271, '있을지': 5272, '싸네': 5273, '전문점': 5274, '홍어': 5275, '물김치': 5276, '접': 5277, '쓰기': 5278, '비율': 5279, '몰랐지': 5280, '로켓': 5281, '고무': 5282, '멀': 5283, '맞긴': 5284, '처남': 5285, '좋구나': 5286, '치마': 5287, '귀찮은': 5288, '건조': 5289, '깔끔하게': 5290, '파리': 5291, '바게뜨': 5292, '선진': 5293, '와라': 5294, '킬러': 5295, '정예': 5296, '마셨어요': 5297, '되나요': 5298, '깡': 5299, '샀': 5300, '남겨': 5301, '찾아봤는데': 5302, '해달라고': 5303, '유일한': 5304, '자유시간': 5305, '해주더라': 5306, '충전': 5307, '한다며': 5308, '그런듯': 5309, '없었던': 5310, '자세': 5311, '벌어': 5312, '레이더스': 5313, '처형': 5314, '딱이야': 5315, '휴학': 5316, '무섭지': 5317, '보냈니': 5318, '시나몬': 5319, '입원': 5320, '편해졌다고': 5321, '데도': 5322, '명칭': 5323, '먹읍시다': 5324, '된다는': 5325, '태권도': 5326, '가시': 5327, '좋아하지만': 5328, '깜빡': 5329, '어울림': 5330, '년차': 5331, '놨': 5332, '재워': 5333, '비냉': 5334, '아부지': 5335, '될거': 5336, '가만히': 5337, '거봉': 5338, '발목': 5339, '지면': 5340, '고프다': 5341, '몰랐음': 5342, '확률': 5343, '안되': 5344, '둬': 5345, '동상': 5346, '다야': 5347, '바닥': 5348, '맛있었던': 5349, '유출': 5350, '둬야': 5351, '않았어요': 5352, '프랑스': 5353, '갈라고': 5354, '좋습니다': 5355, '힘들었겠네': 5356, '구성': 5357, '엿': 5358, '할라고': 5359, '먹을까봐': 5360, '해줬으면': 5361, '만기': 5362, '듣는다': 5363, '올랐어': 5364, '기억남': 5365, '마약': 5366, '중요한데': 5367, '복학': 5368, '노티': 5369, '일인': 5370, '않아도': 5371, '맛있냐': 5372, '부터가': 5373, '먹어줘': 5374, '재밌었는데': 5375, '곰국': 5376, '아웃': 5377, '분모': 5378, '쉴': 5379, '보고싶다': 5380, '비닐': 5381, '라임': 5382, '신교대': 5383, '교자': 5384, '잡곡': 5385, '오더라고': 5386, '좋냐': 5387, '심할': 5388, '시켰지': 5389, '와사비': 5390, '풋살': 5391, '보진': 5392, '매주': 5393, '당뇨': 5394, '거여': 5395, '였다고': 5396, '긍': 5397, '한솥': 5398, '에너지': 5399, '쏙': 5400, '수원': 5401, '수분': 5402, '씨리얼': 5403, '취침': 5404, '나왔음': 5405, '미나리': 5406, '강화': 5407, '포인트': 5408, '다시마': 5409, '하셔': 5410, '버릴': 5411, '경': 5412, '맛없으면': 5413, '사생활': 5414, '년전': 5415, '오신': 5416, '카누': 5417, '멀긴': 5418, '슥': 5419, '입는': 5420, '감도': 5421, '사주고': 5422, '우렁': 5423, '느끼해': 5424, '커피한잔': 5425, '낭만': 5426, '인해': 5427, '신난다': 5428, '생기는': 5429, '심장': 5430, '모레': 5431, '썰어': 5432, '마시니까': 5433, '바쁜': 5434, '궁금했어': 5435, '모르겠고': 5436, '롤링': 5437, '그렇던데': 5438, '타이밍': 5439, '상해': 5440, '러버': 5441, '진한': 5442, '영원한': 5443, '모야': 5444, '반도': 5445, '대도': 5446, '없죠': 5447, '이었으면': 5448, '계란말이': 5449, '트는': 5450, '카츠': 5451, '미정': 5452, '멀다': 5453, '개구리': 5454, '흑임자': 5455, '일기': 5456, '밥솥': 5457, '휴게소': 5458, '바뀌는': 5459, '있습니다': 5460, '무도': 5461, '나무': 5462, '알리오': 5463, '했었거든': 5464, '정확히는': 5465, '쓰던': 5466, '하셔서': 5467, '싸이버': 5468, '있으세요': 5469, '스포츠': 5470, '간도': 5471, '추어탕': 5472, '쓰더라': 5473, '논산훈련소': 5474, '이러고': 5475, '후딱': 5476, '야할': 5477, '새우젓': 5478, '들어온': 5479, '던': 5480, '시끄러워': 5481, '빨라': 5482, '아니여': 5483, '싫어하는데': 5484, '밥심': 5485, '전경': 5486, '없을듯': 5487, '심플': 5488, '산업': 5489, '찬물': 5490, '채워서': 5491, '겪어': 5492, '힐링': 5493, '포테이토': 5494, '챙겨야': 5495, '저렴한': 5496, '바뀌고': 5497, '사왔네': 5498, '였더라': 5499, '브라우니': 5500, '핵잠수함': 5501, '많지는': 5502, '열어': 5503, '얼려서': 5504, '흐': 5505, '두세': 5506, '점도': 5507, '창원': 5508, '했었음': 5509, '연평도': 5510, '먹었었어': 5511, '한판': 5512, '메달': 5513, '육군훈련소': 5514, '나서는': 5515, '촌': 5516, '받았었어': 5517, '많은거': 5518, '나와서도': 5519, '땡기는거': 5520, '가지는': 5521, '맞앜': 5522, '버렸다': 5523, '맛없더라': 5524, '없습니다': 5525, '에겐': 5526, '배려': 5527, '같지만': 5528, '아줌마': 5529, '방이': 5530, '먹은듯': 5531, '드론': 5532, '마당': 5533, '왔거든': 5534, '렌': 5535, '어서': 5536, '온거': 5537, '숟가락': 5538, '셔': 5539, '무서웠어': 5540, '했었어요': 5541, '줄어든': 5542, '대만': 5543, '물고기': 5544, '물냉면': 5545, '가능하대': 5546, '이상은': 5547, '가봄': 5548, '천사': 5549, '다르': 5550, '오트밀': 5551, '홍대': 5552, '만도': 5553, '고딩': 5554, '녹아': 5555, '멕시칸': 5556, '길고': 5557, '과시': 5558, '머거': 5559, '하려는': 5560, '슬플': 5561, '가신': 5562, '홈페이지': 5563, '낭비': 5564, '걸렸어': 5565, '몬스터': 5566, '까까머리': 5567, '아시나요': 5568, '힘들었는데': 5569, '우의': 5570, '물리': 5571, '전만': 5572, '됐잖아': 5573, '힘드네': 5574, '하다고': 5575, '였니': 5576, '드릴': 5577, '우정': 5578, '야할듯': 5579, '오기': 5580, '군내': 5581, '중사': 5582, '놨어': 5583, '구박': 5584, '자신감': 5585, '다녀야': 5586, '간첩': 5587, '당해서': 5588, '당하는': 5589, '이자나': 5590, '했었잖아': 5591, '일거야': 5592, '초등학교': 5593, '입어': 5594, '지나고': 5595, '쉑쉑': 5596, '들어간거': 5597, '비위': 5598, '받기': 5599, '봤었어': 5600, '먹는듯': 5601, '악마': 5602, '귀찮을': 5603, '감사해': 5604, '남았네': 5605, '달래': 5606, '구해': 5607, '젓가락': 5608, '주심': 5609, '맛있지만': 5610, '응떡': 5611, '가보면': 5612, '맛있어야': 5613, '멋있어서': 5614, '짜서': 5615, '치과': 5616, '보리': 5617, '부서': 5618, '라지': 5619, '현장': 5620, '김천': 5621, '안마': 5622, '간다는데': 5623, '있냐고': 5624, '청춘': 5625, '버린': 5626, '경쟁': 5627, '생겼네': 5628, '확정': 5629, '장아찌': 5630, '올게': 5631, '통지서': 5632, '인식': 5633, '마이': 5634, '오일': 5635, '모른다': 5636, '평이': 5637, '살려고': 5638, '해물탕': 5639, '네': 5640, '평가': 5641, '않다고': 5642, '맛있더랑': 5643, '죽아야': 5644, '전출': 5645, '랩': 5646, '정육점': 5647, '먹었는지': 5648, '바뀌어서': 5649, '긍정': 5650, '닼': 5651, '복장': 5652, '있는것': 5653, '아닙니까': 5654, '생겼다고': 5655, '누군지': 5656, '분해': 5657, '차이는': 5658, '과메기': 5659, '차야': 5660, '기부': 5661, '냉이': 5662, '좋아하거든': 5663, '식구': 5664, '서면': 5665, '들을': 5666, '가리지': 5667, '받게': 5668, '방구': 5669, '크리스': 5670, '투': 5671, '남음': 5672, '굴': 5673, '빠르네': 5674, '보이지': 5675, '언젠가': 5676, '고소한': 5677, '깐': 5678, '천지': 5679, '베레모': 5680, '가능한가': 5681, '마케팅': 5682, '오만': 5683, '진압': 5684, '끝날': 5685, '아니였어': 5686, '토핑': 5687, '하시나요': 5688, '의무병': 5689, '쎈': 5690, '강추': 5691, '낫겠다': 5692, '걸어': 5693, '알제': 5694, '줄어드는': 5695, '배고프지': 5696, '학원': 5697, '키우는': 5698, '굴소스': 5699, '라고는': 5700, '코코': 5701, '받은거': 5702, '동감': 5703, '인맥': 5704, '없어졌어': 5705, '조차': 5706, '였던거': 5707, '식중독': 5708, '놓을게': 5709, '병무청': 5710, '신기하네요': 5711, '남았다': 5712, '자주포': 5713, '다르잖아': 5714, '닭찌찌': 5715, '길구나': 5716, '그러진': 5717, '불맛': 5718, '가려구': 5719, '징병': 5720, '라네': 5721, '형수': 5722, '박아': 5723, '오뚜기': 5724, '호박죽': 5725, '어울릴': 5726, '가까워서': 5727, '였네': 5728, '아니어도': 5729, '않는다': 5730, '들어오면': 5731, '가지러': 5732, '신병': 5733, '부식': 5734, '그저께': 5735, '고춧가루': 5736, '애인': 5737, '나팔': 5738, '쉬어야지': 5739, '년대': 5740, '딱인데': 5741, '생각났어': 5742, '구입': 5743, '천만': 5744, '넘어': 5745, '넘는': 5746, '만두국': 5747, '몽': 5748, '진미': 5749, '싶어도': 5750, '각종': 5751, '브라운': 5752, '힘들죠': 5753, '모르겠음': 5754, '사례': 5755, '기요': 5756, '앞산': 5757, '구체': 5758, '갔다와': 5759, '별일': 5760, '연하게': 5761, '다름': 5762, '섞어서': 5763, '해봐라': 5764, '도토리묵': 5765, '파네': 5766, '밀고': 5767, '특수한': 5768, '아이스박스': 5769, '좋지요': 5770, '놔서': 5771, '래서': 5772, '놀랬어': 5773, '긋다': 5774, '놀': 5775, '있더라구요': 5776, '타지': 5777, '겨자': 5778, '가까워': 5779, '엄': 5780, '귀찮고': 5781, '잇는': 5782, '예의': 5783, '라이스': 5784, '분리': 5785, '과는': 5786, '않겠다': 5787, '힘들겠어': 5788, '많다던데': 5789, '할꺼': 5790, '임무': 5791, '이를': 5792, '탓': 5793, '가자미': 5794, '이하': 5795, '배출': 5796, '오니': 5797, '승진': 5798, '컬리': 5799, '모래': 5800, '없던': 5801, '하겠네요': 5802, '받으려고': 5803, '초기': 5804, '제주': 5805, '적지': 5806, '링': 5807, '갑니다': 5808, '산성': 5809, '무한': 5810, '고발': 5811, '전신': 5812, '체리': 5813, '속초': 5814, '디스크': 5815, '호탄': 5816, '없었음': 5817, '논': 5818, '달기': 5819, '먹겠': 5820, '긴데': 5821, '달더라': 5822, '면은': 5823, '봤었는데': 5824, '먹게되': 5825, '있겠나': 5826, '한미': 5827, '호빵': 5828, '수록': 5829, '봤다고': 5830, '더블': 5831, '있었다': 5832, '숙소': 5833, '고르는': 5834, '브레이브걸스': 5835, '귀여운': 5836, '무섭더라': 5837, '지켜주는': 5838, '레스토랑': 5839, '태어난': 5840, '매년': 5841, '보내지': 5842, '부장': 5843, '않': 5844, '더운데': 5845, '또래': 5846, '되겠네요': 5847, '머니': 5848, '베스킨라빈스': 5849, '였거든': 5850, '오열': 5851, '오잉': 5852, '그렇게나': 5853, '거더': 5854, '한적': 5855, '준다면': 5856, '나갔다': 5857, '감칠맛': 5858, '담아서': 5859, '올라온': 5860, '하여튼': 5861, '꼬북칩': 5862, '맛있겠당': 5863, '갈만': 5864, '안다': 5865, '매실': 5866, '쪘어': 5867, '드레싱': 5868, '싸긴': 5869, '하셨네요': 5870, '베스트': 5871, '에서의': 5872, '하겠어요': 5873, '상이': 5874, '힘든가': 5875, '밀키스': 5876, '약한': 5877, '밀키': 5878, '병력': 5879, '나갔는데': 5880, '따위': 5881, '잇다': 5882, '하시': 5883, '가해자': 5884, '레알': 5885, '비엔나': 5886, '쟁이': 5887, '초코우유': 5888, '종로': 5889, '은폐': 5890, '힘들듯': 5891, '폼': 5892, '물어보면': 5893, '예술인': 5894, '창가': 5895, '내장': 5896, '제약': 5897, '했데': 5898, '차단': 5899, '든다': 5900, '호랑이': 5901, '안은': 5902, '참는': 5903, '먹었대': 5904, '건조기': 5905, '켜서': 5906, '기왕': 5907, '다니다가': 5908, '헤어졌어': 5909, '수박': 5910, '무스': 5911, '찔이라': 5912, '아픈데': 5913, '케챱': 5914, '이자': 5915, '되는지': 5916, '애용': 5917, '정해져': 5918, '물려': 5919, '다이어터': 5920, '드리고': 5921, '오잖아': 5922, '다녀와야': 5923, '굽네치킨': 5924, '낫더라': 5925, '창': 5926, '한때': 5927, '나오니': 5928, '갔거든': 5929, '그랬': 5930, '알티': 5931, '갇혀': 5932, '멋있네': 5933, '좋당': 5934, '맵더라': 5935, '알겠다': 5936, '만들지': 5937, '가치': 5938, '안좋아서': 5939, '치우는': 5940, '카카오': 5941, '화학': 5942, '등록': 5943, '힘들었어요': 5944, '감수': 5945, '거든요': 5946, '보낸다고': 5947, '개맛': 5948, '짘': 5949, '이안': 5950, '마셔줘야': 5951, '들어있어': 5952, '끓인': 5953, '짧아': 5954, '하는군요': 5955, '한쪽': 5956, '함정': 5957, '줄어들': 5958, '알려주세요': 5959, '먹을것도': 5960, '어렵고': 5961, '줬더니': 5962, '전환': 5963, '핸드': 5964, '먹고나면': 5965, '지난주': 5966, '변경': 5967, '메가마트': 5968, '금은': 5969, '좋아졌다고': 5970, '배탈': 5971, '또는': 5972, '좋을텐데': 5973, '늦었네': 5974, '초콜렛': 5975, '사가지고': 5976, '개념': 5977, '가볼래': 5978, '부부': 5979, '찰떡': 5980, '나오겠네': 5981, '홈플러스': 5982, '다녀왔는데': 5983, '자야': 5984, '유명한데': 5985, '차례': 5986, '볶다가': 5987, '환불': 5988, '장날': 5989, '다': 5990, '선진국': 5991, '비슷': 5992, '지대': 5993, '현상': 5994, '때메': 5995, '열무': 5996, '고모': 5997, '기다릴': 5998, '배타': 5999, '많겠다': 6000, '자재': 6001, '육체': 6002, '싼거': 6003, '알겠지': 6004, '맛있다며': 6005, '바탕': 6006, '청양고추': 6007, '쌉': 6008, '자도': 6009, '없을텐데': 6010, '그럴거': 6011, '다키키': 6012, '터져서': 6013, '대체로': 6014, '했다니': 6015, '가야해': 6016, '부르고': 6017, '멕시코': 6018, '후라이팬': 6019, '찾고': 6020, '템': 6021, '유부': 6022, '스토리': 6023, '신뢰': 6024, '건강히': 6025, '버티는': 6026, '질린다': 6027, '유산균': 6028, '반영': 6029, '신나게': 6030, '절제': 6031, '전통': 6032, '퍽퍽': 6033, '찾아볼게': 6034, '듬': 6035, '감은': 6036, '끝내고': 6037, '있다더라': 6038, '수송기': 6039, '군항제': 6040, '다시다': 6041, '같대': 6042, '곡': 6043, '들었지': 6044, '끌': 6045, '될것': 6046, '안전하게': 6047, '분이면': 6048, '헌혈': 6049, '씻어': 6050, '마즘': 6051, '서지': 6052, '할수도': 6053, '너무했다': 6054, '바게트': 6055, '사람과': 6056, '헬스장': 6057, '아프': 6058, '하겠': 6059, '끝났어': 6060, '갑다': 6061, '뉴': 6062, '안팔': 6063, '부턴': 6064, '놀았어': 6065, '고를': 6066, '보임': 6067, '그리워': 6068, '공사': 6069, '만나기': 6070, '저장': 6071, '잇지': 6072, '파채': 6073, '되었지': 6074, '항공모함': 6075, '필요하다고': 6076, '밥집': 6077, '쩌': 6078, '사령부': 6079, '아프더라': 6080, '몬': 6081, '이었거든': 6082, '바퀴': 6083, '먹지도': 6084, '해야겠어요': 6085, '알거': 6086, '그럴지도': 6087, '주임': 6088, '내용물': 6089, '웃긴다': 6090, '게장': 6091, '있군요': 6092, '사갈까': 6093, '해주는게': 6094, '제출': 6095, '재미있는': 6096, '음식물': 6097, '넣어야지': 6098, '잤는데': 6099, '쌀밥': 6100, '언론': 6101, '특별': 6102, '만나기로': 6103, '얇은': 6104, '윗사람': 6105, '어려운데': 6106, '않습니다': 6107, '보냈나': 6108, '가봤지': 6109, '질려서': 6110, '뽑아': 6111, '그룹': 6112, '가져온': 6113, '하셨어': 6114, '방역': 6115, '시끄러': 6116, '볶으면': 6117, '죽겠다': 6118, '이었대': 6119, '컨디션': 6120, '나오려나': 6121, '샀음': 6122, '똑같': 6123, '몰랐던': 6124, '체크': 6125, '썩어': 6126, '해봐야겠어': 6127, '들어오는': 6128, '팟타이': 6129, '비싸잖아': 6130, '먼지': 6131, '정이': 6132, '다니지': 6133, '싫겠다': 6134, '첫날': 6135, '포탄': 6136, '됐을': 6137, '기네스': 6138, '하도록': 6139, '파주': 6140, '짧고': 6141, '케': 6142, '저녁밥': 6143, '슬펐어': 6144, '먹었으니': 6145, '빡센데': 6146, '큰아들': 6147, '대갈': 6148, '사먹었는데': 6149, '설정': 6150, '페이스북': 6151, '가능하면': 6152, '챙기고': 6153, '먹었노': 6154, '봤지만': 6155, '예민한': 6156, '어쩜': 6157, '있으면서': 6158, '능': 6159, '연차': 6160, '소통': 6161, '돼야': 6162, '저녁때': 6163, '인내심': 6164, '그랬었는데': 6165, '고성': 6166, '바뀌지': 6167, '장창': 6168, '영향력': 6169, '시켰다': 6170, '그랭': 6171, '경기': 6172, '타코': 6173, '휴일': 6174, '계기': 6175, '진지하게': 6176, '신선한': 6177, '맞더라': 6178, '싸다': 6179, '힝': 6180, '허세': 6181, '신기함': 6182, '사복': 6183, '즉석': 6184, '총알': 6185, '싸우는': 6186, '동갑': 6187, '까지야': 6188, '정기': 6189, '돌아갈': 6190, '용서': 6191, '였': 6192, '나유': 6193, '무서울': 6194, '때리는': 6195, '캬캬': 6196, '모르겠더라': 6197, '아스파라거스': 6198, '였을': 6199, '비누': 6200, '노포': 6201, '소중한': 6202, '자제': 6203, '발효': 6204, '아니니깐': 6205, '신어': 6206, '대단한데': 6207, '후방': 6208, '재판': 6209, '받았네': 6210, '마침': 6211, '알았': 6212, '같긴한데': 6213, '간단해': 6214, '만치': 6215, '이빨': 6216, '하기엔': 6217, '생각남': 6218, '평거동': 6219, '했다더라': 6220, '위협': 6221, '좋아하시는': 6222, '역사': 6223, '카더라': 6224, '이글스': 6225, '사주면': 6226, '활주로': 6227, '아쉽겠다': 6228, '시킨다': 6229, '마시': 6230, '묵고': 6231, '패스트푸드': 6232, '찾았어': 6233, '깔깔': 6234, '살아야': 6235, '이신': 6236, '비요뜨': 6237, '상의': 6238, '이었다고': 6239, '하셨나': 6240, '비상': 6241, '엑셀': 6242, '맛없어서': 6243, '첫째': 6244, '짜짜로니': 6245, '샹궈': 6246, '김찌': 6247, '팔아요': 6248, '머선': 6249, '일이구': 6250, '맛있는게': 6251, '절약': 6252, '싫었는데': 6253, '소보루빵': 6254, '이러면서': 6255, '도입': 6256, '갈께': 6257, '소면': 6258, '갈리는': 6259, '사항': 6260, '반값': 6261, '경상도': 6262, '레샤': 6263, '오네': 6264, '강도': 6265, '다섯': 6266, '먹으라': 6267, '보여줘': 6268, '이런게': 6269, '가던데': 6270, '왱': 6271, '허락': 6272, '무려': 6273, '취해': 6274, '탄소': 6275, '개이득': 6276, '살쪄': 6277, '어울리지': 6278, '재미있게': 6279, '먹었는': 6280, '샀던': 6281, '알았음': 6282, '뜬': 6283, '혜자': 6284, '뮤지컬': 6285, '망': 6286, '추워지니까': 6287, '박사': 6288, '중학교': 6289, '괜찮을까': 6290, '기침': 6291, '헬리콥터': 6292, '리필': 6293, '고소': 6294, '부족해': 6295, '풍경': 6296, '즙': 6297, '될텐데': 6298, '야하는': 6299, '왜왜': 6300, '시켜줄게': 6301, '일전': 6302, '따지면': 6303, '버렸지': 6304, '알콜': 6305, '올라': 6306, '콘치': 6307, '일어나': 6308, '꼴': 6309, '다니면서': 6310, '무지': 6311, '귀찮지': 6312, '깔끔하고': 6313, '투자': 6314, '으악': 6315, '떨어지고': 6316, '보냄': 6317, '농구': 6318, '좋아졌지': 6319, '쌀떡': 6320, '모여': 6321, '조정': 6322, '강의': 6323, '빠지고': 6324, '껌': 6325, '기업': 6326, '돼지감자': 6327, '가능하다고': 6328, '죽겠네': 6329, '씨방': 6330, '전력': 6331, '깔창': 6332, '똠양꿍': 6333, '병들은': 6334, '가는건': 6335, '하석진': 6336, '나왔어요': 6337, '씹어': 6338, '서류': 6339, '놀아': 6340, '나쁘진': 6341, '받았던': 6342, '느끼하지': 6343, '많어': 6344, '기존': 6345, '되려면': 6346, '안되더라': 6347, '맛있는지': 6348, '단말': 6349, '괜찮대': 6350, '듣네': 6351, '쓰나': 6352, '보일': 6353, '바뀌면': 6354, '좋아지는': 6355, '선정': 6356, '마카': 6357, '애매한': 6358, '가주': 6359, '기다렸는데': 6360, '비싸도': 6361, '알았으면': 6362, '진작': 6363, '우삼겹': 6364, '차이나': 6365, '발언': 6366, '왜안': 6367, '오랫': 6368, '두지': 6369, '할라': 6370, '집행유예': 6371, '웃음': 6372, '있었니': 6373, '끝나는': 6374, '다만': 6375, '터져': 6376, '만능': 6377, '했을까': 6378, '자다가': 6379, '가려': 6380, '돌리면': 6381, '괜찮을거': 6382, '좋더라고요': 6383, '어마': 6384, '잔치국수': 6385, '공복': 6386, '속도': 6387, '청주': 6388, '돈코츠': 6389, '주는거': 6390, '과식': 6391, '증상': 6392, '국위': 6393, '선양': 6394, '보세요': 6395, '안되겠다': 6396, '받았대': 6397, '감시': 6398, '실비': 6399, '좋아하진': 6400, '됩니다': 6401, '같은것도': 6402, '헤어지고': 6403, '너무하네': 6404, '고작': 6405, '있잖아요': 6406, '땡기긴': 6407, '아쉽지만': 6408, '삼천포': 6409, '단기': 6410, '고려': 6411, '백수': 6412, '있다며': 6413, '소소한': 6414, '벌고': 6415, '먹을꺼': 6416, '호호': 6417, '씻어서': 6418, '졸려서': 6419, '죽고': 6420, '동영상': 6421, '믿어': 6422, '하시더라': 6423, '신가': 6424, '한가': 6425, '잇더라': 6426, '미안하지만': 6427, '대대': 6428, '껏': 6429, '아이디': 6430, '통장': 6431, '했나보다': 6432, '즐기는': 6433, '잔소리': 6434, '천천히': 6435, '강해': 6436, '죽여': 6437, '돌리는': 6438, '천만원': 6439, '주가': 6440, '간혹': 6441, '좋아져서': 6442, '제때': 6443, '먹을랭': 6444, '감사하게': 6445, '힘들것': 6446, '풀려서': 6447, '등심': 6448, '삐': 6449, '도시': 6450, '먹나요': 6451, '녹지': 6452, '심각한': 6453, '깐풍기': 6454, '상호': 6455, '시반': 6456, '색다른': 6457, '맞다고': 6458, '먹습니다': 6459, '스포': 6460, '뷰': 6461, '차출': 6462, '닭꼬치': 6463, '어려울': 6464, '뭐라나': 6465, '고정': 6466, '발가락': 6467, '신호': 6468, '헤': 6469, '솜사탕': 6470, '찍는': 6471, '소갈비찜': 6472, '잖니': 6473, '좋아져': 6474, '라볶이': 6475, '편하겠네': 6476, '차고': 6477, '힘들어요': 6478, '내려서': 6479, '아끼고': 6480, '가봐야지': 6481, '괴롭히면': 6482, '저래': 6483, '넘으면': 6484, '가드': 6485, '한다구': 6486, '그러겠다': 6487, '어린이': 6488, '순삭': 6489, '숙란': 6490, '취하': 6491, '이어폰': 6492, '다이소': 6493, '터지고': 6494, '그러겠지': 6495, '얍얍': 6496, '침상': 6497, '겠더라고': 6498, '술자리': 6499, '벤': 6500, '흰색': 6501, '쉬쉬': 6502, '낫또': 6503, '아니었으면': 6504, '보내줘': 6505, '교도소': 6506, '출동': 6507, '힘들지만': 6508, '좋아하': 6509, '산거야': 6510, '미화': 6511, '에서부터': 6512, '설레': 6513, '지겨워': 6514, '보내준': 6515, '한글': 6516, '샀다고': 6517, '사먹는게': 6518, '토마토소스': 6519, '않으니까': 6520, '집들이': 6521, '따끈한': 6522, '녹여': 6523, '영업': 6524, '출연': 6525, '충': 6526, '마루': 6527, '고파서': 6528, '혜리': 6529, '몽블랑': 6530, '싸다고': 6531, '나오겠지': 6532, '먹지말고': 6533, '크랜베리': 6534, '힘들었음': 6535, '염': 6536, '찾게': 6537, '생겼던데': 6538, '도안': 6539, '슈': 6540, '먹고있는데': 6541, '모기': 6542, '같기는': 6543, '식당가': 6544, '국산': 6545, '흐음': 6546, '즐거움': 6547, '꽃빵': 6548, '사먹을': 6549, '으아': 6550, '별의별': 6551, '없는게': 6552, '벌어서': 6553, '까페': 6554, '그렇게는': 6555, '엉망': 6556, '받았다고': 6557, '상당히': 6558, '쉽고': 6559, '해상': 6560, '재미있었어': 6561, '되냐': 6562, '춥다': 6563, '대세': 6564, '정책': 6565, '힘드니까': 6566, '하려다가': 6567, '적고': 6568, '중임': 6569, '포천': 6570, '마넌': 6571, '퀄리티': 6572, '모른다고': 6573, '시범': 6574, '잎': 6575, '든든해': 6576, '가져갈': 6577, '들음': 6578, '많았네': 6579, '싫더라고': 6580, '율무': 6581, '웃기노': 6582, '싫어도': 6583, '조화': 6584, '같노': 6585, '스스로': 6586, '배웠어': 6587, '드립커피': 6588, '우체국': 6589, '인터뷰': 6590, '살았는데': 6591, '받았어요': 6592, '갔었잖아': 6593, '검정': 6594, '자동차': 6595, '사오면': 6596, '덥고': 6597, '나온다던데': 6598, '동시': 6599, '며느리': 6600, '떡집': 6601, '또한': 6602, '삼김': 6603, '병들': 6604, '안타깝네요': 6605, '다기': 6606, '만날까': 6607, '흔': 6608, '넣기': 6609, '살려면': 6610, '가능해요': 6611, '러스트': 6612, '어허': 6613, '터지게': 6614, '마실까': 6615, '최소한': 6616, '하겐다즈': 6617, '돌아간다면': 6618, '속세': 6619, '나무숲': 6620, '나와야지': 6621, '가고싶네': 6622, '불로': 6623, '포로': 6624, '이크': 6625, '고소해': 6626, '보낸거': 6627, '아깝지': 6628, '냈어': 6629, '어도': 6630, '먹으려고요': 6631, '칼퇴': 6632, '로다': 6633, '쓰는게': 6634, '여쭤': 6635, '많아졌어': 6636, '처우': 6637, '으로서': 6638, '않던데': 6639, '칵테일': 6640, '있을듯': 6641, '카토': 6642, '학기': 6643, '먹었고': 6644, '모으는': 6645, '대단하지': 6646, '예방': 6647, '한숨': 6648, '먹냐고': 6649, '덩치': 6650, '한다면서': 6651, '좋다는': 6652, '드니까': 6653, '약과': 6654, '시판': 6655, '없다니': 6656, '식탁': 6657, '그러게나': 6658, '다녀올': 6659, '잡힌': 6660, '자게': 6661, '비슷한거': 6662, '지킬': 6663, '빠르다': 6664, '일어남': 6665, '빅': 6666, '방어': 6667, '안되니까': 6668, '위병': 6669, '있을껄': 6670, '그떄': 6671, '탁구': 6672, '좋았음': 6673, '아주머니': 6674, '길거리': 6675, '에피소드': 6676, '가까': 6677, '팔면': 6678, '징집': 6679, '청포도': 6680, '랑드': 6681, '대중': 6682, '최종': 6683, '싸잖아': 6684, '해놓은': 6685, '식은': 6686, '닦고': 6687, '호식': 6688, '이상하네': 6689, '자지': 6690, '였대': 6691, '불량': 6692, '꼽': 6693, '영국': 6694, '줄어들고': 6695, '판이': 6696, '나왔거든': 6697, '시원하고': 6698, '몰랐네요': 6699, '치팅': 6700, '전달': 6701, '특성': 6702, '올리고': 6703, '완료': 6704, '컸어': 6705, '피지': 6706, '참잘': 6707, '가겠네': 6708, '심했지': 6709, '밥맛': 6710, '마싯': 6711, '땡': 6712, '괜찮나': 6713, '미용실': 6714, '좋더라구요': 6715, '도박': 6716, '많을걸': 6717, '투성이': 6718, '훌륭한': 6719, '직급': 6720, '싸다며': 6721, '남지': 6722, '한다니까': 6723, '길다고': 6724, '이쁨': 6725, '니당': 6726, '회의': 6727, '갈거': 6728, '사게': 6729, '나방': 6730, '굴비': 6731, '멋지던데': 6732, '기기': 6733, '딱이네': 6734, '어후': 6735, '진하게': 6736, '파워에이드': 6737, '연락처': 6738, '어려움': 6739, '수다': 6740, '반개': 6741, '숨겨': 6742, '재수': 6743, '오셔서': 6744, '육즙': 6745, '놔야겠다': 6746, '단종': 6747, '죄다': 6748, '완벽한': 6749, '맛남': 6750, '걷는': 6751, '치돈': 6752, '터키': 6753, '미술': 6754, '새우는': 6755, '파란색': 6756, '하여': 6757, '먹었으': 6758, '프레': 6759, '주신거': 6760, '맞는거': 6761, '굿모닝': 6762, '경찰서': 6763, '겉바': 6764, '숙성': 6765, '뻥튀기': 6766, '모르잖아': 6767, '집합': 6768, '아니었지': 6769, '아니던데': 6770, '일꺼야': 6771, '서든': 6772, '국제': 6773, '캐모마일': 6774, '사관': 6775, '아시': 6776, '그렇잖아': 6777, '에야': 6778, '편해진': 6779, '국도': 6780, '다르다': 6781, '안되서': 6782, '지지': 6783, '잡아야': 6784, '여수': 6785, '불리': 6786, '먹어야겠당': 6787, '길래': 6788, '좋아한다고': 6789, '나오기': 6790, '겠어요': 6791, '해준다고': 6792, '기억나지': 6793, '봤대': 6794, '기사도': 6795, '시리즈': 6796, '흐흐': 6797, '줬었는데': 6798, '하는건데': 6799, '그러네요': 6800, '좋을것': 6801, '딱딱한': 6802, '분말': 6803, '중화': 6804, '비계': 6805, '같던': 6806, '나왔다': 6807, '유공': 6808, '매운데': 6809, '지네': 6810, '헬': 6811, '관자': 6812, '황금': 6813, '열무김치': 6814, '서민': 6815, '그러시군요': 6816, '껴서': 6817, '멕시카': 6818, '구라': 6819, '노트북': 6820, '싶어하는': 6821, '유저': 6822, '그럭저럭': 6823, '불법': 6824, '납품': 6825, '연봉': 6826, '가죠': 6827, '감사함': 6828, '하는듯': 6829, '되죠': 6830, '이랬는데': 6831, '경제': 6832, '괜찮긴': 6833, '맛있었다': 6834, '똑같다': 6835, '했었대': 6836, '부침': 6837, '파라': 6838, '예쁘고': 6839, '적더라': 6840, '일어나고': 6841, '갱신': 6842, '대처': 6843, '나온거야': 6844, '느껴지는': 6845, '대면': 6846, '있다는데': 6847, '먹죠': 6848, '미식': 6849, '맛있오': 6850, '했던데': 6851, '내리': 6852, '보내기': 6853, '뭐시기': 6854, '멍': 6855, '고등': 6856, '되었네요': 6857, '까먹고': 6858, '밀리터리': 6859, '든다고': 6860, '뽑는': 6861, '맑은': 6862, '보이긴': 6863, '백골부대': 6864, '빠지더라': 6865, '성폭행': 6866, '범위': 6867, '물어봐야겠다': 6868, '선고': 6869, '좋아합니다': 6870, '없을걸': 6871, '덩어리': 6872, '아니죠': 6873, '사먹었어': 6874, '하는거니까': 6875, '일수록': 6876, '하는것도': 6877, '편해지긴': 6878, '엠비티아이': 6879, '느끼': 6880, '시킬게': 6881, '간접': 6882, '줄었네': 6883, '감사하다': 6884, '지코': 6885, '오심': 6886, '빅맥': 6887, '김이랑': 6888, '간데': 6889, '하겠습니다': 6890, '캐': 6891, '정장': 6892, '가야겠어': 6893, '얹어': 6894, '같지도': 6895, '실탄': 6896, '맞재': 6897, '게토레이': 6898, '분만': 6899, '먹고싶은': 6900, '착각': 6901, '영상통화': 6902, '가보지': 6903, '교동': 6904, '분명히': 6905, '살찐다': 6906, '간편하게': 6907, '맛있겟다': 6908, '이어도': 6909, '괜찮았는데': 6910, '우짜': 6911, '절대로': 6912, '않지만': 6913, '뚜껑': 6914, '귀찮네': 6915, '않았지': 6916, '꼬르륵': 6917, '과학': 6918, '그랴': 6919, '해보지': 6920, '미소': 6921, '구역': 6922, '쩝쩝': 6923, '슬프네': 6924, '먹거리': 6925, '수요일': 6926, '과도': 6927, '돌솥밥': 6928, '화이자': 6929, '들어있어서': 6930, '부드러워서': 6931, '저렴해서': 6932, '자네': 6933, '싶노': 6934, '좋아하더라고': 6935, '잇는데': 6936, '챙겨줘서': 6937, '가구': 6938, '글케': 6939, '도저히': 6940, '에게는': 6941, '가져와서': 6942, '생신': 6943, '먹었네요': 6944, '부럽지': 6945, '됐었는데': 6946, '모르겠던데': 6947, '사줬어': 6948, '떨어질': 6949, '괴담': 6950, '연주': 6951, '농사': 6952, '깨서': 6953, '되었다고': 6954, '이상하긴': 6955, '수송': 6956, '일어나지': 6957, '먹었으니까': 6958, '클래식': 6959, '땡기지': 6960, '썰고': 6961, '천리': 6962, '대용': 6963, '안되면': 6964, '죄': 6965, '해서는': 6966, '냉채': 6967, '왓': 6968, '심하지': 6969, '들어가나': 6970, '편한데': 6971, '가르쳐줘': 6972, '챙': 6973, '생겼': 6974, '샀거든': 6975, '비벼서': 6976, '대장님': 6977, '강압': 6978, '협박': 6979, '비쌈': 6980, '샀네': 6981, '짠맛': 6982, '사준': 6983, '뒀어': 6984, '좋진': 6985, '핵폭탄': 6986, '흡연': 6987, '청귤': 6988, '방지': 6989, '상관없어': 6990, '않겠어': 6991, '보고싶어': 6992, '본다고': 6993, '방산': 6994, '없어야': 6995, '군요': 6996, '좋았을': 6997, '아싸': 6998, '생리': 6999, '레펠': 7000, '식칼': 7001, '국정': 7002, '느끼하더라': 7003, '컨셉': 7004, '고소해서': 7005, '쳐야': 7006, '켜': 7007, '맛있데': 7008, '전공': 7009, '일어나자마자': 7010, '당연하죠': 7011, '디지털': 7012, '굶어': 7013, '잡은': 7014, '현지': 7015, '꿀꺽': 7016, '메추리': 7017, '남양주': 7018, '테러': 7019, '잘은': 7020, '부르면': 7021, '불안': 7022, '토레타': 7023, '무인': 7024, '닭칼국수': 7025, '안된대': 7026, '파는게': 7027, '이었을': 7028, '없을꺼': 7029, '많았던': 7030, '빠짐': 7031, '비슷하네': 7032, '도우': 7033, '시켰음': 7034, '지하철': 7035, '하얀색': 7036, '얼큰한': 7037, '효율': 7038, '젓': 7039, '본부': 7040, '있는가': 7041, '된다던데': 7042, '보내줄게': 7043, '학대': 7044, '쳤어': 7045, '하는구만': 7046, '치우고': 7047, '담주': 7048, '얹어서': 7049, '방가': 7050, '조언': 7051, '건너': 7052, '징역': 7053, '먹지마': 7054, '먹을만한': 7055, '있겠죠': 7056, '지나가는': 7057, '호두과자': 7058, '비쌀': 7059, '가위': 7060, '나왔다가': 7061, '기수': 7062, '스럽지': 7063, '보였는데': 7064, '두기': 7065, '길잖아': 7066, '사주는': 7067, '보내주고': 7068, '북경오리': 7069, '그러려나': 7070, '아두': 7071, '시나': 7072, '일어날': 7073, '함부로': 7074, '춥': 7075, '자담': 7076, '싸던데': 7077, '에서나': 7078, '육식': 7079, '싸구려': 7080, '라거': 7081, '태풍': 7082, '육포': 7083, '리오': 7084, '특정': 7085, '좋을듯': 7086, '생기지': 7087, '않을거': 7088, '체육': 7089, '모르면': 7090, '거양': 7091, '무거워': 7092, '없어짐': 7093, '그랬었지': 7094, '겠죠': 7095, '부정': 7096, '보셨어요': 7097, '박찬호': 7098, '파운드': 7099, '합쳐서': 7100, '올리브영': 7101, '딥': 7102, '생각나면': 7103, '없다는': 7104, '있는건': 7105, '하든': 7106, '사먹': 7107, '댔지': 7108, '존멋': 7109, '이별': 7110, '소라': 7111, '와는': 7112, '강해서': 7113, '갈게요': 7114, '힘들겠네': 7115, '미트볼': 7116, '들더라': 7117, '받은거야': 7118, '현충원': 7119, '오천원': 7120, '항정살': 7121, '먹은게': 7122, '혼났어': 7123, '좋겠당': 7124, '장조림': 7125, '괜찮음': 7126, '후다닥': 7127, '정확하게': 7128, '츠': 7129, '나왔었어': 7130, '세탁기': 7131, '에스프레소': 7132, '하셨나여': 7133, '기다려서': 7134, '들었던': 7135, '좋아졌구나': 7136, '번째': 7137, '응급실': 7138, '먹지만': 7139, '얔': 7140, '여럿': 7141, '어렵더라': 7142, '바르고': 7143, '답답해': 7144, '태도': 7145, '나감': 7146, '신축': 7147, '웨': 7148, '만나러': 7149, '않을텐데': 7150, '랜덤': 7151, '지구': 7152, '크겠다': 7153, '갈듯': 7154, '평발': 7155, '귀찮긴': 7156, '뜨는': 7157, '싶습니다': 7158, '필요해서': 7159, '진미채': 7160, '모으면': 7161, '홀짝': 7162, '목욕탕': 7163, '맛없을': 7164, '있는거지': 7165, '사봤는데': 7166, '기대하고': 7167, '연탄': 7168, '호주': 7169, '땡기': 7170, '주는게': 7171, '도로': 7172, '매운게': 7173, '여행가': 7174, '들도': 7175, '그럴수': 7176, '그랬던거': 7177, '퇴근길': 7178, '지내서': 7179, '다녀오셨어요': 7180, '있지는': 7181, '먹을까요': 7182, '날까': 7183, '시켜라': 7184, '이열치열': 7185, '센스': 7186, '멀더': 7187, '맞네요': 7188, '당함': 7189, '했다니까': 7190, '모르는구나': 7191, '정통': 7192, '폭파': 7193, '와중': 7194, '편의': 7195, '물어볼': 7196, '모을': 7197, '드셨네요': 7198, '끓일': 7199, '텁텁': 7200, '고르기': 7201, '특혜': 7202, '오곡': 7203, '햐': 7204, '나는거': 7205, '소수': 7206, '구름': 7207, '변하긴': 7208, '두자': 7209, '좋아하니깐': 7210, '보수': 7211, '단독': 7212, '탐방': 7213, '맛있으니': 7214, '안남': 7215, '그라탕': 7216, '병들이': 7217, '까눌레': 7218, '웃김': 7219, '들어가긴': 7220, '파구나': 7221, '나온다는': 7222, '휴대전화': 7223, '딱지': 7224, '콜렉트콜': 7225, '맛있구': 7226, '노가다': 7227, '할지도': 7228, '시러': 7229, '어울리더라': 7230, '테이크아웃': 7231, '할게요': 7232, '두피': 7233, '가능할': 7234, '파스': 7235, '돌아오는': 7236, '같잖아': 7237, '해주셨어': 7238, '먹엌': 7239, '들려': 7240, '맛있거든': 7241, '됐으니까': 7242, '삶아서': 7243, '넣었더니': 7244, '음악': 7245, '걸리지': 7246, '남해': 7247, '편했는데': 7248, '안감': 7249, '먹는당': 7250, '클리어': 7251, '차이점': 7252, '졸랭': 7253, '가다가': 7254, '레모네이드': 7255, '말려': 7256, '계시': 7257, '드시는': 7258, '충생': 7259, '힘듬': 7260, '금제': 7261, '당하지': 7262, '괜찮았던': 7263, '플러스': 7264, '찬스': 7265, '나와요': 7266, '나간다고': 7267, '족보': 7268, '일회용': 7269, '국회의원': 7270, '킹크랩': 7271, '까먹었다': 7272, '복불복': 7273, '찾아보면': 7274, '그러노': 7275, '가가': 7276, '끝났지': 7277, '쩝': 7278, '촉촉한': 7279, '차라': 7280, '생겼다': 7281, '품은': 7282, '시청': 7283, '몰랐다': 7284, '블리': 7285, '와요': 7286, '송이': 7287, '모시': 7288, '성공할': 7289, '멜론': 7290, '체포': 7291, '어땠어요': 7292, '포만': 7293, '그리구': 7294, '하던데요': 7295, '프링글스': 7296, '드림': 7297, '계열': 7298, '재밌었지': 7299, '지낼': 7300, '반지': 7301, '깔끔해': 7302, '되냐고': 7303, '오냐': 7304, '먹는거가': 7305, '다닌': 7306, '푸핫': 7307, '홍시': 7308, '싸워서': 7309, '징계': 7310, '발령': 7311, '명령': 7312, '오는거': 7313, '볼게요': 7314, '섞은': 7315, '젖은': 7316, '있으신': 7317, '먹어야하는데': 7318, '궁금한게': 7319, '사오는': 7320, '좋아하던데': 7321, '심하네': 7322, '에슐리': 7323, '메밀국수': 7324, '덥': 7325, '그다음': 7326, '살아야지': 7327, '저렴하고': 7328, '의심': 7329, '원샷': 7330, '아샷추': 7331, '방도': 7332, '하던가': 7333, '닭똥집': 7334, '점검': 7335, '률': 7336, '해물파전': 7337, '줄어들어서': 7338, '구워주는': 7339, '헛': 7340, '고도': 7341, '하려니': 7342, '달려': 7343, '뱃속': 7344, '눌러': 7345, '야한다고': 7346, '분단국가': 7347, '손가락': 7348, '튀긴거': 7349, '똑같을': 7350, '도구': 7351, '이요': 7352, '스윗': 7353, '입안': 7354, '명태': 7355, '영장': 7356, '맛있겠노': 7357, '거제도': 7358, '먹어야겠': 7359, '댔어': 7360, '생각나는데': 7361, '찾아보자': 7362, '농심': 7363, '배고파요': 7364, '유치원': 7365, '두는': 7366, '당연하': 7367, '목구멍': 7368, '주먹': 7369, '받는거': 7370, '올리브유': 7371, '성과': 7372, '줬어요': 7373, '줘요': 7374, '삼다수': 7375, '중위': 7376, '커피집': 7377, '그립지': 7378, '봣': 7379, '틀': 7380, '찻잎': 7381, '재밌다': 7382, '울릉도': 7383, '담날': 7384, '독특한': 7385, '알약': 7386, '그래라': 7387, '이불': 7388, '돌리고': 7389, '일수': 7390, '아포': 7391, '학력': 7392, '간짜장': 7393, '안좋다고': 7394, '장가': 7395, '갑오징어': 7396, '어째서': 7397, '독수리': 7398, '이거야': 7399, '자라': 7400, '사태': 7401, '먄': 7402, '받았을': 7403, '됐음': 7404, '받아도': 7405, '해가지고': 7406, '밴드': 7407, '나긴': 7408, '공개': 7409, '너겟': 7410, '촬영': 7411, '검열': 7412, '베리': 7413, '더워': 7414, '건대': 7415, '유시진': 7416, '듣긴': 7417, '우왕': 7418, '찌겠다': 7419, '종목': 7420, '만들었는데': 7421, '다니면': 7422, '받던데': 7423, '먹고있어': 7424, '빨간색': 7425, '힘들진': 7426, '하더나': 7427, '먹었오': 7428, '허브': 7429, '이스라엘': 7430, '그러긴': 7431, '소지': 7432, '핑계': 7433, '장도': 7434, '혹은': 7435, '칠리': 7436, '드릴게요': 7437, '있을텐데': 7438, '써야지': 7439, '많은게': 7440, '그렇다던데': 7441, '먹든가': 7442, '소음': 7443, '바보': 7444, '돌파': 7445, '않았냐': 7446, '백설기': 7447, '립톤': 7448, '긱사': 7449, '남양': 7450, '오긴': 7451, '끝남': 7452, '잘하나': 7453, '스킵': 7454, '맵기': 7455, '뭐랄까': 7456, '그러면서': 7457, '아픔': 7458, '에어컨': 7459, '두께': 7460, '벽': 7461, '베킨': 7462, '솔로': 7463, '유해': 7464, '됐대': 7465, '바쁘니까': 7466, '상징': 7467, '독자': 7468, '고기국수': 7469, '두툼': 7470, '람': 7471, '살잖아': 7472, '댜': 7473, '좋아지고': 7474, '줄일': 7475, '모르': 7476, '단팥빵': 7477, '삼성': 7478, '파는지': 7479, '제자': 7480, '씹히는': 7481, '지내면': 7482, '볼때': 7483, '받으면서': 7484, '추우니까': 7485, '괴롭힌': 7486, '노출': 7487, '기다리면': 7488, '사옴': 7489, '드실거에요': 7490, '왔습니다': 7491, '관물': 7492, '부르는': 7493, '멘탈': 7494, '간단하네': 7495, '다녀서': 7496, '재미없어': 7497, '마음껏': 7498, '다를까': 7499, '좋아는': 7500, '넘어가': 7501, '비슷할': 7502, '하트': 7503, '사가야지': 7504, '끝나지': 7505, '남아있어': 7506, '이오': 7507, '야무지게': 7508, '붙이': 7509, '억만': 7510, '전원': 7511, '사야해': 7512, '보넹': 7513, '이어': 7514, '먹었겠네': 7515, '하루하루': 7516, '사올': 7517, '퇴': 7518, '낭시': 7519, '촉': 7520, '배고': 7521, '체중': 7522, '안좋을': 7523, '대결': 7524, '맞아야': 7525, '루': 7526, '오예': 7527, '부엌': 7528, '하래': 7529, '되어야': 7530, '짜지': 7531, '약자': 7532, '잇나': 7533, '바로바로': 7534, '없애는': 7535, '이수': 7536, '조미료': 7537, '코스트코': 7538, '피스타치오': 7539, '복도': 7540, '보내서': 7541, '인력': 7542, '다쿠아즈': 7543, '됐구나': 7544, '날듯': 7545, '증가': 7546, '생기더라': 7547, '오늘이': 7548, '가바': 7549, '올랐대': 7550, '주사': 7551, '카페라떼': 7552, '슬러시': 7553, '떨어졌어': 7554, '먹어줘야지': 7555, '기대했는데': 7556, '먹으로': 7557, '싶겠다': 7558, '고요': 7559, '안나더라': 7560, '프리': 7561, '아니라는': 7562, '효도': 7563, '철저히': 7564, '무서웠겠다': 7565, '마셔야겠다': 7566, '도해': 7567, '는거야': 7568, '찰': 7569, '비린': 7570, '마시네': 7571, '알차게': 7572, '젤라또': 7573, '돌고': 7574, '꼼수': 7575, '웃겼어': 7576, '누락': 7577, '송정': 7578, '맛있겠어요': 7579, '아보': 7580, '해야하는데': 7581, '가능할까': 7582, '저축': 7583, '프렌치토스트': 7584, '마시니': 7585, '먹든': 7586, '영점': 7587, '말랭이': 7588, '교정': 7589, '맞았지': 7590, '같더라고요': 7591, '무서움': 7592, '하기에': 7593, '그나저나': 7594, '엑': 7595, '소개팅': 7596, '화나': 7597, '이온': 7598, '가평': 7599, '볶이': 7600, '허전해': 7601, '감사한': 7602, '별명': 7603, '심하다': 7604, '프리미엄': 7605, '밥값': 7606, '않았음': 7607, '많을까': 7608, '나더라구요': 7609, '고문': 7610, '영화관': 7611, '고프네': 7612, '팥빙수': 7613, '이상하지': 7614, '고유': 7615, '반점': 7616, '섞인': 7617, '모으고': 7618, '탕국': 7619, '잘해줘': 7620, '기록': 7621, '있을게': 7622, '된데': 7623, '만났지': 7624, '양념통닭': 7625, '파견': 7626, '서고': 7627, '두꺼운': 7628, '나갔을': 7629, '안되잖아': 7630, '샐': 7631, '싶은디': 7632, '멋있다고': 7633, '무섭고': 7634, '걸림': 7635, '시레기': 7636, '해야하는': 7637, '상승': 7638, '줄었지': 7639, '많았잖아': 7640, '좋겠지만': 7641, '했오': 7642, '흡수': 7643, '올라가면': 7644, '힘든건': 7645, '농': 7646, '놉': 7647, '많겠지': 7648, '우승': 7649, '정리정돈': 7650, '먹고싶당': 7651, '뚜쥬르': 7652, '김밥천국': 7653, '마셔야해': 7654, '박쥐': 7655, '돌아가면서': 7656, '한꺼': 7657, '착': 7658, '방공': 7659, '그랬다고': 7660, '먹었는데도': 7661, '쌌어': 7662, '짠단': 7663, '올리는': 7664, '양념감자': 7665, '사수': 7666, '오이랑': 7667, '재검': 7668, '축복': 7669, '버리더라': 7670, '떄문': 7671, '띠': 7672, '핫소스': 7673, '불족': 7674, '한일': 7675, '성심당': 7676, '교체': 7677, '고픔': 7678, '잤더니': 7679, '밀떡': 7680, '편견': 7681, '없냐고': 7682, '고마': 7683, '증': 7684, '각개': 7685, '싫어하잖아': 7686, '먹더라구요': 7687, '있기': 7688, '자야지': 7689, '간편식': 7690, '괜찮은가': 7691, '학식': 7692, '딱이다': 7693, '않구나': 7694, '쿠우': 7695, '효자': 7696, '발굴': 7697, '다양하고': 7698, '사주지': 7699, '없기': 7700, '흔한': 7701, '심보': 7702, '잇던데': 7703, '령': 7704, '사왔다': 7705, '목요일': 7706, '심하면': 7707, '성소수자': 7708, '않았니': 7709, '만났는데': 7710, '솥': 7711, '마산': 7712, '났는데': 7713, '가용': 7714, '아냐아냐': 7715, '말어': 7716, '저런거': 7717, '버티고': 7718, '드신': 7719, '멋있음': 7720, '생긴거': 7721, '로라': 7722, '알밤': 7723, '했어야': 7724, '죄책감': 7725, '죽음': 7726, '토피': 7727, '넛': 7728, '바뀌어야': 7729, '심하긴': 7730, '없나요': 7731, '알아볼게': 7732, '가능해서': 7733, '그랬겠다': 7734, '강요': 7735, '좋아하셔': 7736, '은행': 7737, '이러니까': 7738, '돌아가고': 7739, '귀가': 7740, '칸': 7741, '알다': 7742, '정석': 7743, '주소': 7744, '팬케이크': 7745, '이었어서': 7746, '여자라서': 7747, '죽아': 7748, '더덕': 7749, '복학생': 7750, '없어져': 7751, '금도': 7752, '저만': 7753, '미만': 7754, '득템': 7755, '군것질': 7756, '독일': 7757, '올리고당': 7758, '나다': 7759, '넉넉히': 7760, '팽이버섯': 7761, '금리': 7762, '줄줄': 7763, '줄었으면': 7764, '나네요': 7765, '땡기네요': 7766, '보였어': 7767, '안타까워': 7768, '멋있던데': 7769, '멋있더라고': 7770, '지내지': 7771, '생겼을': 7772, '되었다': 7773, '전세계': 7774, '좋으니': 7775, '할것': 7776, '좋다더라': 7777, '분야': 7778, '인당': 7779, '따신': 7780, '학점': 7781, '있다네': 7782, '윤아': 7783, '젊은이': 7784, '달까': 7785, '가래': 7786, '쓰잖아': 7787, '싫어요': 7788, '하면서도': 7789, '땡기던데': 7790, '순서': 7791, '아나고': 7792, '꼬마': 7793, '딩': 7794, '힘들지는': 7795, '차면': 7796, '나온다더라': 7797, '국적': 7798, '사가': 7799, '아니어서': 7800, '있을꺼야': 7801, '받다가': 7802, '나시': 7803, '살찐': 7804, '몽탄': 7805, '낙하': 7806, '깨고': 7807, '하셨': 7808, '되는디': 7809, '간다더라': 7810, '가리비': 7811, '다녔지': 7812, '아우': 7813, '붙은': 7814, '쓴맛': 7815, '이태원': 7816, '심하더라': 7817, '뜯어서': 7818, '노맛': 7819, '쓰려고': 7820, '낮은': 7821, '배부르고': 7822, '개수': 7823, '헤이즐넛': 7824, '먹던가': 7825, '투게더': 7826, '매달': 7827, '핀': 7828, '연속': 7829, '노르웨이': 7830, '두시': 7831, '어려워서': 7832, '머금': 7833, '아프다고': 7834, '빛': 7835, '하우스': 7836, '가벼워': 7837, '사놓고': 7838, '요일': 7839, '번갈아': 7840, '봤더니': 7841, '까는': 7842, '많아도': 7843, '보냈냐': 7844, '신은': 7845, '그렇고만': 7846, '고소하니': 7847, '검정색': 7848, '많았다': 7849, '우리엄마': 7850, '힘들었대': 7851, '부지런히': 7852, '어렵': 7853, '드셨': 7854, '기억나요': 7855, '친했어': 7856, '어울리긴': 7857, '살찌고': 7858, '갈텐데': 7859, '싶단': 7860, '세척': 7861, '부각': 7862, '일거': 7863, '윤형빈': 7864, '기대해': 7865, '주의': 7866, '찜질방': 7867, '노동': 7868, '어떨지': 7869, '석': 7870, '구내식당': 7871, '마시진': 7872, '하겠는데': 7873, '참자': 7874, '되는거지': 7875, '싫음': 7876, '샀어요': 7877, '오자': 7878, '되더라구요': 7879, '버리지': 7880, '그런대': 7881, '기어': 7882, '방위산업': 7883, '생각나지': 7884, '그렇겠죠': 7885, '지나가다': 7886, '넼': 7887, '먹구나': 7888, '편하잖아': 7889, '글쿤': 7890, '지내다': 7891, '걸음': 7892, '메타': 7893, '했는': 7894, '만나지': 7895, '간거': 7896, '버렸네': 7897, '있기는': 7898, '엄청나지': 7899, '유래': 7900, '풀빵': 7901, '맞아도': 7902, '돌솥': 7903, '연구원': 7904, '사오고': 7905, '일텐데': 7906, '채우면': 7907, '교대': 7908, '트리': 7909, '주일': 7910, '같지는': 7911, '먹었다니': 7912, '하시고': 7913, '비슷해서': 7914, '무술': 7915, '솔솔': 7916, '상위': 7917, '이상하다': 7918, '귀리': 7919, '미쳐': 7920, '혁신': 7921, '오리탕': 7922, '풀이': 7923, '댔나': 7924, '청송': 7925, '았': 7926, '면세점': 7927, '멍게': 7928, '진해서': 7929, '키워서': 7930, '텐동': 7931, '바르기': 7932, '진지': 7933, '짧지': 7934, '파르페': 7935, '피곤': 7936, '유럽': 7937, '찍고': 7938, '타령': 7939, '일종': 7940, '필요한데': 7941, '필': 7942, '머루': 7943, '소원': 7944, '굶고': 7945, '키도': 7946, '부족': 7947, '순식간': 7948, '에버랜드': 7949, '온건': 7950, '쭉쭉': 7951, '기름지고': 7952, '사먹어야지': 7953, '멕': 7954, '낙곱새': 7955, '다치는': 7956, '들어가니까': 7957, '권유': 7958, '맡으면': 7959, '확보': 7960, '쉬운데': 7961, '없었다': 7962, '껀': 7963, '믿을': 7964, '고소공포증': 7965, '쉬어': 7966, '흘리면서': 7967, '난사': 7968, '멀었어': 7969, '도장': 7970, '살치': 7971, '배워서': 7972, '집어': 7973, '추워져서': 7974, '강하게': 7975, '있노': 7976, '수권': 7977, '떡국': 7978, '맛없다고': 7979, '집가서': 7980, '아쉬운대로': 7981, '맛보고': 7982, '쉽': 7983, '익은': 7984, '않았던': 7985, '여섯': 7986, '먹는건데': 7987, '피스': 7988, '지게': 7989, '웃기던데': 7990, '빵빵': 7991, '났지': 7992, '난이': 7993, '시켰': 7994, '하려': 7995, '가겠어': 7996, '박고': 7997, '배부른데': 7998, '아니까': 7999, '같은걸': 8000, '소변': 8001, '화요일': 8002, '작고': 8003, '걘': 8004, '잔다': 8005, '야구': 8006, '지연': 8007, '올라간': 8008, '어려서': 8009, '상무': 8010, '신선도': 8011, '그런다고': 8012, '비싸던데': 8013, '수료식': 8014, '잘생김': 8015, '되어있는': 8016, '땡겼어': 8017, '맛살': 8018, '신나': 8019, '흘려': 8020, '않았을': 8021, '풀무원': 8022, '넘은': 8023, '말까': 8024, '참으면': 8025, '싶대': 8026, '시켜주면': 8027, '합시다': 8028, '다르겠지': 8029, '준거': 8030, '파스쿠치': 8031, '참나': 8032, '돼도': 8033, '해봤다': 8034, '좋아하시나': 8035, '담달': 8036, '감탄': 8037, '되야': 8038, '객': 8039, '입학': 8040, '까서': 8041, '어유': 8042, '적당': 8043, '인스턴트': 8044, '재밌는데': 8045, '지하': 8046, '탈락': 8047, '달콤한': 8048, '심정': 8049, '가벼운': 8050, '스파이': 8051, '지능': 8052, '는거': 8053, '속상하다': 8054, '분단': 8055, '더울': 8056, '능이': 8057, '봤오': 8058, '성공한': 8059, '걸리고': 8060, '센터': 8061, '올림픽': 8062, '양장': 8063, '결': 8064, '끝난': 8065, '작게': 8066, '아쉬워요': 8067, '늦게까지': 8068, '터지는': 8069, '다녀왔어요': 8070, '주머니': 8071, '사볼까': 8072, '랍': 8073, '이러나': 8074, '특징': 8075, '부러웠어': 8076, '지킴': 8077, '외진': 8078, '철조망': 8079, '됐': 8080, '죽겠음': 8081, '이뻐': 8082, '큐': 8083, '견디기': 8084, '우롱차': 8085, '맛있겠더라': 8086, '구비': 8087, '체라': 8088, '들어갔다': 8089, '오토바이': 8090, '위반': 8091, '모닝커피': 8092, '비싸게': 8093, '엄빠': 8094, '누워서': 8095, '쏴서': 8096, '쏘주': 8097, '개그': 8098, '기관': 8099, '엘리트': 8100, '나왔으니까': 8101, '가보고싶어': 8102, '사먹으면': 8103, '타격': 8104, '오더': 8105, '재밌음': 8106, '아쉽게도': 8107, '무섭네': 8108, '광': 8109, '롯': 8110, '펑펑': 8111, '알탕': 8112, '같구': 8113, '멋진데': 8114, '물냉': 8115, '마련': 8116, '색동': 8117, '지단': 8118, '없구': 8119, '많드': 8120, '어렵겠지': 8121, '춥겠다': 8122, '윙봉': 8123, '시키니까': 8124, '힘내라고': 8125, '약해': 8126, '가서는': 8127, '그린티': 8128, '신기하지': 8129, '훌': 8130, '서너': 8131, '로서': 8132, '손목': 8133, '했던것': 8134, '하지도': 8135, '긴해': 8136, '살라': 8137, '곰팡이': 8138, '먹고싶었는데': 8139, '다녀오자': 8140, '이겨': 8141, '섭섭해': 8142, '졌어': 8143, '짤릴': 8144, '고여': 8145, '기다리면서': 8146, '임용': 8147, '잇어서': 8148, '대선': 8149, '됐겠다': 8150, '싶어진다': 8151, '일자리': 8152, '묵밥': 8153, '들었을': 8154, '메리': 8155, '분홍색': 8156, '돌려도': 8157, '맛없': 8158, '잊고': 8159, '오른': 8160, '봤는디': 8161, '짜파구리': 8162, '송송': 8163, '퇴사': 8164, '슬픈데': 8165, '떨면서': 8166, '맞을걸': 8167, '안함': 8168, '안부': 8169, '싫어함': 8170, '곱빼기': 8171, '오믈렛': 8172, '찾을': 8173, '단가': 8174, '글코': 8175, '목돈': 8176, '믿기지가': 8177, '마시겠어': 8178, '올라갈수록': 8179, '찌게': 8180, '오면서': 8181, '우회': 8182, '없을거': 8183, '해봤자': 8184, '나가기도': 8185, '놀램': 8186, '아닌것': 8187, '가져와': 8188, '먹듯': 8189, '진하고': 8190, '반년': 8191, '새삼': 8192, '북핵': 8193, '싶었어요': 8194, '하겠더라': 8195, '투표': 8196, '아이스커피': 8197, '쓰니': 8198, '사무': 8199, '쿼터': 8200, '전수': 8201, '닫아': 8202, '느끼할': 8203, '되는건': 8204, '사양': 8205, '했었다': 8206, '익혀서': 8207, '경대': 8208, '입금': 8209, '자기계발': 8210, '볼려고': 8211, '보양식': 8212, '선글라스': 8213, '달라질': 8214, '어따': 8215, '블루': 8216, '말아야': 8217, '작은거': 8218, '하시네': 8219, '놀리는': 8220, '사오자': 8221, '면역': 8222, '좋아하려나': 8223, '심한데': 8224, '차서': 8225, '삭제': 8226, '메시지': 8227, '없을거야': 8228, '치기': 8229, '외모': 8230, '잇게': 8231, '포테토칩': 8232, '찍기': 8233, '궁금하더라': 8234, '교련': 8235, '이런데': 8236, '비빔냉면': 8237, '떨어지는': 8238, '트와이스': 8239, '미달': 8240, '에엥': 8241, '년생': 8242, '뱀': 8243, '들러서': 8244, '넣지': 8245, '치고는': 8246, '낀데': 8247, '하믄': 8248, '부르더라': 8249, '죽겠는데': 8250, '땡기면': 8251, '줬다고': 8252, '하고싶네': 8253, '게이': 8254, '들어갔지': 8255, '팔보채': 8256, '좋았어요': 8257, '다녀오고': 8258, '시키면서': 8259, '났을': 8260, '좋아지면': 8261, '지키느라': 8262, '위험하긴': 8263, '치밥': 8264, '이럼': 8265, '전집': 8266, '같당': 8267, '뭔들': 8268, '바짝': 8269, '달라지지': 8270, '끓이기만': 8271, '알고리즘': 8272, '비려': 8273, '아녔어': 8274, '많았겠다': 8275, '상종': 8276, '열차': 8277, '나요': 8278, '칼집': 8279, '주황색': 8280, '생각나고': 8281, '비어': 8282, '존': 8283, '적있어': 8284, '맛점': 8285, '갔었어요': 8286, '아쉬운': 8287, '나오겠다': 8288, '달러': 8289, '놓으면': 8290, '편해져서': 8291, '감소': 8292, '태': 8293, '중단': 8294, '했노': 8295, '형태': 8296, '마셨다': 8297, '가고싶지': 8298, '녹아서': 8299, '그러는거': 8300, '구랭': 8301, '의원': 8302, '마늘빵': 8303, '기합': 8304, '나오라': 8305, '보내줄까': 8306, '말아야지': 8307, '바라': 8308, '섴': 8309, '사유': 8310, '오세요': 8311, '지냈지': 8312, '스무': 8313, '깐요': 8314, '싸울': 8315, '좋아하네요': 8316, '압구정': 8317, '겁': 8318, '자판기': 8319, '책임감': 8320, '피치': 8321, '하신대': 8322, '이긴해': 8323, '피곤하네': 8324, '린': 8325, '계시는': 8326, '춤': 8327, '나트륨': 8328, '입구': 8329, '부셔': 8330, '됐었나': 8331, '오십': 8332, '미련': 8333, '이러면': 8334, '늘었어': 8335, '공백': 8336, '벌잖아': 8337, '생겼잖아': 8338, '자매': 8339, '맛있더라고요': 8340, '기다리지': 8341, '국밥집': 8342, '자는데': 8343, '내리는': 8344, '마스터': 8345, '지를': 8346, '몫': 8347, '학사': 8348, '떨어지더라': 8349, '외할아버지': 8350, '본데': 8351, '망했어': 8352, '준다더라': 8353, '할로윈': 8354, '몰': 8355, '싫대': 8356, '정신과': 8357, '겄': 8358, '쿨하게': 8359, '뜨고': 8360, '알밥': 8361, '온갖': 8362, '올라갈': 8363, '멋있을': 8364, '짜증난다': 8365, '맛있었': 8366, '모금': 8367, '됬어': 8368, '해와서': 8369, '실장': 8370, '비축': 8371, '함량': 8372, '해볼래': 8373, '빼곤': 8374, '연관': 8375, '해주던데': 8376, '넣었는데': 8377, '삼양라면': 8378, '만드는데': 8379, '나오게': 8380, '놀러와': 8381, '넣은거': 8382, '라자냐': 8383, '없넹': 8384, '버티면': 8385, '라기': 8386, '레인보우': 8387, '맙소사': 8388, '유기농': 8389, '가봤나': 8390, '일어나야': 8391, '하제': 8392, '여의도': 8393, '다양하네': 8394, '기갑': 8395, '나가기': 8396, '는다': 8397, '별미': 8398, '뭉쳐서': 8399, '머핀': 8400, '더라구요': 8401, '훗': 8402, '머겅': 8403, '쿠나': 8404, '잡혀': 8405, '해준다': 8406, '안가는게': 8407, '달도': 8408, '같으면서도': 8409, '알긴': 8410, '노란색': 8411, '정복': 8412, '먹을거면': 8413, '안내': 8414, '맞췄어': 8415, '존버': 8416, '바디': 8417, '가까운데': 8418, '황리': 8419, '쳐다도': 8420, '황도': 8421, '이영자': 8422, '필요한거': 8423, '원주': 8424, '생일상': 8425, '오겠지': 8426, '많았나': 8427, '나왔구나': 8428, '하는것': 8429, '학비': 8430, '로봇': 8431, '과로': 8432, '패딩': 8433, '팔어': 8434, '먹었자': 8435, '유가': 8436, '사놨어': 8437, '왔으니까': 8438, '돌아가면': 8439, '텐': 8440, '갔더니': 8441, '새롭게': 8442, '국내': 8443, '넣는거': 8444, '다치면': 8445, '소대': 8446, '밥버거': 8447, '터질': 8448, '챙길': 8449, '평': 8450, '맞이': 8451, '가증': 8452, '커트라인': 8453, '보트': 8454, '무우': 8455, '상반기': 8456, '고픈': 8457, '적었나': 8458, '새록새록': 8459, '소방': 8460, '나가게': 8461, '사먹자': 8462, '맛있겠네요': 8463, '마린': 8464, '점심식사': 8465, '그러려니': 8466, '짧다고': 8467, '버티지': 8468, '부페': 8469, '좋겠지': 8470, '파도': 8471, '업그레이드': 8472, '조심해서': 8473, '어쩌면': 8474, '장발': 8475, '스틱': 8476, '늦지': 8477, '먹었더라': 8478, '될지도': 8479, '먹는다는데': 8480, '별개': 8481, '재고': 8482, '어쩐': 8483, '만으로': 8484, '깨끗한': 8485, '샘해밍턴': 8486, '틀린': 8487, '겁니다': 8488, '불안해': 8489, '보냈는데': 8490, '겨울철': 8491, '건강해서': 8492, '걷고': 8493, '놀다': 8494, '전략': 8495, '티브이': 8496, '전화할': 8497, '먹는다며': 8498, '가심': 8499, '좋아하셔서': 8500, '숭늉': 8501, '있는지도': 8502, '입니당': 8503, '봐야해': 8504, '떼': 8505, '놔야지': 8506, '먹었었지': 8507, '잘만': 8508, '젊을': 8509, '대단하더라': 8510, '궁금하기도': 8511, '반동': 8512, '추우면': 8513, '장바구니': 8514, '해줄래': 8515, '모를까': 8516, '토종': 8517, '안동찜닭': 8518, '대잖아': 8519, '립': 8520, '가던': 8521, '사촌형': 8522, '참외': 8523, '할줄': 8524, '없을껄': 8525, '구석': 8526, '싫어하지': 8527, '있었던거': 8528, '일어': 8529, '성폭력': 8530, '맛있니': 8531, '너무한다': 8532, '놀자': 8533, '찐한': 8534, '그러려고': 8535, '피로': 8536, '해서요': 8537, '데모': 8538, '구호': 8539, '홍합': 8540, '에서라도': 8541, '않죠': 8542, '사촌오빠': 8543, '가봐야겠어요': 8544, '핫초코': 8545, '세탁': 8546, '볼라': 8547, '어렵네': 8548, '무쳐': 8549, '초록': 8550, '식량': 8551, '좋겠다고': 8552, '꼈어': 8553, '싸길래': 8554, '땡기고': 8555, '다니냐': 8556, '묵어': 8557, '꽂혀서': 8558, '신기하게': 8559, '웃겨서': 8560, '해볼게요': 8561, '비상식량': 8562, '줄었대': 8563, '뽑기': 8564, '평양': 8565, '팔잖아': 8566, '친해': 8567, '먹겠던데': 8568, '부라타': 8569, '픽': 8570, '다드': 8571, '힘드시겠다': 8572, '올라오고': 8573, '야생동물': 8574, '나으려나': 8575, '수급': 8576, '액젓': 8577, '지키는게': 8578, '자의': 8579, '늙었어': 8580, '절임': 8581, '매웠어': 8582, '맵삭': 8583, '각도': 8584, '하는데도': 8585, '줬음': 8586, '때리면': 8587, '왔네요': 8588, '다니네': 8589, '비슷하니까': 8590, '사라졌어': 8591, '시끄러워서': 8592, '재택': 8593, '잡자': 8594, '같았어요': 8595, '안쓰럽다': 8596, '실망했어': 8597, '생각나요': 8598, '하시던데': 8599, '없인': 8600, '택시': 8601, '많다는': 8602, '보내주려고': 8603, '만발': 8604, '싶냐': 8605, '막히게': 8606, '교차': 8607, '짧아졌어': 8608, '물컹': 8609, '평냉': 8610, '반납': 8611, '그럴꺼': 8612, '투스타': 8613, '처넌': 8614, '콘프레이크': 8615, '부럽긴': 8616, '줬': 8617, '왔던': 8618, '보냈다': 8619, '어땠는데': 8620, '찡': 8621, '생산': 8622, '애정': 8623, '갔던거': 8624, '제보': 8625, '궁금해요': 8626, '아깝잖아': 8627, '드시': 8628, '홍루이젠': 8629, '같은거도': 8630, '없어지지': 8631, '가로': 8632, '맹장': 8633, '페퍼로니': 8634, '단위': 8635, '싫어하더라': 8636, '없었네': 8637, '여지': 8638, '그렇진': 8639, '있겠구나': 8640, '아프네': 8641, '있는데도': 8642, '밤샘': 8643, '나니': 8644, '조류독감': 8645, '홍진영': 8646, '관사': 8647, '민': 8648, '외우고': 8649, '가지구': 8650, '받으니까': 8651, '연어초밥': 8652, '힘들꺼': 8653, '높지': 8654, '도나': 8655, '커리어': 8656, '오메': 8657, '않으니': 8658, '본지': 8659, '편하더라': 8660, '갈껄': 8661, '리나': 8662, '다양하더라': 8663, '시인': 8664, '욕구': 8665, '올리면': 8666, '구미': 8667, '삽': 8668, '책임': 8669, '신혼': 8670, '부활': 8671, '약해서': 8672, '기억나네': 8673, '방서': 8674, '방치': 8675, '대령': 8676, '비서': 8677, '그럴거야': 8678, '무국': 8679, '비쥬': 8680, '다인': 8681, '안되네요': 8682, '자바': 8683, '해주겠네': 8684, '질렸어': 8685, '되자마자': 8686, '도서관': 8687, '기선': 8688, '사모님': 8689, '막는': 8690, '나오는구나': 8691, '있당': 8692, '대가리': 8693, '이이': 8694, '쑥': 8695, '돌아서면': 8696, '절차': 8697, '구랫': 8698, '해시': 8699, '좋구': 8700, '다녔어': 8701, '탄도': 8702, '지리': 8703, '준비물': 8704, '는': 8705, '있습니까': 8706, '호수': 8707, '비슷한가': 8708, '무교': 8709, '다녀왔': 8710, '멋지네': 8711, '오백원': 8712, '기다려야': 8713, '하던디': 8714, '짜고': 8715, '신입': 8716, '어딘가': 8717, '사먹어야': 8718, '여론': 8719, '쓰다': 8720, '시집': 8721, '나주': 8722, '기행': 8723, '메일': 8724, '역전': 8725, '넘었네': 8726, '아팠어': 8727, '녹색': 8728, '만들어야': 8729, '부실하게': 8730, '코코팜': 8731, '구워도': 8732, '시비': 8733, '매울': 8734, '엽기': 8735, '괴롭혔어': 8736, '좋아졌어요': 8737, '알았잖아': 8738, '질리는': 8739, '자나요': 8740, '그렇다더라': 8741, '삐빅': 8742, '꼬들': 8743, '크레이프': 8744, '들리는': 8745, '익힌': 8746, '한가지': 8747, '고쳐야': 8748, '있었을까': 8749, '보충대': 8750, '개복': 8751, '머글': 8752, '하시나': 8753, '만들었다고': 8754, '살다': 8755, '맡고': 8756, '수많은': 8757, '먹더니': 8758, '로나': 8759, '포스': 8760, '쟨': 8761, '감고': 8762, '특이하네': 8763, '오늘아침': 8764, '짧아지고': 8765, '견학': 8766, '불러서': 8767, '하셨습니까': 8768, '이었': 8769, '좋지도': 8770, '관리자': 8771, '뻥': 8772, '뚱카롱': 8773, '이탈리아': 8774, '고르곤졸라': 8775, '쫀득쫀득': 8776, '입는데': 8777, '귀염둥이': 8778, '엄두': 8779, '올만에': 8780, '뛰어': 8781, '갔어야': 8782, '대치': 8783, '할꺼야': 8784, '빠바': 8785, '갔으니까': 8786, '괜찮았나': 8787, '잤나': 8788, '아니었는데': 8789, '지속': 8790, '손도끼': 8791, '새우도': 8792, '샤이니': 8793, '왔더라': 8794, '지냈니': 8795, '들어가니': 8796, '밀어': 8797, '다치고': 8798, '신포': 8799, '가져가': 8800, '나오는거야': 8801, '행복하다': 8802, '빠지지': 8803, '알겠습니다': 8804, '날인': 8805, '보여줄게': 8806, '두봉': 8807, '알겠어요': 8808, '그랬었나': 8809, '중반': 8810, '아르바이트': 8811, '그랬네': 8812, '강하': 8813, '수출': 8814, '곁들여': 8815, '아퍼': 8816, '철판': 8817, '씻는': 8818, '명랑': 8819, '멀었지': 8820, '오셈': 8821, '없진': 8822, '흙': 8823, '수저': 8824, '같아용': 8825, '시세': 8826, '따서': 8827, '물병': 8828, '박서방': 8829, '달인': 8830, '비무장지대': 8831, '강인한': 8832, '담그는': 8833, '웰치스': 8834, '몰티저스': 8835, '싸우고': 8836, '첨단': 8837, '부찌': 8838, '겜': 8839, '오죽': 8840, '욜': 8841, '깔': 8842, '이십': 8843, '보드': 8844, '하나같이': 8845, '까다로운': 8846, '용산': 8847, '레이즈': 8848, '스티커': 8849, '먹었넹': 8850, '터미널': 8851, '받는구나': 8852, '해보니깐': 8853, '친한친구': 8854, '꽁': 8855, '검은색': 8856, '피티': 8857, '불쌍한': 8858, '진즉': 8859, '무서웠지': 8860, '교통': 8861, '이긴한데': 8862, '일일': 8863, '다녔는데': 8864, '싶구나': 8865, '조용하고': 8866, '이잖아': 8867, '지나갈': 8868, '모과차': 8869, '나온데': 8870, '받기도': 8871, '들더라구요': 8872, '갔더라': 8873, '환승': 8874, '조심해야겠다': 8875, '하남': 8876, '김장': 8877, '윙': 8878, '거길': 8879, '꼬맹이': 8880, '주년': 8881, '절편': 8882, '떨려': 8883, '포카리스웨트': 8884, '뜸': 8885, '받구': 8886, '나겠다': 8887, '저건': 8888, '유튜': 8889, '버들': 8890, '살려서': 8891, '무기체계': 8892, '물어봐도': 8893, '모르니깐': 8894, '밭': 8895, '편하다': 8896, '놨는데': 8897, '몰랑': 8898, '그렇겠네요': 8899, '가사': 8900, '느껴지지': 8901, '기력': 8902, '마라샹궈': 8903, '없노': 8904, '믿음': 8905, '어이없네': 8906, '갑질': 8907, '꾸리': 8908, '고로': 8909, '무섭긴': 8910, '갈라': 8911, '다담': 8912, '린다': 8913, '감당': 8914, '필수품': 8915, '모르겠': 8916, '엘에이': 8917, '느껴진다': 8918, '소맥': 8919, '야할텐데': 8920, '난대': 8921, '고향': 8922, '노답': 8923, '받는대': 8924, '충분해': 8925, '성분': 8926, '번데기': 8927, '신나서': 8928, '싸니까': 8929, '해줘요': 8930, '닭찜': 8931, '무늬': 8932, '정시': 8933, '안타깝네': 8934, '물어보니까': 8935, '무가': 8936, '인지도': 8937, '일리': 8938, '살다가': 8939, '흰밥': 8940, '역병': 8941, '작가': 8942, '귀엽지': 8943, '전향': 8944, '튀도': 8945, '쉬는데': 8946, '챙겨주고': 8947, '이해해': 8948, '필라프': 8949, '했거든요': 8950, '컵누': 8951, '하시면': 8952, '그렇더라구요': 8953, '빠': 8954, '실시': 8955, '말린': 8956, '역대': 8957, '들여': 8958, '일상생활': 8959, '컬': 8960, '꺄': 8961, '없었을': 8962, '소자': 8963, '믹서기': 8964, '기피': 8965, '폴바': 8966, '다닌다': 8967, '없어졌대': 8968, '비우고': 8969, '전기밥솥': 8970, '압력솥': 8971, '다다': 8972, '먹었닝': 8973, '사먹지': 8974, '가르쳐': 8975, '오타': 8976, '죽으면': 8977, '추진': 8978, '후훗': 8979, '시키기': 8980, '봤겠다': 8981, '간단하게라도': 8982, '먹고도': 8983, '좋은가': 8984, '내꺼': 8985, '팔았어': 8986, '끌려가는': 8987, '사조': 8988, '좋아하구나': 8989, '멀쩡한': 8990, '김칫국': 8991, '지원이': 8992, '안달': 8993, '광코': 8994, '소용': 8995, '지나간': 8996, '간간히': 8997, '부족한': 8998, '배부름': 8999, '직화': 9000, '여자애': 9001, '먹어주면': 9002, '법도': 9003, '생강차': 9004, '큰데': 9005, '부드럽게': 9006, '승리': 9007, '뽑아서': 9008, '팔아도': 9009, '브리또': 9010, '범벅': 9011, '지키지': 9012, '토욜': 9013, '알코올': 9014, '필요하긴': 9015, '사제': 9016, '조아해': 9017, '몽셀': 9018, '폭로': 9019, '짠해': 9020, '뒀다': 9021, '긋': 9022, '휴식': 9023, '하는디': 9024, '속상해': 9025, '담백한': 9026, '넣었다': 9027, '이기는': 9028, '말리': 9029, '좋았나': 9030, '이라더라': 9031, '낮아서': 9032, '하겠구나': 9033, '칸타타': 9034, '사왔': 9035, '좀비': 9036, '재첩국': 9037, '볼일': 9038, '빠져가지고': 9039, '좋아해여': 9040, '생식': 9041, '가물가물': 9042, '주민': 9043, '백도': 9044, '창녕': 9045, '어보': 9046, '했구만': 9047, '크대': 9048, '산속': 9049, '힘들겠어요': 9050, '울컥': 9051, '형식': 9052, '군법무관': 9053, '순찰': 9054, '하시죠': 9055, '이직': 9056, '인거야': 9057, '녹': 9058, '쌓아': 9059, '안무': 9060, '맞았음': 9061, '부려': 9062, '적응하고': 9063, '또꼰': 9064, '언급': 9065, '과목': 9066, '천안': 9067, '바쁘네': 9068, '안나는데': 9069, '쩔어': 9070, '해소': 9071, '액상과당': 9072, '마늘장아찌': 9073, '막고': 9074, '하리보': 9075, '보완': 9076, '넷': 9077, '정년': 9078, '고르면': 9079, '싫어하니까': 9080, '즐거웠어': 9081, '먹일': 9082, '당해': 9083, '차리고': 9084, '콘센트': 9085, '사천원': 9086, '어울린다': 9087, '금구': 9088, '다르다고': 9089, '높은거야': 9090, '주간': 9091, '로션': 9092, '간호사': 9093, '허겁지겁': 9094, '쓰긴': 9095, '구멍': 9096, '도피': 9097, '연결': 9098, '정함': 9099, '받았': 9100, '가려나': 9101, '케냐': 9102, '거실': 9103, '전문가': 9104, '받았다': 9105, '지키기': 9106, '입문': 9107, '쪽지': 9108, '수입': 9109, '좋아졌': 9110, '정지': 9111, '팔이': 9112, '보냐': 9113, '만요': 9114, '뜨던데': 9115, '엔젤': 9116, '법카': 9117, '있거나': 9118, '찾아가는': 9119, '영웅': 9120, '계피': 9121, '똑같은데': 9122, '편해졌지': 9123, '순한': 9124, '마르': 9125, '나갈게': 9126, '물어보니': 9127, '힘들었다': 9128, '나가도': 9129, '말라': 9130, '받아야지': 9131, '원지': 9132, '배송비': 9133, '라인': 9134, '먹을께': 9135, '했단다': 9136, '모모': 9137, '학': 9138, '먹겠습니다': 9139, '가봐야겠어': 9140, '가까우면': 9141, '뜀': 9142, '안된': 9143, '줬대': 9144, '함께라면': 9145, '어찌나': 9146, '줄이는': 9147, '마십니다': 9148, '티나': 9149, '사격장': 9150, '남겨서': 9151, '죽지': 9152, '멋있어요': 9153, '맞아여': 9154, '환영': 9155, '꿀떡': 9156, '라가': 9157, '싫네': 9158, '보내는게': 9159, '비행단': 9160, '괜찮을듯': 9161, '해야겠네요': 9162, '전북': 9163, '사온다': 9164, '할려나': 9165, '일세': 9166, '효능': 9167, '덥지': 9168, '최신': 9169, '땡기는게': 9170, '제목': 9171, '극한': 9172, '들었음': 9173, '새록': 9174, '갔었거든': 9175, '주셔서': 9176, '자기개발': 9177, '답답하겠다': 9178, '피곤할': 9179, '나왔네': 9180, '어그': 9181, '브이': 9182, '뭐람': 9183, '없드': 9184, '팩트': 9185, '물어볼게': 9186, '찹': 9187, '무척': 9188, '용품': 9189, '적혀': 9190, '몰러': 9191, '챙겨야지': 9192, '좋아하는게': 9193, '안가려고': 9194, '고이': 9195, '고구마줄기': 9196, '가벼': 9197, '다른사람': 9198, '보성': 9199, '고인다': 9200, '만으로도': 9201, '라스트': 9202, '잇는거': 9203, '기다렸어': 9204, '나란': 9205, '텅': 9206, '오르고': 9207, '가든': 9208, '거일': 9209, '낫겠어': 9210, '먹겠지': 9211, '걸거야': 9212, '딱이겠다': 9213, '삶아': 9214, '헷갈려': 9215, '늙어서': 9216, '그래가지고': 9217, '파먹기': 9218, '채널': 9219, '했어서': 9220, '메기': 9221, '먹더라도': 9222, '배식': 9223, '사리는': 9224, '입혀서': 9225, '수십': 9226, '미대': 9227, '없는지': 9228, '봅시다': 9229, '받았나': 9230, '그렇나': 9231, '사료': 9232, '면수': 9233, '타르': 9234, '알찜': 9235, '저러나': 9236, '어지간하면': 9237, '실현': 9238, '수리': 9239, '오버': 9240, '나오길래': 9241, '돌아가는': 9242, '파는데가': 9243, '왔잖아': 9244, '아닌듯': 9245, '줄인다고': 9246, '걸었어': 9247, '캄': 9248, '놀라': 9249, '꽝': 9250, '뜬금없이': 9251, '맛있다는데': 9252, '덥다': 9253, '스럽다': 9254, '쓰는구나': 9255, '악의': 9256, '않을거야': 9257, '넣으니': 9258, '맛있는건': 9259, '안시': 9260, '생각날': 9261, '잘생긴': 9262, '노인': 9263, '맛있었겠': 9264, '어떠니': 9265, '최선': 9266, '자려고': 9267, '포카칩': 9268, '한단다': 9269, '데려다': 9270, '싫어해요': 9271, '해봤어요': 9272, '칼질': 9273, '낳으면': 9274, '하던가요': 9275, '평점': 9276, '중요해서': 9277, '대책': 9278, '살수': 9279, '만든다': 9280, '마시는게': 9281, '찾더라고': 9282, '힘들다더라': 9283, '랜선': 9284, '두통': 9285, '됐죠': 9286, '눈뜨면': 9287, '어렵나': 9288, '애매하게': 9289, '남도': 9290, '않았다': 9291, '술안주': 9292, '하와': 9293, '함안': 9294, '기안': 9295, '푸른': 9296, '입어보고': 9297, '우우': 9298, '사찰': 9299, '배아': 9300, '어렵잖아': 9301, '좋아하시나요': 9302, '상급자': 9303, '기다린': 9304, '코코아': 9305, '사놓으면': 9306, '통일전망대': 9307, '죽는게': 9308, '훅': 9309, '다져서': 9310, '가하면': 9311, '얻은': 9312, '역모': 9313, '똑똑한데': 9314, '나쁘지는': 9315, '먹겠구나': 9316, '시킨거': 9317, '동물성': 9318, '주요': 9319, '만나니까': 9320, '벌벌': 9321, '깍': 9322, '장관': 9323, '가져왔다': 9324, '빚': 9325, '맞았나': 9326, '부사': 9327, '잔인한': 9328, '수정과': 9329, '본방': 9330, '대단하다고': 9331, '재작년': 9332, '시키더라': 9333, '삼아': 9334, '아마추어': 9335, '긴거': 9336, '해봐도': 9337, '백퍼': 9338, '조준': 9339, '안되긴': 9340, '안되게': 9341, '성욕': 9342, '꺼냄': 9343, '들어간게': 9344, '지내나': 9345, '맞더라고': 9346, '봐야겟다': 9347, '같아서요': 9348, '된당': 9349, '아니었구나': 9350, '괜찮으세요': 9351, '붙여': 9352, '대감': 9353, '보시': 9354, '붐': 9355, '많은지': 9356, '가뜩이나': 9357, '주셨어': 9358, '수혈': 9359, '똠': 9360, '편하네': 9361, '어려': 9362, '달린': 9363, '골치': 9364, '아쉽긴': 9365, '게다': 9366, '케일': 9367, '먹거든요': 9368, '웃기더라': 9369, '특이해': 9370, '가있는': 9371, '멋지지': 9372, '사야되': 9373, '그랬더니': 9374, '일어날까': 9375, '물속': 9376, '하겠죠': 9377, '아니었던': 9378, '답변': 9379, '튀겨서': 9380, '신기해요': 9381, '않았지만': 9382, '싶은건': 9383, '멋있드': 9384, '뻔했잖아': 9385, '앎': 9386, '더치커피': 9387, '심각하더라': 9388, '온도': 9389, '한치': 9390, '지상': 9391, '소릴': 9392, '버렸': 9393, '짧아졌더라': 9394, '작용': 9395, '뇌': 9396, '놀라는': 9397, '느끼하니까': 9398, '인척': 9399, '바쁘': 9400, '부지런한': 9401, '준다는데': 9402, '잘안': 9403, '제빵': 9404, '아침식사': 9405, '멋있었어요': 9406, '뚜': 9407, '인스타그램': 9408, '집콕': 9409, '외로울': 9410, '싸대': 9411, '가질': 9412, '나왔길래': 9413, '든든한': 9414, '생각나는거': 9415, '위험할': 9416, '고등학생': 9417, '얻어서': 9418, '맛있진': 9419, '하와이': 9420, '좋아짐': 9421, '레귤러': 9422, '크다고': 9423, '겹겹이': 9424, '맞을까': 9425, '알걸': 9426, '씻었어': 9427, '싶나': 9428, '개봉': 9429, '보냈네': 9430, '버텼어': 9431, '생겼어요': 9432, '소진': 9433, '인것': 9434, '고르': 9435, '대대장': 9436, '데자': 9437, '따는': 9438, '상무지구': 9439, '왔대': 9440, '이긴하지': 9441, '뚫어': 9442, '보느라': 9443, '자연드림': 9444, '소유': 9445, '빠박': 9446, '불이익': 9447, '다사': 9448, '이나마': 9449, '운용': 9450, '멋있겠다': 9451, '고집': 9452, '원격교육': 9453, '뛰': 9454, '언양': 9455, '군번줄': 9456, '이상한거': 9457, '거얌': 9458, '교동면': 9459, '매출': 9460, '다양하지': 9461, '주거': 9462, '된듯': 9463, '깜': 9464, '에게도': 9465, '같을': 9466, '널널': 9467, '허니버터칩': 9468, '있었죠': 9469, '주노': 9470, '유튭': 9471, '더러': 9472, '괜찮으니까': 9473, '천상': 9474, '본것': 9475, '피씨': 9476, '기구': 9477, '있는걸': 9478, '없었': 9479, '배불렁': 9480, '먹자마자': 9481, '주량': 9482, '받는다던데': 9483, '요소': 9484, '어쩌나': 9485, '받았잖아': 9486, '중순': 9487, '셀프': 9488, '제적': 9489, '하십니까': 9490, '완당': 9491, '저절로': 9492, '싫어했어': 9493, '생기는데': 9494, '군납': 9495, '쪽파': 9496, '라오': 9497, '맥락': 9498, '떠서': 9499, '해주잖아': 9500, '해보고싶어': 9501, '오래전': 9502, '물어봤잖아': 9503, '동이': 9504, '림프': 9505, '눙물': 9506, '버려서': 9507, '아니겠나': 9508, '땅땅치킨': 9509, '유명': 9510, '어이없다': 9511, '심하다고': 9512, '십자': 9513, '필요하지': 9514, '필요하지만': 9515, '너무나': 9516, '아무쪼록': 9517, '추웠어': 9518, '상가': 9519, '가니깐': 9520, '난적': 9521, '단합': 9522, '했었네': 9523, '심부름': 9524, '진국': 9525, '도와주는': 9526, '꿀잠': 9527, '비투비': 9528, '서리': 9529, '달걀찜': 9530, '배터리': 9531, '시끄럽다': 9532, '준위': 9533, '기관총': 9534, '산건': 9535, '갔겠네': 9536, '바쁜가': 9537, '만드': 9538, '올듯': 9539, '닥': 9540, '보내줘서': 9541, '록': 9542, '살려줘': 9543, '가보다': 9544, '있다니까': 9545, '아깝긴': 9546, '개조': 9547, '부드러우면서': 9548, '될꺼야': 9549, '들지': 9550, '솨': 9551, '파괴': 9552, '없다더라': 9553, '오므라이스': 9554, '젊어서': 9555, '줄어들다가': 9556, '충분할': 9557, '들어주고': 9558, '선언': 9559, '퀸즈': 9560, '가세': 9561, '출산': 9562, '마쟈': 9563, '대사관': 9564, '다르던데': 9565, '보거나': 9566, '애잔해': 9567, '스러워': 9568, '아치': 9569, '되어야지': 9570, '균형': 9571, '빵또': 9572, '다녀왔으니': 9573, '간단하고': 9574, '나오는지': 9575, '약밥': 9576, '저격': 9577, '삘': 9578, '높네': 9579, '플렉스': 9580, '배부른': 9581, '않는구나': 9582, '머시기': 9583, '가고싶은': 9584, '카츄사': 9585, '높다고': 9586, '없당': 9587, '힘들텐데': 9588, '중상': 9589, '자고로': 9590, '말세': 9591, '보려고요': 9592, '조청': 9593, '안쓰럽': 9594, '없거든': 9595, '지나가는데': 9596, '퀴즈': 9597, '팔았는데': 9598, '솔트': 9599, '신기할': 9600, '똑같음': 9601, '줄었어': 9602, '학위': 9603, '싫어한다': 9604, '받느라': 9605, '누드': 9606, '숨은': 9607, '몰고': 9608, '없다던데': 9609, '나왔던거': 9610, '물기': 9611, '싫거든': 9612, '보나': 9613, '했길래': 9614, '떨려서': 9615, '했는지도': 9616, '젤로': 9617, '세무사': 9618, '윤모': 9619, '유연석': 9620, '차인': 9621, '직무': 9622, '시원해서': 9623, '본격': 9624, '술술': 9625, '겠네요': 9626, '돌아보면': 9627, '하잖아요': 9628, '변했다': 9629, '웃': 9630, '안질려': 9631, '만일': 9632, '챙기는': 9633, '상표': 9634, '받는다': 9635, '둬야지': 9636, '되었나': 9637, '전망대': 9638, '틴': 9639, '아니였구나': 9640, '짜더라': 9641, '높다': 9642, '있는듯': 9643, '하겠구만': 9644, '귀찮아도': 9645, '되노': 9646, '됐네요': 9647, '인제': 9648, '수분크림': 9649, '디게': 9650, '온몸': 9651, '껴야': 9652, '끝나길': 9653, '묵노': 9654, '맥플러리': 9655, '갈려면': 9656, '중요': 9657, '팔씨름': 9658, '까먹었어': 9659, '높게': 9660, '직후': 9661, '찹쌀떡': 9662, '어젠': 9663, '사투리': 9664, '왔다고': 9665, '미용사': 9666, '고프지': 9667, '바쁘다': 9668, '현대': 9669, '걸린대': 9670, '꾸긴': 9671, '사브': 9672, '아니겠냐': 9673, '배웠다': 9674, '대일': 9675, '이러는': 9676, '화재': 9677, '잘알': 9678, '점심밥': 9679, '깤': 9680, '나듀': 9681, '신문': 9682, '싶으세요': 9683, '낫겠네': 9684, '굶으면': 9685, '있긴해': 9686, '모드': 9687, '힘들다며': 9688, '보도록': 9689, '사가서': 9690, '파가': 9691, '짧아지긴': 9692, '나도나도': 9693, '귀한': 9694, '먹으려다': 9695, '없지는': 9696, '리기': 9697, '보름': 9698, '떠라': 9699, '먼데': 9700, '있겠는데': 9701, '항의': 9702, '빡셌': 9703, '유리': 9704, '오해': 9705, '원대': 9706, '살아있어': 9707, '장만': 9708, '질질': 9709, '치워': 9710, '넣어주고': 9711, '우연': 9712, '비싸요': 9713, '도망가고': 9714, '되겠더라': 9715, '가보니': 9716, '가거나': 9717, '즐겁게': 9718, '힘들데': 9719, '즐길': 9720, '마싯음': 9721, '샀더니': 9722, '다니던': 9723, '넘치는': 9724, '숨어서': 9725, '편하데': 9726, '그럴만도': 9727, '이었니': 9728, '나겠어': 9729, '사두': 9730, '위기': 9731, '쟁반짜장': 9732, '코팅': 9733, '되었네': 9734, '내무': 9735, '해야하지': 9736, '어떄': 9737, '않았었어': 9738, '공급': 9739, '복직': 9740, '오래됨': 9741, '텁텁해': 9742, '싸가지': 9743, '있을려나': 9744, '방울': 9745, '있어여': 9746, '생맥주': 9747, '다녀야지': 9748, '제작': 9749, '좔좔': 9750, '폭탄': 9751, '되길': 9752, '우대': 9753, '꺼면': 9754, '등원': 9755, '알았더니': 9756, '사택': 9757, '될꺼': 9758, '대공포': 9759, '돼있는': 9760, '아니었어요': 9761, '보냈지': 9762, '모이는': 9763, '어렵다고': 9764, '바이': 9765, '알려주라': 9766, '재밌고': 9767, '싸면': 9768, '다가와서': 9769, '좋아용': 9770, '하는가': 9771, '보루': 9772, '학군단': 9773, '괜찮았음': 9774, '구형': 9775, '아유': 9776, '혁명': 9777, '자존감': 9778, '성찰': 9779, '넘어가는': 9780, '개별': 9781, '식도염': 9782, '방안': 9783, '섞으면': 9784, '구별': 9785, '안되는거': 9786, '고모부': 9787, '간단한데': 9788, '암호': 9789, '안녕하십니까': 9790, '나겠지': 9791, '증진': 9792, '속상하게': 9793, '그럴려고': 9794, '놀기': 9795, '갑각류': 9796, '주적': 9797, '없이는': 9798, '죽이': 9799, '반갑습니다': 9800, '맞춤': 9801, '고른': 9802, '들이랑': 9803, '짓는': 9804, '보건': 9805, '없데': 9806, '잤네': 9807, '사냥': 9808, '확신': 9809, '먹었데': 9810, '그렇다는': 9811, '매고': 9812, '혐오': 9813, '바비큐': 9814, '좋아져야지': 9815, '장금': 9816, '시라': 9817, '그런줄': 9818, '진단': 9819, '영역': 9820, '불도': 9821, '패': 9822, '새도': 9823, '사라진대': 9824, '비린내': 9825, '박자': 9826, '헛소리': 9827, '방부제': 9828, '유명해서': 9829, '테린느': 9830, '맡아': 9831, '특산': 9832, '전화해': 9833, '다산': 9834, '빼거나': 9835, '쌓여서': 9836, '발표': 9837, '달리': 9838, '먹으셈': 9839, '같단': 9840, '우엉': 9841, '크잖아': 9842, '되겠': 9843, '보는구나': 9844, '좋아지긴': 9845, '나갔었어': 9846, '녀석': 9847, '바라보고': 9848, '툼': 9849, '않대': 9850, '너': 9851, '기류': 9852, '개복치': 9853, '원하지': 9854, '짧다': 9855, '짝꿍': 9856, '페북': 9857, '얼릉': 9858, '와의': 9859, '냉동고': 9860, '뒤늦게': 9861, '부활절': 9862, '받자마자': 9863, '소재': 9864, '엇어': 9865, '벵에돔': 9866, '만화': 9867, '원피스': 9868, '깜놀': 9869, '함박스테이크': 9870, '파인': 9871, '될껄': 9872, '남포동': 9873, '좋다이': 9874, '근래': 9875, '호르몬': 9876, '적극': 9877, '쓰는건': 9878, '큼': 9879, '비싸니까': 9880, '살아요': 9881, '칼칼한': 9882, '벌면': 9883, '재미있을': 9884, '꼬막': 9885, '만큼이나': 9886, '해당': 9887, '야': 9888, '판대': 9889, '선전': 9890, '사준다고': 9891, '딱임': 9892, '끊기': 9893, '소보': 9894, '레토나': 9895, '친해서': 9896, '들꺼': 9897, '맛없다': 9898, '갘': 9899, '외교': 9900, '댕기': 9901, '아니라도': 9902, '들어왔는데': 9903, '알았거든': 9904, '찾아봐야': 9905, '특이하다': 9906, '뜯는': 9907, '올래': 9908, '폴란드': 9909, '나간다': 9910, '들어간다고': 9911, '다녔네': 9912, '염소': 9913, '양양': 9914, '서핑': 9915, '틀렸어': 9916, '물린다': 9917, '없겠더라': 9918, '거려': 9919, '쌓고': 9920, '좌우': 9921, '돌솥비빔밥': 9922, '꽃게탕': 9923, '싸이코': 9924, '갈면': 9925, '법원': 9926, '아까는': 9927, '떴어': 9928, '먹었죠': 9929, '있는것도': 9930, '장단점': 9931, '화성': 9932, '가운데': 9933, '횟수': 9934, '힘내서': 9935, '당하고': 9936, '일어나도': 9937, '먹는다구': 9938, '수시로': 9939, '좋네잉': 9940, '대건': 9941, '에잇': 9942, '요즈음': 9943, '잡는거': 9944, '같거든': 9945, '기대할게': 9946, '좋아해도': 9947, '해놓으면': 9948, '했을걸': 9949, '차려줘': 9950, '긋네': 9951, '뒀다가': 9952, '관제': 9953, '준데': 9954, '만들수': 9955, '확실하게': 9956, '쓰던데': 9957, '경비': 9958, '붓기': 9959, '우표': 9960, '사야하나': 9961, '현명한': 9962, '찜기에': 9963, '카라': 9964, '혼나고': 9965, '괜찮겠어': 9966, '가능하나': 9967, '해주네': 9968, '싶으니까': 9969, '미혼': 9970, '떨어졌네': 9971, '숨쉬기': 9972, '수치': 9973, '고니': 9974, '불려': 9975, '받는게': 9976, '모르겠습니다': 9977, '지키려고': 9978, '나오는게': 9979, '승전': 9980, '털': 9981, '묶음': 9982, '해줄께': 9983, '혼인신고': 9984, '재밌었겠다': 9985, '마싯겠다': 9986, '싫어진다': 9987, '보내게': 9988, '페이퍼': 9989, '편해질': 9990, '설렌다': 9991, '다한': 9992, '의아': 9993, '모르겠당': 9994, '줬던': 9995, '반말': 9996, '담고': 9997, '까먹어서': 9998, '군사훈련': 9999, '쪼금': 10000, '짜다': 10001}\n"
     ]
    }
   ],
   "source": [
    "# 단어사전 로드\n",
    "with open('vocab_okt.pkl', 'rb') as f:\n",
    "    vocab = pickle.load(f)\n",
    "\n",
    "print(vocab)"
   ]
  },
  {
   "cell_type": "code",
   "execution_count": 48,
   "metadata": {},
   "outputs": [
    {
     "name": "stdout",
     "output_type": "stream",
     "text": [
      "['습도', '안', '제습기', '사려', '고', '상품', '페이지', '보고', '있었어']\n"
     ]
    }
   ],
   "source": [
    "tokenizer = Okt()\n",
    "tokenList = [token for token in tokenizer.morphs(text) if token not in stopwords]\n",
    "print(tokenList)"
   ]
  },
  {
   "cell_type": "code",
   "execution_count": 49,
   "metadata": {},
   "outputs": [
    {
     "name": "stdout",
     "output_type": "stream",
     "text": [
      "['<UNK>', '안', '<UNK>', '사려', '고', '상품', '<UNK>', '보고', '있었어']\n"
     ]
    }
   ],
   "source": [
    "for idx, token in enumerate(tokenList):\n",
    "    if token not in vocab.keys():\n",
    "        tokenList[idx] = '<UNK>'\n",
    "        \n",
    "print(tokenList)"
   ]
  },
  {
   "cell_type": "code",
   "execution_count": 50,
   "metadata": {},
   "outputs": [],
   "source": [
    "max_length = 20\n",
    "\n",
    "inputs = [vocab[token] for token in tokenList]\n",
    "\n",
    "# 최대 길이 맞추기\n",
    "if len(inputs) < max_length:\n",
    "    inputs += [vocab['<PAD>'] * (max_length - len(inputs))]\n",
    "else :\n",
    "    inputs = inputs[:max_length]\n",
    "\n",
    "# 텐서 변환\n",
    "input_tensor = torch.tensor(inputs).unsqueeze(0)"
   ]
  },
  {
   "cell_type": "code",
   "execution_count": 51,
   "metadata": {},
   "outputs": [
    {
     "name": "stdout",
     "output_type": "stream",
     "text": [
      "tensor([[-1.9258]])\n",
      "대화주제:음식 아님!, 주제가 음식일 확률:12.7%\n"
     ]
    }
   ],
   "source": [
    "# 예측\n",
    "model.eval()\n",
    "\n",
    "with torch.no_grad():\n",
    "    \n",
    "\t# 추론/평가\n",
    "    pre_y = model(input_tensor)\n",
    "    print(pre_y)\n",
    "    \n",
    "\t# 예측 결과 처리 (logits를 확률로 변환)\n",
    "    probability = torch.sigmoid(pre_y).item()\n",
    "    \n",
    "    # 결과 출력 (임계값을 0.5로 설정해 분류)\n",
    "    if probability > 0.5:\n",
    "        result =  \"음식🤤\"\n",
    "    else:\n",
    "        result =  \"음식 아님!\"\n",
    "        \n",
    "print(f'대화주제:{result}, 주제가 음식일 확률:{probability*100 :.1f}%')"
   ]
  },
  {
   "cell_type": "code",
   "execution_count": null,
   "metadata": {},
   "outputs": [],
   "source": []
  }
 ],
 "metadata": {
  "kernelspec": {
   "display_name": "TEXT_018_230_38",
   "language": "python",
   "name": "python3"
  },
  "language_info": {
   "codemirror_mode": {
    "name": "ipython",
    "version": 3
   },
   "file_extension": ".py",
   "mimetype": "text/x-python",
   "name": "python",
   "nbconvert_exporter": "python",
   "pygments_lexer": "ipython3",
   "version": "3.8.19"
  }
 },
 "nbformat": 4,
 "nbformat_minor": 2
}
