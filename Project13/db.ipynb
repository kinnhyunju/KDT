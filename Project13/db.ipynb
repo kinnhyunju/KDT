{
 "cells": [
  {
   "cell_type": "code",
   "execution_count": 1,
   "metadata": {},
   "outputs": [],
   "source": [
    "### DB에 넣을 데이터 생성 (라벨 설정에 오류가 있어서 수정하기)\n",
    "import pandas as pd"
   ]
  },
  {
   "cell_type": "code",
   "execution_count": 2,
   "metadata": {},
   "outputs": [],
   "source": [
    "foodDF = pd.read_csv('food.csv', header=None)\n",
    "petDF = pd.read_csv('pet.csv', header=None)\n",
    "healthDF = pd.read_csv('health.csv', header=None)\n",
    "milDF = pd.read_csv('military.csv', header=None)\n",
    "# 라벨링이 잘못된 데이터가 있어서 변경\n",
    "foodDF[0] = '식음료'\n",
    "milDF[0] = '군대'\n",
    "healthDF[0] = '건강'\n",
    "petDF[0] = '반려동물'"
   ]
  },
  {
   "cell_type": "code",
   "execution_count": 3,
   "metadata": {},
   "outputs": [],
   "source": [
    "healthDF.to_csv('health_1.csv',index_label=id)"
   ]
  },
  {
   "cell_type": "code",
   "execution_count": 4,
   "metadata": {},
   "outputs": [],
   "source": [
    "milDF.to_csv('military_1.csv',index_label=id)"
   ]
  },
  {
   "cell_type": "code",
   "execution_count": 5,
   "metadata": {},
   "outputs": [],
   "source": [
    "petDF.to_csv('pet_1.csv',index_label=id)"
   ]
  },
  {
   "cell_type": "code",
   "execution_count": 6,
   "metadata": {},
   "outputs": [],
   "source": [
    "foodDF.to_csv('food_1.csv',index_label=id)"
   ]
  },
  {
   "cell_type": "code",
   "execution_count": null,
   "metadata": {},
   "outputs": [],
   "source": []
  }
 ],
 "metadata": {
  "kernelspec": {
   "display_name": "TEXT_018_230_38",
   "language": "python",
   "name": "python3"
  },
  "language_info": {
   "codemirror_mode": {
    "name": "ipython",
    "version": 3
   },
   "file_extension": ".py",
   "mimetype": "text/x-python",
   "name": "python",
   "nbconvert_exporter": "python",
   "pygments_lexer": "ipython3",
   "version": "3.8.19"
  }
 },
 "nbformat": 4,
 "nbformat_minor": 2
}
