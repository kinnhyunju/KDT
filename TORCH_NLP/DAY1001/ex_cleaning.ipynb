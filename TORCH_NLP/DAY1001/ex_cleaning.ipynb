{
 "cells": [
  {
   "cell_type": "markdown",
   "metadata": {},
   "source": [
    "#### 자연어 처리를 위한 전처리 \n",
    "- 정제\n",
    "    * 토큰화 전,후로 진행\n",
    "    * 100% 제거는 어려움!!\n",
    "    * 불용어 제거, 빈도에 따른 제거, 길이에 따른 제거"
   ]
  },
  {
   "cell_type": "code",
   "execution_count": 1,
   "metadata": {},
   "outputs": [],
   "source": [
    "### 모듈로딩\n",
    "from nltk.corpus import stopwords\n",
    "from nltk.tokenize import word_tokenize"
   ]
  },
  {
   "cell_type": "code",
   "execution_count": 2,
   "metadata": {},
   "outputs": [
    {
     "name": "stdout",
     "output_type": "stream",
     "text": [
      "['i', 'me', 'my', 'myself', 'we', 'our', 'ours', 'ourselves', 'you', \"you're\"]\n"
     ]
    }
   ],
   "source": [
    "# NLTK 제공 영어 불용어 리스트 가져오기\n",
    "eng_sw = stopwords.words('english')\n",
    "print(eng_sw[:10])"
   ]
  },
  {
   "cell_type": "code",
   "execution_count": 3,
   "metadata": {},
   "outputs": [
    {
     "name": "stdout",
     "output_type": "stream",
     "text": [
      "영어 불용어 : 179개\n",
      "i me my myself we our ours ourselves you you're\n",
      "you've you'll you'd your yours yourself yourselves he him his\n",
      "himself she she's her hers herself it it's its itself\n",
      "they them their theirs themselves what which who whom this\n",
      "that that'll these those am is are was were be\n",
      "been being have has had having do does did doing\n",
      "a an the and but if or because as until\n",
      "while of at by for with about against between into\n",
      "through during before after above below to from up down\n",
      "in out on off over under again further then once\n",
      "here there when where why how all any both each\n",
      "few more most other some such no nor not only\n",
      "own same so than too very s t can will\n",
      "just don don't should should've now d ll m o\n",
      "re ve y ain aren aren't couldn couldn't didn didn't\n",
      "doesn doesn't hadn hadn't hasn hasn't haven haven't isn isn't\n",
      "ma mightn mightn't mustn mustn't needn needn't shan shan't shouldn\n",
      "shouldn't wasn wasn't weren weren't won won't wouldn wouldn't \n",
      "영어 불용어 : 180개\n"
     ]
    }
   ],
   "source": [
    "print(f'영어 불용어 : {len(eng_sw)}개')\n",
    "for idx, _ in enumerate(eng_sw,1):\n",
    "    print(_, end=' ' if idx%10 else'\\n')\n",
    "\n",
    "# 커스텀 불용어 토큰/단어 추가\n",
    "eng_sw.append('not')\n",
    "print(f'\\n영어 불용어 : {len(eng_sw)}개')"
   ]
  },
  {
   "cell_type": "code",
   "execution_count": 4,
   "metadata": {},
   "outputs": [],
   "source": [
    "## 토큰에서 불용어 제거하기\n",
    "text = \"Family is not an important! thing ~ ! It's #everything.\""
   ]
  },
  {
   "cell_type": "code",
   "execution_count": 5,
   "metadata": {},
   "outputs": [
    {
     "name": "stdout",
     "output_type": "stream",
     "text": [
      "punctuation - ! : Family is not an important thing ~  It's #everything.\n",
      "punctuation - \" : Family is not an important thing ~  It's #everything.\n",
      "punctuation - # : Family is not an important thing ~  It's everything.\n",
      "punctuation - $ : Family is not an important thing ~  It's everything.\n",
      "punctuation - % : Family is not an important thing ~  It's everything.\n",
      "punctuation - & : Family is not an important thing ~  It's everything.\n",
      "punctuation - ' : Family is not an important thing ~  Its everything.\n",
      "punctuation - ( : Family is not an important thing ~  Its everything.\n",
      "punctuation - ) : Family is not an important thing ~  Its everything.\n",
      "punctuation - * : Family is not an important thing ~  Its everything.\n",
      "punctuation - + : Family is not an important thing ~  Its everything.\n",
      "punctuation - , : Family is not an important thing ~  Its everything.\n",
      "punctuation - - : Family is not an important thing ~  Its everything.\n",
      "punctuation - . : Family is not an important thing ~  Its everything\n",
      "punctuation - / : Family is not an important thing ~  Its everything\n",
      "punctuation - : : Family is not an important thing ~  Its everything\n",
      "punctuation - ; : Family is not an important thing ~  Its everything\n",
      "punctuation - < : Family is not an important thing ~  Its everything\n",
      "punctuation - = : Family is not an important thing ~  Its everything\n",
      "punctuation - > : Family is not an important thing ~  Its everything\n",
      "punctuation - ? : Family is not an important thing ~  Its everything\n",
      "punctuation - @ : Family is not an important thing ~  Its everything\n",
      "punctuation - [ : Family is not an important thing ~  Its everything\n",
      "punctuation - \\ : Family is not an important thing ~  Its everything\n",
      "punctuation - ] : Family is not an important thing ~  Its everything\n",
      "punctuation - ^ : Family is not an important thing ~  Its everything\n",
      "punctuation - _ : Family is not an important thing ~  Its everything\n",
      "punctuation - ` : Family is not an important thing ~  Its everything\n",
      "punctuation - { : Family is not an important thing ~  Its everything\n",
      "punctuation - | : Family is not an important thing ~  Its everything\n",
      "punctuation - } : Family is not an important thing ~  Its everything\n",
      "punctuation - ~ : Family is not an important thing   Its everything\n"
     ]
    }
   ],
   "source": [
    "## 구두점 제거\n",
    "import string\n",
    "punct = string.punctuation\n",
    "for pun in punct : \n",
    "    text = text.replace(pun,'')\n",
    "    print(f'punctuation - {pun} : {text}')"
   ]
  },
  {
   "cell_type": "code",
   "execution_count": 6,
   "metadata": {},
   "outputs": [
    {
     "name": "stdout",
     "output_type": "stream",
     "text": [
      "['family', 'is', 'not', 'an', 'important', 'thing', 'its', 'everything']\n"
     ]
    }
   ],
   "source": [
    "## 대소문자 통일\n",
    "text = text.lower()\n",
    "\n",
    "## 토큰화 진행 --> lower()를 여기서 바로 진행해도 가능\n",
    "tokens = word_tokenize(text)\n",
    "print(tokens)"
   ]
  },
  {
   "cell_type": "code",
   "execution_count": 10,
   "metadata": {},
   "outputs": [],
   "source": [
    "## 불용어 제거 : 분석에 의미가 없는 토큰 제거\n",
    "for token in tokens:\n",
    "    if token in eng_sw:\n",
    "        # 제거\n",
    "        tokens.remove(token)\n",
    "        \n",
    "    if token in list(punct) :\n",
    "        tokens.remove(token)"
   ]
  },
  {
   "cell_type": "code",
   "execution_count": 11,
   "metadata": {},
   "outputs": [
    {
     "data": {
      "text/plain": [
       "['family', 'important', 'thing', 'everything']"
      ]
     },
     "execution_count": 11,
     "metadata": {},
     "output_type": "execute_result"
    }
   ],
   "source": [
    "tokens"
   ]
  },
  {
   "cell_type": "code",
   "execution_count": null,
   "metadata": {},
   "outputs": [],
   "source": []
  }
 ],
 "metadata": {
  "kernelspec": {
   "display_name": "TEXT_018_230_38",
   "language": "python",
   "name": "python3"
  },
  "language_info": {
   "codemirror_mode": {
    "name": "ipython",
    "version": 3
   },
   "file_extension": ".py",
   "mimetype": "text/x-python",
   "name": "python",
   "nbconvert_exporter": "python",
   "pygments_lexer": "ipython3",
   "version": "3.8.19"
  }
 },
 "nbformat": 4,
 "nbformat_minor": 2
}
