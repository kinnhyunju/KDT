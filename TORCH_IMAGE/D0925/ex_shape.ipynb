{
 "cells": [
  {
   "cell_type": "markdown",
   "metadata": {},
   "source": [
    "#### ndarray & tensor의 차원 축소 & 확장\n",
    "- 모델에 입출력 시 shape 설정을 위해서 필요함"
   ]
  },
  {
   "cell_type": "code",
   "execution_count": 1,
   "metadata": {},
   "outputs": [],
   "source": [
    "## 모듈 로딩\n",
    "import cv2\n",
    "import numpy as np\n",
    "import torch"
   ]
  },
  {
   "cell_type": "code",
   "execution_count": 2,
   "metadata": {},
   "outputs": [
    {
     "data": {
      "text/plain": [
       "((200, 100), 2)"
      ]
     },
     "execution_count": 2,
     "metadata": {},
     "output_type": "execute_result"
    }
   ],
   "source": [
    "## 임의의 데이터 생성\n",
    "data = np.full((200,100), 7)\n",
    "data.shape, data.ndim"
   ]
  },
  {
   "cell_type": "markdown",
   "metadata": {},
   "source": [
    "- [차원 확장]\n",
    "- - -\n",
    "* Numpy일 때 : ndarray.reshape(), np.expand_dims(), np.newaxis\n",
    "* Pytorch일 때 : reshape(), unsqueeze()"
   ]
  },
  {
   "cell_type": "code",
   "execution_count": 3,
   "metadata": {},
   "outputs": [
    {
     "data": {
      "text/plain": [
       "((200, 100, 1), 3)"
      ]
     },
     "execution_count": 3,
     "metadata": {},
     "output_type": "execute_result"
    }
   ],
   "source": [
    "## ------------------------------------------------------------------ \n",
    "## numpy 기반\n",
    "## ------------------------------------------------------------------\n",
    "## - 채널 차원 추가 => 방법 1) ndarray.reshape()\n",
    "data1 = data.reshape((200,100,1))\n",
    "data1.shape, data1.ndim"
   ]
  },
  {
   "cell_type": "code",
   "execution_count": 4,
   "metadata": {},
   "outputs": [
    {
     "data": {
      "text/plain": [
       "((200, 100, 1), 3)"
      ]
     },
     "execution_count": 4,
     "metadata": {},
     "output_type": "execute_result"
    }
   ],
   "source": [
    "## - 채널 차원 추가 => 방법 2) np.expand_dims(axis=숫자에 따라 어디에서 확장될지 결정함)\n",
    "data2 = np.expand_dims(data, axis=2)\n",
    "data2.shape, data2.ndim"
   ]
  },
  {
   "cell_type": "code",
   "execution_count": 5,
   "metadata": {},
   "outputs": [
    {
     "data": {
      "text/plain": [
       "((200, 100, 1), 3)"
      ]
     },
     "execution_count": 5,
     "metadata": {},
     "output_type": "execute_result"
    }
   ],
   "source": [
    "## - 채널 차원 추가 => 방법 3) np.newaxis : 함수 아님! => 괄호 없음\n",
    "data3 = data[:,:,np.newaxis]\n",
    "data3.shape, data3.ndim"
   ]
  },
  {
   "cell_type": "code",
   "execution_count": 6,
   "metadata": {},
   "outputs": [
    {
     "data": {
      "text/plain": [
       "((200, 1, 100), 3)"
      ]
     },
     "execution_count": 6,
     "metadata": {},
     "output_type": "execute_result"
    }
   ],
   "source": [
    "data4 = data[:,np.newaxis,:]\n",
    "data4.shape, data4.ndim"
   ]
  },
  {
   "cell_type": "code",
   "execution_count": 7,
   "metadata": {},
   "outputs": [
    {
     "name": "stdout",
     "output_type": "stream",
     "text": [
      "<class 'numpy.ndarray'> (200, 100) 2\n"
     ]
    },
    {
     "data": {
      "text/plain": [
       "torch.Size([200, 100])"
      ]
     },
     "execution_count": 7,
     "metadata": {},
     "output_type": "execute_result"
    }
   ],
   "source": [
    "## ------------------------------------------------------------------ \n",
    "## Pytorch 기반\n",
    "## ------------------------------------------------------------------\n",
    "print(type(data), data.shape, data.ndim)\n",
    "\n",
    "dataTS = torch.IntTensor(data)\n",
    "dataTS.shape"
   ]
  },
  {
   "cell_type": "code",
   "execution_count": 8,
   "metadata": {},
   "outputs": [
    {
     "data": {
      "text/plain": [
       "torch.Size([200, 100])"
      ]
     },
     "execution_count": 8,
     "metadata": {},
     "output_type": "execute_result"
    }
   ],
   "source": [
    "## - 채널 차원 추가 => 방법 1) reshape()\n",
    "dataTS1 = dataTS.reshape((200,100),1)\n",
    "dataTS1.shape"
   ]
  },
  {
   "cell_type": "code",
   "execution_count": 9,
   "metadata": {},
   "outputs": [
    {
     "data": {
      "text/plain": [
       "torch.Size([200, 100, 1])"
      ]
     },
     "execution_count": 9,
     "metadata": {},
     "output_type": "execute_result"
    }
   ],
   "source": [
    "## - 채널 차원 추가 => 방법 2) unsqueeze(dim=숫자<차원 위치>)\n",
    "dataTS2 = dataTS.unsqueeze(dim=2)\n",
    "dataTS2.shape"
   ]
  },
  {
   "cell_type": "markdown",
   "metadata": {},
   "source": [
    "- [Shape 변경] <hr>\n",
    "    * Numpy : T속성, transpose()\n",
    "    * Pytorch : T속성, transpose(), permute()"
   ]
  },
  {
   "cell_type": "code",
   "execution_count": 10,
   "metadata": {},
   "outputs": [
    {
     "name": "stdout",
     "output_type": "stream",
     "text": [
      "torch.Size([200, 100, 1])\n"
     ]
    }
   ],
   "source": [
    "## - shape 변경 => 방법 1) 속성 T : 현재 axis를 역순으로 변경\n",
    "print(dataTS2.shape)"
   ]
  },
  {
   "cell_type": "code",
   "execution_count": 11,
   "metadata": {},
   "outputs": [
    {
     "name": "stderr",
     "output_type": "stream",
     "text": [
      "C:\\Users\\kdp\\AppData\\Local\\Temp\\ipykernel_22760\\1395259605.py:1: UserWarning: The use of `x.T` on tensors of dimension other than 2 to reverse their shape is deprecated and it will throw an error in a future release. Consider `x.mT` to transpose batches of matrices or `x.permute(*torch.arange(x.ndim - 1, -1, -1))` to reverse the dimensions of a tensor. (Triggered internally at C:\\cb\\pytorch_1000000000000\\work\\aten\\src\\ATen\\native\\TensorShape.cpp:3701.)\n",
      "  dataTS2.T.shape\n"
     ]
    },
    {
     "data": {
      "text/plain": [
       "torch.Size([1, 100, 200])"
      ]
     },
     "execution_count": 11,
     "metadata": {},
     "output_type": "execute_result"
    }
   ],
   "source": [
    "dataTS2.T.shape"
   ]
  },
  {
   "cell_type": "code",
   "execution_count": 12,
   "metadata": {},
   "outputs": [
    {
     "name": "stdout",
     "output_type": "stream",
     "text": [
      "torch.Size([200, 100, 1, 1])\n"
     ]
    }
   ],
   "source": [
    "dataTS3 = dataTS2.unsqueeze(dim=3)\n",
    "print(dataTS3.shape)"
   ]
  },
  {
   "cell_type": "code",
   "execution_count": 13,
   "metadata": {},
   "outputs": [
    {
     "name": "stdout",
     "output_type": "stream",
     "text": [
      "2D => torch.Size([100, 200])\n",
      "3D => torch.Size([1, 100, 200])\n",
      "4D => torch.Size([1, 1, 100, 200])\n"
     ]
    }
   ],
   "source": [
    "print(\"2D =>\", dataTS.T.shape)\n",
    "print(\"3D =>\", dataTS2.T.shape)\n",
    "print(\"4D =>\", dataTS3.T.shape)"
   ]
  },
  {
   "cell_type": "code",
   "execution_count": 14,
   "metadata": {},
   "outputs": [
    {
     "name": "stdout",
     "output_type": "stream",
     "text": [
      "torch.Size([200, 100])\n",
      "torch.Size([200, 100, 1])\n",
      "torch.Size([200, 100, 1, 1])\n"
     ]
    }
   ],
   "source": [
    "## - shape 변경 => 방법 2) 함수 trainspose() : 2개의 축을 원하는 축 위치로 변경\n",
    "print(dataTS.shape)\n",
    "print(dataTS2.shape)\n",
    "print(dataTS3.shape)"
   ]
  },
  {
   "cell_type": "code",
   "execution_count": 15,
   "metadata": {},
   "outputs": [
    {
     "name": "stdout",
     "output_type": "stream",
     "text": [
      "torch.Size([200, 1, 100])\n",
      "torch.Size([200, 1, 1, 100])\n"
     ]
    }
   ],
   "source": [
    "print(dataTS2.transpose(1,2).shape)\n",
    "print(dataTS3.transpose(1,3).shape)"
   ]
  },
  {
   "cell_type": "code",
   "execution_count": 16,
   "metadata": {},
   "outputs": [
    {
     "name": "stdout",
     "output_type": "stream",
     "text": [
      "torch.Size([200, 100])\n",
      "torch.Size([200, 100, 1])\n",
      "torch.Size([200, 100, 1, 1])\n"
     ]
    }
   ],
   "source": [
    "## - shape 변경 => 방법 3) 함수 permunte() : 모든 축을 원하는 축으로 변경\n",
    "print(dataTS.shape)\n",
    "print(dataTS2.shape)\n",
    "print(dataTS3.shape)"
   ]
  },
  {
   "cell_type": "code",
   "execution_count": 17,
   "metadata": {},
   "outputs": [
    {
     "name": "stdout",
     "output_type": "stream",
     "text": [
      "torch.Size([1, 200, 100])\n",
      "torch.Size([100, 200, 1, 1])\n"
     ]
    }
   ],
   "source": [
    "print(dataTS2.permute(2,0,1).shape)\n",
    "print(dataTS3.permute(1,0,3,2).shape)"
   ]
  },
  {
   "cell_type": "markdown",
   "metadata": {},
   "source": [
    "- [차원 축소]\n",
    "- - -\n",
    "* Numpy일 때 : reshape(), squeeze()\n",
    "* Pytorch일 때 : reshape(), squeeze()"
   ]
  },
  {
   "cell_type": "code",
   "execution_count": 18,
   "metadata": {},
   "outputs": [
    {
     "name": "stdout",
     "output_type": "stream",
     "text": [
      "(200, 100, 1)\n",
      "(200, 1, 100, 1)\n"
     ]
    }
   ],
   "source": [
    "## ------------------------------------------------------------------ \n",
    "## Numpy 경우\n",
    "## ------------------------------------------------------------------\n",
    "data2 = np.expand_dims(data, axis=2)\n",
    "data3 = np.expand_dims(data2, axis=1)\n",
    "\n",
    "print(data2.shape)\n",
    "print(data3.shape)"
   ]
  },
  {
   "cell_type": "code",
   "execution_count": 19,
   "metadata": {},
   "outputs": [
    {
     "name": "stdout",
     "output_type": "stream",
     "text": [
      "(200, 100)\n",
      "(200, 100)\n"
     ]
    }
   ],
   "source": [
    "# 1차원 축 제거 => 방법 1) reshape\n",
    "print(data2.reshape(200,-1).shape)\n",
    "print(data3.reshape(200,-1).shape)"
   ]
  },
  {
   "cell_type": "code",
   "execution_count": 20,
   "metadata": {},
   "outputs": [
    {
     "name": "stdout",
     "output_type": "stream",
     "text": [
      "(200, 100)\n",
      "(200, 100)\n",
      "(200, 1, 100, 1)\n",
      "(200, 100, 1)\n"
     ]
    }
   ],
   "source": [
    "# 1차원 축 제거 => 방법 2) squeeze() : 1인 축 제거\n",
    "print(data2.squeeze().shape)\n",
    "print(data3.squeeze().shape)\n",
    "print(data3.shape)\n",
    "print(data3.squeeze(axis=1).shape)  # axis 지정해주면 원하는 축만 제거함 (지정된 축의 숫자가 1이면 삭제, 아니면 ERROR)"
   ]
  },
  {
   "cell_type": "code",
   "execution_count": 21,
   "metadata": {},
   "outputs": [
    {
     "data": {
      "text/plain": [
       "torch.Size([200, 100])"
      ]
     },
     "execution_count": 21,
     "metadata": {},
     "output_type": "execute_result"
    }
   ],
   "source": [
    "dataTS3.squeeze_().shape"
   ]
  },
  {
   "cell_type": "code",
   "execution_count": 22,
   "metadata": {},
   "outputs": [
    {
     "name": "stdout",
     "output_type": "stream",
     "text": [
      "torch.Size([200, 100, 1])\n",
      "torch.Size([200, 1, 100, 1])\n"
     ]
    }
   ],
   "source": [
    "## ------------------------------------------------------------------ \n",
    "## Pytorch 경우\n",
    "## ------------------------------------------------------------------\n",
    "dataTS2 = torch.IntTensor(data2)\n",
    "dataTS3 = torch.IntTensor(data3)\n",
    "\n",
    "print(dataTS2.shape)\n",
    "print(dataTS3.shape)"
   ]
  },
  {
   "cell_type": "code",
   "execution_count": 23,
   "metadata": {},
   "outputs": [
    {
     "name": "stdout",
     "output_type": "stream",
     "text": [
      "torch.Size([200, 100])\n",
      "torch.Size([200, 100])\n"
     ]
    }
   ],
   "source": [
    "# 1차원 축 제거 => 방법 1) reshape\n",
    "print(dataTS2.reshape(200,-1).shape)\n",
    "print(dataTS3.reshape(200,-1).shape)"
   ]
  },
  {
   "cell_type": "code",
   "execution_count": 24,
   "metadata": {},
   "outputs": [
    {
     "name": "stdout",
     "output_type": "stream",
     "text": [
      "torch.Size([200, 100])\n",
      "torch.Size([200, 100])\n",
      "torch.Size([200, 100, 1])\n",
      "torch.Size([200, 1, 100, 1])\n"
     ]
    }
   ],
   "source": [
    "# 1차원 축 제거 => 방법 2) squeeze\n",
    "print(dataTS2.squeeze().shape)\n",
    "print(dataTS3.squeeze().shape)\n",
    "print(dataTS3.squeeze(dim=1).shape)\n",
    "print(dataTS3.squeeze(dim=0).shape) # 해당 축의 숫자가 1이 아니면 변경을 안해줄 뿐 오류 발생하지 않음"
   ]
  },
  {
   "cell_type": "code",
   "execution_count": 25,
   "metadata": {},
   "outputs": [
    {
     "name": "stdout",
     "output_type": "stream",
     "text": [
      "4\n",
      "torch.Size([200, 100, 1])\n",
      "3\n"
     ]
    }
   ],
   "source": [
    "#### Pytorch에서 메서드의 경우 메서드명_() : 원본 텐서에 적용, 즉 pandas의 inplace=True와 같은 역할\n",
    "print(dataTS3.ndim)\n",
    "print(dataTS3.squeeze_(dim=1).shape)\n",
    "print(dataTS3.ndim)"
   ]
  },
  {
   "cell_type": "code",
   "execution_count": null,
   "metadata": {},
   "outputs": [],
   "source": []
  }
 ],
 "metadata": {
  "kernelspec": {
   "display_name": "TORCH_CV_38",
   "language": "python",
   "name": "python3"
  },
  "language_info": {
   "codemirror_mode": {
    "name": "ipython",
    "version": 3
   },
   "file_extension": ".py",
   "mimetype": "text/x-python",
   "name": "python",
   "nbconvert_exporter": "python",
   "pygments_lexer": "ipython3",
   "version": "3.8.19"
  }
 },
 "nbformat": 4,
 "nbformat_minor": 2
}
