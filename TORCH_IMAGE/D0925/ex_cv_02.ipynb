{
 "cells": [
  {
   "cell_type": "markdown",
   "metadata": {},
   "source": [
    "#### 이미지 데이터 처리\n",
    "- 채널 관련\n",
    "    * 컬러 : 3개 채널 => (H, W, C) => (H, W, 3)\n",
    "    * 흑백 : 1개 채널 => (H, W, C) => (H, W)"
   ]
  },
  {
   "cell_type": "markdown",
   "metadata": {},
   "source": [
    "#### Video 처리\n",
    "- cv2.VideoCapture(동영상 or 카메라 번호) 함수"
   ]
  },
  {
   "cell_type": "code",
   "execution_count": 4,
   "metadata": {},
   "outputs": [],
   "source": [
    "## 모듈 로딩\n",
    "import cv2\n",
    "import numpy as np\n",
    "import time"
   ]
  },
  {
   "cell_type": "code",
   "execution_count": 2,
   "metadata": {},
   "outputs": [],
   "source": [
    "## 데이터 및 디바이스 설정\n",
    "DIR_PATH = '../image/'\n",
    "\n",
    "CAM_DEVICE = 0"
   ]
  },
  {
   "cell_type": "code",
   "execution_count": 13,
   "metadata": {},
   "outputs": [
    {
     "name": "stdout",
     "output_type": "stream",
     "text": [
      "time.struct_time(tm_year=2024, tm_mon=9, tm_mday=25, tm_hour=10, tm_min=23, tm_sec=0, tm_wday=2, tm_yday=269, tm_isdst=0)\n",
      "2024 9 25\n"
     ]
    },
    {
     "data": {
      "text/plain": [
       "'24.09.25 10_23_00'"
      ]
     },
     "execution_count": 13,
     "metadata": {},
     "output_type": "execute_result"
    }
   ],
   "source": [
    "# 현재 날짜시간 정보 저장 인스턴스\n",
    "cur_time = time.localtime()\n",
    "print(cur_time)\n",
    "print(cur_time.tm_year, cur_time.tm_mon, cur_time.tm_mday)\n",
    "time.strftime('%y.%m.%d %H_%M_%S', cur_time)"
   ]
  },
  {
   "cell_type": "markdown",
   "metadata": {},
   "source": [
    "- [카메라 관련 영상 처리]"
   ]
  },
  {
   "cell_type": "code",
   "execution_count": 15,
   "metadata": {},
   "outputs": [
    {
     "name": "stdout",
     "output_type": "stream",
     "text": [
      "영상 재생 종료\n"
     ]
    }
   ],
   "source": [
    "# 카메라와 연결 여부 체크\n",
    "camera = cv2.VideoCapture(CAM_DEVICE)\n",
    "\n",
    "if camera.isOpened():\n",
    "    while True:\n",
    "        ret, img = camera.read()\n",
    "        if ret :\n",
    "            cv2.imshow(\"Video\",img)\n",
    "            if cv2.waitKey(10) != -1:\n",
    "                print('영상 재생 종료')\n",
    "                SAVE_FILE = DIR_PATH+f\"capture_{time.strftime('%y.%m.%d %H_%M_%S', cur_time)}.jpg\"\n",
    "                cv2.imwrite(SAVE_FILE, img)\n",
    "                cv2.destroyAllWindows()\n",
    "                break\n",
    "        else:\n",
    "            print('영상 읽기 실패')\n",
    "            break\n",
    "else : print('카메라 연결 여부 체크 바랍니다.')\n",
    "\n",
    "# time 모듈의 time.ctime() : current time => 현재 요일 월 일 시 분 초 출력 => 시간을 나눌때 콜론이 포함되어 있어서 파일명으로 사용 불가능 => replace 사용\n",
    "#            time.strftime('%M_%D_%S') : 지정한 포맷(형식)에 맞게 날짜, 시간 출력\n",
    "#            time.localtime() : tm_year, tm_mon, tm_mday, tm_hour, tm_min, tm_sec (연 월 일 시 분 초 출력 가능)"
   ]
  },
  {
   "cell_type": "code",
   "execution_count": null,
   "metadata": {},
   "outputs": [],
   "source": []
  }
 ],
 "metadata": {
  "kernelspec": {
   "display_name": "TORCH_CV_38",
   "language": "python",
   "name": "python3"
  },
  "language_info": {
   "codemirror_mode": {
    "name": "ipython",
    "version": 3
   },
   "file_extension": ".py",
   "mimetype": "text/x-python",
   "name": "python",
   "nbconvert_exporter": "python",
   "pygments_lexer": "ipython3",
   "version": "3.8.19"
  }
 },
 "nbformat": 4,
 "nbformat_minor": 2
}
