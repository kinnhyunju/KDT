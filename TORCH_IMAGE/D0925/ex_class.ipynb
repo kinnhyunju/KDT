{
 "cells": [
  {
   "cell_type": "markdown",
   "metadata": {},
   "source": [
    "#### 클래스 속성들\n",
    "- OOP(객체지향언어) 특징\n",
    "    * 상속\n",
    "    * 다형성\n",
    "    * 캡슐화 => 속성이 외부에 비공개, 직접 속성 접근 불가, 간접 속성 접근 가능\n",
    "        - 간접 속성 접근 방법 : getter/setter 메서드"
   ]
  },
  {
   "cell_type": "code",
   "execution_count": 10,
   "metadata": {},
   "outputs": [],
   "source": [
    "class Person:\n",
    "    # 클래스 변수\n",
    "    # - Person 클래스로 생성된 인스턴스 들의 공유 변수\n",
    "    # - 인스턴스 생성 없이 사용 가능한 변수\n",
    "    loc = 'Korea'\n",
    "\n",
    "    # 인스턴스 생성 메서드, 즉 생성자 메서드 (Constructor) : 인스턴스를 생성해야 사용가능함\n",
    "    def __init__(self, name, age, gender):\n",
    "        self.name = name\n",
    "        self.age = age\n",
    "        self.__gender = gender\n",
    "\n",
    "    # 비공개 인스턴스 간접 접근 메서드 => get속성명(), set속성명(새로운 값) : getter / setter 메서드\n",
    "    def getGender(self):\n",
    "        return self.__gender\n",
    "    \n",
    "    def setGender(self,gender):\n",
    "        self.__gender = gender"
   ]
  },
  {
   "cell_type": "code",
   "execution_count": 11,
   "metadata": {},
   "outputs": [
    {
     "name": "stdout",
     "output_type": "stream",
     "text": [
      "원더우먼\n"
     ]
    }
   ],
   "source": [
    "# 인스턴스 변수 속성 변경\n",
    "p1 = Person('마징가', 10, '남자')\n",
    "p1.name = '원더우먼'\n",
    "print(p1.name)"
   ]
  },
  {
   "cell_type": "code",
   "execution_count": 9,
   "metadata": {},
   "outputs": [
    {
     "name": "stdout",
     "output_type": "stream",
     "text": [
      "남자\n"
     ]
    }
   ],
   "source": [
    "print(p1.getGender())"
   ]
  },
  {
   "cell_type": "code",
   "execution_count": 13,
   "metadata": {},
   "outputs": [
    {
     "name": "stdout",
     "output_type": "stream",
     "text": [
      "여자\n"
     ]
    }
   ],
   "source": [
    "p1.setGender('여자')\n",
    "print(p1.getGender())"
   ]
  },
  {
   "cell_type": "code",
   "execution_count": null,
   "metadata": {},
   "outputs": [],
   "source": [
    "# 인스턴스 변수명\n",
    "# - public    : self.변수명\n",
    "# - private   : self.__변수명\n",
    "# - protected : self._변수명 (상속 관계일 때/ 같은 패키지에 들어있을 때 사용)"
   ]
  }
 ],
 "metadata": {
  "kernelspec": {
   "display_name": "TORCH_CV_38",
   "language": "python",
   "name": "python3"
  },
  "language_info": {
   "codemirror_mode": {
    "name": "ipython",
    "version": 3
   },
   "file_extension": ".py",
   "mimetype": "text/x-python",
   "name": "python",
   "nbconvert_exporter": "python",
   "pygments_lexer": "ipython3",
   "version": "3.8.19"
  }
 },
 "nbformat": 4,
 "nbformat_minor": 2
}
