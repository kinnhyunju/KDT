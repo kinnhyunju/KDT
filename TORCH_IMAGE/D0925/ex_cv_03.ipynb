{
 "cells": [
  {
   "cell_type": "markdown",
   "metadata": {},
   "source": [
    "#### Drawing\n",
    "- 이미지 객체 ndarray 준비 필요\n"
   ]
  },
  {
   "cell_type": "code",
   "execution_count": 1,
   "metadata": {},
   "outputs": [],
   "source": [
    "# 모듈 로딩\n",
    "import cv2\n",
    "import numpy as np"
   ]
  },
  {
   "cell_type": "code",
   "execution_count": 4,
   "metadata": {},
   "outputs": [],
   "source": [
    "# 데이터 관련 변수 설정\n",
    "DIR_PATH = '../image/'"
   ]
  },
  {
   "cell_type": "code",
   "execution_count": null,
   "metadata": {},
   "outputs": [],
   "source": [
    "# 이미지 객체\n",
    "BgData = np.full((500,500,3),255)\n",
    "\n",
    "# 이미지 파일 생성\n",
    "BgFile = DIR_PATH+'white_bg.jpg'\n",
    "cv2.imwrite(BgFile, BgData)\n",
    "\n",
    "print(BgData)"
   ]
  },
  {
   "cell_type": "code",
   "execution_count": 50,
   "metadata": {},
   "outputs": [
    {
     "data": {
      "text/plain": [
       "((500, 500, 3), 3)"
      ]
     },
     "execution_count": 50,
     "metadata": {},
     "output_type": "execute_result"
    }
   ],
   "source": [
    "# 도화지 이미지 가져오기\n",
    "white_bg = cv2.imread(BgFile)\n",
    "white_bg.shape, white_bg.ndim"
   ]
  },
  {
   "cell_type": "code",
   "execution_count": 38,
   "metadata": {},
   "outputs": [],
   "source": [
    "# 선 그리기\n",
    "cv2.line(white_bg,(80,50), (250,400), (0,200,0), 5)\n",
    "cv2.line(white_bg,(30,50), (255,344), (200,0,0), 8)\n",
    "cv2.imshow('Drawing', white_bg)\n",
    "cv2.waitKey()\n",
    "cv2.destroyAllWindows()"
   ]
  },
  {
   "cell_type": "code",
   "execution_count": 51,
   "metadata": {},
   "outputs": [],
   "source": [
    "# 사각형 그리기\n",
    "cv2.rectangle(white_bg,(80,100), (340,400), (0,200,0), 3)\n",
    "cv2.rectangle(white_bg,(30,50), (255,344), (200,0,0), 4)\n",
    "cv2.rectangle(white_bg,(100,200), (420,450), (0,0,200), 2)\n",
    "cv2.imshow('Drawing', white_bg)\n",
    "cv2.waitKey()\n",
    "cv2.destroyAllWindows()\n",
    "# 도형 채우기 => 두께 : -1"
   ]
  },
  {
   "cell_type": "code",
   "execution_count": null,
   "metadata": {},
   "outputs": [],
   "source": []
  }
 ],
 "metadata": {
  "kernelspec": {
   "display_name": "TORCH_CV_38",
   "language": "python",
   "name": "python3"
  },
  "language_info": {
   "codemirror_mode": {
    "name": "ipython",
    "version": 3
   },
   "file_extension": ".py",
   "mimetype": "text/x-python",
   "name": "python",
   "nbconvert_exporter": "python",
   "pygments_lexer": "ipython3",
   "version": "3.8.19"
  }
 },
 "nbformat": 4,
 "nbformat_minor": 2
}
