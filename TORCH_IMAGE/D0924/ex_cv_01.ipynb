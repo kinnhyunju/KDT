{
 "cells": [
  {
   "cell_type": "markdown",
   "metadata": {},
   "source": [
    "##### OpenCV 기본 사용법"
   ]
  },
  {
   "cell_type": "code",
   "execution_count": 1,
   "metadata": {},
   "outputs": [],
   "source": [
    "# 모듈 로딩\n",
    "import cv2\n",
    "import os\n",
    "import numpy as np"
   ]
  },
  {
   "cell_type": "code",
   "execution_count": 2,
   "metadata": {},
   "outputs": [],
   "source": [
    "# 이미지 관련 공통 변수\n",
    "IMG_DIR = '../image/'"
   ]
  },
  {
   "cell_type": "markdown",
   "metadata": {},
   "source": [
    "[1] 이미지 읽기 ==> ndarray"
   ]
  },
  {
   "cell_type": "code",
   "execution_count": 3,
   "metadata": {},
   "outputs": [],
   "source": [
    "# 이미지 파일 경로+파일명\n",
    "IMG_FILE = IMG_DIR+'logo.png'\n",
    "\n",
    "# 이미지 데이터\n",
    "img_data = cv2.imread(IMG_FILE)\n",
    "gray_data = cv2.imread(IMG_FILE, flags= cv2.IMREAD_GRAYSCALE)"
   ]
  },
  {
   "cell_type": "code",
   "execution_count": 4,
   "metadata": {},
   "outputs": [
    {
     "name": "stdout",
     "output_type": "stream",
     "text": [
      "[img_data]\n",
      "shape : (184, 544, 3)\n",
      "ndim : 3\n",
      "\n",
      "[gray_data]\n",
      "shape : (184, 544)\n",
      "ndim : 2\n"
     ]
    }
   ],
   "source": [
    "# 이미지 데이터 속성\n",
    "# 컬러 파일이라서 채널 알려줌 => 3차원 (행,열, 채널)\n",
    "print('[img_data]')\n",
    "print(f'shape : {img_data.shape}')\n",
    "print(f'ndim : {img_data.ndim}')\n",
    "\n",
    "print('\\n[gray_data]')\n",
    "print(f'shape : {gray_data.shape}')\n",
    "print(f'ndim : {gray_data.ndim}')"
   ]
  },
  {
   "cell_type": "markdown",
   "metadata": {},
   "source": [
    "[2] 이미지 화면 => imshow()"
   ]
  },
  {
   "cell_type": "code",
   "execution_count": 5,
   "metadata": {},
   "outputs": [],
   "source": [
    "import time\n",
    "\n",
    "# 이미지 창 띄우기\n",
    "cv2.imshow('[IMG_DATA]',img_data)\n",
    "cv2.imshow('[GRAY_DATA]',gray_data)\n",
    "\n",
    "# 이미지 창 위에 이벤트 대기\n",
    "cv2.waitKey()   # => 이벤트 : 키보드 입력 대기\n",
    "# 이미지 창 닫기\n",
    "# cv2.destroyAllWindows()\n",
    "cv2.destroyWindow('[IMG_DATA]')\n",
    "\n",
    "# 1초 일시정지 후 다른 창도 닫음\n",
    "time.sleep(1)\n",
    "cv2.destroyWindow('[GRAY_DATA]')"
   ]
  },
  {
   "cell_type": "code",
   "execution_count": 9,
   "metadata": {},
   "outputs": [
    {
     "name": "stdout",
     "output_type": "stream",
     "text": [
      "key_code => 101, e\n",
      "key_code => 117, u\n",
      "key_code => 106, j\n",
      "key_code => 115, s\n"
     ]
    }
   ],
   "source": [
    "### 'X, 'x' 입력 시 모든 이미지창 닫기\n",
    "# 이미지 창 띄우기\n",
    "cv2.imshow('[IMG_DATA]',img_data)\n",
    "cv2.imshow('[GRAY_DATA]',gray_data)\n",
    "\n",
    "while True:\n",
    "    # 키보드 이벤트 대기 함수\n",
    "    key_code = cv2.waitKey()\n",
    "    print(f'key_code => {key_code}, {chr(key_code)}')\n",
    "\n",
    "    if chr(key_code) in ['x','X']: \n",
    "        # 모든 창 닫기\n",
    "        cv2.destroyAllWindows()\n",
    "        break\n",
    "    elif chr(key_code) in ['s','S']:\n",
    "        # 이미지 저장\n",
    "        cv2.imwrite('copy.jpg', gray_data)\n",
    "        # 모든 창 닫기\n",
    "        cv2.destroyAllWindows()\n",
    "        break"
   ]
  },
  {
   "cell_type": "code",
   "execution_count": null,
   "metadata": {},
   "outputs": [],
   "source": []
  }
 ],
 "metadata": {
  "kernelspec": {
   "display_name": "TORCH_CV_38",
   "language": "python",
   "name": "python3"
  },
  "language_info": {
   "codemirror_mode": {
    "name": "ipython",
    "version": 3
   },
   "file_extension": ".py",
   "mimetype": "text/x-python",
   "name": "python",
   "nbconvert_exporter": "python",
   "pygments_lexer": "ipython3",
   "version": "3.8.19"
  }
 },
 "nbformat": 4,
 "nbformat_minor": 2
}
