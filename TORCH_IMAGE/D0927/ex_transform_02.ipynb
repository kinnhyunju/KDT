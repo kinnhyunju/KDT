{
 "cells": [
  {
   "cell_type": "markdown",
   "metadata": {},
   "source": [
    "#### torchvision 제공 이미지 전처리 관련 기능\n",
    "- torchvision.transform 서브 모듈\n",
    "    * 이미지 크기 조절\n",
    "    * 이미지 정규화\n",
    "    * 이미지 자르기\n",
    "    * 이미지 회전 등 다양한 기능 제공\n",
    "    * 이미지 데이터 타입 ==> Pillow Image"
   ]
  },
  {
   "cell_type": "markdown",
   "metadata": {},
   "source": [
    "- 모듈 로딩 및 데이터 설정<hr>"
   ]
  },
  {
   "cell_type": "code",
   "execution_count": 33,
   "metadata": {},
   "outputs": [],
   "source": [
    "## 모듈 로딩\n",
    "import cv2                              # ==> 이미지 데이터 ndarray\n",
    "from PIL import Image                   # %pip install pillow ==> 이미지 데이터 JpegImage\n",
    "import numpy as np\n",
    "import matplotlib.pyplot as plt\n",
    "\n",
    "from torchvision.transforms import v2   # pytorch 지원 이미지 변환 관련 모듈\n",
    "import torch"
   ]
  },
  {
   "cell_type": "code",
   "execution_count": 2,
   "metadata": {},
   "outputs": [],
   "source": [
    "## 데이터 관련 설정\n",
    "IMAGE_PATH = '../image/'\n",
    "IMG_FILE = IMAGE_PATH+'song2.jpg'"
   ]
  },
  {
   "cell_type": "markdown",
   "metadata": {},
   "source": [
    "- openCV & pillow <hr>"
   ]
  },
  {
   "cell_type": "code",
   "execution_count": 3,
   "metadata": {},
   "outputs": [],
   "source": [
    "cv_img = cv2.imread(IMG_FILE)\n",
    "cv_img = cv2.cvtColor(cv_img, cv2.COLOR_BGR2RGB)\n",
    "\n",
    "pil_img = Image.open(IMG_FILE)"
   ]
  },
  {
   "cell_type": "code",
   "execution_count": 4,
   "metadata": {},
   "outputs": [
    {
     "name": "stdout",
     "output_type": "stream",
     "text": [
      "type(cv_img)  : <class 'numpy.ndarray'>\n",
      "type(pil_img) : <class 'PIL.JpegImagePlugin.JpegImageFile'>\n"
     ]
    }
   ],
   "source": [
    "print(f'type(cv_img)  : {type(cv_img)}')\n",
    "print(f'type(pil_img) : {type(pil_img)}')"
   ]
  },
  {
   "cell_type": "markdown",
   "metadata": {},
   "source": [
    "- 인스턴스와 메서드 <hr>\n",
    "    * 인스턴스(Instance) : 메모리(힙)에 존재하는(저장된) 데이터의 종류를 명시해서 부르는 용어\n",
    "        - 예) 정수인스턴스, vgg인스턴스, 사람인스턴스\n",
    "    * 속성 (Attribute/Field) : 클래스가 가지는 특징, 성격등\n",
    "    * 메서드 (Method)        : 클래스가 가지는 기능, 역할 ==> 문법 구조는 함수와 동일 (클래스 전용 함수)"
   ]
  },
  {
   "cell_type": "code",
   "execution_count": 16,
   "metadata": {},
   "outputs": [],
   "source": [
    "class A :\n",
    "    # 인스턴스를 생성해주는 메서드\n",
    "    def __init__(self, num, loc):\n",
    "        self.num = num      # 인스턴스 속성\n",
    "        self.loc = loc      # 인스턴스 속성\n",
    "        print('__init__')\n",
    "\n",
    "    # 연산자(+,-,*,/,//,%,**) 기능과 연결된 매직 메서드\n",
    "    def __add__(self, other):\n",
    "        print('__add__')\n",
    "        return self.num+ other.num\n",
    "    \n",
    "    def __mul__(self, other):\n",
    "        print('__mul__')\n",
    "        return self.loc*other\n",
    "    \n",
    "    # 인스턴스 변수명으로 호출되는 메서드\n",
    "    def __call__(self, value):\n",
    "        print('__call__')\n",
    "    \n",
    "    # A클래스로 생성된 인스턴스 전용의 메서드\n",
    "    def test(self, food):\n",
    "        print(self.loc, food)"
   ]
  },
  {
   "cell_type": "code",
   "execution_count": 20,
   "metadata": {},
   "outputs": [
    {
     "name": "stdout",
     "output_type": "stream",
     "text": [
      "__init__\n",
      "__init__\n",
      "대구\n",
      "대구 치맥\n",
      "__add__\n",
      "__mul__\n",
      "__call__\n"
     ]
    }
   ],
   "source": [
    "# 인스턴스 생성 => A(10,'대구)\n",
    "a1 = A(10,'대구')\n",
    "a2 = A(100,'부산')\n",
    "\n",
    "print(a1.loc)\n",
    "a1.test('치맥')\n",
    "\n",
    "a1+a2\n",
    "a1*7\n",
    "\n",
    "a1(20)"
   ]
  },
  {
   "cell_type": "code",
   "execution_count": 21,
   "metadata": {},
   "outputs": [
    {
     "name": "stdout",
     "output_type": "stream",
     "text": [
      "__init__\n",
      "__call__\n"
     ]
    }
   ],
   "source": [
    "A(5,'경주')(8888)"
   ]
  },
  {
   "cell_type": "code",
   "execution_count": 22,
   "metadata": {},
   "outputs": [
    {
     "name": "stdout",
     "output_type": "stream",
     "text": [
      "__call__\n"
     ]
    }
   ],
   "source": [
    "a1(9)"
   ]
  },
  {
   "cell_type": "markdown",
   "metadata": {},
   "source": [
    "- Resize 이미지 크기 변경 <hr>"
   ]
  },
  {
   "cell_type": "code",
   "execution_count": 34,
   "metadata": {},
   "outputs": [
    {
     "name": "stdout",
     "output_type": "stream",
     "text": [
      "(587, 587, 3)\n",
      "torch.Size([3, 60, 60])\n"
     ]
    }
   ],
   "source": [
    "#### v2.Resize() 클래스\n",
    "# image => tensor\n",
    "print(cv_img.shape)\n",
    "\n",
    "# imgTS = v2.ToTensor()(cv_img)\n",
    "# UserWarning: The transform `ToTensor()` is deprecated Instead, please use `v2.Compose([v2.ToImage(), v2.ToDtype(torch.float32, scale=True)])`\n",
    "imgTS = v2.ToImage()(cv_img)\n",
    "imgTS2 = v2.Resize(size=(60,60), interpolation=v2.InterpolationMode.BILINEAR)(imgTS)\n",
    "\n",
    "print(imgTS2.shape)"
   ]
  },
  {
   "cell_type": "code",
   "execution_count": 36,
   "metadata": {},
   "outputs": [
    {
     "name": "stdout",
     "output_type": "stream",
     "text": [
      "(587, 587, 3)\n",
      "torch.Size([3, 200, 200])\n"
     ]
    }
   ],
   "source": [
    "#### v2.Compose() 클래스 : 이미지에 진행할 여러가지 전처리를 하나로 묶음 처리, 즉 pipeline 설정\n",
    "print(cv_img.shape)\n",
    "\n",
    "tras = v2.Compose([v2.ToImage(), v2.Resize(size=(200,200), interpolation=v2.InterpolationMode.BILINEAR)])\n",
    "imgTS3 = tras(cv_img)\n",
    "\n",
    "print(imgTS3.shape)"
   ]
  },
  {
   "cell_type": "code",
   "execution_count": null,
   "metadata": {},
   "outputs": [],
   "source": []
  }
 ],
 "metadata": {
  "kernelspec": {
   "display_name": "TORCH_CV_38",
   "language": "python",
   "name": "python3"
  },
  "language_info": {
   "codemirror_mode": {
    "name": "ipython",
    "version": 3
   },
   "file_extension": ".py",
   "mimetype": "text/x-python",
   "name": "python",
   "nbconvert_exporter": "python",
   "pygments_lexer": "ipython3",
   "version": "3.8.19"
  }
 },
 "nbformat": 4,
 "nbformat_minor": 2
}
