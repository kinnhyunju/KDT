{
 "cells": [
  {
   "cell_type": "markdown",
   "metadata": {},
   "source": [
    "#### 다중 분류를 위한 OvR(OvA)\n",
    "- 분류 클래스 수만큼 이진분류기를 생성하여 다중 분류를 진행"
   ]
  },
  {
   "cell_type": "code",
   "execution_count": 66,
   "metadata": {},
   "outputs": [],
   "source": [
    "### 모듈 로딩\n",
    "from sklearn.datasets import load_digits\n",
    "from sklearn.model_selection import train_test_split\n",
    "\n",
    "import pandas as pd\n",
    "import numpy as np\n",
    "\n",
    "# 판다스/넘파이에 지수표기점(과학적 표기법) 정지 설정\n",
    "pd.options.display.float_format = '{:.5f}'.format\n",
    "np.set_printoptions(precision=6, suppress=True)"
   ]
  },
  {
   "cell_type": "markdown",
   "metadata": {},
   "source": [
    "- 데이터셋 load_digits\n",
    "    * 내장 데이터셋\n",
    "    * 이미지 데이터셋 => 8 * 8 크기 이미지 ===> 1D로 64개 피쳐\n",
    "    * 이미지 라벨/타겟 => 숫자 0~9까지, 즉 총 10개의 클래스\n",
    "    * 흑백 이미지"
   ]
  },
  {
   "cell_type": "code",
   "execution_count": 67,
   "metadata": {},
   "outputs": [
    {
     "name": "stdout",
     "output_type": "stream",
     "text": [
      "(1797, 64) 2 (1797,) 1\n"
     ]
    }
   ],
   "source": [
    "## 데이터 로딩\n",
    "featureDF , targetSR = load_digits(as_frame=True, return_X_y=True)\n",
    "\n",
    "# 이미지 픽셀 : 0~255 범위 (보통 이미지는 255로 나눔 => 연산을 쉽게 해주려고 하는편임)\n",
    "featureDF = featureDF/255\n",
    "\n",
    "print(featureDF.shape, featureDF.ndim, targetSR.shape, targetSR.ndim)"
   ]
  },
  {
   "cell_type": "code",
   "execution_count": 68,
   "metadata": {},
   "outputs": [
    {
     "data": {
      "text/plain": [
       "(   pixel_0_0  pixel_0_1  pixel_0_2  pixel_0_3  pixel_0_4  pixel_0_5  \\\n",
       " 0    0.00000    0.00000    0.01961    0.05098    0.03529    0.00392   \n",
       " \n",
       "    pixel_0_6  pixel_0_7  pixel_1_0  pixel_1_1  ...  pixel_6_6  pixel_6_7  \\\n",
       " 0    0.00000    0.00000    0.00000    0.00000  ...    0.00000    0.00000   \n",
       " \n",
       "    pixel_7_0  pixel_7_1  pixel_7_2  pixel_7_3  pixel_7_4  pixel_7_5  \\\n",
       " 0    0.00000    0.00000    0.02353    0.05098    0.03922    0.00000   \n",
       " \n",
       "    pixel_7_6  pixel_7_7  \n",
       " 0    0.00000    0.00000  \n",
       " \n",
       " [1 rows x 64 columns],\n",
       " 0    0\n",
       " 1    1\n",
       " 2    2\n",
       " 3    3\n",
       " 4    4\n",
       " Name: target, dtype: int32)"
      ]
     },
     "execution_count": 68,
     "metadata": {},
     "output_type": "execute_result"
    }
   ],
   "source": [
    "featureDF.head(1), targetSR.head()"
   ]
  },
  {
   "cell_type": "code",
   "execution_count": 69,
   "metadata": {},
   "outputs": [
    {
     "name": "stdout",
     "output_type": "stream",
     "text": [
      "(8, 8)\n"
     ]
    },
    {
     "data": {
      "image/png": "[encoded data removed]",
      "text/plain": [
       "<Figure size 640x480 with 1 Axes>"
      ]
     },
     "metadata": {},
     "output_type": "display_data"
    }
   ],
   "source": [
    "## 이미지 데이터 시각화\n",
    "import matplotlib.pyplot as plt\n",
    "\n",
    "# 1D ==> 2D 형태로 이미지 데이터\n",
    "imageData = featureDF.iloc[1796].to_numpy().reshape(-1,8)\n",
    "print(imageData.shape)\n",
    "\n",
    "# 시각화\n",
    "plt.imshow(imageData, cmap='binary')\n",
    "plt.title(f'[Image {targetSR[1796]}]')\n",
    "plt.show()"
   ]
  },
  {
   "cell_type": "markdown",
   "metadata": {},
   "source": [
    "- 학습용 데이터셋 준비 : trainDS, testDS"
   ]
  },
  {
   "cell_type": "code",
   "execution_count": 70,
   "metadata": {},
   "outputs": [],
   "source": [
    "X_train, X_test, y_train, y_test = train_test_split(featureDF, targetSR, stratify=targetSR, random_state=10)"
   ]
  },
  {
   "cell_type": "code",
   "execution_count": 71,
   "metadata": {},
   "outputs": [
    {
     "data": {
      "text/html": [
       "<div>\n",
       "<style scoped>\n",
       "    .dataframe tbody tr th:only-of-type {\n",
       "        vertical-align: middle;\n",
       "    }\n",
       "\n",
       "    .dataframe tbody tr th {\n",
       "        vertical-align: top;\n",
       "    }\n",
       "\n",
       "    .dataframe thead th {\n",
       "        text-align: right;\n",
       "    }\n",
       "</style>\n",
       "<table border=\"1\" class=\"dataframe\">\n",
       "  <thead>\n",
       "    <tr style=\"text-align: right;\">\n",
       "      <th></th>\n",
       "      <th>pixel_0_0</th>\n",
       "      <th>pixel_0_1</th>\n",
       "      <th>pixel_0_2</th>\n",
       "      <th>pixel_0_3</th>\n",
       "      <th>pixel_0_4</th>\n",
       "      <th>pixel_0_5</th>\n",
       "      <th>pixel_0_6</th>\n",
       "      <th>pixel_0_7</th>\n",
       "      <th>pixel_1_0</th>\n",
       "      <th>pixel_1_1</th>\n",
       "      <th>...</th>\n",
       "      <th>pixel_6_6</th>\n",
       "      <th>pixel_6_7</th>\n",
       "      <th>pixel_7_0</th>\n",
       "      <th>pixel_7_1</th>\n",
       "      <th>pixel_7_2</th>\n",
       "      <th>pixel_7_3</th>\n",
       "      <th>pixel_7_4</th>\n",
       "      <th>pixel_7_5</th>\n",
       "      <th>pixel_7_6</th>\n",
       "      <th>pixel_7_7</th>\n",
       "    </tr>\n",
       "  </thead>\n",
       "  <tbody>\n",
       "    <tr>\n",
       "      <th>count</th>\n",
       "      <td>1347.00000</td>\n",
       "      <td>1347.00000</td>\n",
       "      <td>1347.00000</td>\n",
       "      <td>1347.00000</td>\n",
       "      <td>1347.00000</td>\n",
       "      <td>1347.00000</td>\n",
       "      <td>1347.00000</td>\n",
       "      <td>1347.00000</td>\n",
       "      <td>1347.00000</td>\n",
       "      <td>1347.00000</td>\n",
       "      <td>...</td>\n",
       "      <td>1347.00000</td>\n",
       "      <td>1347.00000</td>\n",
       "      <td>1347.00000</td>\n",
       "      <td>1347.00000</td>\n",
       "      <td>1347.00000</td>\n",
       "      <td>1347.00000</td>\n",
       "      <td>1347.00000</td>\n",
       "      <td>1347.00000</td>\n",
       "      <td>1347.00000</td>\n",
       "      <td>1347.00000</td>\n",
       "    </tr>\n",
       "    <tr>\n",
       "      <th>mean</th>\n",
       "      <td>0.00000</td>\n",
       "      <td>0.00122</td>\n",
       "      <td>0.02038</td>\n",
       "      <td>0.04630</td>\n",
       "      <td>0.04672</td>\n",
       "      <td>0.02294</td>\n",
       "      <td>0.00537</td>\n",
       "      <td>0.00049</td>\n",
       "      <td>0.00003</td>\n",
       "      <td>0.00784</td>\n",
       "      <td>...</td>\n",
       "      <td>0.01471</td>\n",
       "      <td>0.00082</td>\n",
       "      <td>0.00000</td>\n",
       "      <td>0.00109</td>\n",
       "      <td>0.02171</td>\n",
       "      <td>0.04734</td>\n",
       "      <td>0.04645</td>\n",
       "      <td>0.02685</td>\n",
       "      <td>0.00821</td>\n",
       "      <td>0.00149</td>\n",
       "    </tr>\n",
       "    <tr>\n",
       "      <th>std</th>\n",
       "      <td>0.00000</td>\n",
       "      <td>0.00365</td>\n",
       "      <td>0.01858</td>\n",
       "      <td>0.01694</td>\n",
       "      <td>0.01657</td>\n",
       "      <td>0.02230</td>\n",
       "      <td>0.01305</td>\n",
       "      <td>0.00401</td>\n",
       "      <td>0.00041</td>\n",
       "      <td>0.01266</td>\n",
       "      <td>...</td>\n",
       "      <td>0.01927</td>\n",
       "      <td>0.00379</td>\n",
       "      <td>0.00011</td>\n",
       "      <td>0.00369</td>\n",
       "      <td>0.01996</td>\n",
       "      <td>0.01742</td>\n",
       "      <td>0.01930</td>\n",
       "      <td>0.02304</td>\n",
       "      <td>0.01621</td>\n",
       "      <td>0.00749</td>\n",
       "    </tr>\n",
       "    <tr>\n",
       "      <th>min</th>\n",
       "      <td>0.00000</td>\n",
       "      <td>0.00000</td>\n",
       "      <td>0.00000</td>\n",
       "      <td>0.00000</td>\n",
       "      <td>0.00000</td>\n",
       "      <td>0.00000</td>\n",
       "      <td>0.00000</td>\n",
       "      <td>0.00000</td>\n",
       "      <td>0.00000</td>\n",
       "      <td>0.00000</td>\n",
       "      <td>...</td>\n",
       "      <td>0.00000</td>\n",
       "      <td>0.00000</td>\n",
       "      <td>0.00000</td>\n",
       "      <td>0.00000</td>\n",
       "      <td>0.00000</td>\n",
       "      <td>0.00000</td>\n",
       "      <td>0.00000</td>\n",
       "      <td>0.00000</td>\n",
       "      <td>0.00000</td>\n",
       "      <td>0.00000</td>\n",
       "    </tr>\n",
       "    <tr>\n",
       "      <th>25%</th>\n",
       "      <td>0.00000</td>\n",
       "      <td>0.00000</td>\n",
       "      <td>0.00392</td>\n",
       "      <td>0.03922</td>\n",
       "      <td>0.03922</td>\n",
       "      <td>0.00000</td>\n",
       "      <td>0.00000</td>\n",
       "      <td>0.00000</td>\n",
       "      <td>0.00000</td>\n",
       "      <td>0.00000</td>\n",
       "      <td>...</td>\n",
       "      <td>0.00000</td>\n",
       "      <td>0.00000</td>\n",
       "      <td>0.00000</td>\n",
       "      <td>0.00000</td>\n",
       "      <td>0.00392</td>\n",
       "      <td>0.04314</td>\n",
       "      <td>0.03922</td>\n",
       "      <td>0.00000</td>\n",
       "      <td>0.00000</td>\n",
       "      <td>0.00000</td>\n",
       "    </tr>\n",
       "    <tr>\n",
       "      <th>50%</th>\n",
       "      <td>0.00000</td>\n",
       "      <td>0.00000</td>\n",
       "      <td>0.01569</td>\n",
       "      <td>0.05098</td>\n",
       "      <td>0.05098</td>\n",
       "      <td>0.01569</td>\n",
       "      <td>0.00000</td>\n",
       "      <td>0.00000</td>\n",
       "      <td>0.00000</td>\n",
       "      <td>0.00000</td>\n",
       "      <td>...</td>\n",
       "      <td>0.00392</td>\n",
       "      <td>0.00000</td>\n",
       "      <td>0.00000</td>\n",
       "      <td>0.00000</td>\n",
       "      <td>0.01569</td>\n",
       "      <td>0.05098</td>\n",
       "      <td>0.05490</td>\n",
       "      <td>0.02353</td>\n",
       "      <td>0.00000</td>\n",
       "      <td>0.00000</td>\n",
       "    </tr>\n",
       "    <tr>\n",
       "      <th>75%</th>\n",
       "      <td>0.00000</td>\n",
       "      <td>0.00000</td>\n",
       "      <td>0.03529</td>\n",
       "      <td>0.05882</td>\n",
       "      <td>0.05882</td>\n",
       "      <td>0.04314</td>\n",
       "      <td>0.00000</td>\n",
       "      <td>0.00000</td>\n",
       "      <td>0.00000</td>\n",
       "      <td>0.01176</td>\n",
       "      <td>...</td>\n",
       "      <td>0.02745</td>\n",
       "      <td>0.00000</td>\n",
       "      <td>0.00000</td>\n",
       "      <td>0.00000</td>\n",
       "      <td>0.03922</td>\n",
       "      <td>0.06275</td>\n",
       "      <td>0.06275</td>\n",
       "      <td>0.04706</td>\n",
       "      <td>0.00784</td>\n",
       "      <td>0.00000</td>\n",
       "    </tr>\n",
       "    <tr>\n",
       "      <th>max</th>\n",
       "      <td>0.00000</td>\n",
       "      <td>0.03137</td>\n",
       "      <td>0.06275</td>\n",
       "      <td>0.06275</td>\n",
       "      <td>0.06275</td>\n",
       "      <td>0.06275</td>\n",
       "      <td>0.06275</td>\n",
       "      <td>0.05490</td>\n",
       "      <td>0.00784</td>\n",
       "      <td>0.06275</td>\n",
       "      <td>...</td>\n",
       "      <td>0.06275</td>\n",
       "      <td>0.05098</td>\n",
       "      <td>0.00392</td>\n",
       "      <td>0.03529</td>\n",
       "      <td>0.06275</td>\n",
       "      <td>0.06275</td>\n",
       "      <td>0.06275</td>\n",
       "      <td>0.06275</td>\n",
       "      <td>0.06275</td>\n",
       "      <td>0.06275</td>\n",
       "    </tr>\n",
       "  </tbody>\n",
       "</table>\n",
       "<p>8 rows × 64 columns</p>\n",
       "</div>"
      ],
      "text/plain": [
       "       pixel_0_0  pixel_0_1  pixel_0_2  pixel_0_3  pixel_0_4  pixel_0_5  \\\n",
       "count 1347.00000 1347.00000 1347.00000 1347.00000 1347.00000 1347.00000   \n",
       "mean     0.00000    0.00122    0.02038    0.04630    0.04672    0.02294   \n",
       "std      0.00000    0.00365    0.01858    0.01694    0.01657    0.02230   \n",
       "min      0.00000    0.00000    0.00000    0.00000    0.00000    0.00000   \n",
       "25%      0.00000    0.00000    0.00392    0.03922    0.03922    0.00000   \n",
       "50%      0.00000    0.00000    0.01569    0.05098    0.05098    0.01569   \n",
       "75%      0.00000    0.00000    0.03529    0.05882    0.05882    0.04314   \n",
       "max      0.00000    0.03137    0.06275    0.06275    0.06275    0.06275   \n",
       "\n",
       "       pixel_0_6  pixel_0_7  pixel_1_0  pixel_1_1  ...  pixel_6_6  pixel_6_7  \\\n",
       "count 1347.00000 1347.00000 1347.00000 1347.00000  ... 1347.00000 1347.00000   \n",
       "mean     0.00537    0.00049    0.00003    0.00784  ...    0.01471    0.00082   \n",
       "std      0.01305    0.00401    0.00041    0.01266  ...    0.01927    0.00379   \n",
       "min      0.00000    0.00000    0.00000    0.00000  ...    0.00000    0.00000   \n",
       "25%      0.00000    0.00000    0.00000    0.00000  ...    0.00000    0.00000   \n",
       "50%      0.00000    0.00000    0.00000    0.00000  ...    0.00392    0.00000   \n",
       "75%      0.00000    0.00000    0.00000    0.01176  ...    0.02745    0.00000   \n",
       "max      0.06275    0.05490    0.00784    0.06275  ...    0.06275    0.05098   \n",
       "\n",
       "       pixel_7_0  pixel_7_1  pixel_7_2  pixel_7_3  pixel_7_4  pixel_7_5  \\\n",
       "count 1347.00000 1347.00000 1347.00000 1347.00000 1347.00000 1347.00000   \n",
       "mean     0.00000    0.00109    0.02171    0.04734    0.04645    0.02685   \n",
       "std      0.00011    0.00369    0.01996    0.01742    0.01930    0.02304   \n",
       "min      0.00000    0.00000    0.00000    0.00000    0.00000    0.00000   \n",
       "25%      0.00000    0.00000    0.00392    0.04314    0.03922    0.00000   \n",
       "50%      0.00000    0.00000    0.01569    0.05098    0.05490    0.02353   \n",
       "75%      0.00000    0.00000    0.03922    0.06275    0.06275    0.04706   \n",
       "max      0.00392    0.03529    0.06275    0.06275    0.06275    0.06275   \n",
       "\n",
       "       pixel_7_6  pixel_7_7  \n",
       "count 1347.00000 1347.00000  \n",
       "mean     0.00821    0.00149  \n",
       "std      0.01621    0.00749  \n",
       "min      0.00000    0.00000  \n",
       "25%      0.00000    0.00000  \n",
       "50%      0.00000    0.00000  \n",
       "75%      0.00784    0.00000  \n",
       "max      0.06275    0.06275  \n",
       "\n",
       "[8 rows x 64 columns]"
      ]
     },
     "execution_count": 71,
     "metadata": {},
     "output_type": "execute_result"
    }
   ],
   "source": [
    "X_train.describe()"
   ]
  },
  {
   "cell_type": "markdown",
   "metadata": {},
   "source": [
    "- OvR(One vs Rest) 또는 OvA(One vs All)\n",
    "    * 클래스마다 이진 분류기 만들어서 가장 높은 결정 점수 낸 클래스 선택"
   ]
  },
  {
   "cell_type": "code",
   "execution_count": 72,
   "metadata": {},
   "outputs": [
    {
     "data": {
      "text/html": [
       "<style>#sk-container-id-6 {color: black;}#sk-container-id-6 pre{padding: 0;}#sk-container-id-6 div.sk-toggleable {background-color: white;}#sk-container-id-6 label.sk-toggleable__label {cursor: pointer;display: block;width: 100%;margin-bottom: 0;padding: 0.3em;box-sizing: border-box;text-align: center;}#sk-container-id-6 label.sk-toggleable__label-arrow:before {content: \"▸\";float: left;margin-right: 0.25em;color: #696969;}#sk-container-id-6 label.sk-toggleable__label-arrow:hover:before {color: black;}#sk-container-id-6 div.sk-estimator:hover label.sk-toggleable__label-arrow:before {color: black;}#sk-container-id-6 div.sk-toggleable__content {max-height: 0;max-width: 0;overflow: hidden;text-align: left;background-color: #f0f8ff;}#sk-container-id-6 div.sk-toggleable__content pre {margin: 0.2em;color: black;border-radius: 0.25em;background-color: #f0f8ff;}#sk-container-id-6 input.sk-toggleable__control:checked~div.sk-toggleable__content {max-height: 200px;max-width: 100%;overflow: auto;}#sk-container-id-6 input.sk-toggleable__control:checked~label.sk-toggleable__label-arrow:before {content: \"▾\";}#sk-container-id-6 div.sk-estimator input.sk-toggleable__control:checked~label.sk-toggleable__label {background-color: #d4ebff;}#sk-container-id-6 div.sk-label input.sk-toggleable__control:checked~label.sk-toggleable__label {background-color: #d4ebff;}#sk-container-id-6 input.sk-hidden--visually {border: 0;clip: rect(1px 1px 1px 1px);clip: rect(1px, 1px, 1px, 1px);height: 1px;margin: -1px;overflow: hidden;padding: 0;position: absolute;width: 1px;}#sk-container-id-6 div.sk-estimator {font-family: monospace;background-color: #f0f8ff;border: 1px dotted black;border-radius: 0.25em;box-sizing: border-box;margin-bottom: 0.5em;}#sk-container-id-6 div.sk-estimator:hover {background-color: #d4ebff;}#sk-container-id-6 div.sk-parallel-item::after {content: \"\";width: 100%;border-bottom: 1px solid gray;flex-grow: 1;}#sk-container-id-6 div.sk-label:hover label.sk-toggleable__label {background-color: #d4ebff;}#sk-container-id-6 div.sk-serial::before {content: \"\";position: absolute;border-left: 1px solid gray;box-sizing: border-box;top: 0;bottom: 0;left: 50%;z-index: 0;}#sk-container-id-6 div.sk-serial {display: flex;flex-direction: column;align-items: center;background-color: white;padding-right: 0.2em;padding-left: 0.2em;position: relative;}#sk-container-id-6 div.sk-item {position: relative;z-index: 1;}#sk-container-id-6 div.sk-parallel {display: flex;align-items: stretch;justify-content: center;background-color: white;position: relative;}#sk-container-id-6 div.sk-item::before, #sk-container-id-6 div.sk-parallel-item::before {content: \"\";position: absolute;border-left: 1px solid gray;box-sizing: border-box;top: 0;bottom: 0;left: 50%;z-index: -1;}#sk-container-id-6 div.sk-parallel-item {display: flex;flex-direction: column;z-index: 1;position: relative;background-color: white;}#sk-container-id-6 div.sk-parallel-item:first-child::after {align-self: flex-end;width: 50%;}#sk-container-id-6 div.sk-parallel-item:last-child::after {align-self: flex-start;width: 50%;}#sk-container-id-6 div.sk-parallel-item:only-child::after {width: 0;}#sk-container-id-6 div.sk-dashed-wrapped {border: 1px dashed gray;margin: 0 0.4em 0.5em 0.4em;box-sizing: border-box;padding-bottom: 0.4em;background-color: white;}#sk-container-id-6 div.sk-label label {font-family: monospace;font-weight: bold;display: inline-block;line-height: 1.2em;}#sk-container-id-6 div.sk-label-container {text-align: center;}#sk-container-id-6 div.sk-container {/* jupyter's `normalize.less` sets `[hidden] { display: none; }` but bootstrap.min.css set `[hidden] { display: none !important; }` so we also need the `!important` here to be able to override the default hidden behavior on the sphinx rendered scikit-learn.org. See: https://github.com/scikit-learn/scikit-learn/issues/21755 */display: inline-block !important;position: relative;}#sk-container-id-6 div.sk-text-repr-fallback {display: none;}</style><div id=\"sk-container-id-6\" class=\"sk-top-container\"><div class=\"sk-text-repr-fallback\"><pre>OneVsRestClassifier(estimator=LogisticRegression(max_iter=1000))</pre><b>In a Jupyter environment, please rerun this cell to show the HTML representation or trust the notebook. <br />On GitHub, the HTML representation is unable to render, please try loading this page with nbviewer.org.</b></div><div class=\"sk-container\" hidden><div class=\"sk-item sk-dashed-wrapped\"><div class=\"sk-label-container\"><div class=\"sk-label sk-toggleable\"><input class=\"sk-toggleable__control sk-hidden--visually\" id=\"sk-estimator-id-16\" type=\"checkbox\" ><label for=\"sk-estimator-id-16\" class=\"sk-toggleable__label sk-toggleable__label-arrow\">OneVsRestClassifier</label><div class=\"sk-toggleable__content\"><pre>OneVsRestClassifier(estimator=LogisticRegression(max_iter=1000))</pre></div></div></div><div class=\"sk-parallel\"><div class=\"sk-parallel-item\"><div class=\"sk-item\"><div class=\"sk-label-container\"><div class=\"sk-label sk-toggleable\"><input class=\"sk-toggleable__control sk-hidden--visually\" id=\"sk-estimator-id-17\" type=\"checkbox\" ><label for=\"sk-estimator-id-17\" class=\"sk-toggleable__label sk-toggleable__label-arrow\">estimator: LogisticRegression</label><div class=\"sk-toggleable__content\"><pre>LogisticRegression(max_iter=1000)</pre></div></div></div><div class=\"sk-serial\"><div class=\"sk-item\"><div class=\"sk-estimator sk-toggleable\"><input class=\"sk-toggleable__control sk-hidden--visually\" id=\"sk-estimator-id-18\" type=\"checkbox\" ><label for=\"sk-estimator-id-18\" class=\"sk-toggleable__label sk-toggleable__label-arrow\">LogisticRegression</label><div class=\"sk-toggleable__content\"><pre>LogisticRegression(max_iter=1000)</pre></div></div></div></div></div></div></div></div></div></div>"
      ],
      "text/plain": [
       "OneVsRestClassifier(estimator=LogisticRegression(max_iter=1000))"
      ]
     },
     "execution_count": 72,
     "metadata": {},
     "output_type": "execute_result"
    }
   ],
   "source": [
    "# 모듈 로딩\n",
    "from sklearn.multiclass import OneVsRestClassifier\n",
    "from sklearn.linear_model import LogisticRegression\n",
    "\n",
    "ovr_clf = OneVsRestClassifier(LogisticRegression(max_iter=1000))\n",
    "ovr_clf.fit(X_train, y_train)"
   ]
  },
  {
   "cell_type": "code",
   "execution_count": 73,
   "metadata": {},
   "outputs": [
    {
     "name": "stdout",
     "output_type": "stream",
     "text": [
      "ovr_clf.estimators_ : 10개\n",
      "ovr_clf.classes_ : [0 1 2 3 4 5 6 7 8 9]\n",
      "ovr_clf.n_classes_ : 10\n",
      "ovr_clf.label_binarizer_ : LabelBinarizer(sparse_output=True)\n"
     ]
    }
   ],
   "source": [
    "# 모델 파라미터\n",
    "print(f'ovr_clf.estimators_ : {len(ovr_clf.estimators_)}개')\n",
    "print(f'ovr_clf.classes_ : {ovr_clf.classes_}')\n",
    "print(f'ovr_clf.n_classes_ : {ovr_clf.n_classes_}')\n",
    "print(f'ovr_clf.label_binarizer_ : {ovr_clf.label_binarizer_}')"
   ]
  },
  {
   "cell_type": "code",
   "execution_count": 77,
   "metadata": {},
   "outputs": [
    {
     "name": "stdout",
     "output_type": "stream",
     "text": [
      "[0분류기]\n",
      "[선형식 값] [[ 0.       -0.117211 -0.361977  0.637993 -0.259516 -1.280042 -0.549555\n",
      "  -0.051539 -0.002489 -0.450771  0.87553   0.67567   0.761063  1.421815\n",
      "  -0.372707 -0.047908 -0.000876  0.483967  1.735262 -0.566662 -1.827955\n",
      "   2.027963  0.680701 -0.023    -0.000234  1.171667  1.431241 -2.773392\n",
      "  -4.069452  0.621786  1.751173 -0.001039  0.        1.440423  1.660744\n",
      "  -3.354668 -4.168379 -0.182033  1.700054  0.       -0.006227  0.753401\n",
      "   2.703978 -2.235013 -2.415652  1.074093  0.919099 -0.012728 -0.001924\n",
      "   0.023211  2.278424  0.391211  0.569341  1.801441 -0.651051 -0.079346\n",
      "  -0.000345 -0.112692 -0.545168  0.615148  0.574332 -0.674338 -0.772614\n",
      "  -0.134407]] [-2.294685]\n",
      "[선형식 값] [[-2.50438  -2.360388 -2.258641 -1.818556 -2.491658 -1.917085 -2.100526\n",
      "  -2.452999 -2.44828  -2.340241]]\n",
      "[확률값] [[0.079003 0.090183 0.098928 0.145985 0.079937 0.134043 0.114027 0.082838\n",
      "  0.083199 0.091857]]\n",
      "[1분류기]\n",
      "[선형식 값] [[ 0.       -0.143074 -1.132225 -1.180677 -0.866008  0.169236 -0.195313\n",
      "  -0.061496 -0.003632 -0.881948 -2.792764  0.176256  1.541474  0.322755\n",
      "  -0.319918 -0.054061 -0.001149 -0.63731  -1.214654  3.468259  3.133466\n",
      "  -0.135821 -0.452731 -0.026653 -0.000552 -0.068647  0.070149  2.400616\n",
      "   1.588896 -0.631002 -0.809496 -0.001205  0.       -0.558574 -0.260303\n",
      "   1.113715  1.289588 -1.551659 -1.112884  0.       -0.006201 -0.577249\n",
      "  -0.731358  1.11708   2.294093 -1.137351 -1.312492 -0.015789 -0.002369\n",
      "  -0.276038 -1.065515  0.607529  1.788654 -0.34083  -0.701326  0.217161\n",
      "  -0.000526 -0.135093 -1.449499 -1.291752  0.553022  1.049397  0.491394\n",
      "   0.566231]] [-2.361981]\n",
      "[선형식 값] [[-2.50438  -2.360388 -2.258641 -1.818556 -2.491658 -1.917085 -2.100526\n",
      "  -2.452999 -2.44828  -2.340241]]\n",
      "[확률값] [[0.079003 0.090183 0.098928 0.145985 0.079937 0.134043 0.114027 0.082838\n",
      "  0.083199 0.091857]]\n",
      "[2분류기]\n",
      "[선형식 값] [[ 0.        0.284257  1.812571  0.828494 -0.964802 -1.512853 -0.507992\n",
      "  -0.043779  0.002691  1.343211  1.395679  0.126082  1.048209 -1.277998\n",
      "  -0.601001 -0.033644  0.00213   0.760716 -0.781405 -1.117928  1.77155\n",
      "  -0.824019 -0.459762 -0.012912 -0.000312 -0.663864 -3.090672 -2.123\n",
      "   0.759327 -1.124006 -0.759794 -0.000561  0.       -0.855328 -2.646322\n",
      "  -0.3032    0.102722 -2.676301 -1.223178  0.       -0.00343  -0.376686\n",
      "  -0.669312  2.089205 -0.034131 -2.600207 -1.141483 -0.006805  0.009771\n",
      "   0.314707  1.533574  2.07148   1.385981  0.86416   1.464356  0.200461\n",
      "   0.003457  0.320918  1.880754  0.594581  0.491056  2.030733  2.639379\n",
      "   0.729059]] [-2.251647]\n",
      "[선형식 값] [[-2.50438  -2.360388 -2.258641 -1.818556 -2.491658 -1.917085 -2.100526\n",
      "  -2.452999 -2.44828  -2.340241]]\n",
      "[확률값] [[0.079003 0.090183 0.098928 0.145985 0.079937 0.134043 0.114027 0.082838\n",
      "  0.083199 0.091857]]\n",
      "[3분류기]\n",
      "[선형식 값] [[ 0.        0.114241  1.135903  0.97724   1.163604  0.804151 -0.248112\n",
      "  -0.051214  0.002909  0.982377  0.864783 -1.047864  0.409163  1.556555\n",
      "   0.13427  -0.034847  0.002136 -0.269275 -2.78974  -1.534066  2.099415\n",
      "   0.45057  -0.448591 -0.017214 -0.000202 -0.89927  -3.266823  0.052319\n",
      "   1.655175 -1.048013 -0.982252 -0.00068   0.       -0.847912 -2.584993\n",
      "  -1.44488   0.96782   1.199606 -0.306613  0.       -0.002873 -0.388297\n",
      "  -2.121545 -2.676945 -1.34891   1.948408  1.288366 -0.012285 -0.001383\n",
      "   0.0443   -0.194491 -1.314658 -0.428732  1.807895  0.97342  -0.06622\n",
      "  -0.000311  0.040831  1.428216  1.106252  1.046526  0.794133 -0.389622\n",
      "  -0.183926]] [-2.27128]\n",
      "[선형식 값] [[-2.50438  -2.360388 -2.258641 -1.818556 -2.491658 -1.917085 -2.100526\n",
      "  -2.452999 -2.44828  -2.340241]]\n",
      "[확률값] [[0.079003 0.090183 0.098928 0.145985 0.079937 0.134043 0.114027 0.082838\n",
      "  0.083199 0.091857]]\n",
      "[4분류기]\n",
      "[선형식 값] [[ 0.       -0.104428 -1.74603  -2.048382 -0.246867 -1.721339 -0.615962\n",
      "   0.007724 -0.002071 -0.636068 -2.787431  0.301918 -0.839696 -2.587815\n",
      "  -0.385839  0.082844 -0.000676 -0.707055  0.102784  1.685561 -0.69733\n",
      "  -0.858458  0.819824  0.121277  0.003238  0.815913  2.085088 -1.015195\n",
      "  -0.79709   1.25589   1.589749  0.009493  0.        2.656402  2.524749\n",
      "   0.089611  1.141939  2.267912  1.064674  0.        0.040723  2.142772\n",
      "   1.686271  2.110828  2.824266  0.915248 -0.788666 -0.015979  0.005098\n",
      "   0.223633 -1.945542 -1.014973  1.658777 -1.896847 -1.57168  -0.092205\n",
      "  -0.00037  -0.080464 -1.823979 -1.777193  0.082021 -2.061215 -0.852263\n",
      "  -0.143159]] [-2.108111]\n",
      "[선형식 값] [[-2.50438  -2.360388 -2.258641 -1.818556 -2.491658 -1.917085 -2.100526\n",
      "  -2.452999 -2.44828  -2.340241]]\n",
      "[확률값] [[0.079003 0.090183 0.098928 0.145985 0.079937 0.134043 0.114027 0.082838\n",
      "  0.083199 0.091857]]\n",
      "[5분류기]\n",
      "[선형식 값] [[ 0.        0.327526  2.182162  0.444987  0.932667  2.970383  1.208201\n",
      "  -0.051727 -0.003533  0.839269  1.9652    0.005067 -0.955935 -1.051608\n",
      "   0.043834 -0.040213 -0.001206  1.335295  1.990108 -0.47991  -2.374555\n",
      "  -3.453842 -0.867074 -0.026847 -0.000494  1.391492  2.431671  1.514511\n",
      "  -0.274864 -1.33552  -0.877423 -0.001214  0.       -0.106189  0.051731\n",
      "  -0.435841 -0.794169 -0.473578 -0.471155  0.       -0.00428  -0.575412\n",
      "  -2.576776 -1.692831 -0.095819  0.032654 -0.472653 -0.011555 -0.001486\n",
      "   0.086772 -0.701508 -0.606917  0.698112 -0.629158 -1.149296 -0.092779\n",
      "  -0.000284  0.317993  2.308682  1.169314 -1.134715 -1.927019 -0.863335\n",
      "  -0.18044 ]] [-2.15939]\n",
      "[선형식 값] [[-2.50438  -2.360388 -2.258641 -1.818556 -2.491658 -1.917085 -2.100526\n",
      "  -2.452999 -2.44828  -2.340241]]\n",
      "[확률값] [[0.079003 0.090183 0.098928 0.145985 0.079937 0.134043 0.114027 0.082838\n",
      "  0.083199 0.091857]]\n",
      "[6분류기]\n",
      "[선형식 값] [[ 0.       -0.128331 -1.683385 -0.150648 -0.729366 -1.631417 -0.473251\n",
      "  -0.043669 -0.002787 -0.806326 -1.288791  1.023442 -1.632216 -2.860368\n",
      "  -0.644992 -0.041206 -0.000915 -0.820058  1.053793  0.946441 -2.567802\n",
      "  -3.161473 -0.770678 -0.023899 -0.000392 -0.155748  1.831418 -0.125247\n",
      "  -2.329354 -2.275438 -1.021913 -0.001069  0.        0.329559  2.868946\n",
      "   1.75209   0.856641  0.724097 -0.069012  0.       -0.007542 -0.079855\n",
      "   3.053948  1.330562 -1.035931  0.676363  2.444778  0.09496  -0.001769\n",
      "  -0.256405  1.063424  1.277708 -1.790618  1.074436  2.9352    0.112451\n",
      "  -0.000281 -0.118103 -1.646896 -0.545125  1.222518  2.642809  0.898864\n",
      "  -0.171642]] [-2.297118]\n",
      "[선형식 값] [[-2.50438  -2.360388 -2.258641 -1.818556 -2.491658 -1.917085 -2.100526\n",
      "  -2.452999 -2.44828  -2.340241]]\n",
      "[확률값] [[0.079003 0.090183 0.098928 0.145985 0.079937 0.134043 0.114027 0.082838\n",
      "  0.083199 0.091857]]\n",
      "[7분류기]\n",
      "[선형식 값] [[ 0.       -0.066874 -0.112357  0.665212  1.097937  2.258939  1.680359\n",
      "   0.395091 -0.002901 -0.460162  0.07805  -0.099131  0.300227  1.77424\n",
      "   1.492545  0.238081 -0.00092  -0.781829 -2.239789 -2.160821 -0.206457\n",
      "   1.478091  0.595186  0.029613 -0.000422 -0.855698 -2.151934 -1.341444\n",
      "   0.716894  1.976569  1.134042 -0.001487  0.       -0.308322  0.742492\n",
      "   1.890657  1.832099  1.373349  0.861981  0.       -0.004575 -0.129263\n",
      "  -0.535102  1.740207  1.275587 -1.671832 -1.014039 -0.010074 -0.001987\n",
      "  -0.24425  -1.845424  1.297625 -1.712596 -3.52696  -1.399802 -0.073362\n",
      "  -0.000424 -0.072437  0.262298 -0.027345 -4.140954 -2.732656 -0.812173\n",
      "  -0.141301]] [-2.10291]\n",
      "[선형식 값] [[-2.50438  -2.360388 -2.258641 -1.818556 -2.491658 -1.917085 -2.100526\n",
      "  -2.452999 -2.44828  -2.340241]]\n",
      "[확률값] [[0.079003 0.090183 0.098928 0.145985 0.079937 0.134043 0.114027 0.082838\n",
      "  0.083199 0.091857]]\n",
      "[8분류기]\n",
      "[선형식 값] [[ 0.       -0.089969 -0.093524 -0.127436  0.172645  0.104471 -0.42798\n",
      "  -0.05712   0.015408 -0.053942  1.045998 -0.20527  -0.550168  1.62115\n",
      "   0.293176 -0.046181  0.002773  0.314865  0.979336  0.084267  0.171776\n",
      "   1.853671  0.215999 -0.020982 -0.000362 -0.493034 -0.085335  1.894681\n",
      "   1.52925  -0.269267 -0.800088 -0.00102   0.       -0.953568 -0.528622\n",
      "   2.321706  1.167701 -1.980478 -1.333439  0.       -0.004399 -0.284337\n",
      "   1.781699  0.766265  0.605536  0.303226 -0.989243 -0.013339 -0.002066\n",
      "   0.140841  1.627685 -0.766344 -0.643084  0.471402 -0.626019 -0.098737\n",
      "  -0.000447 -0.069375 -0.311915  0.36644   0.644858 -0.005816 -0.401089\n",
      "  -0.170031]] [-2.659853]\n",
      "[선형식 값] [[-2.50438  -2.360388 -2.258641 -1.818556 -2.491658 -1.917085 -2.100526\n",
      "  -2.452999 -2.44828  -2.340241]]\n",
      "[확률값] [[0.079003 0.090183 0.098928 0.145985 0.079937 0.134043 0.114027 0.082838\n",
      "  0.083199 0.091857]]\n",
      "[9분류기]\n",
      "[선형식 값] [[ 0.       -0.085071  0.038775 -0.019729 -0.300182 -0.078214  0.138349\n",
      "  -0.042143 -0.00353   0.105224  0.834068 -0.960492 -0.052882  1.262227\n",
      "   0.389616 -0.02449  -0.001334  0.373067  1.290642 -0.370621  0.558841\n",
      "   2.735566  0.669613 -0.002262 -0.000253 -0.250287  0.732189  1.700338\n",
      "   1.43244   2.832063  0.645759 -0.001249  0.       -0.962858 -1.98672\n",
      "  -1.521696 -2.357251  1.142192  0.744269  0.       -0.003337 -0.601851\n",
      "  -2.718896 -2.65995  -2.12604   0.430373  0.959035  0.002059 -0.001379\n",
      "  -0.050527 -0.702201 -1.971739 -1.590489  0.400873  0.651097 -0.030941\n",
      "  -0.000303 -0.097587 -0.082665 -0.15271   0.606476  0.864757  0.037096\n",
      "  -0.160504]] [-2.197988]\n",
      "[선형식 값] [[-2.50438  -2.360388 -2.258641 -1.818556 -2.491658 -1.917085 -2.100526\n",
      "  -2.452999 -2.44828  -2.340241]]\n",
      "[확률값] [[0.079003 0.090183 0.098928 0.145985 0.079937 0.134043 0.114027 0.082838\n",
      "  0.083199 0.091857]]\n"
     ]
    }
   ],
   "source": [
    "for idx in range(ovr_clf.n_classes_):\n",
    "    print(f'[{idx}분류기]')\n",
    "    print('[선형식 값]',ovr_clf.estimators_[idx].coef_, ovr_clf.estimators_[idx].intercept_)\n",
    "    # print('[decision functions]', decision_functions)\n",
    "    print('[선형식 값]',ovr_clf.decision_function(X_train.iloc[:1]))\n",
    "    print('[확률값]', ovr_clf.predict_proba(X_train.iloc[:1]))"
   ]
  },
  {
   "cell_type": "code",
   "execution_count": null,
   "metadata": {},
   "outputs": [
    {
     "data": {
      "text/plain": [
       "array([[0.078773, 0.07785 , 0.117592, 0.192254, 0.046543, 0.106452,\n",
       "        0.083023, 0.069872, 0.090864, 0.136776]])"
      ]
     },
     "execution_count": 60,
     "metadata": {},
     "output_type": "execute_result"
    }
   ],
   "source": [
    "ovr_clf.predict_proba(X_test.iloc[:1])"
   ]
  },
  {
   "cell_type": "code",
   "execution_count": null,
   "metadata": {},
   "outputs": [
    {
     "data": {
      "text/plain": [
       "(0.19225414581646177, 3)"
      ]
     },
     "execution_count": 64,
     "metadata": {},
     "output_type": "execute_result"
    }
   ],
   "source": [
    "ovr_clf.predict_proba(X_test.iloc[:1]).max(), ovr_clf.predict_proba(X_test.iloc[:1]).argmax()"
   ]
  },
  {
   "cell_type": "code",
   "execution_count": null,
   "metadata": {},
   "outputs": [
    {
     "data": {
      "text/plain": [
       "array([[-2.460142, -2.472932, -2.016484, -1.436581, -3.020684, -2.128551,\n",
       "        -2.402974, -2.589656, -2.30416 , -1.843406]])"
      ]
     },
     "execution_count": 61,
     "metadata": {},
     "output_type": "execute_result"
    }
   ],
   "source": [
    "ovr_clf.decision_function(X_test.iloc[:1])"
   ]
  },
  {
   "cell_type": "code",
   "execution_count": null,
   "metadata": {},
   "outputs": [
    {
     "data": {
      "text/plain": [
       "array([3])"
      ]
     },
     "execution_count": 62,
     "metadata": {},
     "output_type": "execute_result"
    }
   ],
   "source": [
    "ovr_clf.predict(X_test.iloc[:1])"
   ]
  },
  {
   "cell_type": "code",
   "execution_count": null,
   "metadata": {},
   "outputs": [],
   "source": []
  }
 ],
 "metadata": {
  "kernelspec": {
   "display_name": "ML_38",
   "language": "python",
   "name": "python3"
  },
  "language_info": {
   "codemirror_mode": {
    "name": "ipython",
    "version": 3
   },
   "file_extension": ".py",
   "mimetype": "text/x-python",
   "name": "python",
   "nbconvert_exporter": "python",
   "pygments_lexer": "ipython3",
   "version": "3.8.19"
  }
 },
 "nbformat": 4,
 "nbformat_minor": 2
}
