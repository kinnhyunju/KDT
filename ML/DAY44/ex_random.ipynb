{
 "cells": [
  {
   "cell_type": "markdown",
   "metadata": {},
   "source": [
    "#### 임의의 숫자, 즉 난수 추출\n",
    "- random 모듈 존재\n",
    "- ranom() : 0.0 ~ 1.0 실수 추출\n",
    "- randint(n,M) : n ~ M 정수 추출\n",
    "- random값 고정 ==> seed 기능"
   ]
  },
  {
   "cell_type": "code",
   "execution_count": 1,
   "metadata": {},
   "outputs": [],
   "source": [
    "import random"
   ]
  },
  {
   "cell_type": "code",
   "execution_count": 4,
   "metadata": {},
   "outputs": [
    {
     "name": "stdout",
     "output_type": "stream",
     "text": [
      "54\n",
      "5\n",
      "83\n",
      "51\n",
      "81\n",
      "3\n",
      "25\n",
      "17\n",
      "85\n",
      "52\n"
     ]
    }
   ],
   "source": [
    "# 임의의 정수 추출\n",
    "for _ in range(10):\n",
    "    print(random.randint(1,100))"
   ]
  },
  {
   "cell_type": "code",
   "execution_count": 7,
   "metadata": {},
   "outputs": [
    {
     "name": "stdout",
     "output_type": "stream",
     "text": [
      "0.24999667668640035\n",
      "0.9528169091459117\n",
      "0.9965569925394552\n",
      "0.04455638245043303\n",
      "0.860161037286291\n",
      "0.603190610968185\n",
      "0.3816059859191179\n",
      "0.28361821790671515\n",
      "0.674964847134956\n",
      "0.45683115105830563\n"
     ]
    }
   ],
   "source": [
    "# 임의의 실수 추출\n",
    "for _ in range(10):\n",
    "    print(random.random())"
   ]
  },
  {
   "cell_type": "code",
   "execution_count": 8,
   "metadata": {},
   "outputs": [
    {
     "name": "stdout",
     "output_type": "stream",
     "text": [
      "0.5714025946899135\n",
      "0.4288890546751146\n",
      "0.5780913011344704\n",
      "0.20609823213950174\n",
      "0.81332125135732\n",
      "0.8235888725334455\n",
      "0.6534725339011758\n",
      "0.16022955651881965\n",
      "0.5206693596399246\n",
      "0.32777281162209315\n"
     ]
    }
   ],
   "source": [
    "random.seed(10)\n",
    "for _ in range(10):\n",
    "    print(random.random())"
   ]
  },
  {
   "cell_type": "code",
   "execution_count": 9,
   "metadata": {},
   "outputs": [],
   "source": [
    "X = [[10],[3],[9],[5],[8],[7],[12],[67],[91],[45],[2],[17]]\n",
    "y = [1,2,3,4,5,6,7,8,9,10,11,12]"
   ]
  },
  {
   "cell_type": "code",
   "execution_count": 10,
   "metadata": {},
   "outputs": [],
   "source": [
    "from sklearn.model_selection import train_test_split"
   ]
  },
  {
   "cell_type": "code",
   "execution_count": 11,
   "metadata": {},
   "outputs": [],
   "source": [
    "# 섞지 않고 학습용/테스트용 데이터셋 분리\n",
    "X_train, X_test, y_train, y_test = train_test_split(X,y,shuffle=False)\n",
    "\n",
    "print(f'X : {X}')\n",
    "print(f'X_train : {X_train}')\n",
    "print(f'X_test : {X_test}')"
   ]
  },
  {
   "cell_type": "code",
   "execution_count": 20,
   "metadata": {},
   "outputs": [
    {
     "name": "stdout",
     "output_type": "stream",
     "text": [
      "X : [[10], [3], [9], [5], [8], [7], [12], [67], [91], [45], [2], [17]]\n",
      "X_train : [[91], [45], [17], [3], [8], [2], [7], [12], [5]]\n",
      "X_test : [[9], [67], [10]]\n"
     ]
    }
   ],
   "source": [
    "# 섞어서 학습용/테스트용 데이터셋 분리 ===> 실행할 때 마다 변경\n",
    "X_train, X_test, y_train, y_test = train_test_split(X,y)\n",
    "\n",
    "print(f'X : {X}')\n",
    "print(f'X_train : {X_train}')\n",
    "print(f'X_test : {X_test}')"
   ]
  },
  {
   "cell_type": "code",
   "execution_count": 22,
   "metadata": {},
   "outputs": [
    {
     "name": "stdout",
     "output_type": "stream",
     "text": [
      "X : [[10], [3], [9], [5], [8], [7], [12], [67], [91], [45], [2], [17]]\n",
      "X_train : [[7], [17], [91], [2], [5], [3], [10], [8], [45]]\n",
      "X_test : [[9], [12], [67]]\n"
     ]
    }
   ],
   "source": [
    "# 섞어서 학습용/테스트용 데이터셋 분리\n",
    "# random_state : random에서 seed 설정 역할 매개변수\n",
    "X_train, X_test, y_train, y_test = train_test_split(X,y, random_state=10)\n",
    "\n",
    "print(f'X : {X}')\n",
    "print(f'X_train : {X_train}')\n",
    "print(f'X_test : {X_test}')"
   ]
  },
  {
   "cell_type": "code",
   "execution_count": null,
   "metadata": {},
   "outputs": [],
   "source": []
  }
 ],
 "metadata": {
  "kernelspec": {
   "display_name": "ML_38",
   "language": "python",
   "name": "python3"
  },
  "language_info": {
   "codemirror_mode": {
    "name": "ipython",
    "version": 3
   },
   "file_extension": ".py",
   "mimetype": "text/x-python",
   "name": "python",
   "nbconvert_exporter": "python",
   "pygments_lexer": "ipython3",
   "version": "3.8.19"
  }
 },
 "nbformat": 4,
 "nbformat_minor": 2
}
