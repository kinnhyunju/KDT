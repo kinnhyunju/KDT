{
 "cells": [
  {
   "cell_type": "code",
   "execution_count": 1,
   "metadata": {},
   "outputs": [],
   "source": [
    "from sklearn.datasets import load_diabetes\n",
    "import pandas as pd\n",
    "import matplotlib.pyplot as plt"
   ]
  },
  {
   "cell_type": "code",
   "execution_count": 2,
   "metadata": {},
   "outputs": [],
   "source": [
    "# 기본 : DataFrame 형태로 반환\n",
    "# 반환값 : tuple로 data와 target만 반환\n",
    "data =  load_diabetes(as_frame=True,scaled=False)"
   ]
  },
  {
   "cell_type": "code",
   "execution_count": 3,
   "metadata": {},
   "outputs": [
    {
     "data": {
      "text/plain": [
       "dict_keys(['data', 'target', 'frame', 'DESCR', 'feature_names', 'data_filename', 'target_filename', 'data_module'])"
      ]
     },
     "execution_count": 3,
     "metadata": {},
     "output_type": "execute_result"
    }
   ],
   "source": [
    "data.keys()"
   ]
  },
  {
   "cell_type": "markdown",
   "metadata": {},
   "source": [
    "target : 1년 후의 당뇨병이 진전된 정도  \n",
    "\n",
    "age age in years  \n",
    "\n",
    "SEX  \n",
    "\n",
    "bmi body mass index  \n",
    "\n",
    "bp average blood pressure : 평균 혈압  \n",
    "\n",
    "s1 tc, total serum cholesterol : 총 혈청 콜레스테롤  \n",
    "\n",
    "s2 ldl, low-density lipoproteins : 저 밀도 단백질  \n",
    "\n",
    "s3 hdl, high-density lipoproteins : 고밀도 단백질   \n",
    "\n",
    "s4 tch, total cholesterol/ HDL : 총 콜레스테롤 / 고밀도 콜레스테롤   \n",
    "\n",
    "s5 ltg, possibly log of serum triglycerides level : 혈청 트리글리세리드 수치 로그   \n",
    "\n",
    "s6 glu, blood sugar level : 혈당치  "
   ]
  },
  {
   "cell_type": "code",
   "execution_count": 4,
   "metadata": {},
   "outputs": [
    {
     "data": {
      "text/html": [
       "<div>\n",
       "<style scoped>\n",
       "    .dataframe tbody tr th:only-of-type {\n",
       "        vertical-align: middle;\n",
       "    }\n",
       "\n",
       "    .dataframe tbody tr th {\n",
       "        vertical-align: top;\n",
       "    }\n",
       "\n",
       "    .dataframe thead th {\n",
       "        text-align: right;\n",
       "    }\n",
       "</style>\n",
       "<table border=\"1\" class=\"dataframe\">\n",
       "  <thead>\n",
       "    <tr style=\"text-align: right;\">\n",
       "      <th></th>\n",
       "      <th>age</th>\n",
       "      <th>sex</th>\n",
       "      <th>bmi</th>\n",
       "      <th>bp</th>\n",
       "      <th>s1</th>\n",
       "      <th>s2</th>\n",
       "      <th>s3</th>\n",
       "      <th>s4</th>\n",
       "      <th>s5</th>\n",
       "      <th>s6</th>\n",
       "      <th>target</th>\n",
       "    </tr>\n",
       "  </thead>\n",
       "  <tbody>\n",
       "    <tr>\n",
       "      <th>0</th>\n",
       "      <td>59.0</td>\n",
       "      <td>2.0</td>\n",
       "      <td>32.1</td>\n",
       "      <td>101.0</td>\n",
       "      <td>157.0</td>\n",
       "      <td>93.2</td>\n",
       "      <td>38.0</td>\n",
       "      <td>4.0</td>\n",
       "      <td>4.8598</td>\n",
       "      <td>87.0</td>\n",
       "      <td>151.0</td>\n",
       "    </tr>\n",
       "    <tr>\n",
       "      <th>1</th>\n",
       "      <td>48.0</td>\n",
       "      <td>1.0</td>\n",
       "      <td>21.6</td>\n",
       "      <td>87.0</td>\n",
       "      <td>183.0</td>\n",
       "      <td>103.2</td>\n",
       "      <td>70.0</td>\n",
       "      <td>3.0</td>\n",
       "      <td>3.8918</td>\n",
       "      <td>69.0</td>\n",
       "      <td>75.0</td>\n",
       "    </tr>\n",
       "    <tr>\n",
       "      <th>2</th>\n",
       "      <td>72.0</td>\n",
       "      <td>2.0</td>\n",
       "      <td>30.5</td>\n",
       "      <td>93.0</td>\n",
       "      <td>156.0</td>\n",
       "      <td>93.6</td>\n",
       "      <td>41.0</td>\n",
       "      <td>4.0</td>\n",
       "      <td>4.6728</td>\n",
       "      <td>85.0</td>\n",
       "      <td>141.0</td>\n",
       "    </tr>\n",
       "    <tr>\n",
       "      <th>3</th>\n",
       "      <td>24.0</td>\n",
       "      <td>1.0</td>\n",
       "      <td>25.3</td>\n",
       "      <td>84.0</td>\n",
       "      <td>198.0</td>\n",
       "      <td>131.4</td>\n",
       "      <td>40.0</td>\n",
       "      <td>5.0</td>\n",
       "      <td>4.8903</td>\n",
       "      <td>89.0</td>\n",
       "      <td>206.0</td>\n",
       "    </tr>\n",
       "    <tr>\n",
       "      <th>4</th>\n",
       "      <td>50.0</td>\n",
       "      <td>1.0</td>\n",
       "      <td>23.0</td>\n",
       "      <td>101.0</td>\n",
       "      <td>192.0</td>\n",
       "      <td>125.4</td>\n",
       "      <td>52.0</td>\n",
       "      <td>4.0</td>\n",
       "      <td>4.2905</td>\n",
       "      <td>80.0</td>\n",
       "      <td>135.0</td>\n",
       "    </tr>\n",
       "  </tbody>\n",
       "</table>\n",
       "</div>"
      ],
      "text/plain": [
       "    age  sex   bmi     bp     s1     s2    s3   s4      s5    s6  target\n",
       "0  59.0  2.0  32.1  101.0  157.0   93.2  38.0  4.0  4.8598  87.0   151.0\n",
       "1  48.0  1.0  21.6   87.0  183.0  103.2  70.0  3.0  3.8918  69.0    75.0\n",
       "2  72.0  2.0  30.5   93.0  156.0   93.6  41.0  4.0  4.6728  85.0   141.0\n",
       "3  24.0  1.0  25.3   84.0  198.0  131.4  40.0  5.0  4.8903  89.0   206.0\n",
       "4  50.0  1.0  23.0  101.0  192.0  125.4  52.0  4.0  4.2905  80.0   135.0"
      ]
     },
     "execution_count": 4,
     "metadata": {},
     "output_type": "execute_result"
    }
   ],
   "source": [
    "diabetes_df = pd.DataFrame(data=data['data'], columns=data['feature_names'])\n",
    "diabetes_df['target'] = data['target']\n",
    "diabetes_df.head()"
   ]
  },
  {
   "cell_type": "code",
   "execution_count": 5,
   "metadata": {},
   "outputs": [
    {
     "data": {
      "text/html": [
       "<div>\n",
       "<style scoped>\n",
       "    .dataframe tbody tr th:only-of-type {\n",
       "        vertical-align: middle;\n",
       "    }\n",
       "\n",
       "    .dataframe tbody tr th {\n",
       "        vertical-align: top;\n",
       "    }\n",
       "\n",
       "    .dataframe thead th {\n",
       "        text-align: right;\n",
       "    }\n",
       "</style>\n",
       "<table border=\"1\" class=\"dataframe\">\n",
       "  <thead>\n",
       "    <tr style=\"text-align: right;\">\n",
       "      <th></th>\n",
       "      <th>age</th>\n",
       "      <th>sex</th>\n",
       "      <th>bmi</th>\n",
       "      <th>bp</th>\n",
       "      <th>s1</th>\n",
       "      <th>s2</th>\n",
       "      <th>s3</th>\n",
       "      <th>s4</th>\n",
       "      <th>s5</th>\n",
       "      <th>s6</th>\n",
       "      <th>target</th>\n",
       "    </tr>\n",
       "  </thead>\n",
       "  <tbody>\n",
       "    <tr>\n",
       "      <th>count</th>\n",
       "      <td>442.000000</td>\n",
       "      <td>442.000000</td>\n",
       "      <td>442.000000</td>\n",
       "      <td>442.000000</td>\n",
       "      <td>442.000000</td>\n",
       "      <td>442.000000</td>\n",
       "      <td>442.000000</td>\n",
       "      <td>442.000000</td>\n",
       "      <td>442.000000</td>\n",
       "      <td>442.000000</td>\n",
       "      <td>442.000000</td>\n",
       "    </tr>\n",
       "    <tr>\n",
       "      <th>mean</th>\n",
       "      <td>48.518100</td>\n",
       "      <td>1.468326</td>\n",
       "      <td>26.375792</td>\n",
       "      <td>94.647014</td>\n",
       "      <td>189.140271</td>\n",
       "      <td>115.439140</td>\n",
       "      <td>49.788462</td>\n",
       "      <td>4.070249</td>\n",
       "      <td>4.641411</td>\n",
       "      <td>91.260181</td>\n",
       "      <td>152.133484</td>\n",
       "    </tr>\n",
       "    <tr>\n",
       "      <th>std</th>\n",
       "      <td>13.109028</td>\n",
       "      <td>0.499561</td>\n",
       "      <td>4.418122</td>\n",
       "      <td>13.831283</td>\n",
       "      <td>34.608052</td>\n",
       "      <td>30.413081</td>\n",
       "      <td>12.934202</td>\n",
       "      <td>1.290450</td>\n",
       "      <td>0.522391</td>\n",
       "      <td>11.496335</td>\n",
       "      <td>77.093005</td>\n",
       "    </tr>\n",
       "    <tr>\n",
       "      <th>min</th>\n",
       "      <td>19.000000</td>\n",
       "      <td>1.000000</td>\n",
       "      <td>18.000000</td>\n",
       "      <td>62.000000</td>\n",
       "      <td>97.000000</td>\n",
       "      <td>41.600000</td>\n",
       "      <td>22.000000</td>\n",
       "      <td>2.000000</td>\n",
       "      <td>3.258100</td>\n",
       "      <td>58.000000</td>\n",
       "      <td>25.000000</td>\n",
       "    </tr>\n",
       "    <tr>\n",
       "      <th>25%</th>\n",
       "      <td>38.250000</td>\n",
       "      <td>1.000000</td>\n",
       "      <td>23.200000</td>\n",
       "      <td>84.000000</td>\n",
       "      <td>164.250000</td>\n",
       "      <td>96.050000</td>\n",
       "      <td>40.250000</td>\n",
       "      <td>3.000000</td>\n",
       "      <td>4.276700</td>\n",
       "      <td>83.250000</td>\n",
       "      <td>87.000000</td>\n",
       "    </tr>\n",
       "    <tr>\n",
       "      <th>50%</th>\n",
       "      <td>50.000000</td>\n",
       "      <td>1.000000</td>\n",
       "      <td>25.700000</td>\n",
       "      <td>93.000000</td>\n",
       "      <td>186.000000</td>\n",
       "      <td>113.000000</td>\n",
       "      <td>48.000000</td>\n",
       "      <td>4.000000</td>\n",
       "      <td>4.620050</td>\n",
       "      <td>91.000000</td>\n",
       "      <td>140.500000</td>\n",
       "    </tr>\n",
       "    <tr>\n",
       "      <th>75%</th>\n",
       "      <td>59.000000</td>\n",
       "      <td>2.000000</td>\n",
       "      <td>29.275000</td>\n",
       "      <td>105.000000</td>\n",
       "      <td>209.750000</td>\n",
       "      <td>134.500000</td>\n",
       "      <td>57.750000</td>\n",
       "      <td>5.000000</td>\n",
       "      <td>4.997200</td>\n",
       "      <td>98.000000</td>\n",
       "      <td>211.500000</td>\n",
       "    </tr>\n",
       "    <tr>\n",
       "      <th>max</th>\n",
       "      <td>79.000000</td>\n",
       "      <td>2.000000</td>\n",
       "      <td>42.200000</td>\n",
       "      <td>133.000000</td>\n",
       "      <td>301.000000</td>\n",
       "      <td>242.400000</td>\n",
       "      <td>99.000000</td>\n",
       "      <td>9.090000</td>\n",
       "      <td>6.107000</td>\n",
       "      <td>124.000000</td>\n",
       "      <td>346.000000</td>\n",
       "    </tr>\n",
       "  </tbody>\n",
       "</table>\n",
       "</div>"
      ],
      "text/plain": [
       "              age         sex         bmi          bp          s1          s2  \\\n",
       "count  442.000000  442.000000  442.000000  442.000000  442.000000  442.000000   \n",
       "mean    48.518100    1.468326   26.375792   94.647014  189.140271  115.439140   \n",
       "std     13.109028    0.499561    4.418122   13.831283   34.608052   30.413081   \n",
       "min     19.000000    1.000000   18.000000   62.000000   97.000000   41.600000   \n",
       "25%     38.250000    1.000000   23.200000   84.000000  164.250000   96.050000   \n",
       "50%     50.000000    1.000000   25.700000   93.000000  186.000000  113.000000   \n",
       "75%     59.000000    2.000000   29.275000  105.000000  209.750000  134.500000   \n",
       "max     79.000000    2.000000   42.200000  133.000000  301.000000  242.400000   \n",
       "\n",
       "               s3          s4          s5          s6      target  \n",
       "count  442.000000  442.000000  442.000000  442.000000  442.000000  \n",
       "mean    49.788462    4.070249    4.641411   91.260181  152.133484  \n",
       "std     12.934202    1.290450    0.522391   11.496335   77.093005  \n",
       "min     22.000000    2.000000    3.258100   58.000000   25.000000  \n",
       "25%     40.250000    3.000000    4.276700   83.250000   87.000000  \n",
       "50%     48.000000    4.000000    4.620050   91.000000  140.500000  \n",
       "75%     57.750000    5.000000    4.997200   98.000000  211.500000  \n",
       "max     99.000000    9.090000    6.107000  124.000000  346.000000  "
      ]
     },
     "execution_count": 5,
     "metadata": {},
     "output_type": "execute_result"
    }
   ],
   "source": [
    "diabetes_df.describe()"
   ]
  },
  {
   "cell_type": "code",
   "execution_count": 6,
   "metadata": {},
   "outputs": [
    {
     "data": {
      "text/html": [
       "<div>\n",
       "<style scoped>\n",
       "    .dataframe tbody tr th:only-of-type {\n",
       "        vertical-align: middle;\n",
       "    }\n",
       "\n",
       "    .dataframe tbody tr th {\n",
       "        vertical-align: top;\n",
       "    }\n",
       "\n",
       "    .dataframe thead th {\n",
       "        text-align: right;\n",
       "    }\n",
       "</style>\n",
       "<table border=\"1\" class=\"dataframe\">\n",
       "  <thead>\n",
       "    <tr style=\"text-align: right;\">\n",
       "      <th></th>\n",
       "      <th>age</th>\n",
       "      <th>sex</th>\n",
       "      <th>bmi</th>\n",
       "      <th>bp</th>\n",
       "      <th>s1</th>\n",
       "      <th>s2</th>\n",
       "      <th>s3</th>\n",
       "      <th>s4</th>\n",
       "      <th>s5</th>\n",
       "      <th>s6</th>\n",
       "      <th>target</th>\n",
       "    </tr>\n",
       "  </thead>\n",
       "  <tbody>\n",
       "    <tr>\n",
       "      <th>age</th>\n",
       "      <td>1.000000</td>\n",
       "      <td>0.173737</td>\n",
       "      <td>0.185085</td>\n",
       "      <td>0.335428</td>\n",
       "      <td>0.260061</td>\n",
       "      <td>0.219243</td>\n",
       "      <td>-0.075181</td>\n",
       "      <td>0.203841</td>\n",
       "      <td>0.270774</td>\n",
       "      <td>0.301731</td>\n",
       "      <td>0.187889</td>\n",
       "    </tr>\n",
       "    <tr>\n",
       "      <th>sex</th>\n",
       "      <td>0.173737</td>\n",
       "      <td>1.000000</td>\n",
       "      <td>0.088161</td>\n",
       "      <td>0.241010</td>\n",
       "      <td>0.035277</td>\n",
       "      <td>0.142637</td>\n",
       "      <td>-0.379090</td>\n",
       "      <td>0.332115</td>\n",
       "      <td>0.149916</td>\n",
       "      <td>0.208133</td>\n",
       "      <td>0.043062</td>\n",
       "    </tr>\n",
       "    <tr>\n",
       "      <th>bmi</th>\n",
       "      <td>0.185085</td>\n",
       "      <td>0.088161</td>\n",
       "      <td>1.000000</td>\n",
       "      <td>0.395411</td>\n",
       "      <td>0.249777</td>\n",
       "      <td>0.261170</td>\n",
       "      <td>-0.366811</td>\n",
       "      <td>0.413807</td>\n",
       "      <td>0.446157</td>\n",
       "      <td>0.388680</td>\n",
       "      <td>0.586450</td>\n",
       "    </tr>\n",
       "    <tr>\n",
       "      <th>bp</th>\n",
       "      <td>0.335428</td>\n",
       "      <td>0.241010</td>\n",
       "      <td>0.395411</td>\n",
       "      <td>1.000000</td>\n",
       "      <td>0.242464</td>\n",
       "      <td>0.185548</td>\n",
       "      <td>-0.178762</td>\n",
       "      <td>0.257650</td>\n",
       "      <td>0.393480</td>\n",
       "      <td>0.390430</td>\n",
       "      <td>0.441482</td>\n",
       "    </tr>\n",
       "    <tr>\n",
       "      <th>s1</th>\n",
       "      <td>0.260061</td>\n",
       "      <td>0.035277</td>\n",
       "      <td>0.249777</td>\n",
       "      <td>0.242464</td>\n",
       "      <td>1.000000</td>\n",
       "      <td>0.896663</td>\n",
       "      <td>0.051519</td>\n",
       "      <td>0.542207</td>\n",
       "      <td>0.515503</td>\n",
       "      <td>0.325717</td>\n",
       "      <td>0.212022</td>\n",
       "    </tr>\n",
       "    <tr>\n",
       "      <th>s2</th>\n",
       "      <td>0.219243</td>\n",
       "      <td>0.142637</td>\n",
       "      <td>0.261170</td>\n",
       "      <td>0.185548</td>\n",
       "      <td>0.896663</td>\n",
       "      <td>1.000000</td>\n",
       "      <td>-0.196455</td>\n",
       "      <td>0.659817</td>\n",
       "      <td>0.318357</td>\n",
       "      <td>0.290600</td>\n",
       "      <td>0.174054</td>\n",
       "    </tr>\n",
       "    <tr>\n",
       "      <th>s3</th>\n",
       "      <td>-0.075181</td>\n",
       "      <td>-0.379090</td>\n",
       "      <td>-0.366811</td>\n",
       "      <td>-0.178762</td>\n",
       "      <td>0.051519</td>\n",
       "      <td>-0.196455</td>\n",
       "      <td>1.000000</td>\n",
       "      <td>-0.738493</td>\n",
       "      <td>-0.398577</td>\n",
       "      <td>-0.273697</td>\n",
       "      <td>-0.394789</td>\n",
       "    </tr>\n",
       "    <tr>\n",
       "      <th>s4</th>\n",
       "      <td>0.203841</td>\n",
       "      <td>0.332115</td>\n",
       "      <td>0.413807</td>\n",
       "      <td>0.257650</td>\n",
       "      <td>0.542207</td>\n",
       "      <td>0.659817</td>\n",
       "      <td>-0.738493</td>\n",
       "      <td>1.000000</td>\n",
       "      <td>0.617859</td>\n",
       "      <td>0.417212</td>\n",
       "      <td>0.430453</td>\n",
       "    </tr>\n",
       "    <tr>\n",
       "      <th>s5</th>\n",
       "      <td>0.270774</td>\n",
       "      <td>0.149916</td>\n",
       "      <td>0.446157</td>\n",
       "      <td>0.393480</td>\n",
       "      <td>0.515503</td>\n",
       "      <td>0.318357</td>\n",
       "      <td>-0.398577</td>\n",
       "      <td>0.617859</td>\n",
       "      <td>1.000000</td>\n",
       "      <td>0.464669</td>\n",
       "      <td>0.565883</td>\n",
       "    </tr>\n",
       "    <tr>\n",
       "      <th>s6</th>\n",
       "      <td>0.301731</td>\n",
       "      <td>0.208133</td>\n",
       "      <td>0.388680</td>\n",
       "      <td>0.390430</td>\n",
       "      <td>0.325717</td>\n",
       "      <td>0.290600</td>\n",
       "      <td>-0.273697</td>\n",
       "      <td>0.417212</td>\n",
       "      <td>0.464669</td>\n",
       "      <td>1.000000</td>\n",
       "      <td>0.382483</td>\n",
       "    </tr>\n",
       "    <tr>\n",
       "      <th>target</th>\n",
       "      <td>0.187889</td>\n",
       "      <td>0.043062</td>\n",
       "      <td>0.586450</td>\n",
       "      <td>0.441482</td>\n",
       "      <td>0.212022</td>\n",
       "      <td>0.174054</td>\n",
       "      <td>-0.394789</td>\n",
       "      <td>0.430453</td>\n",
       "      <td>0.565883</td>\n",
       "      <td>0.382483</td>\n",
       "      <td>1.000000</td>\n",
       "    </tr>\n",
       "  </tbody>\n",
       "</table>\n",
       "</div>"
      ],
      "text/plain": [
       "             age       sex       bmi        bp        s1        s2        s3  \\\n",
       "age     1.000000  0.173737  0.185085  0.335428  0.260061  0.219243 -0.075181   \n",
       "sex     0.173737  1.000000  0.088161  0.241010  0.035277  0.142637 -0.379090   \n",
       "bmi     0.185085  0.088161  1.000000  0.395411  0.249777  0.261170 -0.366811   \n",
       "bp      0.335428  0.241010  0.395411  1.000000  0.242464  0.185548 -0.178762   \n",
       "s1      0.260061  0.035277  0.249777  0.242464  1.000000  0.896663  0.051519   \n",
       "s2      0.219243  0.142637  0.261170  0.185548  0.896663  1.000000 -0.196455   \n",
       "s3     -0.075181 -0.379090 -0.366811 -0.178762  0.051519 -0.196455  1.000000   \n",
       "s4      0.203841  0.332115  0.413807  0.257650  0.542207  0.659817 -0.738493   \n",
       "s5      0.270774  0.149916  0.446157  0.393480  0.515503  0.318357 -0.398577   \n",
       "s6      0.301731  0.208133  0.388680  0.390430  0.325717  0.290600 -0.273697   \n",
       "target  0.187889  0.043062  0.586450  0.441482  0.212022  0.174054 -0.394789   \n",
       "\n",
       "              s4        s5        s6    target  \n",
       "age     0.203841  0.270774  0.301731  0.187889  \n",
       "sex     0.332115  0.149916  0.208133  0.043062  \n",
       "bmi     0.413807  0.446157  0.388680  0.586450  \n",
       "bp      0.257650  0.393480  0.390430  0.441482  \n",
       "s1      0.542207  0.515503  0.325717  0.212022  \n",
       "s2      0.659817  0.318357  0.290600  0.174054  \n",
       "s3     -0.738493 -0.398577 -0.273697 -0.394789  \n",
       "s4      1.000000  0.617859  0.417212  0.430453  \n",
       "s5      0.617859  1.000000  0.464669  0.565883  \n",
       "s6      0.417212  0.464669  1.000000  0.382483  \n",
       "target  0.430453  0.565883  0.382483  1.000000  "
      ]
     },
     "execution_count": 6,
     "metadata": {},
     "output_type": "execute_result"
    }
   ],
   "source": [
    "diabetes_df.corr()"
   ]
  },
  {
   "cell_type": "markdown",
   "metadata": {},
   "source": [
    "- 목표 : 당뇨 진행 정도 예측\n",
    "- 데이터셋 : diabetes\n",
    "- 피쳐/속성 : s2,s6\n",
    "- 타켓/라벨 : target"
   ]
  },
  {
   "cell_type": "code",
   "execution_count": 7,
   "metadata": {},
   "outputs": [
    {
     "data": {
      "image/png": "[encoded data removed]",
      "text/plain": [
       "<Figure size 640x480 with 1 Axes>"
      ]
     },
     "metadata": {},
     "output_type": "display_data"
    }
   ],
   "source": [
    "plt.scatter(diabetes_df['bmi'],diabetes_df['target'])\n",
    "plt.scatter(diabetes_df['s5'],diabetes_df['target'])\n",
    "plt.legend(['BMI','LTG'])\n",
    "plt.show()"
   ]
  },
  {
   "cell_type": "markdown",
   "metadata": {},
   "source": [
    "[1-1] 피쳐와 타겟 분리"
   ]
  },
  {
   "cell_type": "code",
   "execution_count": 8,
   "metadata": {},
   "outputs": [],
   "source": [
    "feature = diabetes_df[['bmi','s5']]\n",
    "target = diabetes_df['target']"
   ]
  },
  {
   "cell_type": "code",
   "execution_count": 9,
   "metadata": {},
   "outputs": [
    {
     "name": "stdout",
     "output_type": "stream",
     "text": [
      "feature : (442, 2),2D\n",
      "target : (442,),1D\n"
     ]
    }
   ],
   "source": [
    "print(f'feature : {feature.shape},{feature.ndim}D')\n",
    "print(f'target : {target.shape},{target.ndim}D')"
   ]
  },
  {
   "cell_type": "markdown",
   "metadata": {},
   "source": [
    "[1-2] 학습용, 테스트용 데이터셋 분리\n"
   ]
  },
  {
   "cell_type": "code",
   "execution_count": 10,
   "metadata": {},
   "outputs": [],
   "source": [
    "from sklearn.model_selection import train_test_split"
   ]
  },
  {
   "cell_type": "code",
   "execution_count": 11,
   "metadata": {},
   "outputs": [],
   "source": [
    "X_train, X_test, y_train, y_test = train_test_split(feature, target, test_size=0.2, random_state=8)"
   ]
  },
  {
   "cell_type": "code",
   "execution_count": 12,
   "metadata": {},
   "outputs": [],
   "source": [
    "X_train = X_train.reset_index(drop=True)\n",
    "y_train = y_train.reset_index(drop=True)\n",
    "\n",
    "X_test = X_test.reset_index(drop=True)\n",
    "y_test = y_test.reset_index(drop=True)"
   ]
  },
  {
   "cell_type": "code",
   "execution_count": 13,
   "metadata": {},
   "outputs": [
    {
     "name": "stdout",
     "output_type": "stream",
     "text": [
      "X_train : (353, 2), 2D\n",
      "Y_train : (353,), 1D\n",
      "X_test : (89, 2), 2D\n",
      "Y_test : (89,), 1D\n"
     ]
    }
   ],
   "source": [
    "print(f'X_train : {X_train.shape}, {X_train.ndim}D')\n",
    "print(f'Y_train : {y_train.shape}, {y_train.ndim}D')\n",
    "\n",
    "print(f'X_test : {X_test.shape}, {X_test.ndim}D')\n",
    "print(f'Y_test : {y_test.shape}, {y_test.ndim}D')"
   ]
  },
  {
   "cell_type": "markdown",
   "metadata": {},
   "source": [
    "[1-3] 피쳐 스케일링"
   ]
  },
  {
   "cell_type": "code",
   "execution_count": 14,
   "metadata": {},
   "outputs": [],
   "source": [
    "from sklearn.preprocessing import MinMaxScaler"
   ]
  },
  {
   "cell_type": "code",
   "execution_count": 15,
   "metadata": {},
   "outputs": [],
   "source": [
    "mmscaler = MinMaxScaler()"
   ]
  },
  {
   "cell_type": "code",
   "execution_count": 16,
   "metadata": {},
   "outputs": [
    {
     "data": {
      "text/html": [
       "<style>#sk-container-id-1 {color: black;}#sk-container-id-1 pre{padding: 0;}#sk-container-id-1 div.sk-toggleable {background-color: white;}#sk-container-id-1 label.sk-toggleable__label {cursor: pointer;display: block;width: 100%;margin-bottom: 0;padding: 0.3em;box-sizing: border-box;text-align: center;}#sk-container-id-1 label.sk-toggleable__label-arrow:before {content: \"▸\";float: left;margin-right: 0.25em;color: #696969;}#sk-container-id-1 label.sk-toggleable__label-arrow:hover:before {color: black;}#sk-container-id-1 div.sk-estimator:hover label.sk-toggleable__label-arrow:before {color: black;}#sk-container-id-1 div.sk-toggleable__content {max-height: 0;max-width: 0;overflow: hidden;text-align: left;background-color: #f0f8ff;}#sk-container-id-1 div.sk-toggleable__content pre {margin: 0.2em;color: black;border-radius: 0.25em;background-color: #f0f8ff;}#sk-container-id-1 input.sk-toggleable__control:checked~div.sk-toggleable__content {max-height: 200px;max-width: 100%;overflow: auto;}#sk-container-id-1 input.sk-toggleable__control:checked~label.sk-toggleable__label-arrow:before {content: \"▾\";}#sk-container-id-1 div.sk-estimator input.sk-toggleable__control:checked~label.sk-toggleable__label {background-color: #d4ebff;}#sk-container-id-1 div.sk-label input.sk-toggleable__control:checked~label.sk-toggleable__label {background-color: #d4ebff;}#sk-container-id-1 input.sk-hidden--visually {border: 0;clip: rect(1px 1px 1px 1px);clip: rect(1px, 1px, 1px, 1px);height: 1px;margin: -1px;overflow: hidden;padding: 0;position: absolute;width: 1px;}#sk-container-id-1 div.sk-estimator {font-family: monospace;background-color: #f0f8ff;border: 1px dotted black;border-radius: 0.25em;box-sizing: border-box;margin-bottom: 0.5em;}#sk-container-id-1 div.sk-estimator:hover {background-color: #d4ebff;}#sk-container-id-1 div.sk-parallel-item::after {content: \"\";width: 100%;border-bottom: 1px solid gray;flex-grow: 1;}#sk-container-id-1 div.sk-label:hover label.sk-toggleable__label {background-color: #d4ebff;}#sk-container-id-1 div.sk-serial::before {content: \"\";position: absolute;border-left: 1px solid gray;box-sizing: border-box;top: 0;bottom: 0;left: 50%;z-index: 0;}#sk-container-id-1 div.sk-serial {display: flex;flex-direction: column;align-items: center;background-color: white;padding-right: 0.2em;padding-left: 0.2em;position: relative;}#sk-container-id-1 div.sk-item {position: relative;z-index: 1;}#sk-container-id-1 div.sk-parallel {display: flex;align-items: stretch;justify-content: center;background-color: white;position: relative;}#sk-container-id-1 div.sk-item::before, #sk-container-id-1 div.sk-parallel-item::before {content: \"\";position: absolute;border-left: 1px solid gray;box-sizing: border-box;top: 0;bottom: 0;left: 50%;z-index: -1;}#sk-container-id-1 div.sk-parallel-item {display: flex;flex-direction: column;z-index: 1;position: relative;background-color: white;}#sk-container-id-1 div.sk-parallel-item:first-child::after {align-self: flex-end;width: 50%;}#sk-container-id-1 div.sk-parallel-item:last-child::after {align-self: flex-start;width: 50%;}#sk-container-id-1 div.sk-parallel-item:only-child::after {width: 0;}#sk-container-id-1 div.sk-dashed-wrapped {border: 1px dashed gray;margin: 0 0.4em 0.5em 0.4em;box-sizing: border-box;padding-bottom: 0.4em;background-color: white;}#sk-container-id-1 div.sk-label label {font-family: monospace;font-weight: bold;display: inline-block;line-height: 1.2em;}#sk-container-id-1 div.sk-label-container {text-align: center;}#sk-container-id-1 div.sk-container {/* jupyter's `normalize.less` sets `[hidden] { display: none; }` but bootstrap.min.css set `[hidden] { display: none !important; }` so we also need the `!important` here to be able to override the default hidden behavior on the sphinx rendered scikit-learn.org. See: https://github.com/scikit-learn/scikit-learn/issues/21755 */display: inline-block !important;position: relative;}#sk-container-id-1 div.sk-text-repr-fallback {display: none;}</style><div id=\"sk-container-id-1\" class=\"sk-top-container\"><div class=\"sk-text-repr-fallback\"><pre>MinMaxScaler()</pre><b>In a Jupyter environment, please rerun this cell to show the HTML representation or trust the notebook. <br />On GitHub, the HTML representation is unable to render, please try loading this page with nbviewer.org.</b></div><div class=\"sk-container\" hidden><div class=\"sk-item\"><div class=\"sk-estimator sk-toggleable\"><input class=\"sk-toggleable__control sk-hidden--visually\" id=\"sk-estimator-id-1\" type=\"checkbox\" checked><label for=\"sk-estimator-id-1\" class=\"sk-toggleable__label sk-toggleable__label-arrow\">MinMaxScaler</label><div class=\"sk-toggleable__content\"><pre>MinMaxScaler()</pre></div></div></div></div></div>"
      ],
      "text/plain": [
       "MinMaxScaler()"
      ]
     },
     "execution_count": 16,
     "metadata": {},
     "output_type": "execute_result"
    }
   ],
   "source": [
    "mmscaler.fit(X_train)"
   ]
  },
  {
   "cell_type": "code",
   "execution_count": 17,
   "metadata": {},
   "outputs": [
    {
     "data": {
      "text/plain": [
       "(array([-0.86190476, -1.14363439]),\n",
       " array(['bmi', 's5'], dtype=object),\n",
       " 2,\n",
       " array([18.1   ,  3.2581]),\n",
       " array([39.1  ,  6.107]))"
      ]
     },
     "execution_count": 17,
     "metadata": {},
     "output_type": "execute_result"
    }
   ],
   "source": [
    "mmscaler.min_, mmscaler.feature_names_in_, mmscaler.n_features_in_, mmscaler.data_min_, mmscaler.data_max_"
   ]
  },
  {
   "cell_type": "code",
   "execution_count": 18,
   "metadata": {},
   "outputs": [
    {
     "data": {
      "text/plain": [
       "(0.0, 1.0)"
      ]
     },
     "execution_count": 18,
     "metadata": {},
     "output_type": "execute_result"
    }
   ],
   "source": [
    "# 학습용, 테스트용 데이터셋 스케일링\n",
    "X_train_scaled = mmscaler.transform(X_train)\n",
    "X_train_scaled.min(), X_train_scaled.max()"
   ]
  },
  {
   "cell_type": "code",
   "execution_count": 19,
   "metadata": {},
   "outputs": [
    {
     "data": {
      "text/plain": [
       "(-0.004761904761904856, 1.1476190476190475)"
      ]
     },
     "execution_count": 19,
     "metadata": {},
     "output_type": "execute_result"
    }
   ],
   "source": [
    "X_test_scaled = mmscaler.transform(X_test)\n",
    "X_test_scaled.min(), X_test_scaled.max()"
   ]
  },
  {
   "cell_type": "markdown",
   "metadata": {},
   "source": [
    "[2] 학습 진행"
   ]
  },
  {
   "cell_type": "code",
   "execution_count": 20,
   "metadata": {},
   "outputs": [],
   "source": [
    "from sklearn.neighbors import KNeighborsRegressor"
   ]
  },
  {
   "cell_type": "code",
   "execution_count": 21,
   "metadata": {},
   "outputs": [
    {
     "data": {
      "text/html": [
       "<style>#sk-container-id-2 {color: black;}#sk-container-id-2 pre{padding: 0;}#sk-container-id-2 div.sk-toggleable {background-color: white;}#sk-container-id-2 label.sk-toggleable__label {cursor: pointer;display: block;width: 100%;margin-bottom: 0;padding: 0.3em;box-sizing: border-box;text-align: center;}#sk-container-id-2 label.sk-toggleable__label-arrow:before {content: \"▸\";float: left;margin-right: 0.25em;color: #696969;}#sk-container-id-2 label.sk-toggleable__label-arrow:hover:before {color: black;}#sk-container-id-2 div.sk-estimator:hover label.sk-toggleable__label-arrow:before {color: black;}#sk-container-id-2 div.sk-toggleable__content {max-height: 0;max-width: 0;overflow: hidden;text-align: left;background-color: #f0f8ff;}#sk-container-id-2 div.sk-toggleable__content pre {margin: 0.2em;color: black;border-radius: 0.25em;background-color: #f0f8ff;}#sk-container-id-2 input.sk-toggleable__control:checked~div.sk-toggleable__content {max-height: 200px;max-width: 100%;overflow: auto;}#sk-container-id-2 input.sk-toggleable__control:checked~label.sk-toggleable__label-arrow:before {content: \"▾\";}#sk-container-id-2 div.sk-estimator input.sk-toggleable__control:checked~label.sk-toggleable__label {background-color: #d4ebff;}#sk-container-id-2 div.sk-label input.sk-toggleable__control:checked~label.sk-toggleable__label {background-color: #d4ebff;}#sk-container-id-2 input.sk-hidden--visually {border: 0;clip: rect(1px 1px 1px 1px);clip: rect(1px, 1px, 1px, 1px);height: 1px;margin: -1px;overflow: hidden;padding: 0;position: absolute;width: 1px;}#sk-container-id-2 div.sk-estimator {font-family: monospace;background-color: #f0f8ff;border: 1px dotted black;border-radius: 0.25em;box-sizing: border-box;margin-bottom: 0.5em;}#sk-container-id-2 div.sk-estimator:hover {background-color: #d4ebff;}#sk-container-id-2 div.sk-parallel-item::after {content: \"\";width: 100%;border-bottom: 1px solid gray;flex-grow: 1;}#sk-container-id-2 div.sk-label:hover label.sk-toggleable__label {background-color: #d4ebff;}#sk-container-id-2 div.sk-serial::before {content: \"\";position: absolute;border-left: 1px solid gray;box-sizing: border-box;top: 0;bottom: 0;left: 50%;z-index: 0;}#sk-container-id-2 div.sk-serial {display: flex;flex-direction: column;align-items: center;background-color: white;padding-right: 0.2em;padding-left: 0.2em;position: relative;}#sk-container-id-2 div.sk-item {position: relative;z-index: 1;}#sk-container-id-2 div.sk-parallel {display: flex;align-items: stretch;justify-content: center;background-color: white;position: relative;}#sk-container-id-2 div.sk-item::before, #sk-container-id-2 div.sk-parallel-item::before {content: \"\";position: absolute;border-left: 1px solid gray;box-sizing: border-box;top: 0;bottom: 0;left: 50%;z-index: -1;}#sk-container-id-2 div.sk-parallel-item {display: flex;flex-direction: column;z-index: 1;position: relative;background-color: white;}#sk-container-id-2 div.sk-parallel-item:first-child::after {align-self: flex-end;width: 50%;}#sk-container-id-2 div.sk-parallel-item:last-child::after {align-self: flex-start;width: 50%;}#sk-container-id-2 div.sk-parallel-item:only-child::after {width: 0;}#sk-container-id-2 div.sk-dashed-wrapped {border: 1px dashed gray;margin: 0 0.4em 0.5em 0.4em;box-sizing: border-box;padding-bottom: 0.4em;background-color: white;}#sk-container-id-2 div.sk-label label {font-family: monospace;font-weight: bold;display: inline-block;line-height: 1.2em;}#sk-container-id-2 div.sk-label-container {text-align: center;}#sk-container-id-2 div.sk-container {/* jupyter's `normalize.less` sets `[hidden] { display: none; }` but bootstrap.min.css set `[hidden] { display: none !important; }` so we also need the `!important` here to be able to override the default hidden behavior on the sphinx rendered scikit-learn.org. See: https://github.com/scikit-learn/scikit-learn/issues/21755 */display: inline-block !important;position: relative;}#sk-container-id-2 div.sk-text-repr-fallback {display: none;}</style><div id=\"sk-container-id-2\" class=\"sk-top-container\"><div class=\"sk-text-repr-fallback\"><pre>KNeighborsRegressor()</pre><b>In a Jupyter environment, please rerun this cell to show the HTML representation or trust the notebook. <br />On GitHub, the HTML representation is unable to render, please try loading this page with nbviewer.org.</b></div><div class=\"sk-container\" hidden><div class=\"sk-item\"><div class=\"sk-estimator sk-toggleable\"><input class=\"sk-toggleable__control sk-hidden--visually\" id=\"sk-estimator-id-2\" type=\"checkbox\" checked><label for=\"sk-estimator-id-2\" class=\"sk-toggleable__label sk-toggleable__label-arrow\">KNeighborsRegressor</label><div class=\"sk-toggleable__content\"><pre>KNeighborsRegressor()</pre></div></div></div></div></div>"
      ],
      "text/plain": [
       "KNeighborsRegressor()"
      ]
     },
     "execution_count": 21,
     "metadata": {},
     "output_type": "execute_result"
    }
   ],
   "source": [
    "# 학습 모델 인스턴스 생성\n",
    "model = KNeighborsRegressor()\n",
    "\n",
    "# 학습용 데이터셋으로 학습 진행\n",
    "model.fit(X_train_scaled, y_train)"
   ]
  },
  {
   "cell_type": "code",
   "execution_count": 22,
   "metadata": {},
   "outputs": [
    {
     "data": {
      "text/plain": [
       "(2, 353, 'euclidean', {})"
      ]
     },
     "execution_count": 22,
     "metadata": {},
     "output_type": "execute_result"
    }
   ],
   "source": [
    "model.n_features_in_, model.n_samples_fit_, model.effective_metric_, model.effective_metric_params_"
   ]
  },
  {
   "cell_type": "code",
   "execution_count": 23,
   "metadata": {},
   "outputs": [
    {
     "data": {
      "text/plain": [
       "0.5815708582843375"
      ]
     },
     "execution_count": 23,
     "metadata": {},
     "output_type": "execute_result"
    }
   ],
   "source": [
    "# 모델 성능 평가\n",
    "model.score(X_train_scaled,y_train)"
   ]
  },
  {
   "cell_type": "code",
   "execution_count": 24,
   "metadata": {},
   "outputs": [
    {
     "data": {
      "text/plain": [
       "0.4233299982996511"
      ]
     },
     "execution_count": 24,
     "metadata": {},
     "output_type": "execute_result"
    }
   ],
   "source": [
    "model.score(X_test_scaled,y_test)"
   ]
  },
  {
   "cell_type": "markdown",
   "metadata": {},
   "source": [
    "[3] 최적의 K 찾기"
   ]
  },
  {
   "cell_type": "code",
   "execution_count": 25,
   "metadata": {},
   "outputs": [],
   "source": [
    "scores = {}\n",
    "for k in range(1,model.n_samples_fit_+1):\n",
    "    # 최근접 이웃의 개수 설정 ==> 모델 성능 좌우 : 하이퍼파라미터\n",
    "    model.n_neighbors = k\n",
    "\n",
    "    # 성능 평가\n",
    "    score = model.score(X_test_scaled, y_test)\n",
    "    scores[k] = score"
   ]
  },
  {
   "cell_type": "code",
   "execution_count": 26,
   "metadata": {},
   "outputs": [
    {
     "data": {
      "text/plain": [
       "{1: 0.08240945988351911,\n",
       " 2: 0.2544865221007324,\n",
       " 3: 0.32500754990569736,\n",
       " 4: 0.3759053163849686,\n",
       " 5: 0.4233299982996511,\n",
       " 6: 0.4525853016224045,\n",
       " 7: 0.47224829410752533,\n",
       " 8: 0.47873606979488936,\n",
       " 9: 0.4837721419420542,\n",
       " 10: 0.481249589816777,\n",
       " 11: 0.48250573936261476,\n",
       " 12: 0.496524594033809,\n",
       " 13: 0.5121658750642089,\n",
       " 14: 0.5161852219387155,\n",
       " 15: 0.5174686628753651,\n",
       " 16: 0.5211124890107508,\n",
       " 17: 0.5252592636810308,\n",
       " 18: 0.5283376861170874,\n",
       " 19: 0.5397111131745912,\n",
       " 20: 0.5434966108800203,\n",
       " 21: 0.5393862694029777,\n",
       " 22: 0.5312906856650738,\n",
       " 23: 0.5284922208145069,\n",
       " 24: 0.5284650426508232,\n",
       " 25: 0.5200839670934126,\n",
       " 26: 0.5199628672841192,\n",
       " 27: 0.5127160658662404,\n",
       " 28: 0.5071712868657345,\n",
       " 29: 0.5045368206553874,\n",
       " 30: 0.5013326531074218,\n",
       " 31: 0.4960602160803841,\n",
       " 32: 0.49171538037094586,\n",
       " 33: 0.49401052955471725,\n",
       " 34: 0.49871269613970637,\n",
       " 35: 0.4969538241752469,\n",
       " 36: 0.4988925235480033,\n",
       " 37: 0.496228888183585,\n",
       " 38: 0.5033092494340049,\n",
       " 39: 0.5036425914521374,\n",
       " 40: 0.5023295021269911,\n",
       " 41: 0.4942847665751833,\n",
       " 42: 0.4911156063040648,\n",
       " 43: 0.4864519278859112,\n",
       " 44: 0.49083470131274176,\n",
       " 45: 0.49215765953919643,\n",
       " 46: 0.4888493871293921,\n",
       " 47: 0.490893390261249,\n",
       " 48: 0.4896211660835379,\n",
       " 49: 0.4918736726246685,\n",
       " 50: 0.4936379617898452,\n",
       " 51: 0.48912903698980004,\n",
       " 52: 0.4919330266403582,\n",
       " 53: 0.49010098386540524,\n",
       " 54: 0.4925804578926176,\n",
       " 55: 0.49298306515509627,\n",
       " 56: 0.49318806448335717,\n",
       " 57: 0.4943498209153335,\n",
       " 58: 0.4935325175861247,\n",
       " 59: 0.49532200417001016,\n",
       " 60: 0.49361670948450553,\n",
       " 61: 0.4939616586166744,\n",
       " 62: 0.49210439747272594,\n",
       " 63: 0.4890137432994395,\n",
       " 64: 0.48397493216023224,\n",
       " 65: 0.48560020698926365,\n",
       " 66: 0.4860026891098941,\n",
       " 67: 0.4862875813589399,\n",
       " 68: 0.4838578310259185,\n",
       " 69: 0.4821821480089591,\n",
       " 70: 0.48166519503941363,\n",
       " 71: 0.47990651246716576,\n",
       " 72: 0.47860924726014187,\n",
       " 73: 0.47922145177091335,\n",
       " 74: 0.4770536072882001,\n",
       " 75: 0.47551005479823205,\n",
       " 76: 0.4762086215654011,\n",
       " 77: 0.4753582739178519,\n",
       " 78: 0.47739797759833613,\n",
       " 79: 0.47558571333185384,\n",
       " 80: 0.47468020456657045,\n",
       " 81: 0.4750368018976898,\n",
       " 82: 0.4775855140913893,\n",
       " 83: 0.47596337883873474,\n",
       " 84: 0.4736596316379692,\n",
       " 85: 0.47096053304386787,\n",
       " 86: 0.4707411519659822,\n",
       " 87: 0.4692135784758992,\n",
       " 88: 0.4665118269031149,\n",
       " 89: 0.4660778219790278,\n",
       " 90: 0.4636587513061947,\n",
       " 91: 0.46356238108741776,\n",
       " 92: 0.46371066102572966,\n",
       " 93: 0.4625198900949321,\n",
       " 94: 0.4614105611242947,\n",
       " 95: 0.45955060637013456,\n",
       " 96: 0.4593662366711325,\n",
       " 97: 0.45851078129467815,\n",
       " 98: 0.45657479142864665,\n",
       " 99: 0.45466168127183104,\n",
       " 100: 0.45539841393228453,\n",
       " 101: 0.45474145870490135,\n",
       " 102: 0.4564652397871285,\n",
       " 103: 0.453904446128658,\n",
       " 104: 0.45245037727896675,\n",
       " 105: 0.45145669415015277,\n",
       " 106: 0.45216383669494675,\n",
       " 107: 0.4526764829547977,\n",
       " 108: 0.4509348046935504,\n",
       " 109: 0.4498303829574237,\n",
       " 110: 0.4512346071408295,\n",
       " 111: 0.4517230168677503,\n",
       " 112: 0.4516408115666847,\n",
       " 113: 0.45371919576438613,\n",
       " 114: 0.4532186361084882,\n",
       " 115: 0.45134149917426303,\n",
       " 116: 0.44983032572585413,\n",
       " 117: 0.45096692921487647,\n",
       " 118: 0.44973083305587935,\n",
       " 119: 0.4504377784667334,\n",
       " 120: 0.44815583368058864,\n",
       " 121: 0.4465095675274259,\n",
       " 122: 0.4475982721970032,\n",
       " 123: 0.44755515030881043,\n",
       " 124: 0.4465346603141359,\n",
       " 125: 0.44524563371722514,\n",
       " 126: 0.444438162607365,\n",
       " 127: 0.44500366888406384,\n",
       " 128: 0.4446652815590495,\n",
       " 129: 0.4435763612500012,\n",
       " 130: 0.44079808099358275,\n",
       " 131: 0.4396528872333122,\n",
       " 132: 0.4375509078655435,\n",
       " 133: 0.4377857710694215,\n",
       " 134: 0.4353876218139858,\n",
       " 135: 0.43550662486424974,\n",
       " 136: 0.4340951610553603,\n",
       " 137: 0.4336126706403248,\n",
       " 138: 0.4327651905537441,\n",
       " 139: 0.4320522717298757,\n",
       " 140: 0.42833443601344845,\n",
       " 141: 0.42836439971879436,\n",
       " 142: 0.42765858200815277,\n",
       " 143: 0.42733476387815883,\n",
       " 144: 0.4267937794151976,\n",
       " 145: 0.4258425426353831,\n",
       " 146: 0.4239678805397694,\n",
       " 147: 0.42286136123581053,\n",
       " 148: 0.4231440559723064,\n",
       " 149: 0.4224737357688133,\n",
       " 150: 0.42131296048904754,\n",
       " 151: 0.4198316801184332,\n",
       " 152: 0.4180143052140117,\n",
       " 153: 0.4163803699919566,\n",
       " 154: 0.41589964528888035,\n",
       " 155: 0.4142646964226364,\n",
       " 156: 0.41400306391732933,\n",
       " 157: 0.41191329456663106,\n",
       " 158: 0.4099869219272163,\n",
       " 159: 0.4083947799625607,\n",
       " 160: 0.407688344786887,\n",
       " 161: 0.4057726227042122,\n",
       " 162: 0.4056601463775009,\n",
       " 163: 0.4053003997453113,\n",
       " 164: 0.40411229249506253,\n",
       " 165: 0.4049062957342737,\n",
       " 166: 0.40349916687551257,\n",
       " 167: 0.402600886106255,\n",
       " 168: 0.4017814311685731,\n",
       " 169: 0.39836760830014195,\n",
       " 170: 0.39703543457053647,\n",
       " 171: 0.3954767156598793,\n",
       " 172: 0.39599304116447664,\n",
       " 173: 0.39386547570817376,\n",
       " 174: 0.3928946198269482,\n",
       " 175: 0.39262774817072843,\n",
       " 176: 0.3913857285767477,\n",
       " 177: 0.3917456443053192,\n",
       " 178: 0.3889184513654699,\n",
       " 179: 0.38772754431234735,\n",
       " 180: 0.3860280744384157,\n",
       " 181: 0.3852938764817474,\n",
       " 182: 0.384012400904978,\n",
       " 183: 0.38127441236379334,\n",
       " 184: 0.3787909962249294,\n",
       " 185: 0.3766732644484817,\n",
       " 186: 0.37538715513421117,\n",
       " 187: 0.3749649326378405,\n",
       " 188: 0.3727980327233533,\n",
       " 189: 0.3703940510614129,\n",
       " 190: 0.36858201681905833,\n",
       " 191: 0.3660714395465391,\n",
       " 192: 0.36336731091665364,\n",
       " 193: 0.3616040889379859,\n",
       " 194: 0.36033976299650006,\n",
       " 195: 0.35866194299947785,\n",
       " 196: 0.35831932277334433,\n",
       " 197: 0.3553367587340711,\n",
       " 198: 0.35355825243742833,\n",
       " 199: 0.3522698406461152,\n",
       " 200: 0.3502596907125619,\n",
       " 201: 0.3474871032593043,\n",
       " 202: 0.34556111507726783,\n",
       " 203: 0.34386133117120965,\n",
       " 204: 0.342481863215507,\n",
       " 205: 0.3404785983869826,\n",
       " 206: 0.33823694148801375,\n",
       " 207: 0.33575377403702333,\n",
       " 208: 0.3344527596062572,\n",
       " 209: 0.33313913168878406,\n",
       " 210: 0.33112316913545214,\n",
       " 211: 0.32742810493283914,\n",
       " 212: 0.3261605209087466,\n",
       " 213: 0.3242651870755686,\n",
       " 214: 0.3228188644739013,\n",
       " 215: 0.32100163622580136,\n",
       " 216: 0.3196022553241912,\n",
       " 217: 0.31703026059645945,\n",
       " 218: 0.3181669966790698,\n",
       " 219: 0.3176242046056359,\n",
       " 220: 0.31600066525972814,\n",
       " 221: 0.31412863898444277,\n",
       " 222: 0.31286406918437604,\n",
       " 223: 0.3122982238278318,\n",
       " 224: 0.31077668575213047,\n",
       " 225: 0.3086696145672154,\n",
       " 226: 0.30742466978151584,\n",
       " 227: 0.3070799571499119,\n",
       " 228: 0.30633500510597467,\n",
       " 229: 0.30529469514547514,\n",
       " 230: 0.3034262743661127,\n",
       " 231: 0.30063113922608,\n",
       " 232: 0.2986955260592512,\n",
       " 233: 0.29711993284123595,\n",
       " 234: 0.2967572510885468,\n",
       " 235: 0.29465070302371077,\n",
       " 236: 0.29305874391112996,\n",
       " 237: 0.29079257979313444,\n",
       " 238: 0.28814588618683923,\n",
       " 239: 0.2860670821290844,\n",
       " 240: 0.28379048975254606,\n",
       " 241: 0.2820556297299849,\n",
       " 242: 0.27971555548489957,\n",
       " 243: 0.27641560863444836,\n",
       " 244: 0.2747115761372768,\n",
       " 245: 0.2735680957061989,\n",
       " 246: 0.27049859107704677,\n",
       " 247: 0.2683685311064655,\n",
       " 248: 0.2668704245605299,\n",
       " 249: 0.26526124596277834,\n",
       " 250: 0.26423973678497215,\n",
       " 251: 0.26328297009337553,\n",
       " 252: 0.2609022074781505,\n",
       " 253: 0.25908205960174513,\n",
       " 254: 0.25712267020430246,\n",
       " 255: 0.25609269326763495,\n",
       " 256: 0.25398238421582986,\n",
       " 257: 0.2522177698777798,\n",
       " 258: 0.2499779258987127,\n",
       " 259: 0.24888678770956096,\n",
       " 260: 0.24541898943392315,\n",
       " 261: 0.24416782191300435,\n",
       " 262: 0.24163946238252965,\n",
       " 263: 0.23976479264782824,\n",
       " 264: 0.2377776943607538,\n",
       " 265: 0.23638801646021057,\n",
       " 266: 0.23464777004470938,\n",
       " 267: 0.23348998695297307,\n",
       " 268: 0.2322129282105424,\n",
       " 269: 0.2305011707798612,\n",
       " 270: 0.2288093878563845,\n",
       " 271: 0.22607746418823538,\n",
       " 272: 0.2247939608183136,\n",
       " 273: 0.22201093122338544,\n",
       " 274: 0.21967247066487483,\n",
       " 275: 0.21678715745178279,\n",
       " 276: 0.2140876856316266,\n",
       " 277: 0.21128182905930093,\n",
       " 278: 0.20918015086793484,\n",
       " 279: 0.20644953970573798,\n",
       " 280: 0.2040264362641966,\n",
       " 281: 0.20172384221468298,\n",
       " 282: 0.19845287423213354,\n",
       " 283: 0.19499126523823151,\n",
       " 284: 0.19230541771382548,\n",
       " 285: 0.18968679854435355,\n",
       " 286: 0.18642251021087708,\n",
       " 287: 0.18291229733378755,\n",
       " 288: 0.18031999600466408,\n",
       " 289: 0.17835634394705524,\n",
       " 290: 0.17508583926345012,\n",
       " 291: 0.1726348851093522,\n",
       " 292: 0.17067880225638465,\n",
       " 293: 0.1669571931868845,\n",
       " 294: 0.16463770876655104,\n",
       " 295: 0.16166304894989558,\n",
       " 296: 0.15919455297267882,\n",
       " 297: 0.1558741040117605,\n",
       " 298: 0.15360852659371016,\n",
       " 299: 0.15148460296670518,\n",
       " 300: 0.148905855091788,\n",
       " 301: 0.14667057600146527,\n",
       " 302: 0.14511144982788127,\n",
       " 303: 0.14269661763255137,\n",
       " 304: 0.13947520101903776,\n",
       " 305: 0.13731167799304844,\n",
       " 306: 0.13532804467815074,\n",
       " 307: 0.13361860973597695,\n",
       " 308: 0.1319990050344816,\n",
       " 309: 0.12939482177643846,\n",
       " 310: 0.12724781116052686,\n",
       " 311: 0.1253141123077154,\n",
       " 312: 0.12325522253282117,\n",
       " 313: 0.12161540418512273,\n",
       " 314: 0.11966143784612393,\n",
       " 315: 0.11720790336913,\n",
       " 316: 0.11535335313878814,\n",
       " 317: 0.11295748444394371,\n",
       " 318: 0.10960841757532869,\n",
       " 319: 0.1069115724832046,\n",
       " 320: 0.10393204360463659,\n",
       " 321: 0.1010218035708581,\n",
       " 322: 0.09786674620647495,\n",
       " 323: 0.09484429393010574,\n",
       " 324: 0.09214026884721116,\n",
       " 325: 0.08886130198078956,\n",
       " 326: 0.08564284961102919,\n",
       " 327: 0.08323399529403008,\n",
       " 328: 0.08003127246900721,\n",
       " 329: 0.07757962092597548,\n",
       " 330: 0.074256543776271,\n",
       " 331: 0.07110605110926127,\n",
       " 332: 0.06808795895303665,\n",
       " 333: 0.06528208748968156,\n",
       " 334: 0.062454057349603076,\n",
       " 335: 0.05927292483133939,\n",
       " 336: 0.05510285602609588,\n",
       " 337: 0.05130632697326254,\n",
       " 338: 0.04878470897400522,\n",
       " 339: 0.04593454881926007,\n",
       " 340: 0.0425428191902949,\n",
       " 341: 0.03847743060633002,\n",
       " 342: 0.03476892985248348,\n",
       " 343: 0.03190201169944629,\n",
       " 344: 0.028762240277421247,\n",
       " 345: 0.02590630937244842,\n",
       " 346: 0.02266011754863273,\n",
       " 347: 0.019271822952242834,\n",
       " 348: 0.016770931552155366,\n",
       " 349: 0.013169413751052184,\n",
       " 350: 0.009530437240794942,\n",
       " 351: 0.005978650711826239,\n",
       " 352: 0.002092635342497373,\n",
       " 353: -0.00028588468126589106}"
      ]
     },
     "execution_count": 26,
     "metadata": {},
     "output_type": "execute_result"
    }
   ],
   "source": [
    "scores"
   ]
  },
  {
   "cell_type": "code",
   "execution_count": 27,
   "metadata": {},
   "outputs": [
    {
     "data": {
      "image/png": "[encoded data removed]",
      "text/plain": [
       "<Figure size 640x480 with 1 Axes>"
      ]
     },
     "metadata": {},
     "output_type": "display_data"
    }
   ],
   "source": [
    "plt.plot(list(scores.keys()), list(scores.values()))\n",
    "plt.grid()\n",
    "plt.show()"
   ]
  },
  {
   "cell_type": "code",
   "execution_count": 28,
   "metadata": {},
   "outputs": [
    {
     "data": {
      "text/plain": [
       "0.5434966108800203"
      ]
     },
     "execution_count": 28,
     "metadata": {},
     "output_type": "execute_result"
    }
   ],
   "source": [
    "max(scores.values())"
   ]
  },
  {
   "cell_type": "code",
   "execution_count": 29,
   "metadata": {},
   "outputs": [
    {
     "data": {
      "text/plain": [
       "20"
      ]
     },
     "execution_count": 29,
     "metadata": {},
     "output_type": "execute_result"
    }
   ],
   "source": [
    "#                           x=(key,value)\n",
    "best_k = sorted(scores.items(), key=lambda x : x[1], reverse=True)[0][0]\n",
    "best_k"
   ]
  },
  {
   "cell_type": "code",
   "execution_count": 30,
   "metadata": {},
   "outputs": [],
   "source": [
    "# 모델에 적용 => n_neighbors에 설정\n",
    "model.n_neighbors = best_k"
   ]
  },
  {
   "cell_type": "markdown",
   "metadata": {},
   "source": [
    "[4]새로운 데이터의 값 예측하기 ==> 학습/훈련과 테스트에 사용되지 않은 데이터 사용\n",
    "   - 주의사항 : 입력데이터 ==> 2D"
   ]
  },
  {
   "cell_type": "code",
   "execution_count": 31,
   "metadata": {},
   "outputs": [],
   "source": [
    "new_data = [[25,5]]"
   ]
  },
  {
   "cell_type": "code",
   "execution_count": 32,
   "metadata": {},
   "outputs": [
    {
     "data": {
      "text/html": [
       "<div>\n",
       "<style scoped>\n",
       "    .dataframe tbody tr th:only-of-type {\n",
       "        vertical-align: middle;\n",
       "    }\n",
       "\n",
       "    .dataframe tbody tr th {\n",
       "        vertical-align: top;\n",
       "    }\n",
       "\n",
       "    .dataframe thead tr th {\n",
       "        text-align: left;\n",
       "    }\n",
       "</style>\n",
       "<table border=\"1\" class=\"dataframe\">\n",
       "  <thead>\n",
       "    <tr>\n",
       "      <th></th>\n",
       "      <th>bmi</th>\n",
       "      <th>s5</th>\n",
       "    </tr>\n",
       "  </thead>\n",
       "  <tbody>\n",
       "    <tr>\n",
       "      <th>0</th>\n",
       "      <td>25</td>\n",
       "      <td>5</td>\n",
       "    </tr>\n",
       "  </tbody>\n",
       "</table>\n",
       "</div>"
      ],
      "text/plain": [
       "  bmi s5\n",
       "0  25  5"
      ]
     },
     "execution_count": 32,
     "metadata": {},
     "output_type": "execute_result"
    }
   ],
   "source": [
    "dataDF = pd.DataFrame(new_data, columns=[['bmi','s5']])\n",
    "dataDF"
   ]
  },
  {
   "cell_type": "code",
   "execution_count": 33,
   "metadata": {},
   "outputs": [
    {
     "name": "stderr",
     "output_type": "stream",
     "text": [
      "c:\\Users\\kdp\\anaconda3\\envs\\ML_38\\lib\\site-packages\\sklearn\\base.py:464: UserWarning: X does not have valid feature names, but MinMaxScaler was fitted with feature names\n",
      "  warnings.warn(\n"
     ]
    }
   ],
   "source": [
    "# 데이터 스케일링\n",
    "data_scaled = mmscaler.transform(dataDF)"
   ]
  },
  {
   "cell_type": "code",
   "execution_count": 34,
   "metadata": {},
   "outputs": [
    {
     "data": {
      "text/plain": [
       "array([178.45])"
      ]
     },
     "execution_count": 34,
     "metadata": {},
     "output_type": "execute_result"
    }
   ],
   "source": [
    "# 예측\n",
    "model.predict(data_scaled)"
   ]
  },
  {
   "cell_type": "code",
   "execution_count": 35,
   "metadata": {},
   "outputs": [
    {
     "name": "stdout",
     "output_type": "stream",
     "text": [
      "[[0.0164612  0.01930689 0.03047456 0.03711618 0.03810791 0.04107068\n",
      "  0.04863472 0.04935836 0.05025849 0.05316658 0.05474296 0.05537826\n",
      "  0.05673192 0.06053555 0.06122202 0.06603636 0.0673463  0.07150801\n",
      "  0.07154794 0.07183479]]\n",
      "[[259 249 102 242 154  75 216   7 273 348 156 104  39 179  76 263 314 133\n",
      "  256  69]]\n"
     ]
    }
   ],
   "source": [
    "distance, index = model.kneighbors(data_scaled)\n",
    "print(distance, index, sep='\\n')"
   ]
  },
  {
   "cell_type": "code",
   "execution_count": 36,
   "metadata": {},
   "outputs": [
    {
     "data": {
      "text/plain": [
       "178.45"
      ]
     },
     "execution_count": 36,
     "metadata": {},
     "output_type": "execute_result"
    }
   ],
   "source": [
    "y_train[index.reshape(-1)].sum()/model.n_neighbors"
   ]
  },
  {
   "cell_type": "code",
   "execution_count": null,
   "metadata": {},
   "outputs": [],
   "source": []
  }
 ],
 "metadata": {
  "kernelspec": {
   "display_name": "ML_38",
   "language": "python",
   "name": "python3"
  },
  "language_info": {
   "codemirror_mode": {
    "name": "ipython",
    "version": 3
   },
   "file_extension": ".py",
   "mimetype": "text/x-python",
   "name": "python",
   "nbconvert_exporter": "python",
   "pygments_lexer": "ipython3",
   "version": "3.8.19"
  }
 },
 "nbformat": 4,
 "nbformat_minor": 2
}
