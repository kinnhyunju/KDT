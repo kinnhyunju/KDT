{
 "cells": [
  {
   "cell_type": "markdown",
   "metadata": {},
   "source": [
    "##### 사용자 정의 함수"
   ]
  },
  {
   "cell_type": "markdown",
   "metadata": {},
   "source": [
    "- - -\n",
    "- 함수 기능 : 모델 학습 진행 함수\n",
    "- 함수 이름 : training\n",
    "- 함수 매개변수 : 함수 구동 시 필요한 재료 => 학습을 위한 재료\n",
    "    * 모델인스턴스\n",
    "    * 학습 데이터셋 : feature, target (학습 전 Tensor화) \n",
    "    * 손실 함수 인스턴스 : loss function\n",
    "    * 최적화 인스턴스 : optimizer\n",
    "    * 학습횟수 : 에포크 epoch\n",
    "    * 배치 크기 : batch_size\n",
    "    * 배치 개수 : batch_count\n",
    "    * 검증용 데이터셋 : feature, target (검증 전 Tensor화)\n",
    "- 함수 결과 : 학습 시 에포크 당 손실값과 성능지표값, 검증의 손실값과 성능지표값 반환\n",
    "- - -"
   ]
  },
  {
   "cell_type": "markdown",
   "metadata": {},
   "source": [
    "- - -\n",
    "- 함수 기능 : 에포크 단위 모델 학습 진행 함수\n",
    "- 함수 이름 : epochTraining\n",
    "- 매개 변수 : 함수 구동 시 필요한 재료 => 학습을 위한 재료\n",
    "    * 모델 인스턴스\n",
    "    * 학습용 데이터셋 : feature, label(학습 전 Tensor화)\n",
    "    * 손실 함수 인스턴스 : loss function\n",
    "    * 최적화 인스턴스 : optimizer\n",
    "    * 배치 크기 : batch_size\n",
    "    * 배치 개수 : batch_count\n",
    "- 함수 결과 : 손실값과 성능지표 값\n",
    "- - -"
   ]
  },
  {
   "cell_type": "code",
   "execution_count": 2,
   "metadata": {},
   "outputs": [],
   "source": [
    "## 모듈 로딩\n",
    "import torch\n",
    "import torch.nn as nn\n",
    "import torch.nn.functional as F\n",
    "import torch.optim as optimizer\n",
    "from torchmetrics.regression import R2Score\n",
    "from torchmetrics.classification import F1Score\n",
    "\n",
    "# 텐서 저장 및 실행 위치 설정\n",
    "DEVICE = 'cuda' if torch.cuda.is_available() else 'cpu'"
   ]
  },
  {
   "cell_type": "code",
   "execution_count": 3,
   "metadata": {},
   "outputs": [],
   "source": [
    "## 에포크 당 학습 진행 후 손실값과 성능지표값 반환 함수\n",
    "def epochTraining(model, feature, target, lossFunc, scoreFunc, optimizer, batch_cnt, batch_size=32, is_class=True):\n",
    "    # 에포크에서 배치크기만큼 데이터셋 추출 후 학습 진행\n",
    "    loss_total = 0\n",
    "    score_total = 0\n",
    "    for batch in range(batch_cnt):\n",
    "        # 배치크기만큼 데이터셋 추출 및 텐서화\n",
    "        start = batch*batch_size    # 예) 배치 사이즈가 32일 때 인덱스 0,32,64,96,...\n",
    "        end = start+batch_size      # 예) 배치 사이즈가 32일 때 인덱스 32,64,96,...\n",
    "\n",
    "        x_train = torch.FloatTensor(feature[start:end].values).to(DEVICE)\n",
    "        y_train = torch.FloatTensor(target[start:end].values).to(DEVICE)\n",
    "\n",
    "        # 학습 진행\n",
    "        pre_y = model(x_train).to(DEVICE)\n",
    "        \n",
    "        # 손실 계산\n",
    "        loss = lossFunc(pre_y, y_train)\n",
    "        loss_total += loss\n",
    "        \n",
    "        # 점수 추출\n",
    "        score = scoreFunc(pre_y, y_train)\n",
    "        score_total += score\n",
    "\n",
    "        # 최적화 : Weight, bias 업데이트\n",
    "        optimizer.zero_grad()\n",
    "        loss.backward()\n",
    "        optimizer.step()\n",
    "\n",
    "    # 에포크당 손실값과 성능지표값 반환\n",
    "    # 테스트 및 성능 검증 함수 사용\n",
    "    return loss_total/batch_cnt, score_total/batch_cnt"
   ]
  },
  {
   "cell_type": "code",
   "execution_count": null,
   "metadata": {},
   "outputs": [],
   "source": [
    "## 검증 및 테스트 진행 후 손실값과 성능지표값 반환 함수\n",
    "def testing(model, feature, target, lossFunc, scoreFunc):\n",
    "\n",
    "    # 최적화 기능 비활성화 후 데이터셋 추출 후 학습 진행\n",
    "    with torch.no_grad():\n",
    "        # 데이터셋 텐서화\n",
    "        featureTS = torch.FloatTensor(feature.values).to(DEVICE)\n",
    "        targetTS = torch.FloatTensor(target.values).to(DEVICE)\n",
    "\n",
    "        # 학습 진행\n",
    "        pre_y = model(featureTS).to(DEVICE)\n",
    "        \n",
    "        # 손실 계산\n",
    "        loss = lossFunc(pre_y, targetTS)\n",
    "        \n",
    "        # 점수 추출\n",
    "        score = scoreFunc(pre_y, targetTS)\n",
    "\n",
    "    # 에포크당 손실값과 성능지표값 반환\n",
    "    # 테스트 및 성능 검증 함수 사용\n",
    "    return loss, score"
   ]
  },
  {
   "cell_type": "code",
   "execution_count": null,
   "metadata": {},
   "outputs": [],
   "source": [
    "# 학습 진행\n",
    "EPOCHS = 10\n",
    "Train_Validation_Loss = {'Train':[], 'Validation':[]}\n",
    "Train_Validation_Score = {'Train':[], 'Validation':[]}\n",
    "for epoch in (EPOCHS):\n",
    "    # 학습 진행\n",
    "    train_loss, trainscore = epochTraining()\n",
    "\n",
    "    # 검증 진행\n",
    "    val_loss, valscore = testing()\n",
    "\n",
    "    # 에포크당 학습 및 검증 결과 저장\n",
    "    Train_Validation_Loss['Train'].append(train_loss)\n",
    "    Train_Validation_Score['Train'].append(trainscore)\n",
    "    \n",
    "    Train_Validation_Loss['Validation'].append(val_loss)\n",
    "    Train_Validation_Score['Validation'].append(valscore)\n",
    "\n",
    "    # 에포크당 학습 및 검증 결과 출력\n",
    "    print(f\"[{epoch}.{EPOCHS}]\\n- Loss : {train_loss}, Score : {trainscore}\")\n",
    "    print(f\"[{epoch}.{EPOCHS}]\\n- Loss : {val_loss}, Score : {valscore}\")"
   ]
  }
 ],
 "metadata": {
  "kernelspec": {
   "display_name": "TORCH_38",
   "language": "python",
   "name": "python3"
  },
  "language_info": {
   "codemirror_mode": {
    "name": "ipython",
    "version": 3
   },
   "file_extension": ".py",
   "mimetype": "text/x-python",
   "name": "python",
   "nbconvert_exporter": "python",
   "pygments_lexer": "ipython3",
   "version": "3.8.19"
  }
 },
 "nbformat": 4,
 "nbformat_minor": 2
}
