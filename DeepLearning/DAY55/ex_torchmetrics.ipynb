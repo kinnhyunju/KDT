{
 "cells": [
  {
   "cell_type": "markdown",
   "metadata": {},
   "source": [
    "##### Torchmetrics 패키지\n",
    "- pytorch에서 모델 성능 평가 기능 제공 패키지\n",
    "- 추가 설치 필요\n",
    "    * pip : pip install torchmetrics\n",
    "    * conda : conda install -c conda-forge torchmetrics\n",
    "- 사용법\n",
    "    * 클래스 방식 : 인스턴스 생성 후 사용\n",
    "    * 함수 방식 : 바로 사용"
   ]
  },
  {
   "cell_type": "markdown",
   "metadata": {},
   "source": [
    "- [1] 회귀(Regression) 성능지표"
   ]
  },
  {
   "cell_type": "code",
   "execution_count": 3,
   "metadata": {},
   "outputs": [],
   "source": [
    "# 모듈 로딩\n",
    "from torchmetrics.functional.regression import r2_score\n",
    "from torchmetrics.regression import R2Score\n",
    "import torch"
   ]
  },
  {
   "cell_type": "code",
   "execution_count": 7,
   "metadata": {},
   "outputs": [
    {
     "data": {
      "text/plain": [
       "tensor(0.9486)"
      ]
     },
     "execution_count": 7,
     "metadata": {},
     "output_type": "execute_result"
    }
   ],
   "source": [
    "# 클래스 방식 --------------------------------------\n",
    "# 데이터\n",
    "target = torch.tensor([3, -0.5, 2, 7])      # 1D (4,)\n",
    "preds = torch.tensor([2.5, 0.0, 2, 8])      # 1D (4,)\n",
    "\n",
    "# 성능평가 -> R2Score : 0~1 (좋음) 정답에 얼마나 근사하게 표현했는가\n",
    "# r2score = R2Score()\n",
    "# r2score(preds, target)      # 재사용 가능\n",
    "R2Score()(preds,target)     # 재사용 불가능"
   ]
  },
  {
   "cell_type": "code",
   "execution_count": 5,
   "metadata": {},
   "outputs": [],
   "source": [
    "def add(a,b): return a+b"
   ]
  },
  {
   "cell_type": "code",
   "execution_count": 6,
   "metadata": {},
   "outputs": [
    {
     "data": {
      "text/plain": [
       "(30, 3)"
      ]
     },
     "execution_count": 6,
     "metadata": {},
     "output_type": "execute_result"
    }
   ],
   "source": [
    "myfunc = add                # myfunc, add : 주소 함께 공유\n",
    "myfunc(10,20), add(1,2)"
   ]
  },
  {
   "cell_type": "code",
   "execution_count": 8,
   "metadata": {},
   "outputs": [
    {
     "data": {
      "text/plain": [
       "tensor(0.9486)"
      ]
     },
     "execution_count": 8,
     "metadata": {},
     "output_type": "execute_result"
    }
   ],
   "source": [
    "# 함수 방식 --------------------------------------\n",
    "# 데이터\n",
    "target = torch.tensor([3, -0.5, 2, 7])      # 1D (4,)\n",
    "preds = torch.tensor([2.5, 0.0, 2, 8])      # 1D (4,)\n",
    "\n",
    "# 성능평가 -> R2Score : 0~1 (좋음) 정답에 얼마나 근사하게 표현했는가\n",
    "r2_score(preds, target)"
   ]
  },
  {
   "cell_type": "code",
   "execution_count": 9,
   "metadata": {},
   "outputs": [],
   "source": [
    "# 모듈 로딩\n",
    "from torchmetrics.functional.regression import mean_squared_error, mean_absolute_error\n",
    "from torchmetrics.regression import MeanAbsoluteError, MeanSquaredError\n",
    "import torch"
   ]
  },
  {
   "cell_type": "code",
   "execution_count": 12,
   "metadata": {},
   "outputs": [
    {
     "name": "stdout",
     "output_type": "stream",
     "text": [
      "tensor(0.8750)\n",
      "tensor(0.8750)\n"
     ]
    }
   ],
   "source": [
    "# 데이터\n",
    "target = torch.tensor([2.5, 5.0, 4.0, 8.0])\n",
    "preds = torch.tensor([3.0, 5.0, 2.5, 7.0])\n",
    "\n",
    "# 오차 계산\n",
    "meansquarederror = MeanSquaredError()\n",
    "print(meansquarederror(preds, target))\n",
    "print(MeanSquaredError()(preds, target))"
   ]
  },
  {
   "cell_type": "code",
   "execution_count": 13,
   "metadata": {},
   "outputs": [
    {
     "data": {
      "text/plain": [
       "tensor(0.8750)"
      ]
     },
     "execution_count": 13,
     "metadata": {},
     "output_type": "execute_result"
    }
   ],
   "source": [
    "# 데이터\n",
    "target = torch.tensor([2.5, 5.0, 4.0, 8.0])\n",
    "preds = torch.tensor([3.0, 5.0, 2.5, 7.0])\n",
    "\n",
    "# 오차 계산\n",
    "mean_squared_error(preds, target)"
   ]
  },
  {
   "cell_type": "markdown",
   "metadata": {},
   "source": [
    "- 분류 (Classification) 성능 평가 지표\n",
    "    * Accuracy  : 양성-양성 / 음성-음성\n",
    "    * Precision : 예측 양성인데 정답도 양성 \n",
    "    * Recall    : 정답 양성인데 예측도 양성\n",
    "    * F1-Score  : \n",
    "    * ConfunsionMatrix\n",
    "    * ROC-AUC => 의료분야 / 2진 분류"
   ]
  },
  {
   "cell_type": "code",
   "execution_count": 14,
   "metadata": {},
   "outputs": [],
   "source": [
    "# 모듈 로딩\n",
    "from torchmetrics.classification import F1Score, Accuracy, Precision, Recall\n",
    "from torchmetrics.functional.classification import f1_score, accuracy, precision, recall"
   ]
  },
  {
   "cell_type": "code",
   "execution_count": 23,
   "metadata": {},
   "outputs": [
    {
     "name": "stdout",
     "output_type": "stream",
     "text": [
      "tensor(0.6667)\n",
      "tensor(0.6667)\n"
     ]
    }
   ],
   "source": [
    "# 2진분류 => task = 'binary'\n",
    "from torchmetrics.classification import BinaryF1Score\n",
    "target = torch.tensor([0, 1, 0, 1, 0, 1])\n",
    "preds = torch.tensor([0, 0, 1, 1, 0, 1])\n",
    "\n",
    "f1 = F1Score(task='binary')\n",
    "print(f1(preds, target))\n",
    "print(BinaryF1Score()(preds,target))"
   ]
  },
  {
   "cell_type": "code",
   "execution_count": 24,
   "metadata": {},
   "outputs": [
    {
     "name": "stdout",
     "output_type": "stream",
     "text": [
      "tensor(0.4333)\n",
      "tensor(0.4333)\n"
     ]
    }
   ],
   "source": [
    "# 다중분류 => task = 'multiclass'\n",
    "from torchmetrics.classification import MulticlassF1Score\n",
    "\n",
    "target = torch.tensor([0, 1, 2, 0, 2, 0])\n",
    "preds = torch.tensor([0, 2, 1, 0, 2, 1])\n",
    "\n",
    "# F1Score => average = 'micro'\n",
    "f1 = F1Score(task='multiclass', num_classes=3, average='macro')\n",
    "print(f1(preds, target))\n",
    "\n",
    "# MulticlassF1Score => average = 'macro'\n",
    "print(MulticlassF1Score(num_classes=3)(preds,target))"
   ]
  },
  {
   "cell_type": "code",
   "execution_count": 25,
   "metadata": {},
   "outputs": [
    {
     "name": "stdout",
     "output_type": "stream",
     "text": [
      "tensor(0.6667)\n",
      "tensor(0.6667)\n"
     ]
    }
   ],
   "source": [
    "# 2진분류 => task = 'binary'\n",
    "from torchmetrics.classification import BinaryPrecision\n",
    "target = torch.tensor([0, 1, 0, 1, 0, 1])\n",
    "preds = torch.tensor([0, 0, 1, 1, 0, 1])\n",
    "\n",
    "pb = Precision(task='binary', threshold=0.1)\n",
    "print(pb(preds, target))\n",
    "\n",
    "print(BinaryPrecision(threshold=0.1)(preds,target))"
   ]
  },
  {
   "cell_type": "code",
   "execution_count": 28,
   "metadata": {},
   "outputs": [
    {
     "name": "stdout",
     "output_type": "stream",
     "text": [
      "tensor(0.5000)\n",
      "tensor(0.5000)\n"
     ]
    }
   ],
   "source": [
    "# 다중분류 => task = 'multiclass'\n",
    "from torchmetrics.classification import MulticlassPrecision\n",
    "\n",
    "target = torch.tensor([0, 1, 2, 0, 2, 0])\n",
    "preds = torch.tensor([0, 2, 1, 0, 2, 1])\n",
    "\n",
    "# Precision => average = 'micro'\n",
    "pm = Precision(task='multiclass', num_classes=3, average='macro')\n",
    "print(pm(preds, target))\n",
    "\n",
    "# MulticlassPrecision => average = 'macro'\n",
    "print(MulticlassPrecision(num_classes=3)(preds,target))"
   ]
  },
  {
   "cell_type": "code",
   "execution_count": null,
   "metadata": {},
   "outputs": [],
   "source": []
  }
 ],
 "metadata": {
  "kernelspec": {
   "display_name": "TORCH_38",
   "language": "python",
   "name": "python3"
  },
  "language_info": {
   "codemirror_mode": {
    "name": "ipython",
    "version": 3
   },
   "file_extension": ".py",
   "mimetype": "text/x-python",
   "name": "python",
   "nbconvert_exporter": "python",
   "pygments_lexer": "ipython3",
   "version": "3.8.19"
  }
 },
 "nbformat": 4,
 "nbformat_minor": 2
}
