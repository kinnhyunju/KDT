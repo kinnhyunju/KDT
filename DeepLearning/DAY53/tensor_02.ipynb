{
 "cells": [
  {
   "cell_type": "markdown",
   "metadata": {},
   "source": [
    "### Tensor 이해"
   ]
  },
  {
   "cell_type": "code",
   "execution_count": 1,
   "metadata": {},
   "outputs": [],
   "source": [
    "# 모듈 로딩\n",
    "import torch"
   ]
  },
  {
   "cell_type": "markdown",
   "metadata": {},
   "source": [
    "- Tensor 생성 [2] torch.rand()"
   ]
  },
  {
   "cell_type": "code",
   "execution_count": 3,
   "metadata": {},
   "outputs": [
    {
     "name": "stdout",
     "output_type": "stream",
     "text": [
      "tensor([0.7576, 0.2793, 0.4031])\n",
      "tensor([[0.7347, 0.0293, 0.7999],\n",
      "        [0.3971, 0.7544, 0.5695]])\n",
      "tensor([[[0.4388, 0.6387, 0.5247]],\n",
      "\n",
      "        [[0.6826, 0.3051, 0.4635]]])\n"
     ]
    }
   ],
   "source": [
    "# 0<= ~ <1 범위의 임의의 숫자 1개 추출 => rand(*size)\n",
    "# rand(*size) : 가변인자 ==> 몇 차원일지 알 수 없음\n",
    "torch.manual_seed(1)\n",
    "\n",
    "dataTS1 = torch.rand(3)                         #1D Vector\n",
    "dataTS2 = torch.rand(2,3)                       #2D Matrix\n",
    "dataTS3 = torch.rand(2,1,3)                     #3D Tensor\n",
    "print(dataTS1, dataTS2, dataTS3, sep='\\n')"
   ]
  },
  {
   "cell_type": "markdown",
   "metadata": {},
   "source": [
    "- Tensor 생성 [3] torch.randn()"
   ]
  },
  {
   "cell_type": "code",
   "execution_count": 4,
   "metadata": {},
   "outputs": [
    {
     "name": "stdout",
     "output_type": "stream",
     "text": [
      "tensor([-1.8349, -2.2149,  0.0436])\n",
      "tensor([[ 1.3240, -0.1005,  0.6443],\n",
      "        [ 0.5244,  1.0157,  0.2571]])\n",
      "tensor([[[-0.9013,  0.8138,  0.3871]],\n",
      "\n",
      "        [[ 0.5417,  0.6646,  0.3248]]])\n"
     ]
    }
   ],
   "source": [
    "# 임의의 정규분포 범위 랜듬 값으로 채운 텐서 생성 => 값의 범위: 평균0, 표준편차1 torch.randn(행,열)\n",
    "dataTS1 = torch.randn(3)                         #1D Vector\n",
    "dataTS2 = torch.randn(2,3)                       #2D Matrix\n",
    "dataTS3 = torch.randn(2,1,3)                     #3D Tensor\n",
    "print(dataTS1, dataTS2, dataTS3, sep='\\n')"
   ]
  },
  {
   "cell_type": "markdown",
   "metadata": {},
   "source": [
    "- Tensor 생성 [3] torch.randint()"
   ]
  },
  {
   "cell_type": "code",
   "execution_count": 6,
   "metadata": {},
   "outputs": [
    {
     "data": {
      "text/plain": [
       "tensor([40, 24,  4,  4, 17, 33])"
      ]
     },
     "execution_count": 6,
     "metadata": {},
     "output_type": "execute_result"
    }
   ],
   "source": [
    "# 임의의 정수 랜덤 값으로 채운 텐서 생성 => torch.randint(low, high, (행,열))\n",
    "# 1D Vector\n",
    "dataTS1 = torch.randint(1,46,(6,))\n",
    "dataTS1"
   ]
  },
  {
   "cell_type": "code",
   "execution_count": 9,
   "metadata": {},
   "outputs": [
    {
     "data": {
      "text/plain": [
       "tensor([[16, 11, 24, 31, 23, 17],\n",
       "        [30,  3, 30, 30, 44, 15],\n",
       "        [38, 22, 25, 27,  4, 40],\n",
       "        [29, 24, 22, 28, 25, 10]])"
      ]
     },
     "execution_count": 9,
     "metadata": {},
     "output_type": "execute_result"
    }
   ],
   "source": [
    "# 2D Matrix\n",
    "dataTS1 = torch.randint(1,46,(4,6))\n",
    "dataTS1"
   ]
  },
  {
   "cell_type": "code",
   "execution_count": null,
   "metadata": {},
   "outputs": [],
   "source": []
  }
 ],
 "metadata": {
  "kernelspec": {
   "display_name": "TORCH_38",
   "language": "python",
   "name": "python3"
  },
  "language_info": {
   "codemirror_mode": {
    "name": "ipython",
    "version": 3
   },
   "file_extension": ".py",
   "mimetype": "text/x-python",
   "name": "python",
   "nbconvert_exporter": "python",
   "pygments_lexer": "ipython3",
   "version": "3.8.19"
  }
 },
 "nbformat": 4,
 "nbformat_minor": 2
}
