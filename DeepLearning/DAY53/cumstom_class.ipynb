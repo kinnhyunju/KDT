{
 "cells": [
  {
   "cell_type": "markdown",
   "metadata": {},
   "source": [
    "#### 사용자 정의 클래스와 상속"
   ]
  },
  {
   "cell_type": "markdown",
   "metadata": {},
   "source": [
    "- 사용자 정의 클래스 : 개발자의 필요에 의해 생성한 클래스"
   ]
  },
  {
   "cell_type": "code",
   "execution_count": 55,
   "metadata": {},
   "outputs": [],
   "source": [
    "# --------------------------------------------------------\n",
    "# 저장 데이터 : 사람 정보 저장 클래스\n",
    "# 클래스 이름 : Person\n",
    "# 클래스 속성 : name, age, gender\n",
    "# 클래스 기능 : eat(), sleep()\n",
    "# --------------------------------------------------------\n",
    "class Person():\n",
    "    # 클래스 변수/속성 : 객체/인스턴스 생성 없이 사용 가능함\n",
    "    born = '대한민국'\n",
    "    \n",
    "    # 인스턴스 생성해주는 메서드\n",
    "    # 인스턴스 생성 시 자동 호출, 즉 콜백 메서드\n",
    "    def __init__(self, name, age, gender) -> None:\n",
    "        print('__init__()')\n",
    "        self.name = name\n",
    "        self.age = age\n",
    "        self.gender = gender\n",
    "        \n",
    "    \n",
    "    # 인스턴스 메서드\n",
    "    def eat(self, food):\n",
    "        print(f'{self.name}이/가 {food} 먹는다.')\n",
    "    \n",
    "    def sleep(self, where):\n",
    "        print(f'{where}에서 잔다.')\n",
    "\n",
    "    # 정적 메서드 (classmethod, staticmethod)\n",
    "    @staticmethod\n",
    "    def test(msg) : \n",
    "        print(msg)\n",
    "    \n",
    "    @classmethod\n",
    "    def test2(cls,msg) : \n",
    "        print(msg)"
   ]
  },
  {
   "cell_type": "code",
   "execution_count": 56,
   "metadata": {},
   "outputs": [
    {
     "name": "stdout",
     "output_type": "stream",
     "text": [
      "__init__()\n"
     ]
    }
   ],
   "source": [
    "# 인스턴스/객체 생성\n",
    "kim = Person('마징가', 10, '남자')"
   ]
  },
  {
   "cell_type": "code",
   "execution_count": 57,
   "metadata": {},
   "outputs": [
    {
     "data": {
      "text/plain": [
       "'대한민국'"
      ]
     },
     "execution_count": 57,
     "metadata": {},
     "output_type": "execute_result"
    }
   ],
   "source": [
    "# 클래스 속성 : 객체/인스턴스 생성 없이 바로 사용 가능\n",
    "Person.born"
   ]
  },
  {
   "cell_type": "code",
   "execution_count": 58,
   "metadata": {},
   "outputs": [],
   "source": [
    "# 인스턴스 속성 : 객체/인스턴스 생성 없이 사용 불가! Error 발생\n",
    "# Person.gender"
   ]
  },
  {
   "cell_type": "code",
   "execution_count": 59,
   "metadata": {},
   "outputs": [
    {
     "name": "stdout",
     "output_type": "stream",
     "text": [
      "Good\n"
     ]
    }
   ],
   "source": [
    "Person.test('Good')"
   ]
  },
  {
   "cell_type": "code",
   "execution_count": 60,
   "metadata": {},
   "outputs": [],
   "source": [
    "class Mother():\n",
    "    # 인스턴스 생성해주는 메서드\n",
    "    # 인스턴스 생성 시 자동 호출, 즉 콜백 메서드\n",
    "    def __init__(self, name, age, gender) -> None:\n",
    "        print('__init__()')\n",
    "        self.name = name\n",
    "        self.age = age\n",
    "        self.gender = gender"
   ]
  },
  {
   "cell_type": "markdown",
   "metadata": {},
   "source": [
    "- 상속(Ingeteritance)\n",
    "    * 기존 클래서의 속성과 메서드 재사용\n",
    "    * 추가 속성 및 메서드로 확장"
   ]
  },
  {
   "cell_type": "code",
   "execution_count": 61,
   "metadata": {},
   "outputs": [],
   "source": [
    "# --------------------------------------------------------\n",
    "# 저장 데이터 : 소방관 정보 저장 클래스\n",
    "# 클래스 이름 : Fireman\n",
    "# 클래스 속성 : name, age, gender, group, position\n",
    "# 클래스 기능 : eat(), sleep(), extinguish()\n",
    "# 부모클래스 : Person\n",
    "# --------------------------------------------------------\n",
    "class Fireman(Person):\n",
    "    \n",
    "    # 인스턴스 생성 메서드\n",
    "    def __init__(self, name, age, gender, group, position) -> None:\n",
    "        # 부모/Super 클래스 생성\n",
    "        super().__init__(name, age, gender)\n",
    "        # 자식/Sub 클래스 생성\n",
    "        self.group = group\n",
    "        self.position = position\n",
    "    \n",
    "    # 오버라이딩(Overriding) : 부모 클래스로부터 상속 받은 메서드 중에서 변경하고 싶은 메서드\n",
    "    #                         구현부만 변경됨\n",
    "    def eat(self, food):\n",
    "        print(f'{self.name}이/가 {food} 데워서 먹는다.')\n",
    "\n",
    "    # 인스턴스 메서드\n",
    "    def extinguish(self, where):\n",
    "        print(f'{self.name}이/가 {where}에서 불을 끄고 있다.')"
   ]
  },
  {
   "cell_type": "code",
   "execution_count": 62,
   "metadata": {},
   "outputs": [
    {
     "name": "stdout",
     "output_type": "stream",
     "text": [
      "__init__()\n"
     ]
    }
   ],
   "source": [
    "park = Fireman('홍길동', 30, '남', '대구소방서', '주임')"
   ]
  },
  {
   "cell_type": "code",
   "execution_count": 63,
   "metadata": {},
   "outputs": [
    {
     "name": "stdout",
     "output_type": "stream",
     "text": [
      "방에서 잔다.\n"
     ]
    }
   ],
   "source": [
    "park.sleep('방')"
   ]
  },
  {
   "cell_type": "code",
   "execution_count": 64,
   "metadata": {},
   "outputs": [
    {
     "name": "stdout",
     "output_type": "stream",
     "text": [
      "홍길동이/가 빵 데워서 먹는다.\n"
     ]
    }
   ],
   "source": [
    "park.eat('빵')"
   ]
  },
  {
   "cell_type": "code",
   "execution_count": 65,
   "metadata": {},
   "outputs": [
    {
     "name": "stdout",
     "output_type": "stream",
     "text": [
      "홍길동이/가 학교에서 불을 끄고 있다.\n"
     ]
    }
   ],
   "source": [
    "park.extinguish('학교')"
   ]
  },
  {
   "cell_type": "code",
   "execution_count": null,
   "metadata": {},
   "outputs": [],
   "source": []
  }
 ],
 "metadata": {
  "kernelspec": {
   "display_name": "TORCH_38",
   "language": "python",
   "name": "python3"
  },
  "language_info": {
   "codemirror_mode": {
    "name": "ipython",
    "version": 3
   },
   "file_extension": ".py",
   "mimetype": "text/x-python",
   "name": "python",
   "nbconvert_exporter": "python",
   "pygments_lexer": "ipython3",
   "version": "3.8.19"
  }
 },
 "nbformat": 4,
 "nbformat_minor": 2
}
