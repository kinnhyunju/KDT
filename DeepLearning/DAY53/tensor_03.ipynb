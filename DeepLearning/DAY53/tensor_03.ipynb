{
 "cells": [
  {
   "cell_type": "markdown",
   "metadata": {},
   "source": [
    "#### Tensor 이해"
   ]
  },
  {
   "cell_type": "code",
   "execution_count": 13,
   "metadata": {},
   "outputs": [],
   "source": [
    "### 모듈로딩\n",
    "import torch"
   ]
  },
  {
   "cell_type": "markdown",
   "metadata": {},
   "source": [
    "- 타입지정 Tensor 클래스 활용\n",
    "    * 데이터 타입을 설정 후 생성\n",
    "    * 데이터 사이즈 설정한 텐서 생성 시\n",
    "    * 데이터의 자료형 변환한 텐서 생성 시 사용"
   ]
  },
  {
   "cell_type": "code",
   "execution_count": 14,
   "metadata": {},
   "outputs": [],
   "source": [
    "### 정수형 텐서 생성\n",
    "data = [0.1,2.8,3.1]"
   ]
  },
  {
   "cell_type": "code",
   "execution_count": 15,
   "metadata": {},
   "outputs": [
    {
     "name": "stdout",
     "output_type": "stream",
     "text": [
      "tensor([0, 2, 3], dtype=torch.int8)\n",
      "tensor([0, 2, 3], dtype=torch.int8)\n"
     ]
    },
    {
     "name": "stderr",
     "output_type": "stream",
     "text": [
      "C:\\Users\\kdp\\AppData\\Local\\Temp\\ipykernel_17016\\2805417075.py:2: DeprecationWarning: an integer is required (got type float).  Implicit conversion to integers using __int__ is deprecated, and may be removed in a future version of Python.\n",
      "  dataTS1 = torch.CharTensor(data)\n",
      "C:\\Users\\kdp\\AppData\\Local\\Temp\\ipykernel_17016\\2805417075.py:3: DeprecationWarning: an integer is required (got type float).  Implicit conversion to integers using __int__ is deprecated, and may be removed in a future version of Python.\n",
      "  dataTS11 = torch.tensor(data, dtype=torch.int8)\n"
     ]
    }
   ],
   "source": [
    "### 1바이트 정수형 텐서 생성\n",
    "dataTS1 = torch.CharTensor(data)\n",
    "dataTS11 = torch.tensor(data, dtype=torch.int8)\n",
    "\n",
    "print(dataTS1, dataTS11, sep='\\n')"
   ]
  },
  {
   "cell_type": "code",
   "execution_count": 16,
   "metadata": {},
   "outputs": [
    {
     "name": "stdout",
     "output_type": "stream",
     "text": [
      "tensor([0, 2, 3], dtype=torch.int16)\n",
      "tensor([0, 2, 3], dtype=torch.int16)\n"
     ]
    },
    {
     "name": "stderr",
     "output_type": "stream",
     "text": [
      "C:\\Users\\kdp\\AppData\\Local\\Temp\\ipykernel_17016\\147951721.py:2: DeprecationWarning: an integer is required (got type float).  Implicit conversion to integers using __int__ is deprecated, and may be removed in a future version of Python.\n",
      "  dataTS1 = torch.ShortTensor(data)\n",
      "C:\\Users\\kdp\\AppData\\Local\\Temp\\ipykernel_17016\\147951721.py:3: DeprecationWarning: an integer is required (got type float).  Implicit conversion to integers using __int__ is deprecated, and may be removed in a future version of Python.\n",
      "  dataTS11 = torch.tensor(data, dtype=torch.int16)\n"
     ]
    }
   ],
   "source": [
    "### 2바이트 정수형 텐서 생성\n",
    "dataTS1 = torch.ShortTensor(data)\n",
    "dataTS11 = torch.tensor(data, dtype=torch.int16)\n",
    "\n",
    "print(dataTS1, dataTS11, sep='\\n')"
   ]
  },
  {
   "cell_type": "code",
   "execution_count": 17,
   "metadata": {},
   "outputs": [
    {
     "name": "stdout",
     "output_type": "stream",
     "text": [
      "tensor([True, True, True])\n",
      "tensor([True, True, True])\n"
     ]
    }
   ],
   "source": [
    "### 논리형 텐서 생성\n",
    "dataTS1 = torch.BoolTensor(data)\n",
    "dataTS11 = torch.tensor(data, dtype=torch.bool)\n",
    "\n",
    "print(dataTS1, dataTS11, sep='\\n')\n",
    "# 0이 아니면 모두 True => 0.1도 True임!"
   ]
  },
  {
   "cell_type": "code",
   "execution_count": 18,
   "metadata": {},
   "outputs": [
    {
     "name": "stdout",
     "output_type": "stream",
     "text": [
      "tensor([0.1000, 2.8000, 3.1000], dtype=torch.float64)\n",
      "tensor([0.1000, 2.8000, 3.1000], dtype=torch.float64)\n"
     ]
    }
   ],
   "source": [
    "### 실수형 텐서 생성\n",
    "dataTS1 = torch.DoubleTensor(data)\n",
    "dataTS11 = torch.tensor(data, dtype=torch.float64)\n",
    "\n",
    "print(dataTS1, dataTS11, sep='\\n')"
   ]
  },
  {
   "cell_type": "markdown",
   "metadata": {},
   "source": [
    "- Tensor 저장 및 실행 위치 설정 ==> 속성 device 설정"
   ]
  },
  {
   "cell_type": "code",
   "execution_count": 22,
   "metadata": {},
   "outputs": [
    {
     "data": {
      "text/plain": [
       "'cpu'"
      ]
     },
     "execution_count": 22,
     "metadata": {},
     "output_type": "execute_result"
    }
   ],
   "source": [
    "### 저장 및 실행 위치 => CPU / GPU\n",
    "Device = 'cuda' if torch.cuda.is_available() else 'cpu'\n",
    "Device"
   ]
  },
  {
   "cell_type": "code",
   "execution_count": 23,
   "metadata": {},
   "outputs": [
    {
     "name": "stdout",
     "output_type": "stream",
     "text": [
      "tensor([0.1000, 2.8000, 3.1000], dtype=torch.float64)\n",
      "tensor([0.1000, 2.8000, 3.1000], dtype=torch.float64)\n"
     ]
    }
   ],
   "source": [
    "### 실수형 텐서 생성\n",
    "dataTS1 = torch.DoubleTensor(data)\n",
    "dataTS11 = torch.tensor(data, dtype=torch.float64, device=Device)\n",
    "\n",
    "print(dataTS1, dataTS11, sep='\\n')"
   ]
  },
  {
   "cell_type": "code",
   "execution_count": null,
   "metadata": {},
   "outputs": [],
   "source": []
  }
 ],
 "metadata": {
  "kernelspec": {
   "display_name": "TORCH_38",
   "language": "python",
   "name": "python3"
  },
  "language_info": {
   "codemirror_mode": {
    "name": "ipython",
    "version": 3
   },
   "file_extension": ".py",
   "mimetype": "text/x-python",
   "name": "python",
   "nbconvert_exporter": "python",
   "pygments_lexer": "ipython3",
   "version": "3.8.19"
  }
 },
 "nbformat": 4,
 "nbformat_minor": 2
}
