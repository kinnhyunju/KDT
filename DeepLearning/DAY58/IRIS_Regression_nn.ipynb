{
 "cells": [
  {
   "cell_type": "markdown",
   "metadata": {},
   "source": [
    "##### DNN 기반 회귀 모델 구현 + 학습 진행 모니터링\n",
    "- 데이터 : iris.csv\n",
    "- 피처/속성 : 3개 Sepal.Length, Sepal.Width, Petal.Length\n",
    "- 타겟/라벨 : 1개 Petal.Width\n",
    "- 학습-방법 : 지도학습 > 회귀\n",
    "- 학습 알고리즘 : 인공신경망(ANN) -> 심층 신경망 (MLP, DNN) : 은닉층이 많은 구성\n",
    "- 프레임워크 : Pytorch\n",
    "- - -\n",
    "- 모니터링\n",
    "    * 기준 : 검증 데이터셋의 loss 또는 score\n",
    "    * 평가 : 학습 데이터셋의 loss 또는 score와 비교해서 학습 중단여부 결정\n",
    "    * 선택 : 현재까지 진행된 모델의 파라미터(가중치, 절편) 저장 여부 또는 모델 전체 저장"
   ]
  },
  {
   "cell_type": "markdown",
   "metadata": {},
   "source": [
    "[1] 모듈 로딩 및 데이터 준비 <hr>"
   ]
  },
  {
   "cell_type": "code",
   "execution_count": 1,
   "metadata": {},
   "outputs": [],
   "source": [
    "# 모듈 로딩\n",
    "# 모델 관련 모듈\n",
    "import torch\n",
    "import torch.nn as nn\n",
    "import torch.nn.functional as F\n",
    "from torch.utils.data import Dataset, DataLoader\n",
    "import torch.optim as optim\n",
    "from torchmetrics.regression import R2Score, MeanSquaredError\n",
    "from torchinfo import summary\n",
    "\n",
    "# 데이터 및 시각화 관련 모듈\n",
    "import pandas as pd\n",
    "import matplotlib.pyplot as plt\n",
    "from sklearn.preprocessing import *\n",
    "from sklearn.model_selection import train_test_split"
   ]
  },
  {
   "cell_type": "code",
   "execution_count": 2,
   "metadata": {},
   "outputs": [
    {
     "name": "stdout",
     "output_type": "stream",
     "text": [
      "Pytorch v.2.4.1\n",
      "Pandas v.2.0.3\n"
     ]
    }
   ],
   "source": [
    "# 활용 패키지 버전 체크 ==> 사용자 정의 함수로 구현하기~~~\n",
    "print(f'Pytorch v.{torch.__version__}')\n",
    "print(f'Pandas v.{pd.__version__}')"
   ]
  },
  {
   "cell_type": "code",
   "execution_count": 3,
   "metadata": {},
   "outputs": [
    {
     "data": {
      "text/html": [
       "<div>\n",
       "<style scoped>\n",
       "    .dataframe tbody tr th:only-of-type {\n",
       "        vertical-align: middle;\n",
       "    }\n",
       "\n",
       "    .dataframe tbody tr th {\n",
       "        vertical-align: top;\n",
       "    }\n",
       "\n",
       "    .dataframe thead th {\n",
       "        text-align: right;\n",
       "    }\n",
       "</style>\n",
       "<table border=\"1\" class=\"dataframe\">\n",
       "  <thead>\n",
       "    <tr style=\"text-align: right;\">\n",
       "      <th></th>\n",
       "      <th>sepal.length</th>\n",
       "      <th>sepal.width</th>\n",
       "      <th>petal.length</th>\n",
       "      <th>petal.width</th>\n",
       "    </tr>\n",
       "  </thead>\n",
       "  <tbody>\n",
       "    <tr>\n",
       "      <th>0</th>\n",
       "      <td>5.1</td>\n",
       "      <td>3.5</td>\n",
       "      <td>1.4</td>\n",
       "      <td>0.2</td>\n",
       "    </tr>\n",
       "  </tbody>\n",
       "</table>\n",
       "</div>"
      ],
      "text/plain": [
       "   sepal.length  sepal.width  petal.length  petal.width\n",
       "0           5.1          3.5           1.4          0.2"
      ]
     },
     "execution_count": 3,
     "metadata": {},
     "output_type": "execute_result"
    }
   ],
   "source": [
    "### 데이터 로딩\n",
    "DATA_FILE = '../../ML/Data/iris.csv'\n",
    "\n",
    "### CSV => DataFrame\n",
    "irisDF = pd.read_csv(DATA_FILE, usecols=[0,1,2,3])\n",
    "\n",
    "### 확인\n",
    "irisDF.head(1)"
   ]
  },
  {
   "cell_type": "markdown",
   "metadata": {},
   "source": [
    "[2] 모델 클래스 설계 및 정의 <hr>\n",
    "- 클래스 목적 : iris 데이터를 학습 및 추론 목적\n",
    "- 클래스 이름 : IrisRegModel\n",
    "- 부모 클래스 : nn.Module\n",
    "- 매 개 변 수 : 층별 입출력 개수 고정하므로 필요 없음\n",
    "- 속성 / 필드 :\n",
    "- 기능 / 역할 : __init__() : 모델 구조 설정, forward() : 순방향 학습 <=오버라이딩(상속관계에서만 가능)\n",
    "- 클래스 구조\n",
    "    * 입력층 : 입력 3개(피처 개수) / 출력 10개(퍼셉트론/뉴런 개수 10개)\n",
    "    * 은닉층 : 입력 10개          / 출력 30개\n",
    "    * 출력층 : 입력 30개          / 출력 1개(너비값)\n",
    "- - -\n",
    "- 손실함수 / 활성화 함수\n",
    "    * 클래스 형태 ==> nn.MESLoss, nn.ReLU ==> __init__() 메서드\n",
    "    * 함수 형태 ==> torch.nn.fuctional 아래에 ==> forward() 메서드"
   ]
  },
  {
   "cell_type": "code",
   "execution_count": 4,
   "metadata": {},
   "outputs": [],
   "source": [
    "class IrisRegModel(nn.Module):\n",
    "    # 모델 구조 구성 및 인스턴스 생성 메서드\n",
    "    def __init__(self):\n",
    "        super().__init__()\n",
    "        self.in_layer = nn.Linear(3,10)\n",
    "        self.hidden_layer = nn.Linear(10,30)\n",
    "        self.out_layer = nn.Linear(30,1)\n",
    "\n",
    "    #순방향 학습 진행 메서드\n",
    "    def forward(self,x) : \n",
    "        # 입력층\n",
    "        y = self.in_layer(x)    # \n",
    "        y=F.relu(y)             # relu 값의 범위 : 0<=y / 시그모이드 : 0~1\n",
    "        # 은닉층 : 10개 숫자의 값(>=0)\n",
    "        y = self.hidden_layer(y)\n",
    "        y = F.relu(y)\n",
    "        # 출력층 : 30개 숫자값 / 회귀이므로 바로 반환\n",
    "        return self.out_layer(y)"
   ]
  },
  {
   "cell_type": "code",
   "execution_count": 5,
   "metadata": {},
   "outputs": [
    {
     "name": "stdout",
     "output_type": "stream",
     "text": [
      "IrisRegModel(\n",
      "  (in_layer): Linear(in_features=3, out_features=10, bias=True)\n",
      "  (hidden_layer): Linear(in_features=10, out_features=30, bias=True)\n",
      "  (out_layer): Linear(in_features=30, out_features=1, bias=True)\n",
      ")\n"
     ]
    }
   ],
   "source": [
    "# 모델 인스턴스 생성\n",
    "model = IrisRegModel()\n",
    "print(model)"
   ]
  },
  {
   "cell_type": "code",
   "execution_count": 6,
   "metadata": {},
   "outputs": [
    {
     "data": {
      "text/plain": [
       "==========================================================================================\n",
       "Layer (type:depth-idx)                   Output Shape              Param #\n",
       "==========================================================================================\n",
       "IrisRegModel                             [1500, 1]                 --\n",
       "├─Linear: 1-1                            [1500, 10]                40\n",
       "├─Linear: 1-2                            [1500, 30]                330\n",
       "├─Linear: 1-3                            [1500, 1]                 31\n",
       "==========================================================================================\n",
       "Total params: 401\n",
       "Trainable params: 401\n",
       "Non-trainable params: 0\n",
       "Total mult-adds (M): 0.60\n",
       "==========================================================================================\n",
       "Input size (MB): 0.02\n",
       "Forward/backward pass size (MB): 0.49\n",
       "Params size (MB): 0.00\n",
       "Estimated Total Size (MB): 0.51\n",
       "=========================================================================================="
      ]
     },
     "execution_count": 6,
     "metadata": {},
     "output_type": "execute_result"
    }
   ],
   "source": [
    "# 모델 사용 메모리 정보 확인\n",
    "summary(model, input_size=(1500,3))"
   ]
  },
  {
   "cell_type": "markdown",
   "metadata": {},
   "source": [
    "[3] 데이터셋 클래스 설계 및 정의 <hr>\n",
    "- 데이터셋 : iris.csv\n",
    "- 피처 개수 : 3개\n",
    "- 타겟 개수 : 1개\n",
    "- 클래스 이름 : IrisDataset\n",
    "- 부모 클래스 : utils.data.Dataset\n",
    "- 속성 / 필드 : featureDF, targetDF, n_rows, n_features\n",
    "- 필수 메서드\n",
    "    * _ _init_ _(self) : 데이터셋 저장 및 전처리, 개발자가 필요한 속성 설정\n",
    "    * _ _len_ _(self) : 데이터의 개수 반환\n",
    "    * _ _getItem_ _(self, index) : 특정 인덱스의 피처와 타겟 반환"
   ]
  },
  {
   "cell_type": "code",
   "execution_count": 7,
   "metadata": {},
   "outputs": [],
   "source": [
    "class IrisDataset(Dataset):\n",
    "\n",
    "    def __init__(self, featureDF, targetDF):\n",
    "        self.featureDF = featureDF\n",
    "        self.targetDF = targetDF\n",
    "        self.n_rows = featureDF.shape[0]\n",
    "        self.n_features = featureDF.shape[1]\n",
    "\n",
    "    def __len__(self) : \n",
    "        return self.n_rows\n",
    "\n",
    "    def __getitem__(self, index):\n",
    "        # 텐서화\n",
    "        feaureTS = torch.FloatTensor(self.featureDF.iloc[index].values)\n",
    "        targetTS = torch.FloatTensor(self.targetDF.iloc[index].values)\n",
    "        \n",
    "        # 피처와 타겟 반환\n",
    "        return feaureTS, targetTS"
   ]
  },
  {
   "cell_type": "code",
   "execution_count": 8,
   "metadata": {},
   "outputs": [],
   "source": [
    "# 피처와 타겟 데이터 추출\n",
    "featureDF = irisDF[irisDF.columns[:-1]]     # 2D (150,3)\n",
    "targetDF = irisDF[irisDF.columns[-1:]]      # 2D (150,1)"
   ]
  },
  {
   "cell_type": "code",
   "execution_count": 9,
   "metadata": {},
   "outputs": [],
   "source": [
    "## 커스텀데이터셋 인스턴스 생성\n",
    "irisDS = IrisDataset(featureDF, targetDF)"
   ]
  },
  {
   "cell_type": "markdown",
   "metadata": {},
   "source": [
    "[4] 학습 준비\n",
    "- 학습 횟수 : EPOCH   <- 처음부터 끝까지 공부하는 단위\n",
    "- 배치 크기 : BATCH_SIZE   <- 한번에 학습할 데이터셋 양\n",
    "- 위치 지정 : DEVICE  <- 텐서 저장 및 실행 위치 (GPU/CPU)\n",
    "- 학 습 율  : LR 가중치와 절편 업데이트 시 경사 하강법으로 업데이트 간격 설정 0.001~0.1 (하이퍼파라미터)"
   ]
  },
  {
   "cell_type": "code",
   "execution_count": 10,
   "metadata": {},
   "outputs": [],
   "source": [
    "### 학습 진행 관련 설정\n",
    "EPOCH = 1000\n",
    "BATCH_SIZE = 10\n",
    "BATCH_CNT = irisDF.shape[0]//BATCH_SIZE\n",
    "DEVICE = 'cuda' if torch.cuda.is_available() else 'cpu'\n",
    "LR = 0.001"
   ]
  },
  {
   "cell_type": "markdown",
   "metadata": {},
   "source": [
    "- 인스턴스/객체 : 모델, 데이터셋, 최적화 (, 손실함수, 성능지표)"
   ]
  },
  {
   "cell_type": "code",
   "execution_count": 11,
   "metadata": {},
   "outputs": [
    {
     "name": "stdout",
     "output_type": "stream",
     "text": [
      "(84, 3) (38, 3) (28, 3)\n",
      "(84, 1) (38, 1) (28, 1)\n"
     ]
    }
   ],
   "source": [
    "# 모델 인스턴스\n",
    "model = IrisRegModel()\n",
    "\n",
    "# 데이터셋 인스턴스\n",
    "X_train,X_test, y_train, y_test = train_test_split(featureDF, targetDF, random_state=1)\n",
    "X_train, X_val, y_train, y_val = train_test_split(X_train, y_train, random_state=1)\n",
    "print(f'{X_train.shape} {X_test.shape} {X_val.shape}')\n",
    "print(f'{y_train.shape} {y_test.shape} {y_val.shape}')\n",
    "\n",
    "# irisDS = IrisDataset(X_train, y_train)\n",
    "trainDS = IrisDataset(X_train, y_train)\n",
    "valDS = IrisDataset(X_val, y_val)\n",
    "testDS = IrisDataset(X_test, y_test)\n",
    "\n",
    "# 데이터로더 인스턴스\n",
    "# irisDL = DataLoader(irisDS, batch_size = BATCH_SIZE)\n",
    "\n",
    "trainDL = DataLoader(trainDS, batch_size = BATCH_SIZE)"
   ]
  },
  {
   "cell_type": "code",
   "execution_count": 12,
   "metadata": {},
   "outputs": [
    {
     "name": "stdout",
     "output_type": "stream",
     "text": [
      "torch.Size([3]) torch.Size([1])\n",
      "torch.Size([3]) torch.Size([1])\n",
      "torch.Size([3]) torch.Size([1])\n",
      "torch.Size([3]) torch.Size([1])\n",
      "torch.Size([3]) torch.Size([1])\n",
      "torch.Size([3]) torch.Size([1])\n",
      "torch.Size([3]) torch.Size([1])\n",
      "torch.Size([3]) torch.Size([1])\n",
      "torch.Size([3]) torch.Size([1])\n",
      "torch.Size([3]) torch.Size([1])\n",
      "torch.Size([3]) torch.Size([1])\n",
      "torch.Size([3]) torch.Size([1])\n",
      "torch.Size([3]) torch.Size([1])\n",
      "torch.Size([3]) torch.Size([1])\n",
      "torch.Size([3]) torch.Size([1])\n",
      "torch.Size([3]) torch.Size([1])\n",
      "torch.Size([3]) torch.Size([1])\n",
      "torch.Size([3]) torch.Size([1])\n",
      "torch.Size([3]) torch.Size([1])\n",
      "torch.Size([3]) torch.Size([1])\n",
      "torch.Size([3]) torch.Size([1])\n",
      "torch.Size([3]) torch.Size([1])\n",
      "torch.Size([3]) torch.Size([1])\n",
      "torch.Size([3]) torch.Size([1])\n",
      "torch.Size([3]) torch.Size([1])\n",
      "torch.Size([3]) torch.Size([1])\n",
      "torch.Size([3]) torch.Size([1])\n",
      "torch.Size([3]) torch.Size([1])\n",
      "torch.Size([3]) torch.Size([1])\n",
      "torch.Size([3]) torch.Size([1])\n",
      "torch.Size([3]) torch.Size([1])\n",
      "torch.Size([3]) torch.Size([1])\n",
      "torch.Size([3]) torch.Size([1])\n",
      "torch.Size([3]) torch.Size([1])\n",
      "torch.Size([3]) torch.Size([1])\n",
      "torch.Size([3]) torch.Size([1])\n",
      "torch.Size([3]) torch.Size([1])\n",
      "torch.Size([3]) torch.Size([1])\n",
      "torch.Size([3]) torch.Size([1])\n",
      "torch.Size([3]) torch.Size([1])\n",
      "torch.Size([3]) torch.Size([1])\n",
      "torch.Size([3]) torch.Size([1])\n",
      "torch.Size([3]) torch.Size([1])\n",
      "torch.Size([3]) torch.Size([1])\n",
      "torch.Size([3]) torch.Size([1])\n",
      "torch.Size([3]) torch.Size([1])\n",
      "torch.Size([3]) torch.Size([1])\n",
      "torch.Size([3]) torch.Size([1])\n",
      "torch.Size([3]) torch.Size([1])\n",
      "torch.Size([3]) torch.Size([1])\n",
      "torch.Size([3]) torch.Size([1])\n",
      "torch.Size([3]) torch.Size([1])\n",
      "torch.Size([3]) torch.Size([1])\n",
      "torch.Size([3]) torch.Size([1])\n",
      "torch.Size([3]) torch.Size([1])\n",
      "torch.Size([3]) torch.Size([1])\n",
      "torch.Size([3]) torch.Size([1])\n",
      "torch.Size([3]) torch.Size([1])\n",
      "torch.Size([3]) torch.Size([1])\n",
      "torch.Size([3]) torch.Size([1])\n",
      "torch.Size([3]) torch.Size([1])\n",
      "torch.Size([3]) torch.Size([1])\n",
      "torch.Size([3]) torch.Size([1])\n",
      "torch.Size([3]) torch.Size([1])\n",
      "torch.Size([3]) torch.Size([1])\n",
      "torch.Size([3]) torch.Size([1])\n",
      "torch.Size([3]) torch.Size([1])\n",
      "torch.Size([3]) torch.Size([1])\n",
      "torch.Size([3]) torch.Size([1])\n",
      "torch.Size([3]) torch.Size([1])\n",
      "torch.Size([3]) torch.Size([1])\n",
      "torch.Size([3]) torch.Size([1])\n",
      "torch.Size([3]) torch.Size([1])\n",
      "torch.Size([3]) torch.Size([1])\n",
      "torch.Size([3]) torch.Size([1])\n",
      "torch.Size([3]) torch.Size([1])\n",
      "torch.Size([3]) torch.Size([1])\n",
      "torch.Size([3]) torch.Size([1])\n",
      "torch.Size([3]) torch.Size([1])\n",
      "torch.Size([3]) torch.Size([1])\n",
      "torch.Size([3]) torch.Size([1])\n",
      "torch.Size([3]) torch.Size([1])\n",
      "torch.Size([3]) torch.Size([1])\n",
      "torch.Size([3]) torch.Size([1])\n"
     ]
    }
   ],
   "source": [
    "## [테스트] 데이터 로더\n",
    "for feature, target in trainDS:\n",
    "    print(feature.shape, target.shape)"
   ]
  },
  {
   "cell_type": "code",
   "execution_count": 13,
   "metadata": {},
   "outputs": [],
   "source": [
    "val_feaure_TS = torch.FloatTensor(valDS.featureDF.values)\n",
    "val_target_TS = torch.FloatTensor(valDS.targetDF.values)"
   ]
  },
  {
   "cell_type": "code",
   "execution_count": 14,
   "metadata": {},
   "outputs": [],
   "source": [
    "# 최적화 인스턴스 => W,b 텐서, 즉 model.parameters() 전달 - 최적화하는 이유 : 오차를 줄이기 위해서!\n",
    "optimizer = optim.Adam(model.parameters(), lr=LR)\n",
    "\n",
    "# 손실함수 인스턴스 => 회귀 : MSE, MAE, RMSE\n",
    "reqLoss = nn.MSELoss()"
   ]
  },
  {
   "cell_type": "markdown",
   "metadata": {},
   "source": [
    "[5] 학습 진행"
   ]
  },
  {
   "cell_type": "code",
   "execution_count": 15,
   "metadata": {},
   "outputs": [
    {
     "name": "stdout",
     "output_type": "stream",
     "text": [
      "CNT =>15.0\n",
      "[0/1000]\n",
      "- [TRAIN] LOSS : 0.9731125593185425 SCORE : -1.5054145495096842\n",
      "- [VALID] LOSS : 1.0822268724441528 SCORE : -0.6765443086624146\n",
      "[1/1000]\n",
      "- [TRAIN] LOSS : 0.5802696307500204 SCORE : -0.6624436140060425\n",
      "- [VALID] LOSS : 0.5986190438270569 SCORE : 0.0726422667503357\n",
      "[2/1000]\n",
      "- [TRAIN] LOSS : 0.30159393946329754 SCORE : -0.05290663639704386\n",
      "- [VALID] LOSS : 0.341534823179245 SCORE : 0.4709073305130005\n",
      "[3/1000]\n",
      "- [TRAIN] LOSS : 0.16641992529233296 SCORE : 0.2522382974624634\n",
      "- [VALID] LOSS : 0.2787409722805023 SCORE : 0.5681851506233215\n",
      "[4/1000]\n",
      "- [TRAIN] LOSS : 0.13390209178129833 SCORE : 0.33330568472544353\n",
      "- [VALID] LOSS : 0.2902851104736328 SCORE : 0.5503014326095581\n",
      "[5/1000]\n",
      "- [TRAIN] LOSS : 0.12963680922985077 SCORE : 0.34394738674163816\n",
      "- [VALID] LOSS : 0.2734592854976654 SCORE : 0.5763673186302185\n",
      "[6/1000]\n",
      "- [TRAIN] LOSS : 0.11845826109250386 SCORE : 0.36492176055908204\n",
      "- [VALID] LOSS : 0.23875007033348083 SCORE : 0.63013756275177\n",
      "[7/1000]\n",
      "- [TRAIN] LOSS : 0.10813966691493988 SCORE : 0.3840862313906352\n",
      "- [VALID] LOSS : 0.21311984956264496 SCORE : 0.6698428988456726\n",
      "[8/1000]\n",
      "- [TRAIN] LOSS : 0.10119155744711558 SCORE : 0.39668166637420654\n",
      "- [VALID] LOSS : 0.1955803483724594 SCORE : 0.6970144510269165\n",
      "[9/1000]\n",
      "- [TRAIN] LOSS : 0.09445308844248454 SCORE : 0.4096726179122925\n",
      "- [VALID] LOSS : 0.18170925974845886 SCORE : 0.7185029983520508\n",
      "[10/1000]\n",
      "- [TRAIN] LOSS : 0.0877740353345871 SCORE : 0.4230890035629272\n",
      "- [VALID] LOSS : 0.16884171962738037 SCORE : 0.7384368777275085\n",
      "[11/1000]\n",
      "- [TRAIN] LOSS : 0.08157074650128683 SCORE : 0.4354766289393107\n",
      "- [VALID] LOSS : 0.15477968752384186 SCORE : 0.7602212429046631\n",
      "[12/1000]\n",
      "- [TRAIN] LOSS : 0.07464943180481592 SCORE : 0.4488402088483175\n",
      "- [VALID] LOSS : 0.1358388364315033 SCORE : 0.7895636558532715\n",
      "[13/1000]\n",
      "- [TRAIN] LOSS : 0.06706406672795613 SCORE : 0.4634731888771057\n",
      "- [VALID] LOSS : 0.11949149519205093 SCORE : 0.8148883581161499\n",
      "[14/1000]\n",
      "- [TRAIN] LOSS : 0.06117583413918813 SCORE : 0.47484803199768066\n",
      "- [VALID] LOSS : 0.10801839828491211 SCORE : 0.832662045955658\n",
      "[15/1000]\n",
      "- [TRAIN] LOSS : 0.05571336944897969 SCORE : 0.4858313719431559\n",
      "- [VALID] LOSS : 0.09828125685453415 SCORE : 0.8477464318275452\n",
      "[16/1000]\n",
      "- [TRAIN] LOSS : 0.050848150501648585 SCORE : 0.4955188393592834\n",
      "- [VALID] LOSS : 0.08856667578220367 SCORE : 0.862795889377594\n",
      "[17/1000]\n",
      "- [TRAIN] LOSS : 0.046720531831185026 SCORE : 0.5036017696062723\n",
      "- [VALID] LOSS : 0.08011080324649811 SCORE : 0.8758953809738159\n",
      "[18/1000]\n",
      "- [TRAIN] LOSS : 0.043283922225236894 SCORE : 0.5103556394577027\n",
      "- [VALID] LOSS : 0.0736163854598999 SCORE : 0.8859562873840332\n",
      "[19/1000]\n",
      "- [TRAIN] LOSS : 0.040275115271409354 SCORE : 0.5163429697354635\n",
      "- [VALID] LOSS : 0.06868718564510345 SCORE : 0.8935924768447876\n",
      "[20/1000]\n",
      "- [TRAIN] LOSS : 0.03772442117333412 SCORE : 0.5214039961496989\n",
      "- [VALID] LOSS : 0.06383927166461945 SCORE : 0.9011026620864868\n",
      "[21/1000]\n",
      "- [TRAIN] LOSS : 0.035729879637559255 SCORE : 0.5252764264742533\n",
      "- [VALID] LOSS : 0.05999257043004036 SCORE : 0.9070618152618408\n",
      "[22/1000]\n",
      "- [TRAIN] LOSS : 0.03413016510506471 SCORE : 0.5284607132275899\n",
      "- [VALID] LOSS : 0.057407576590776443 SCORE : 0.9110664129257202\n",
      "[23/1000]\n",
      "- [TRAIN] LOSS : 0.03279541457692782 SCORE : 0.5311567862828572\n",
      "- [VALID] LOSS : 0.05567622557282448 SCORE : 0.9137485027313232\n",
      "[24/1000]\n",
      "- [TRAIN] LOSS : 0.03169165936609109 SCORE : 0.5334233959515889\n",
      "- [VALID] LOSS : 0.05394945293664932 SCORE : 0.9164235591888428\n",
      "[25/1000]\n",
      "- [TRAIN] LOSS : 0.030855065584182738 SCORE : 0.5351415594418844\n",
      "- [VALID] LOSS : 0.05283607915043831 SCORE : 0.918148398399353\n",
      "[26/1000]\n",
      "- [TRAIN] LOSS : 0.030137471109628677 SCORE : 0.5365939855575561\n",
      "- [VALID] LOSS : 0.052078790962696075 SCORE : 0.9193215370178223\n",
      "[27/1000]\n",
      "- [TRAIN] LOSS : 0.02959109048048655 SCORE : 0.5377352237701416\n",
      "- [VALID] LOSS : 0.05128348991274834 SCORE : 0.9205535650253296\n",
      "[28/1000]\n",
      "- [TRAIN] LOSS : 0.029107468326886494 SCORE : 0.5387447277704874\n",
      "- [VALID] LOSS : 0.050736214965581894 SCORE : 0.9214013814926147\n",
      "[29/1000]\n",
      "- [TRAIN] LOSS : 0.028836719567577045 SCORE : 0.5393869439760844\n",
      "- [VALID] LOSS : 0.050718579441308975 SCORE : 0.9214287400245667\n",
      "[30/1000]\n",
      "- [TRAIN] LOSS : 0.028446728363633156 SCORE : 0.5402136484781901\n",
      "- [VALID] LOSS : 0.05066096410155296 SCORE : 0.9215179681777954\n",
      "[31/1000]\n",
      "- [TRAIN] LOSS : 0.028150525192419687 SCORE : 0.5408652782440185\n",
      "- [VALID] LOSS : 0.05004434660077095 SCORE : 0.9224731922149658\n",
      "[32/1000]\n",
      "- [TRAIN] LOSS : 0.027899323031306267 SCORE : 0.5413851300875346\n",
      "- [VALID] LOSS : 0.04985276982188225 SCORE : 0.9227700233459473\n",
      "[33/1000]\n",
      "- [TRAIN] LOSS : 0.027711365123589835 SCORE : 0.5418312152226766\n",
      "- [VALID] LOSS : 0.04978587478399277 SCORE : 0.9228736162185669\n",
      "[34/1000]\n",
      "- [TRAIN] LOSS : 0.027497187380989392 SCORE : 0.5423286437988282\n",
      "- [VALID] LOSS : 0.04981303587555885 SCORE : 0.9228315353393555\n",
      "[35/1000]\n",
      "- [TRAIN] LOSS : 0.02726940028369427 SCORE : 0.5428398331006368\n",
      "- [VALID] LOSS : 0.04958615452051163 SCORE : 0.923183023929596\n",
      "[36/1000]\n",
      "- [TRAIN] LOSS : 0.027072563767433167 SCORE : 0.5432633996009827\n",
      "- [VALID] LOSS : 0.04935343191027641 SCORE : 0.9235435724258423\n",
      "[37/1000]\n",
      "- [TRAIN] LOSS : 0.026842057580749194 SCORE : 0.5437690297762553\n",
      "- [VALID] LOSS : 0.0490049310028553 SCORE : 0.9240834712982178\n",
      "[38/1000]\n",
      "- [TRAIN] LOSS : 0.026732305934031805 SCORE : 0.5440539518992106\n",
      "- [VALID] LOSS : 0.0490761436522007 SCORE : 0.9239730834960938\n",
      "[39/1000]\n",
      "- [TRAIN] LOSS : 0.026541224991281826 SCORE : 0.5445047338803609\n",
      "- [VALID] LOSS : 0.04913480207324028 SCORE : 0.923882246017456\n",
      "[40/1000]\n",
      "- [TRAIN] LOSS : 0.026314598073561988 SCORE : 0.5449973066647847\n",
      "- [VALID] LOSS : 0.04877140000462532 SCORE : 0.9244452118873596\n",
      "[41/1000]\n",
      "- [TRAIN] LOSS : 0.026097281898061434 SCORE : 0.5454585631688436\n",
      "- [VALID] LOSS : 0.048300664871931076 SCORE : 0.9251744747161865\n",
      "[42/1000]\n",
      "- [TRAIN] LOSS : 0.026016513630747796 SCORE : 0.5456497271855673\n",
      "- [VALID] LOSS : 0.04845372587442398 SCORE : 0.92493736743927\n",
      "[43/1000]\n",
      "- [TRAIN] LOSS : 0.025751085951924324 SCORE : 0.5462616880734762\n",
      "- [VALID] LOSS : 0.048155851662158966 SCORE : 0.9253988265991211\n",
      "[44/1000]\n",
      "- [TRAIN] LOSS : 0.02561849504709244 SCORE : 0.5465798775355021\n",
      "- [VALID] LOSS : 0.04794400930404663 SCORE : 0.9257270097732544\n",
      "[45/1000]\n",
      "- [TRAIN] LOSS : 0.02544670415421327 SCORE : 0.5469740947087606\n",
      "- [VALID] LOSS : 0.04792344942688942 SCORE : 0.9257588386535645\n",
      "[46/1000]\n",
      "- [TRAIN] LOSS : 0.025245016316572826 SCORE : 0.5474236845970154\n",
      "- [VALID] LOSS : 0.04766147956252098 SCORE : 0.9261646866798401\n",
      "[47/1000]\n",
      "- [TRAIN] LOSS : 0.025055040419101716 SCORE : 0.5478383342425028\n",
      "- [VALID] LOSS : 0.04730888456106186 SCORE : 0.9267109036445618\n",
      "[48/1000]\n",
      "- [TRAIN] LOSS : 0.024927985792358717 SCORE : 0.548129125436147\n",
      "- [VALID] LOSS : 0.04731770232319832 SCORE : 0.9266972541809082\n",
      "[49/1000]\n",
      "- [TRAIN] LOSS : 0.024699066206812857 SCORE : 0.5486578861872355\n",
      "- [VALID] LOSS : 0.04697505757212639 SCORE : 0.9272280335426331\n",
      "[50/1000]\n",
      "- [TRAIN] LOSS : 0.02455350706974665 SCORE : 0.5489762584368388\n",
      "- [VALID] LOSS : 0.04689640924334526 SCORE : 0.927349865436554\n",
      "[51/1000]\n",
      "- [TRAIN] LOSS : 0.02439954293270906 SCORE : 0.5493330637613932\n",
      "- [VALID] LOSS : 0.04673667624592781 SCORE : 0.9275973439216614\n",
      "[52/1000]\n",
      "- [TRAIN] LOSS : 0.024194992582003274 SCORE : 0.549795909722646\n",
      "- [VALID] LOSS : 0.04641764238476753 SCORE : 0.9280915856361389\n",
      "[53/1000]\n",
      "- [TRAIN] LOSS : 0.024051161979635558 SCORE : 0.5501100937525432\n",
      "- [VALID] LOSS : 0.046327799558639526 SCORE : 0.9282307624816895\n",
      "[54/1000]\n",
      "- [TRAIN] LOSS : 0.023882090051968893 SCORE : 0.5505156596501668\n",
      "- [VALID] LOSS : 0.04607471823692322 SCORE : 0.928622841835022\n",
      "[55/1000]\n",
      "- [TRAIN] LOSS : 0.023724709699551264 SCORE : 0.5508605718612671\n",
      "- [VALID] LOSS : 0.04602867364883423 SCORE : 0.9286941289901733\n",
      "[56/1000]\n",
      "- [TRAIN] LOSS : 0.02355012595653534 SCORE : 0.5512721498807271\n",
      "- [VALID] LOSS : 0.04570823535323143 SCORE : 0.9291905760765076\n",
      "[57/1000]\n",
      "- [TRAIN] LOSS : 0.023407236859202384 SCORE : 0.5515752116839091\n",
      "- [VALID] LOSS : 0.04569366201758385 SCORE : 0.9292131066322327\n",
      "[58/1000]\n",
      "- [TRAIN] LOSS : 0.023227019359668095 SCORE : 0.5520008603731791\n",
      "- [VALID] LOSS : 0.045334964990615845 SCORE : 0.9297688007354736\n",
      "[59/1000]\n",
      "- [TRAIN] LOSS : 0.02310200408101082 SCORE : 0.5522659619649252\n",
      "- [VALID] LOSS : 0.04539613053202629 SCORE : 0.9296740293502808\n",
      "[60/1000]\n",
      "- [TRAIN] LOSS : 0.022951387738188108 SCORE : 0.5526720841725667\n",
      "- [VALID] LOSS : 0.04502112790942192 SCORE : 0.9302549958229065\n",
      "[61/1000]\n",
      "- [TRAIN] LOSS : 0.022791321203112603 SCORE : 0.553045650323232\n",
      "- [VALID] LOSS : 0.04516371339559555 SCORE : 0.9300341010093689\n",
      "[62/1000]\n",
      "- [TRAIN] LOSS : 0.022580806290109952 SCORE : 0.5535317381223043\n",
      "- [VALID] LOSS : 0.04476853460073471 SCORE : 0.9306463003158569\n",
      "[63/1000]\n",
      "- [TRAIN] LOSS : 0.022455081840356193 SCORE : 0.5538076599438985\n",
      "- [VALID] LOSS : 0.04462346062064171 SCORE : 0.9308710694313049\n",
      "[64/1000]\n",
      "- [TRAIN] LOSS : 0.022302918881177903 SCORE : 0.5541435758272807\n",
      "- [VALID] LOSS : 0.04461470991373062 SCORE : 0.930884599685669\n",
      "[65/1000]\n",
      "- [TRAIN] LOSS : 0.02211653391520182 SCORE : 0.554536783695221\n",
      "- [VALID] LOSS : 0.04430817440152168 SCORE : 0.9313594698905945\n",
      "[66/1000]\n",
      "- [TRAIN] LOSS : 0.022012584532300632 SCORE : 0.5547797679901123\n",
      "- [VALID] LOSS : 0.04404621943831444 SCORE : 0.9317652583122253\n",
      "[67/1000]\n",
      "- [TRAIN] LOSS : 0.021870333204666772 SCORE : 0.5551087141036988\n",
      "- [VALID] LOSS : 0.04419023543596268 SCORE : 0.931542158126831\n",
      "[68/1000]\n",
      "- [TRAIN] LOSS : 0.02170023260017236 SCORE : 0.5555162787437439\n",
      "- [VALID] LOSS : 0.04377482458949089 SCORE : 0.932185709476471\n",
      "[69/1000]\n",
      "- [TRAIN] LOSS : 0.021572376042604445 SCORE : 0.5557923396428426\n",
      "- [VALID] LOSS : 0.043846964836120605 SCORE : 0.9320739507675171\n",
      "[70/1000]\n",
      "- [TRAIN] LOSS : 0.021425350507100423 SCORE : 0.5561383167902628\n",
      "- [VALID] LOSS : 0.04350784420967102 SCORE : 0.9325993061065674\n",
      "[71/1000]\n",
      "- [TRAIN] LOSS : 0.021319554497798283 SCORE : 0.5564091126124064\n",
      "- [VALID] LOSS : 0.04345710948109627 SCORE : 0.9326779246330261\n",
      "[72/1000]\n",
      "- [TRAIN] LOSS : 0.021161581700046856 SCORE : 0.5567837238311768\n",
      "- [VALID] LOSS : 0.04342857748270035 SCORE : 0.9327220916748047\n",
      "[73/1000]\n",
      "- [TRAIN] LOSS : 0.021020049601793288 SCORE : 0.5571297645568848\n",
      "- [VALID] LOSS : 0.043142396956682205 SCORE : 0.933165431022644\n",
      "[74/1000]\n",
      "- [TRAIN] LOSS : 0.020917426298062005 SCORE : 0.5573386470476787\n",
      "- [VALID] LOSS : 0.04332266375422478 SCORE : 0.9328861832618713\n",
      "성능 및 손실 개선이 없어서 74 EPOCH에학습 중단\n"
     ]
    }
   ],
   "source": [
    "## 학습의 효과 확인 - 손실값과 성능평가값 저장 필요\n",
    "LOSS_HISTORY, SCORE_HISTORY = [[],[]], [[],[]]\n",
    "CNT = irisDS.n_rows/BATCH_SIZE\n",
    "print(f'CNT =>{CNT}')\n",
    "\n",
    "## 학습 모니터링/스케줄링 설정 \n",
    "# => LOSS_HISTORY, SCORE_HISTORY 활용\n",
    "# => 임계 기준 : 10번\n",
    "BREAK_CNT = 0\n",
    "LIMIT_VALUE = 10\n",
    "\n",
    "for epoch in range(EPOCH):\n",
    "    # 학습 모드로 모델 성정\n",
    "    model.train()\n",
    "\n",
    "    # 배치크기만큼 데이터 로딩해서 학습 진행\n",
    "    loss_total, score_total = 0,0\n",
    "    for featureTS, targetTS in trainDL :\n",
    "        # 학습 진행\n",
    "        pre_y = model(featureTS)\n",
    "\n",
    "        # 손실계산\n",
    "        loss = reqLoss(pre_y, targetTS)\n",
    "        loss_total += loss.item()\n",
    "\n",
    "        # 성능평가 계산\n",
    "        score = R2Score()(pre_y, targetTS)\n",
    "        score_total += score.item()\n",
    "\n",
    "        # 최적화 진행\n",
    "        optimizer.zero_grad()\n",
    "        loss.backward()\n",
    "        optimizer.step()\n",
    "    \n",
    "    # 에포크 당 검증기능\n",
    "    # 모델 검증 모드 설정\n",
    "    model.eval()\n",
    "\n",
    "    with torch.no_grad():\n",
    "        # 검증용 데이터셋 생성\n",
    "        val_feaure_TS = torch.FloatTensor(valDS.featureDF.values)\n",
    "        val_target_TS = torch.FloatTensor(valDS.targetDF.values)\n",
    "        # 평가\n",
    "        pre_val = model(val_feaure_TS)\n",
    "        # 손실 계산\n",
    "        loss_val = reqLoss(pre_val, val_target_TS)\n",
    "        # 성능 평가\n",
    "        score_val = R2Score()(pre_val, val_target_TS)\n",
    "\n",
    "    # 에포크 당 손실과 성능평가값 저장\n",
    "    LOSS_HISTORY[0].append(loss_total/CNT)\n",
    "    SCORE_HISTORY[0].append(score_total/CNT)\n",
    "    LOSS_HISTORY[1].append(loss_val)\n",
    "    SCORE_HISTORY[1].append(score_val)\n",
    "\n",
    "    print(f'[{epoch}/{EPOCH}]\\n- [TRAIN] LOSS : {LOSS_HISTORY[0][-1]} SCORE : {SCORE_HISTORY[0][-1]}')\n",
    "    print(f'- [VALID] LOSS : {LOSS_HISTORY[1][-1]} SCORE : {SCORE_HISTORY[1][-1]}')\n",
    "\n",
    "    # 학습 진행 모니터링/스케줄링 - 검증 DS 기준 (둘 중에 하나만 선택)\n",
    "    # Loss 기준\n",
    "    if len(LOSS_HISTORY[1]) > 1:\n",
    "        if LOSS_HISTORY[1][-1] >= LOSS_HISTORY[1][-2] : BREAK_CNT += 1 \n",
    "    # # Score 기준\n",
    "    # if len(SCORE_HISTORY[1]) > 1:\n",
    "    #     if SCORE_HISTORY[1][-1] <= SCORE_HISTORY[1][-2] : BREAK_CNT += 1 \n",
    "\n",
    "    # 학습 중단 여부 설정\n",
    "    if BREAK_CNT > LIMIT_VALUE :\n",
    "        print(f'성능 및 손실 개선이 없어서 {epoch} EPOCH에 학습 중단')\n",
    "        break"
   ]
  },
  {
   "cell_type": "markdown",
   "metadata": {},
   "source": [
    "- 모델 저장 방법 <hr>\n",
    "* 방법 1 : 모델 파라미터만 저장\n",
    "* 방법 2 : 모델 설계 구조 및 파라미터까지 모두 저장"
   ]
  },
  {
   "cell_type": "code",
   "execution_count": 16,
   "metadata": {},
   "outputs": [
    {
     "data": {
      "text/plain": [
       "OrderedDict([('in_layer.weight',\n",
       "              tensor([[ 0.3657,  0.2113,  0.0178],\n",
       "                      [-0.5264, -0.5307,  0.0451],\n",
       "                      [-0.2152,  0.3263,  0.4237],\n",
       "                      [-0.0765, -0.3207, -0.4920],\n",
       "                      [ 0.1075, -0.4105,  0.2561],\n",
       "                      [ 0.1449, -0.3029, -0.3980],\n",
       "                      [-0.0579,  0.0276,  0.5546],\n",
       "                      [ 0.3568, -0.4766,  0.3334],\n",
       "                      [ 0.3347, -0.5861,  0.2508],\n",
       "                      [ 0.1930, -0.5479, -0.2573]])),\n",
       "             ('in_layer.bias',\n",
       "              tensor([-0.0912,  0.5665, -0.5380, -0.3019,  0.3746,  0.4732,  0.4567, -0.6584,\n",
       "                       0.1613,  0.0709])),\n",
       "             ('hidden_layer.weight',\n",
       "              tensor([[-0.2562,  0.0282, -0.1652, -0.2493, -0.2194,  0.0415, -0.0760, -0.2969,\n",
       "                        0.0807, -0.0536],\n",
       "                      [-0.1052, -0.1196,  0.4811,  0.2702,  0.1559, -0.0625,  0.2830,  0.3278,\n",
       "                       -0.0501, -0.3035],\n",
       "                      [-0.2798,  0.2922,  0.0743,  0.1318, -0.1082,  0.0656, -0.1336,  0.1217,\n",
       "                       -0.2771, -0.0685],\n",
       "                      [ 0.0738,  0.2110,  0.3488, -0.0508,  0.2306,  0.1288,  0.3397, -0.2456,\n",
       "                        0.0436, -0.0491],\n",
       "                      [ 0.1008,  0.1304,  0.0026, -0.1173,  0.1971, -0.2495, -0.1816, -0.0144,\n",
       "                       -0.0606,  0.1767],\n",
       "                      [-0.0725, -0.1879,  0.2345, -0.2985, -0.1359, -0.2275, -0.2528,  0.1962,\n",
       "                        0.0526, -0.0933],\n",
       "                      [-0.0486, -0.1422,  0.2480, -0.2422,  0.3799,  0.1544,  0.2407,  0.0553,\n",
       "                        0.3033,  0.0083],\n",
       "                      [ 0.0116,  0.2906,  0.2957, -0.1616,  0.2551,  0.1382,  0.1360, -0.0333,\n",
       "                        0.0733, -0.2872],\n",
       "                      [ 0.0537,  0.0009,  0.0445, -0.0294, -0.1027,  0.2479, -0.0483,  0.2310,\n",
       "                        0.2882,  0.0292],\n",
       "                      [-0.1945, -0.2736, -0.2704, -0.2803, -0.0944, -0.0186, -0.0807,  0.0652,\n",
       "                       -0.0715, -0.2999],\n",
       "                      [-0.1256,  0.0349, -0.1721,  0.2226,  0.1371,  0.1422,  0.1000, -0.0945,\n",
       "                       -0.2910,  0.2737],\n",
       "                      [-0.2855, -0.3051, -0.2785, -0.0184, -0.0911, -0.1912, -0.2775,  0.1114,\n",
       "                        0.1625, -0.0045],\n",
       "                      [-0.2423, -0.1210,  0.2105, -0.1966, -0.2935, -0.2759,  0.1500, -0.2726,\n",
       "                        0.2325,  0.0376],\n",
       "                      [-0.1690,  0.2968,  0.0509, -0.1904, -0.2351, -0.2611,  0.1997, -0.2720,\n",
       "                       -0.1825, -0.1863],\n",
       "                      [ 0.1704, -0.2504, -0.3183, -0.2732,  0.1145,  0.3080,  0.1815,  0.0128,\n",
       "                        0.2243,  0.2738],\n",
       "                      [-0.2993, -0.2901, -0.2573, -0.2647,  0.0374, -0.1606,  0.0867,  0.1413,\n",
       "                       -0.3058, -0.1741],\n",
       "                      [-0.1636, -0.1358, -0.0414, -0.2079, -0.0284,  0.1166, -0.2313,  0.0897,\n",
       "                        0.2012, -0.0715],\n",
       "                      [ 0.0943, -0.2996,  0.0035,  0.0763, -0.2207, -0.0261, -0.0497,  0.0922,\n",
       "                       -0.0743,  0.0701],\n",
       "                      [ 0.2737, -0.1085,  0.1642,  0.1804,  0.3627, -0.2256,  0.0766,  0.1011,\n",
       "                       -0.1249, -0.0386],\n",
       "                      [ 0.3133, -0.1465, -0.2026, -0.2383, -0.0116,  0.1068, -0.1424, -0.2627,\n",
       "                        0.1755,  0.1510],\n",
       "                      [ 0.0057, -0.1657,  0.2517, -0.1851,  0.2303, -0.1013,  0.3150,  0.0993,\n",
       "                        0.0633,  0.0755],\n",
       "                      [-0.0886, -0.2849, -0.2604, -0.0450,  0.0706, -0.0909, -0.0008,  0.2538,\n",
       "                       -0.2793,  0.0517],\n",
       "                      [-0.2404,  0.1490,  0.4658,  0.3162,  0.1138, -0.0645,  0.2925,  0.0886,\n",
       "                        0.2101,  0.1174],\n",
       "                      [ 0.2524, -0.0078, -0.1433, -0.2004,  0.0400,  0.1716,  0.1122, -0.0952,\n",
       "                       -0.0587, -0.0220],\n",
       "                      [ 0.3135,  0.0238,  0.2066,  0.0523,  0.3709,  0.0795,  0.2771,  0.2637,\n",
       "                       -0.1210, -0.1520],\n",
       "                      [ 0.1717, -0.0904, -0.3364,  0.3127,  0.0557,  0.0877, -0.0249,  0.0033,\n",
       "                        0.1699, -0.0080],\n",
       "                      [-0.1085, -0.2605, -0.1172, -0.0092, -0.3453,  0.1805,  0.1399,  0.0992,\n",
       "                        0.1660, -0.1285],\n",
       "                      [ 0.2430, -0.0843,  0.2581,  0.0935, -0.1603,  0.0603,  0.0832, -0.0024,\n",
       "                       -0.2794,  0.2011],\n",
       "                      [-0.2313, -0.0055,  0.0663,  0.0797, -0.1000, -0.1491,  0.2598,  0.1577,\n",
       "                       -0.1557, -0.1579],\n",
       "                      [-0.1180, -0.2745, -0.2742,  0.2366,  0.0227,  0.0712, -0.1274, -0.2631,\n",
       "                        0.2449,  0.3064]])),\n",
       "             ('hidden_layer.bias',\n",
       "              tensor([-0.2177, -0.1092, -0.0157,  0.0576,  0.0678, -0.0710,  0.1983,  0.1231,\n",
       "                      -0.0138, -0.0220, -0.1133, -0.2733,  0.2309,  0.0114,  0.0865, -0.0849,\n",
       "                      -0.2544,  0.0626, -0.1316,  0.0070, -0.0473, -0.0179,  0.1317, -0.2935,\n",
       "                       0.0230, -0.0347, -0.2006,  0.0691,  0.2245,  0.0701])),\n",
       "             ('out_layer.weight',\n",
       "              tensor([[-0.0246,  0.0910,  0.1565,  0.0586,  0.1751, -0.0248,  0.0297,  0.1643,\n",
       "                       -0.1459, -0.0905,  0.1566, -0.0029, -0.1604,  0.1168, -0.0131, -0.1617,\n",
       "                        0.0985, -0.1706,  0.1222, -0.4900,  0.0937, -0.0262,  0.2444,  0.0742,\n",
       "                        0.1704, -0.0504, -0.1215,  0.1298,  0.2445, -0.0601]])),\n",
       "             ('out_layer.bias', tensor([0.0745]))])"
      ]
     },
     "execution_count": 16,
     "metadata": {},
     "output_type": "execute_result"
    }
   ],
   "source": [
    "### 학습된 모델 파라미터 값 확인\n",
    "model.state_dict()"
   ]
  },
  {
   "cell_type": "markdown",
   "metadata": {},
   "source": [
    "- [방법 1] 모델 파라미터, 즉 층별 가중치와 절편들"
   ]
  },
  {
   "cell_type": "code",
   "execution_count": 17,
   "metadata": {},
   "outputs": [],
   "source": [
    "### models 폴더 아래 프로젝트 폴더 아래 모델 파일 저장\n",
    "import os\n",
    "\n",
    "# 저장 경로\n",
    "SAVE_PATH = '../models/iris/'\n",
    "# 저장 파일명\n",
    "SAVE_FILE = 'model_train_wb.pth'"
   ]
  },
  {
   "cell_type": "code",
   "execution_count": 18,
   "metadata": {},
   "outputs": [],
   "source": [
    "# 경로상 폴더 존재 여부 체크\n",
    "if not os.path.exists(SAVE_PATH) : os.makedirs(SAVE_PATH)   # 폴더 / 폴더 / ...  하위폴더까지 생성"
   ]
  },
  {
   "cell_type": "code",
   "execution_count": 19,
   "metadata": {},
   "outputs": [],
   "source": [
    "# 모델 저장\n",
    "torch.save(model.state_dict(), SAVE_PATH+SAVE_FILE)"
   ]
  },
  {
   "cell_type": "code",
   "execution_count": 20,
   "metadata": {},
   "outputs": [
    {
     "name": "stdout",
     "output_type": "stream",
     "text": [
      "<class 'collections.OrderedDict'>\n"
     ]
    }
   ],
   "source": [
    "# 모델, 즉 가중치와 절편 로딩\n",
    "# [1] 가중치와 절편 객체로 로딩\n",
    "# [2] 모델의 state_dict 속성에 저장\n",
    "\n",
    "# 읽기\n",
    "wbTS = torch.load(SAVE_PATH+SAVE_FILE,weights_only=True)\n",
    "print(type(wbTS))"
   ]
  },
  {
   "cell_type": "code",
   "execution_count": 21,
   "metadata": {},
   "outputs": [
    {
     "data": {
      "text/plain": [
       "<All keys matched successfully>"
      ]
     },
     "execution_count": 21,
     "metadata": {},
     "output_type": "execute_result"
    }
   ],
   "source": [
    "# 모델 인스턴스에 저장\n",
    "model2 = IrisRegModel()         # 층마다 W,b 초기화 \n",
    "model2.load_state_dict(wbTS)"
   ]
  },
  {
   "cell_type": "code",
   "execution_count": 22,
   "metadata": {},
   "outputs": [
    {
     "name": "stdout",
     "output_type": "stream",
     "text": [
      "IrisRegModel(\n",
      "  (in_layer): Linear(in_features=3, out_features=10, bias=True)\n",
      "  (hidden_layer): Linear(in_features=10, out_features=30, bias=True)\n",
      "  (out_layer): Linear(in_features=30, out_features=1, bias=True)\n",
      ")\n"
     ]
    }
   ],
   "source": [
    "print(model2)"
   ]
  },
  {
   "cell_type": "code",
   "execution_count": null,
   "metadata": {},
   "outputs": [],
   "source": []
  }
 ],
 "metadata": {
  "kernelspec": {
   "display_name": "TORCH_38",
   "language": "python",
   "name": "python3"
  },
  "language_info": {
   "codemirror_mode": {
    "name": "ipython",
    "version": 3
   },
   "file_extension": ".py",
   "mimetype": "text/x-python",
   "name": "python",
   "nbconvert_exporter": "python",
   "pygments_lexer": "ipython3",
   "version": "3.8.19"
  }
 },
 "nbformat": 4,
 "nbformat_minor": 2
}
