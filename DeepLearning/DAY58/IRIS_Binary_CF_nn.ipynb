{
 "cells": [
  {
   "cell_type": "markdown",
   "metadata": {},
   "source": [
    "##### DNN 기반 분류 모델 구현 및 학습 모니터링과 저장 \n",
    "- 데이터 : iris.csv\n",
    "- 피처/속성 : 4개 Sepal.Length, Sepal.Width, Petal.Length, Petal.Width\n",
    "- 타겟/라벨 : 1개 Setosa와 나머지\n",
    "- 학습-방법 : 지도학습 > 분류> 이진분류\n",
    "- 학습 알고리즘 : 인공신경망(ANN) -> 심층 신경망 (MLP, DNN) : 은닉층이 많은 구성\n",
    "- 프레임워크 : Pytorch"
   ]
  },
  {
   "cell_type": "markdown",
   "metadata": {},
   "source": [
    "[1] 모듈 로딩 및 데이터 준비 <hr>"
   ]
  },
  {
   "cell_type": "code",
   "execution_count": 1,
   "metadata": {},
   "outputs": [],
   "source": [
    "# 모듈 로딩\n",
    "# 모델 관련 모듈\n",
    "import torch\n",
    "import torch.nn as nn\n",
    "import torch.nn.functional as F\n",
    "from torch.utils.data import Dataset, DataLoader\n",
    "import torch.optim as optim\n",
    "from torchmetrics.classification import F1Score, BinaryF1Score, BinaryConfusionMatrix, BinaryAccuracy\n",
    "from torchinfo import summary\n",
    "\n",
    "# 데이터 및 시각화 관련 모듈\n",
    "import pandas as pd\n",
    "import matplotlib.pyplot as plt\n",
    "from sklearn.preprocessing import *\n",
    "from sklearn.model_selection import train_test_split"
   ]
  },
  {
   "cell_type": "code",
   "execution_count": 2,
   "metadata": {},
   "outputs": [
    {
     "name": "stdout",
     "output_type": "stream",
     "text": [
      "Pytorch v.2.4.1\n",
      "Pandas v.2.0.3\n"
     ]
    }
   ],
   "source": [
    "# 활용 패키지 버전 체크 ==> 사용자 정의 함수로 구현하기~~~\n",
    "print(f'Pytorch v.{torch.__version__}')\n",
    "print(f'Pandas v.{pd.__version__}')"
   ]
  },
  {
   "cell_type": "code",
   "execution_count": 3,
   "metadata": {},
   "outputs": [
    {
     "data": {
      "text/html": [
       "<div>\n",
       "<style scoped>\n",
       "    .dataframe tbody tr th:only-of-type {\n",
       "        vertical-align: middle;\n",
       "    }\n",
       "\n",
       "    .dataframe tbody tr th {\n",
       "        vertical-align: top;\n",
       "    }\n",
       "\n",
       "    .dataframe thead th {\n",
       "        text-align: right;\n",
       "    }\n",
       "</style>\n",
       "<table border=\"1\" class=\"dataframe\">\n",
       "  <thead>\n",
       "    <tr style=\"text-align: right;\">\n",
       "      <th></th>\n",
       "      <th>sepal.length</th>\n",
       "      <th>sepal.width</th>\n",
       "      <th>petal.length</th>\n",
       "      <th>petal.width</th>\n",
       "      <th>variety</th>\n",
       "    </tr>\n",
       "  </thead>\n",
       "  <tbody>\n",
       "    <tr>\n",
       "      <th>0</th>\n",
       "      <td>5.1</td>\n",
       "      <td>3.5</td>\n",
       "      <td>1.4</td>\n",
       "      <td>0.2</td>\n",
       "      <td>Setosa</td>\n",
       "    </tr>\n",
       "  </tbody>\n",
       "</table>\n",
       "</div>"
      ],
      "text/plain": [
       "   sepal.length  sepal.width  petal.length  petal.width variety\n",
       "0           5.1          3.5           1.4          0.2  Setosa"
      ]
     },
     "execution_count": 3,
     "metadata": {},
     "output_type": "execute_result"
    }
   ],
   "source": [
    "### 데이터 로딩\n",
    "DATA_FILE = '../../ML/Data/iris.csv'\n",
    "\n",
    "### CSV => DataFrame\n",
    "irisDF = pd.read_csv(DATA_FILE)\n",
    "\n",
    "### 확인\n",
    "irisDF.head(1)"
   ]
  },
  {
   "cell_type": "code",
   "execution_count": 4,
   "metadata": {},
   "outputs": [
    {
     "data": {
      "text/plain": [
       "array(['Setosa', 'Versicolor', 'Virginica'], dtype=object)"
      ]
     },
     "execution_count": 4,
     "metadata": {},
     "output_type": "execute_result"
    }
   ],
   "source": [
    "### 타겟 변경 => 정수화\n",
    "irisDF['variety'].unique()"
   ]
  },
  {
   "cell_type": "code",
   "execution_count": 5,
   "metadata": {},
   "outputs": [],
   "source": [
    "# 클래스 3개 => 2개 (replace로 변경도 가능함 / Setosa를 False로 주는 것도 가능)\n",
    "irisDF['variety'] = (irisDF['variety'] == 'Setosa')\n",
    "\n",
    "# 방법 2 \n",
    "# labels = dict(zip(irisDF['variety'].unique().tolist(),range(3)))"
   ]
  },
  {
   "cell_type": "code",
   "execution_count": 6,
   "metadata": {},
   "outputs": [
    {
     "data": {
      "text/plain": [
       "0      1\n",
       "1      1\n",
       "2      1\n",
       "3      1\n",
       "4      1\n",
       "      ..\n",
       "145    0\n",
       "146    0\n",
       "147    0\n",
       "148    0\n",
       "149    0\n",
       "Name: variety, Length: 150, dtype: int32"
      ]
     },
     "execution_count": 6,
     "metadata": {},
     "output_type": "execute_result"
    }
   ],
   "source": [
    "irisDF['variety'] = irisDF['variety'].astype('int')\n",
    "irisDF['variety']"
   ]
  },
  {
   "cell_type": "code",
   "execution_count": 7,
   "metadata": {},
   "outputs": [
    {
     "name": "stdout",
     "output_type": "stream",
     "text": [
      "고유값 : [1 0]\n"
     ]
    },
    {
     "data": {
      "text/html": [
       "<div>\n",
       "<style scoped>\n",
       "    .dataframe tbody tr th:only-of-type {\n",
       "        vertical-align: middle;\n",
       "    }\n",
       "\n",
       "    .dataframe tbody tr th {\n",
       "        vertical-align: top;\n",
       "    }\n",
       "\n",
       "    .dataframe thead th {\n",
       "        text-align: right;\n",
       "    }\n",
       "</style>\n",
       "<table border=\"1\" class=\"dataframe\">\n",
       "  <thead>\n",
       "    <tr style=\"text-align: right;\">\n",
       "      <th></th>\n",
       "      <th>sepal.length</th>\n",
       "      <th>sepal.width</th>\n",
       "      <th>petal.length</th>\n",
       "      <th>petal.width</th>\n",
       "      <th>variety</th>\n",
       "    </tr>\n",
       "  </thead>\n",
       "  <tbody>\n",
       "    <tr>\n",
       "      <th>0</th>\n",
       "      <td>5.1</td>\n",
       "      <td>3.5</td>\n",
       "      <td>1.4</td>\n",
       "      <td>0.2</td>\n",
       "      <td>1</td>\n",
       "    </tr>\n",
       "  </tbody>\n",
       "</table>\n",
       "</div>"
      ],
      "text/plain": [
       "   sepal.length  sepal.width  petal.length  petal.width  variety\n",
       "0           5.1          3.5           1.4          0.2        1"
      ]
     },
     "execution_count": 7,
     "metadata": {},
     "output_type": "execute_result"
    }
   ],
   "source": [
    "# 고유값 확인\n",
    "print(f\"고유값 : {irisDF['variety'].unique()}\")\n",
    "irisDF.head(1)"
   ]
  },
  {
   "cell_type": "markdown",
   "metadata": {},
   "source": [
    "[2] 모델 클래스 설계 및 정의 <hr>\n",
    "- 클래스 목적 : iris 데이터를 학습 및 추론 목적\n",
    "- 클래스 이름 : IrisBCFModel\n",
    "- 부모 클래스 : nn.Module\n",
    "- 매 개 변 수 : 층별 입출력 개수 고정하므로 필요 없음\n",
    "- 속성 / 필드 :\n",
    "- 기능 / 역할 : __init__() : 모델 구조 설정, forward() : 순방향 학습 <=오버라이딩(상속관계에서만 가능)\n",
    "- 클래스 구조\n",
    "    * 입력층 : 입력 4개(피처 개수) / 출력 10개(퍼셉트론/뉴런 개수 10개)\n",
    "    * 은닉층 : 입력 10개          / 출력 5개\n",
    "    * 출력층 : 입력 5개          / 출력 1개(이진분류)\n",
    "- - -\n",
    "- 손실함수 / 활성화 함수\n",
    "    * 클래스 형태 ==> nn.MESLoss, nn.ReLU ==> __init__() 메서드\n",
    "    * 함수 형태 ==> torch.nn.fuctional 아래에 ==> forward() 메서드"
   ]
  },
  {
   "cell_type": "code",
   "execution_count": 8,
   "metadata": {},
   "outputs": [],
   "source": [
    "class IrisBCFModel(nn.Module):\n",
    "    # 모델 구조 구성 및 인스턴스 생성 메서드\n",
    "    def __init__(self):\n",
    "        super().__init__()\n",
    "        self.in_layer = nn.Linear(4,10)\n",
    "        self.hidden_layer = nn.Linear(10,5)\n",
    "        self.out_layer = nn.Linear(5,1)\n",
    "\n",
    "    #순방향 학습 진행 메서드\n",
    "    def forward(self,x) : \n",
    "        # 입력층\n",
    "        y = self.in_layer(x)    # \n",
    "        y=F.relu(y)             # relu 값의 범위 : 0<=y / 시그모이드 : 0~1\n",
    "        # 은닉층 : 10개 숫자의 값(>=0)\n",
    "        y = self.hidden_layer(y)\n",
    "        y = F.relu(y)\n",
    "        # 출력층 : 5개 숫자값 / 분류이므로 시그모이드 함수 적용해서 반환\n",
    "        return F.sigmoid(self.out_layer(y))"
   ]
  },
  {
   "cell_type": "code",
   "execution_count": 9,
   "metadata": {},
   "outputs": [
    {
     "name": "stdout",
     "output_type": "stream",
     "text": [
      "IrisBCFModel(\n",
      "  (in_layer): Linear(in_features=4, out_features=10, bias=True)\n",
      "  (hidden_layer): Linear(in_features=10, out_features=5, bias=True)\n",
      "  (out_layer): Linear(in_features=5, out_features=1, bias=True)\n",
      ")\n"
     ]
    }
   ],
   "source": [
    "# [테스트] 모델 인스턴스 생성\n",
    "model = IrisBCFModel()\n",
    "print(model)"
   ]
  },
  {
   "cell_type": "code",
   "execution_count": 10,
   "metadata": {},
   "outputs": [
    {
     "data": {
      "text/plain": [
       "==========================================================================================\n",
       "Layer (type:depth-idx)                   Output Shape              Param #\n",
       "==========================================================================================\n",
       "IrisBCFModel                             [17, 1]                   --\n",
       "├─Linear: 1-1                            [17, 10]                  50\n",
       "├─Linear: 1-2                            [17, 5]                   55\n",
       "├─Linear: 1-3                            [17, 1]                   6\n",
       "==========================================================================================\n",
       "Total params: 111\n",
       "Trainable params: 111\n",
       "Non-trainable params: 0\n",
       "Total mult-adds (M): 0.00\n",
       "==========================================================================================\n",
       "Input size (MB): 0.00\n",
       "Forward/backward pass size (MB): 0.00\n",
       "Params size (MB): 0.00\n",
       "Estimated Total Size (MB): 0.00\n",
       "=========================================================================================="
      ]
     },
     "execution_count": 10,
     "metadata": {},
     "output_type": "execute_result"
    }
   ],
   "source": [
    "# [테스트] 모델 사용 메모리 정보 확인\n",
    "summary(model, input_size=(17,4))"
   ]
  },
  {
   "cell_type": "markdown",
   "metadata": {},
   "source": [
    "[3] 데이터셋 클래스 설계 및 정의 <hr>\n",
    "- 데이터셋 : iris.csv\n",
    "- 피처 개수 : 4개\n",
    "- 타겟 개수 : 1개\n",
    "- 클래스 이름 : IrisDataset\n",
    "- 부모 클래스 : utils.data.Dataset\n",
    "- 속성 / 필드 : featureDF, targetDF, n_rows, n_features\n",
    "- 필수 메서드\n",
    "    * _ _init_ _(self) : 데이터셋 저장 및 전처리, 개발자가 필요한 속성 설정\n",
    "    * _ _len_ _(self) : 데이터의 개수 반환\n",
    "    * _ _getItem_ _(self, index) : 특정 인덱스의 피처와 타겟 반환"
   ]
  },
  {
   "cell_type": "code",
   "execution_count": 11,
   "metadata": {},
   "outputs": [],
   "source": [
    "class IrisDataset(Dataset):\n",
    "\n",
    "    def __init__(self, featureDF, targetDF):\n",
    "        self.featureDF = featureDF\n",
    "        self.targetDF = targetDF\n",
    "        self.n_rows = featureDF.shape[0]\n",
    "        self.n_features = featureDF.shape[1]\n",
    "\n",
    "    def __len__(self) : \n",
    "        return self.n_rows\n",
    "\n",
    "    def __getitem__(self, index):\n",
    "        # 텐서화\n",
    "        feaureTS = torch.FloatTensor(self.featureDF.iloc[index].values)\n",
    "        targetTS = torch.FloatTensor(self.targetDF.iloc[index].values)\n",
    "        \n",
    "        # 피처와 타겟 반환\n",
    "        return feaureTS, targetTS"
   ]
  },
  {
   "cell_type": "code",
   "execution_count": 12,
   "metadata": {},
   "outputs": [
    {
     "name": "stdout",
     "output_type": "stream",
     "text": [
      "torch.Size([1, 4]) torch.Size([1, 1]) tensor([[5.1000, 3.5000, 1.4000, 0.2000]]) tensor([[1.]])\n"
     ]
    }
   ],
   "source": [
    "## [테스트] 데이터셋 인스턴스 생성\n",
    "# 피처와 타겟 데이터 추출\n",
    "featureDF = irisDF[irisDF.columns[:-1]]     # 2D (150,4)\n",
    "targetDF = irisDF[irisDF.columns[-1:]]      # 2D (150,1)\n",
    "\n",
    "# 커스텀데이터셋 인스턴스 생성\n",
    "irisDS = IrisDataset(featureDF, targetDF)\n",
    "\n",
    "# 데이터로더 인스턴스 생성\n",
    "irisDL = DataLoader(irisDS)\n",
    "for feature, label in irisDL:\n",
    "    print(feature.shape, label.shape, feature, label)\n",
    "    break"
   ]
  },
  {
   "cell_type": "markdown",
   "metadata": {},
   "source": [
    "[4] 학습 준비 <hr>\n",
    "- 학습 횟수 : EPOCH   <- 처음부터 끝까지 공부하는 단위\n",
    "- 배치 크기 : BATCH_SIZE   <- 한번에 학습할 데이터셋 양\n",
    "- 위치 지정 : DEVICE  <- 텐서 저장 및 실행 위치 (GPU/CPU)\n",
    "- 학 습 율  : LR 가중치와 절편 업데이트 시 경사 하강법으로 업데이트 간격 설정 0.001~0.1 (하이퍼파라미터)"
   ]
  },
  {
   "cell_type": "code",
   "execution_count": 13,
   "metadata": {},
   "outputs": [],
   "source": [
    "### 학습 진행 관련 설정\n",
    "EPOCH = 1000\n",
    "BATCH_SIZE = 10\n",
    "BATCH_CNT = irisDF.shape[0]//BATCH_SIZE # 선택사항 - 코드에 넣을 수도 있음\n",
    "DEVICE = 'cuda' if torch.cuda.is_available() else 'cpu'\n",
    "LR = 0.001"
   ]
  },
  {
   "cell_type": "markdown",
   "metadata": {},
   "source": [
    "- 인스턴스/객체 : 모델, 데이터셋, 최적화 (, 손실함수, 성능지표)"
   ]
  },
  {
   "cell_type": "code",
   "execution_count": 14,
   "metadata": {},
   "outputs": [],
   "source": [
    "# 모델 인스턴스\n",
    "model = IrisBCFModel().to(DEVICE)"
   ]
  },
  {
   "cell_type": "code",
   "execution_count": 15,
   "metadata": {},
   "outputs": [
    {
     "name": "stdout",
     "output_type": "stream",
     "text": [
      "(84, 4) (38, 4) (28, 4)\n",
      "(84, 1) (38, 1) (28, 1)\n",
      "variety\n",
      "0          56\n",
      "1          28\n",
      "Name: count, dtype: int64 variety\n",
      "0          25\n",
      "1          13\n",
      "Name: count, dtype: int64 variety\n",
      "0          19\n",
      "1           9\n",
      "Name: count, dtype: int64\n",
      "variety\n",
      "0          0.666667\n",
      "1          0.333333\n",
      "Name: count, dtype: float64 variety\n",
      "0          0.657895\n",
      "1          0.342105\n",
      "Name: count, dtype: float64 variety\n",
      "0          0.678571\n",
      "1          0.321429\n",
      "Name: count, dtype: float64\n",
      "<class 'pandas.core.frame.DataFrame'> <class 'pandas.core.frame.DataFrame'> <class 'pandas.core.frame.DataFrame'>\n"
     ]
    }
   ],
   "source": [
    "### DS과 DL 인스턴스\n",
    "\n",
    "# 학습/검증/테스트용 데이터 분리\n",
    "X_train,X_test, y_train, y_test = train_test_split(featureDF, targetDF, random_state=1 , stratify=targetDF)\n",
    "X_train, X_val, y_train, y_val = train_test_split(X_train, y_train, random_state=1, stratify=y_train)\n",
    "print(f'{X_train.shape} {X_test.shape} {X_val.shape}')\n",
    "print(f'{y_train.shape} {y_test.shape} {y_val.shape}')\n",
    "print(f'{y_train.value_counts()} {y_test.value_counts()} {y_val.value_counts()}')\n",
    "print(f'{y_train.value_counts()/y_train.shape[0]} {y_test.value_counts()/y_test.shape[0]} {y_val.value_counts()/y_val.shape[0]}')\n",
    "print(f'{type(X_train)} {type(X_test)} {type(X_val)}')\n",
    "\n",
    "## 학습/검증/테스트용 데이터셋\n",
    "# irisDS = IrisDataset(X_train, y_train)\n",
    "trainDS = IrisDataset(X_train, y_train)\n",
    "valDS = IrisDataset(X_val, y_val)\n",
    "testDS = IrisDataset(X_test, y_test)\n",
    "\n",
    "# 학습용 데이터로더 인스턴스 (검증용은 필요 없음, 테스트는 양이 많을 때 개발자가 선택하여 인스턴스 생성)\n",
    "# irisDL = DataLoader(irisDS, batch_size = BATCH_SIZE)\n",
    "trainDL = DataLoader(trainDS, batch_size = BATCH_SIZE)"
   ]
  },
  {
   "cell_type": "markdown",
   "metadata": {},
   "source": [
    "- 최적화, 손실함수 인스턴스 생성"
   ]
  },
  {
   "cell_type": "code",
   "execution_count": 16,
   "metadata": {},
   "outputs": [],
   "source": [
    "# 최적화 인스턴스 => W,b 텐서, 즉 model.parameters() 전달 - 최적화하는 이유 : 오차를 줄이기 위해서!\n",
    "optimizer = optim.Adam(model.parameters(), lr=LR)\n",
    "\n",
    "# 손실함수 인스턴스 => 분류 => 이진분류 : BinaryCrossEntropyLoss => BCELoss\n",
    "#                            예측값은 확률값으로 전달 ==> sigmoid() AF 처리 후 전달\n",
    "crossLoss = nn.BCELoss()"
   ]
  },
  {
   "cell_type": "markdown",
   "metadata": {},
   "source": [
    "[5] 학습 진행"
   ]
  },
  {
   "cell_type": "markdown",
   "metadata": {},
   "source": [
    "- >>> 모델 저장 준비"
   ]
  },
  {
   "cell_type": "code",
   "execution_count": 17,
   "metadata": {},
   "outputs": [],
   "source": [
    "### models 폴더 아래 프로젝트 폴더 아래 모델 파일 저장\n",
    "import os\n",
    "\n",
    "# 저장 경로\n",
    "SAVE_PATH = '../models/iris/BCF/'\n",
    "# 저장 파일명\n",
    "SAVE_FILE = SAVE_PATH+'model_train_wb.pth'\n",
    "\n",
    "# 모델 구조 및 파라미터 모두 저장 파일명\n",
    "SAVE_MODEL = SAVE_PATH+'model_all.pth'"
   ]
  },
  {
   "cell_type": "code",
   "execution_count": 18,
   "metadata": {},
   "outputs": [],
   "source": [
    "# 경로상 폴더 존재 여부 체크\n",
    "if not os.path.exists(SAVE_PATH) : os.makedirs(SAVE_PATH)   # 폴더 / 폴더 / ...  하위폴더까지 생성"
   ]
  },
  {
   "cell_type": "markdown",
   "metadata": {},
   "source": [
    "- >>> 학습 진행"
   ]
  },
  {
   "cell_type": "code",
   "execution_count": 19,
   "metadata": {},
   "outputs": [
    {
     "name": "stdout",
     "output_type": "stream",
     "text": [
      "CNT => 9\n",
      "[0/1000]\n",
      "- [TRAIN] LOSS : 0.660765614774492 SCORE : 0.0\n",
      "- [VALID] LOSS : 0.6513668298721313 SCORE : 0.0\n",
      "[1/1000]\n",
      "- [TRAIN] LOSS : 0.6514244410726759 SCORE : 0.0\n",
      "- [VALID] LOSS : 0.6419288516044617 SCORE : 0.20000000298023224\n",
      "[2/1000]\n",
      "- [TRAIN] LOSS : 0.6426636841562059 SCORE : 0.0\n",
      "- [VALID] LOSS : 0.6325663328170776 SCORE : 0.20000000298023224\n",
      "[3/1000]\n",
      "- [TRAIN] LOSS : 0.6338278320100572 SCORE : 0.04444444510671827\n",
      "- [VALID] LOSS : 0.6229366660118103 SCORE : 0.20000000298023224\n",
      "[4/1000]\n",
      "- [TRAIN] LOSS : 0.624764449066586 SCORE : 0.04444444510671827\n",
      "- [VALID] LOSS : 0.6135528683662415 SCORE : 0.3636363744735718\n",
      "[5/1000]\n",
      "- [TRAIN] LOSS : 0.6157592667473687 SCORE : 0.16296296649509007\n",
      "- [VALID] LOSS : 0.6040591597557068 SCORE : 0.5\n",
      "[6/1000]\n",
      "- [TRAIN] LOSS : 0.6061225003666348 SCORE : 0.3777777850627899\n",
      "- [VALID] LOSS : 0.5932791829109192 SCORE : 0.6153846383094788\n",
      "[7/1000]\n",
      "- [TRAIN] LOSS : 0.5955339868863424 SCORE : 0.5396825439400144\n",
      "- [VALID] LOSS : 0.5812641382217407 SCORE : 0.800000011920929\n",
      "[8/1000]\n",
      "- [TRAIN] LOSS : 0.5837609171867371 SCORE : 0.6735449830691019\n",
      "- [VALID] LOSS : 0.568019449710846 SCORE : 0.800000011920929\n",
      "[9/1000]\n",
      "- [TRAIN] LOSS : 0.5709096325768365 SCORE : 0.7299823694758945\n",
      "- [VALID] LOSS : 0.5535772442817688 SCORE : 0.875\n",
      "[10/1000]\n",
      "- [TRAIN] LOSS : 0.5568507777320014 SCORE : 0.8534391588634915\n",
      "- [VALID] LOSS : 0.5379050970077515 SCORE : 0.9411764740943909\n",
      "[11/1000]\n",
      "- [TRAIN] LOSS : 0.5415997372733222 SCORE : 0.9248677293459574\n",
      "- [VALID] LOSS : 0.5210402607917786 SCORE : 0.9411764740943909\n",
      "[12/1000]\n",
      "- [TRAIN] LOSS : 0.5251943502161238 SCORE : 0.9682539701461792\n",
      "- [VALID] LOSS : 0.5030961632728577 SCORE : 1.0\n",
      "[13/1000]\n",
      "- [TRAIN] LOSS : 0.5076887508233389 SCORE : 0.9841269850730896\n",
      "- [VALID] LOSS : 0.48418453335762024 SCORE : 1.0\n",
      "[14/1000]\n",
      "- [TRAIN] LOSS : 0.48916272653473747 SCORE : 1.0\n",
      "- [VALID] LOSS : 0.4643842279911041 SCORE : 1.0\n",
      "[15/1000]\n",
      "- [TRAIN] LOSS : 0.470063500934177 SCORE : 1.0\n",
      "- [VALID] LOSS : 0.44370248913764954 SCORE : 1.0\n",
      "[16/1000]\n",
      "- [TRAIN] LOSS : 0.4501761661635505 SCORE : 1.0\n",
      "- [VALID] LOSS : 0.4224318861961365 SCORE : 1.0\n",
      "[17/1000]\n",
      "- [TRAIN] LOSS : 0.42956304881307816 SCORE : 1.0\n",
      "- [VALID] LOSS : 0.4008999466896057 SCORE : 1.0\n",
      "[18/1000]\n",
      "- [TRAIN] LOSS : 0.4087693393230438 SCORE : 1.0\n",
      "- [VALID] LOSS : 0.3791748583316803 SCORE : 1.0\n",
      "[19/1000]\n",
      "- [TRAIN] LOSS : 0.38773394955529106 SCORE : 1.0\n",
      "- [VALID] LOSS : 0.35746580362319946 SCORE : 1.0\n",
      "성능 및 손실 개선이 없어서 19 EPOCH에 학습 중단\n"
     ]
    }
   ],
   "source": [
    "## 학습의 효과 확인 - 손실값과 성능평가값 저장 필요\n",
    "LOSS_HISTORY, SCORE_HISTORY = [[],[]], [[],[]]\n",
    "CNT = len(trainDL)\n",
    "print(f'CNT => {CNT}')\n",
    "\n",
    "## 학습 모니터링/스케줄링 설정 \n",
    "# => LOSS_HISTORY, SCORE_HISTORY 활용\n",
    "# => 임계 기준 : 10번\n",
    "BREAK_CNT = 0\n",
    "LIMIT_VALUE = 10\n",
    "\n",
    "for epoch in range(EPOCH):\n",
    "    # 학습 모드로 모델 성정\n",
    "    model.train()\n",
    "\n",
    "    # 배치크기만큼 데이터 로딩해서 학습 진행\n",
    "    loss_total, score_total = 0,0\n",
    "    for featureTS, targetTS in trainDL :\n",
    "        # 학습 진행\n",
    "        pre_y = model(featureTS)\n",
    "\n",
    "        # 손실계산\n",
    "        loss = crossLoss(pre_y, targetTS)\n",
    "        loss_total += loss.item()\n",
    "\n",
    "        # 성능평가 계산\n",
    "        # score = BinaryAccuracy()(pre_y, targetTS)\n",
    "        score = BinaryF1Score()(pre_y, targetTS)\n",
    "        # 방법2 : score = F1Score(task='binary')(pre_y, targetTS)\n",
    "        score_total += score.item()\n",
    "\n",
    "        # 최적화 진행\n",
    "        optimizer.zero_grad()\n",
    "        loss.backward()\n",
    "        optimizer.step()\n",
    "    \n",
    "    # 에포크 당 검증기능\n",
    "    # 모델 검증 모드 설정\n",
    "    model.eval()\n",
    "\n",
    "    with torch.no_grad():\n",
    "        # 검증용 데이터셋 생성\n",
    "        val_feaure_TS = torch.FloatTensor(valDS.featureDF.values)\n",
    "        val_target_TS = torch.FloatTensor(valDS.targetDF.values)\n",
    "        # 평가\n",
    "        pre_val = model(val_feaure_TS)\n",
    "        # 손실 계산\n",
    "        loss_val = crossLoss(pre_val, val_target_TS)\n",
    "        # 성능 평가\n",
    "        # score_val = BinaryAccuracy()(pre_val, val_target_TS)\n",
    "        score_val = BinaryF1Score()(pre_val, val_target_TS)\n",
    "\n",
    "    # 에포크 당 손실과 성능평가값 저장\n",
    "    LOSS_HISTORY[0].append(loss_total/CNT)\n",
    "    SCORE_HISTORY[0].append(score_total/CNT)\n",
    "    LOSS_HISTORY[1].append(loss_val)\n",
    "    SCORE_HISTORY[1].append(score_val)\n",
    "    \n",
    "    print(f'[{epoch}/{EPOCH}]\\n- [TRAIN] LOSS : {LOSS_HISTORY[0][-1]} SCORE : {SCORE_HISTORY[0][-1]}')\n",
    "    print(f'- [VALID] LOSS : {LOSS_HISTORY[1][-1]} SCORE : {SCORE_HISTORY[1][-1]}')\n",
    "\n",
    "    # 학습 진행 모니터링/스케줄링 - 검증 DS 기준 (둘 중에 하나만 선택)\n",
    "    # Score 기준\n",
    "    if len(SCORE_HISTORY[1]) > 1:\n",
    "        if SCORE_HISTORY[1][-1] <= SCORE_HISTORY[1][-2] : BREAK_CNT += 1 \n",
    "\n",
    "    # 성능이 좋은 학습 가중치 저장\n",
    "    # SAVE_FILE = f'model_train_wb{epoch}_{score_val:.2f}.pth'  # 성능이 좋아진 에포크, 스코어마다 파일 새로 저장\n",
    "    if len(SCORE_HISTORY[1]) == 1:\n",
    "        # 첫번째라서 무조건 모델 파라미터 저장\n",
    "        torch.save(model.state_dict(), SAVE_FILE)\n",
    "        # 모델 전체 저장\n",
    "        torch.save(model, SAVE_MODEL)\n",
    "    else : \n",
    "        if SCORE_HISTORY[1][-1] > max(SCORE_HISTORY[1][:-1]) :\n",
    "            torch.save(model.state_dict(), SAVE_FILE)\n",
    "            torch.save(model, SAVE_MODEL)\n",
    "\n",
    "    # 학습 중단 여부 설정\n",
    "    if BREAK_CNT > LIMIT_VALUE :\n",
    "        print(f'성능 및 손실 개선이 없어서 {epoch} EPOCH에 학습 중단')\n",
    "        break"
   ]
  },
  {
   "cell_type": "markdown",
   "metadata": {},
   "source": [
    "- 학습 결과 체크 (시각화) => 학습과 검증의 Loss 변화, 성능 변화"
   ]
  },
  {
   "cell_type": "code",
   "execution_count": 20,
   "metadata": {},
   "outputs": [
    {
     "data": {
      "image/png": "[encoded data removed]",
      "text/plain": [
       "<Figure size 1000x500 with 2 Axes>"
      ]
     },
     "metadata": {},
     "output_type": "display_data"
    }
   ],
   "source": [
    "# 학습 후 LOSS 시각화\n",
    "TH = len(LOSS_HISTORY[0])\n",
    "fg, axes = plt.subplots(1,2, figsize=(10,5), sharex=True)\n",
    "\n",
    "axes[0].plot(range(1,TH+1),LOSS_HISTORY[0][:TH], label='Train')\n",
    "axes[0].plot(range(1,TH+1),LOSS_HISTORY[1][:TH], label='Val')\n",
    "axes[0].grid('--')\n",
    "axes[0].legend()\n",
    "axes[0].set_xlabel('EPOCH')\n",
    "axes[0].set_ylabel('Loss')\n",
    "axes[0].set_title('LOSS')\n",
    "\n",
    "axes[1].plot(range(1,TH+1),SCORE_HISTORY[0][:TH], label='Train')\n",
    "axes[1].plot(range(1,TH+1),SCORE_HISTORY[1][:TH], label='Val')\n",
    "axes[1].grid('--')\n",
    "axes[1].legend()\n",
    "axes[1].set_xlabel('EPOCH')\n",
    "axes[1].set_ylabel('SCORE')\n",
    "axes[1].set_title('SCORE')\n",
    "plt.show()"
   ]
  },
  {
   "cell_type": "code",
   "execution_count": null,
   "metadata": {},
   "outputs": [],
   "source": []
  }
 ],
 "metadata": {
  "kernelspec": {
   "display_name": "TORCH_38",
   "language": "python",
   "name": "python3"
  },
  "language_info": {
   "codemirror_mode": {
    "name": "ipython",
    "version": 3
   },
   "file_extension": ".py",
   "mimetype": "text/x-python",
   "name": "python",
   "nbconvert_exporter": "python",
   "pygments_lexer": "ipython3",
   "version": "3.8.19"
  }
 },
 "nbformat": 4,
 "nbformat_minor": 2
}
