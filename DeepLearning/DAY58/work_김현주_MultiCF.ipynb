{
 "cells": [
  {
   "cell_type": "code",
   "execution_count": 1,
   "metadata": {},
   "outputs": [],
   "source": [
    "# 모듈 로딩\n",
    "# 모델 관련 모듈\n",
    "import torch\n",
    "import torch.nn as nn\n",
    "import torch.nn.functional as F\n",
    "from torch.utils.data import Dataset, DataLoader\n",
    "import torch.optim as optim\n",
    "from torchmetrics.classification import F1Score, MulticlassF1Score\n",
    "from torchinfo import summary\n",
    "import classes\n",
    "\n",
    "# 데이터 및 시각화 관련 모듈\n",
    "import pandas as pd\n",
    "import matplotlib.pyplot as plt\n",
    "from sklearn.preprocessing import *\n",
    "from sklearn.model_selection import train_test_split"
   ]
  },
  {
   "cell_type": "code",
   "execution_count": 2,
   "metadata": {},
   "outputs": [
    {
     "name": "stdout",
     "output_type": "stream",
     "text": [
      "Pytorch v.2.4.1\n",
      "Pandas v.2.0.3\n"
     ]
    }
   ],
   "source": [
    "classes.check_version()"
   ]
  },
  {
   "cell_type": "code",
   "execution_count": 3,
   "metadata": {},
   "outputs": [
    {
     "data": {
      "text/html": [
       "<div>\n",
       "<style scoped>\n",
       "    .dataframe tbody tr th:only-of-type {\n",
       "        vertical-align: middle;\n",
       "    }\n",
       "\n",
       "    .dataframe tbody tr th {\n",
       "        vertical-align: top;\n",
       "    }\n",
       "\n",
       "    .dataframe thead th {\n",
       "        text-align: right;\n",
       "    }\n",
       "</style>\n",
       "<table border=\"1\" class=\"dataframe\">\n",
       "  <thead>\n",
       "    <tr style=\"text-align: right;\">\n",
       "      <th></th>\n",
       "      <th>sepal.length</th>\n",
       "      <th>sepal.width</th>\n",
       "      <th>petal.length</th>\n",
       "      <th>petal.width</th>\n",
       "      <th>variety</th>\n",
       "    </tr>\n",
       "  </thead>\n",
       "  <tbody>\n",
       "    <tr>\n",
       "      <th>0</th>\n",
       "      <td>5.1</td>\n",
       "      <td>3.5</td>\n",
       "      <td>1.4</td>\n",
       "      <td>0.2</td>\n",
       "      <td>Setosa</td>\n",
       "    </tr>\n",
       "  </tbody>\n",
       "</table>\n",
       "</div>"
      ],
      "text/plain": [
       "   sepal.length  sepal.width  petal.length  petal.width variety\n",
       "0           5.1          3.5           1.4          0.2  Setosa"
      ]
     },
     "execution_count": 3,
     "metadata": {},
     "output_type": "execute_result"
    }
   ],
   "source": [
    "# 데이터 로딩\n",
    "DATA_FILE = '../../ML/Data/iris.csv'\n",
    "\n",
    "irisDF = pd.read_csv(DATA_FILE)\n",
    "\n",
    "irisDF.head(1)"
   ]
  },
  {
   "cell_type": "code",
   "execution_count": 4,
   "metadata": {},
   "outputs": [
    {
     "data": {
      "text/html": [
       "<div>\n",
       "<style scoped>\n",
       "    .dataframe tbody tr th:only-of-type {\n",
       "        vertical-align: middle;\n",
       "    }\n",
       "\n",
       "    .dataframe tbody tr th {\n",
       "        vertical-align: top;\n",
       "    }\n",
       "\n",
       "    .dataframe thead th {\n",
       "        text-align: right;\n",
       "    }\n",
       "</style>\n",
       "<table border=\"1\" class=\"dataframe\">\n",
       "  <thead>\n",
       "    <tr style=\"text-align: right;\">\n",
       "      <th></th>\n",
       "      <th>sepal.length</th>\n",
       "      <th>sepal.width</th>\n",
       "      <th>petal.length</th>\n",
       "      <th>petal.width</th>\n",
       "      <th>variety</th>\n",
       "    </tr>\n",
       "  </thead>\n",
       "  <tbody>\n",
       "    <tr>\n",
       "      <th>0</th>\n",
       "      <td>5.1</td>\n",
       "      <td>3.5</td>\n",
       "      <td>1.4</td>\n",
       "      <td>0.2</td>\n",
       "      <td>0</td>\n",
       "    </tr>\n",
       "  </tbody>\n",
       "</table>\n",
       "</div>"
      ],
      "text/plain": [
       "   sepal.length  sepal.width  petal.length  petal.width  variety\n",
       "0           5.1          3.5           1.4          0.2        0"
      ]
     },
     "execution_count": 4,
     "metadata": {},
     "output_type": "execute_result"
    }
   ],
   "source": [
    "irisDF['variety'] = irisDF['variety'].replace({'Setosa':0, 'Versicolor':1, 'Virginica':2})\n",
    "irisDF.head(1)"
   ]
  },
  {
   "cell_type": "code",
   "execution_count": 5,
   "metadata": {},
   "outputs": [
    {
     "name": "stdout",
     "output_type": "stream",
     "text": [
      "IrisMCFModel(\n",
      "  (in_layer): Linear(in_features=4, out_features=10, bias=True)\n",
      "  (hidden_layer): Linear(in_features=10, out_features=5, bias=True)\n",
      "  (out_layer): Linear(in_features=5, out_features=3, bias=True)\n",
      ")\n"
     ]
    }
   ],
   "source": [
    "model = classes.IrisMCFModel()\n",
    "print(model)"
   ]
  },
  {
   "cell_type": "code",
   "execution_count": 6,
   "metadata": {},
   "outputs": [
    {
     "data": {
      "text/plain": [
       "==========================================================================================\n",
       "Layer (type:depth-idx)                   Output Shape              Param #\n",
       "==========================================================================================\n",
       "IrisMCFModel                             [9000, 3]                 --\n",
       "├─Linear: 1-1                            [9000, 10]                50\n",
       "├─Linear: 1-2                            [9000, 5]                 55\n",
       "├─Linear: 1-3                            [9000, 3]                 18\n",
       "==========================================================================================\n",
       "Total params: 123\n",
       "Trainable params: 123\n",
       "Non-trainable params: 0\n",
       "Total mult-adds (M): 1.11\n",
       "==========================================================================================\n",
       "Input size (MB): 0.14\n",
       "Forward/backward pass size (MB): 1.30\n",
       "Params size (MB): 0.00\n",
       "Estimated Total Size (MB): 1.44\n",
       "=========================================================================================="
      ]
     },
     "execution_count": 6,
     "metadata": {},
     "output_type": "execute_result"
    }
   ],
   "source": [
    "summary(model, input_size=(9000,4))"
   ]
  },
  {
   "cell_type": "code",
   "execution_count": 7,
   "metadata": {},
   "outputs": [],
   "source": [
    "featureDF = irisDF[irisDF.columns[:-1]]\n",
    "targetDF = irisDF[irisDF.columns[-1:]]"
   ]
  },
  {
   "cell_type": "code",
   "execution_count": 8,
   "metadata": {},
   "outputs": [
    {
     "name": "stdout",
     "output_type": "stream",
     "text": [
      "torch.Size([1, 4]) torch.Size([1, 1]) tensor([[5.1000, 3.5000, 1.4000, 0.2000]]) tensor([[0.]])\n"
     ]
    }
   ],
   "source": [
    "irisDS = classes.IrisDataset(featureDF, targetDF)\n",
    "\n",
    "# 데이터로더 인스턴스\n",
    "irisDL = DataLoader(irisDS)\n",
    "for feature, label in irisDL:\n",
    "    print(feature.shape, label.shape, feature, label)\n",
    "    break"
   ]
  },
  {
   "cell_type": "code",
   "execution_count": 9,
   "metadata": {},
   "outputs": [],
   "source": [
    "EPOCH = 1000\n",
    "BATCH_SIZE = 10\n",
    "DEVICE = 'cuda' if torch.cuda.is_available() else 'cpu'\n",
    "LR = 0.001"
   ]
  },
  {
   "cell_type": "code",
   "execution_count": 10,
   "metadata": {},
   "outputs": [],
   "source": [
    "# 모델 인스턴스\n",
    "model = classes.IrisMCFModel().to(DEVICE)"
   ]
  },
  {
   "cell_type": "code",
   "execution_count": 11,
   "metadata": {},
   "outputs": [
    {
     "name": "stdout",
     "output_type": "stream",
     "text": [
      "(84, 4) (38, 4) (28, 4)\n",
      "(84, 1) (38, 1) (28, 1)\n"
     ]
    }
   ],
   "source": [
    "# 학습/검증/테스트용 데이터 분리\n",
    "X_train,X_test, y_train, y_test = train_test_split(featureDF, targetDF, random_state=1)\n",
    "X_train, X_val, y_train, y_val = train_test_split(X_train, y_train, random_state=1)\n",
    "print(f'{X_train.shape} {X_test.shape} {X_val.shape}')\n",
    "print(f'{y_train.shape} {y_test.shape} {y_val.shape}')\n",
    "\n",
    "## 학습/검증/테스트용 데이터셋\n",
    "trainDS = classes.IrisDataset(X_train, y_train)\n",
    "valDS = classes.IrisDataset(X_val, y_val)\n",
    "testDS = classes.IrisDataset(X_test, y_test)\n",
    "\n",
    "# 학습용 데이터로더 인스턴스 (검증용은 필요 없음, 테스트는 양이 많을 때 개발자가 선택하여 인스턴스 생성)\n",
    "trainDL = DataLoader(trainDS, batch_size = BATCH_SIZE)"
   ]
  },
  {
   "cell_type": "code",
   "execution_count": 12,
   "metadata": {},
   "outputs": [],
   "source": [
    "# 최적화 인스턴스 => W,b 텐서, 즉 model.parameters() 전달 - 최적화하는 이유 : 오차를 줄이기 위해서!\n",
    "optimizer = optim.Adam(model.parameters(), lr=LR)\n",
    "\n",
    "# 손실함수 인스턴스 => 분류 => 다중분류 : CrossEntropyLoss\n",
    "#                            예측값은 확률값으로 전달 ==> sigmoid() AF 처리 후 전달\n",
    "crossLoss = nn.CrossEntropyLoss()"
   ]
  },
  {
   "cell_type": "code",
   "execution_count": 13,
   "metadata": {},
   "outputs": [
    {
     "name": "stdout",
     "output_type": "stream",
     "text": [
      "CNT =>9\n",
      "[0/1000]\n",
      "- Train Loss : 1.231225139564938 Score : 0.173298925989204\n",
      "- Val Loss : 1.2244336605072021 Score : 0.18803419172763824\n",
      "- Test Loss : 1.343672752380371 Score : 0.12765957415103912\n",
      "[1/1000]\n",
      "- Train Loss : 1.17257778512107 Score : 0.173298925989204\n",
      "- Val Loss : 1.154613733291626 Score : 0.18803419172763824\n",
      "- Test Loss : 1.2649086713790894 Score : 0.12765957415103912\n",
      "[2/1000]\n",
      "- Train Loss : 1.1225718590948317 Score : 0.173298925989204\n",
      "- Val Loss : 1.0908712148666382 Score : 0.18803419172763824\n",
      "- Test Loss : 1.1969952583312988 Score : 0.12765957415103912\n",
      "[3/1000]\n",
      "- Train Loss : 1.0785394377178616 Score : 0.173298925989204\n",
      "- Val Loss : 1.033213496208191 Score : 0.18803419172763824\n",
      "- Test Loss : 1.1396892070770264 Score : 0.12765957415103912\n",
      "[4/1000]\n",
      "- Train Loss : 1.0455736385451422 Score : 0.173298925989204\n",
      "- Val Loss : 0.9883691668510437 Score : 0.18803419172763824\n",
      "- Test Loss : 1.1020554304122925 Score : 0.12765957415103912\n",
      "[5/1000]\n",
      "- Train Loss : 1.0204222864574857 Score : 0.173298925989204\n",
      "- Val Loss : 0.9524011611938477 Score : 0.18803419172763824\n",
      "- Test Loss : 1.0650854110717773 Score : 0.12765957415103912\n",
      "[6/1000]\n",
      "- Train Loss : 0.9936243428124322 Score : 0.173298925989204\n",
      "- Val Loss : 0.9199275374412537 Score : 0.18803419172763824\n",
      "- Test Loss : 1.0296258926391602 Score : 0.1780538260936737\n",
      "[7/1000]\n",
      "- Train Loss : 0.9665304157469008 Score : 0.18953824291626611\n",
      "- Val Loss : 0.8894359469413757 Score : 0.3761904835700989\n",
      "- Test Loss : 1.0001769065856934 Score : 0.4078144431114197\n",
      "[8/1000]\n",
      "- Train Loss : 0.9416374100579156 Score : 0.4094923701551225\n",
      "- Val Loss : 0.860158383846283 Score : 0.604938268661499\n",
      "- Test Loss : 0.9737575650215149 Score : 0.4722222089767456\n",
      "[9/1000]\n",
      "- Train Loss : 0.9177479479047987 Score : 0.5397045546107822\n",
      "- Val Loss : 0.830755889415741 Score : 0.604938268661499\n",
      "- Test Loss : 0.946844220161438 Score : 0.5098039507865906\n",
      "[10/1000]\n",
      "- Train Loss : 0.8947540587849088 Score : 0.5476891663339403\n",
      "- Val Loss : 0.8032914400100708 Score : 0.604938268661499\n",
      "- Test Loss : 0.9202631711959839 Score : 0.5098039507865906\n",
      "[11/1000]\n",
      "- Train Loss : 0.8719113204214308 Score : 0.5544498960177103\n",
      "- Val Loss : 0.7753533124923706 Score : 0.604938268661499\n",
      "- Test Loss : 0.8943488597869873 Score : 0.5098039507865906\n",
      "[12/1000]\n",
      "- Train Loss : 0.8497793608241611 Score : 0.5544498960177103\n",
      "- Val Loss : 0.7497606873512268 Score : 0.604938268661499\n",
      "- Test Loss : 0.8711094260215759 Score : 0.5098039507865906\n",
      "[13/1000]\n",
      "- Train Loss : 0.8291527363989089 Score : 0.5544498960177103\n",
      "- Val Loss : 0.7250475883483887 Score : 0.604938268661499\n",
      "- Test Loss : 0.8499159812927246 Score : 0.5098039507865906\n",
      "성능 및 손실 개선이 없어서 13 EPOCH에 학습 중단\n"
     ]
    }
   ],
   "source": [
    "## 학습의 효과 확인 - 손실값과 성능평가값 저장 필요\n",
    "LOSS_HISTORY, SCORE_HISTORY = [[],[],[]], [[],[],[]]\n",
    "CNT = len(trainDL)\n",
    "print(f'CNT =>{CNT}')\n",
    "\n",
    "## 학습 모니터링/스케줄링 설정 \n",
    "# => LOSS_HISTORY, SCORE_HISTORY 활용\n",
    "# => 임계 기준 : 10번\n",
    "BREAK_CNT = 0\n",
    "LIMIT_VALUE = 10\n",
    "\n",
    "for epoch in range(EPOCH):\n",
    "    # 학습 모드로 모델 성정\n",
    "    model.train()\n",
    "\n",
    "    # 배치크기만큼 데이터 로딩해서 학습 진행\n",
    "    loss_total, score_total = 0,0\n",
    "    for featureTS, targetTS in trainDL :\n",
    "        # 학습 진행\n",
    "        pre_y = model(featureTS)\n",
    "\n",
    "        # 손실계산 : CrossEntropyLoss 요구사항 : 타겟(정답)은 0차원 또는 1차원, 타입은 long \n",
    "        loss = crossLoss(pre_y, targetTS.reshape(-1).long())\n",
    "        loss_total += loss.item()\n",
    "\n",
    "        # 성능평가 계산 : MulticlassF1Score 타입은 long으로 바꾸면 안됨\n",
    "        score = MulticlassF1Score(num_classes=3)(pre_y, targetTS.reshape(-1))\n",
    "        # 방법2 : score = F1Score(task='multiclass', num_classes = 3)(pre_y, targetTS)\n",
    "        score_total += score.item()\n",
    "\n",
    "        # 최적화 진행\n",
    "        optimizer.zero_grad()\n",
    "        loss.backward()\n",
    "        optimizer.step()\n",
    "    \n",
    "    # 에포크 당 검증기능\n",
    "    # 모델 검증 모드 설정\n",
    "    model.eval()\n",
    "\n",
    "    with torch.no_grad():\n",
    "        # 검증용 데이터셋 생성\n",
    "        val_feature_TS = torch.FloatTensor(valDS.featureDF.values)\n",
    "        val_target_TS = torch.FloatTensor(valDS.targetDF.values)\n",
    "\n",
    "        test_featureTS = torch.FloatTensor(testDS.featureDF.values)\n",
    "        test_targetTS = torch.FloatTensor(testDS.targetDF.values)\n",
    "        \n",
    "        # 평가\n",
    "        pre_val = model(val_feature_TS)\n",
    "        pre_test = model(test_featureTS)\n",
    "        # 손실 계산\n",
    "        loss_val = crossLoss(pre_val, val_target_TS.reshape(-1).long())\n",
    "        loss_test = crossLoss(pre_test, test_targetTS.reshape(-1).long())\n",
    "        # 성능 평가\n",
    "        score_val = MulticlassF1Score(num_classes=3)(pre_val, val_target_TS.reshape(-1))\n",
    "        score_test = MulticlassF1Score(num_classes=3)(pre_test, test_targetTS.reshape(-1))\n",
    "\n",
    "    # 에포크 당 손실과 성능평가값 저장\n",
    "    LOSS_HISTORY[0].append(loss_total/CNT)\n",
    "    SCORE_HISTORY[0].append(score_total/CNT)\n",
    "    \n",
    "    LOSS_HISTORY[1].append(loss_val)\n",
    "    SCORE_HISTORY[1].append(score_val)\n",
    "\n",
    "    LOSS_HISTORY[2].append(loss_test)\n",
    "    SCORE_HISTORY[2].append(score_test)\n",
    "\n",
    "    print(f'[{epoch}/{EPOCH}]\\n- Train Loss : {LOSS_HISTORY[0][-1]} Score : {SCORE_HISTORY[0][-1]}')\n",
    "    print(f'- Val Loss : {LOSS_HISTORY[1][-1]} Score : {SCORE_HISTORY[1][-1]}')\n",
    "    print(f'- Test Loss : {LOSS_HISTORY[2][-1]} Score : {SCORE_HISTORY[2][-1]}')\n",
    "    \n",
    "    # 학습 진행 모니터링/스케줄링 - 검증 DS 기준 (둘 중에 하나만 선택)\n",
    "    # # Loss 기준\n",
    "    # if len(LOSS_HISTORY[1]) > 1:\n",
    "    #     if LOSS_HISTORY[1][-1] >= LOSS_HISTORY[1][-2] : BREAK_CNT += 1 \n",
    "    # Score 기준\n",
    "    if len(SCORE_HISTORY[1]) > 1:\n",
    "        if SCORE_HISTORY[1][-1] <= SCORE_HISTORY[1][-2] : BREAK_CNT += 1 \n",
    "\n",
    "    # 학습 중단 여부 설정\n",
    "    if BREAK_CNT > LIMIT_VALUE :\n",
    "        print(f'성능 및 손실 개선이 없어서 {epoch} EPOCH에 학습 중단')\n",
    "        break\n"
   ]
  },
  {
   "cell_type": "code",
   "execution_count": 14,
   "metadata": {},
   "outputs": [
    {
     "data": {
      "image/png": "[encoded data removed]",
      "text/plain": [
       "<Figure size 1000x500 with 2 Axes>"
      ]
     },
     "metadata": {},
     "output_type": "display_data"
    }
   ],
   "source": [
    "# 학습 후 LOSS 시각화\n",
    "TH = len(LOSS_HISTORY[0])\n",
    "fg, axes = plt.subplots(1,2, figsize=(10,5), sharex=True)\n",
    "\n",
    "axes[0].plot(range(1,TH+1),LOSS_HISTORY[0][:TH], label='Train')\n",
    "axes[0].plot(range(1,TH+1),LOSS_HISTORY[1][:TH], label='Val')\n",
    "axes[0].plot(range(1,TH+1),LOSS_HISTORY[2][:TH], label='Test')\n",
    "axes[0].grid('--')\n",
    "axes[0].legend()\n",
    "axes[0].set_xlabel('EPOCH')\n",
    "axes[0].set_ylabel('Loss')\n",
    "axes[0].set_title('LOSS')\n",
    "\n",
    "axes[1].plot(range(1,TH+1),SCORE_HISTORY[0][:TH], label='Train')\n",
    "axes[1].plot(range(1,TH+1),SCORE_HISTORY[1][:TH], label='Val')\n",
    "axes[1].plot(range(1,TH+1),SCORE_HISTORY[2][:TH], label='Test')\n",
    "axes[1].grid('--')\n",
    "axes[1].legend()\n",
    "axes[1].set_xlabel('EPOCH')\n",
    "axes[1].set_ylabel('SCORE')\n",
    "axes[1].set_title('SCORE')\n",
    "plt.show()"
   ]
  }
 ],
 "metadata": {
  "kernelspec": {
   "display_name": "TORCH_38",
   "language": "python",
   "name": "python3"
  },
  "language_info": {
   "codemirror_mode": {
    "name": "ipython",
    "version": 3
   },
   "file_extension": ".py",
   "mimetype": "text/x-python",
   "name": "python",
   "nbconvert_exporter": "python",
   "pygments_lexer": "ipython3",
   "version": "3.8.19"
  }
 },
 "nbformat": 4,
 "nbformat_minor": 2
}
