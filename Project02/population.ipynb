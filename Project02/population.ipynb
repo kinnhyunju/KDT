{
 "cells": [
  {
   "cell_type": "markdown",
   "metadata": {},
   "source": [
    "### 대구광역시 인구 추이"
   ]
  },
  {
   "cell_type": "code",
   "execution_count": 22,
   "metadata": {},
   "outputs": [],
   "source": [
    "import pandas as pd"
   ]
  },
  {
   "cell_type": "code",
   "execution_count": 23,
   "metadata": {},
   "outputs": [],
   "source": [
    "population = 'pop_daegu.csv'"
   ]
  },
  {
   "cell_type": "code",
   "execution_count": 24,
   "metadata": {},
   "outputs": [
    {
     "data": {
      "text/html": [
       "<div>\n",
       "<style scoped>\n",
       "    .dataframe tbody tr th:only-of-type {\n",
       "        vertical-align: middle;\n",
       "    }\n",
       "\n",
       "    .dataframe tbody tr th {\n",
       "        vertical-align: top;\n",
       "    }\n",
       "\n",
       "    .dataframe thead th {\n",
       "        text-align: right;\n",
       "    }\n",
       "</style>\n",
       "<table border=\"1\" class=\"dataframe\">\n",
       "  <thead>\n",
       "    <tr style=\"text-align: right;\">\n",
       "      <th></th>\n",
       "      <th>시점</th>\n",
       "      <th>총인구 (명)</th>\n",
       "      <th>남자 (명)</th>\n",
       "      <th>여자 (명)</th>\n",
       "    </tr>\n",
       "  </thead>\n",
       "  <tbody>\n",
       "    <tr>\n",
       "      <th>0</th>\n",
       "      <td>시점</td>\n",
       "      <td>대구광역시</td>\n",
       "      <td>대구광역시</td>\n",
       "      <td>대구광역시</td>\n",
       "    </tr>\n",
       "    <tr>\n",
       "      <th>1</th>\n",
       "      <td>2018</td>\n",
       "      <td>2444412</td>\n",
       "      <td>1212777</td>\n",
       "      <td>1231635</td>\n",
       "    </tr>\n",
       "    <tr>\n",
       "      <th>2</th>\n",
       "      <td>2019</td>\n",
       "      <td>2429940</td>\n",
       "      <td>1203754</td>\n",
       "      <td>1226186</td>\n",
       "    </tr>\n",
       "    <tr>\n",
       "      <th>3</th>\n",
       "      <td>2020</td>\n",
       "      <td>2410700</td>\n",
       "      <td>1190271</td>\n",
       "      <td>1220429</td>\n",
       "    </tr>\n",
       "    <tr>\n",
       "      <th>4</th>\n",
       "      <td>2021</td>\n",
       "      <td>2387911</td>\n",
       "      <td>1177420</td>\n",
       "      <td>1210491</td>\n",
       "    </tr>\n",
       "    <tr>\n",
       "      <th>5</th>\n",
       "      <td>2022</td>\n",
       "      <td>2366852</td>\n",
       "      <td>1165698</td>\n",
       "      <td>1201154</td>\n",
       "    </tr>\n",
       "  </tbody>\n",
       "</table>\n",
       "</div>"
      ],
      "text/plain": [
       "     시점  총인구 (명)   남자 (명)   여자 (명)\n",
       "0    시점    대구광역시    대구광역시    대구광역시\n",
       "1  2018  2444412  1212777  1231635\n",
       "2  2019  2429940  1203754  1226186\n",
       "3  2020  2410700  1190271  1220429\n",
       "4  2021  2387911  1177420  1210491\n",
       "5  2022  2366852  1165698  1201154"
      ]
     },
     "execution_count": 24,
     "metadata": {},
     "output_type": "execute_result"
    }
   ],
   "source": [
    "popDF = pd.read_csv(population)\n",
    "popDF"
   ]
  },
  {
   "cell_type": "code",
   "execution_count": 25,
   "metadata": {},
   "outputs": [
    {
     "data": {
      "text/html": [
       "<div>\n",
       "<style scoped>\n",
       "    .dataframe tbody tr th:only-of-type {\n",
       "        vertical-align: middle;\n",
       "    }\n",
       "\n",
       "    .dataframe tbody tr th {\n",
       "        vertical-align: top;\n",
       "    }\n",
       "\n",
       "    .dataframe thead th {\n",
       "        text-align: right;\n",
       "    }\n",
       "</style>\n",
       "<table border=\"1\" class=\"dataframe\">\n",
       "  <thead>\n",
       "    <tr style=\"text-align: right;\">\n",
       "      <th></th>\n",
       "      <th>시점</th>\n",
       "      <th>총인구 (명)</th>\n",
       "      <th>남자 (명)</th>\n",
       "      <th>여자 (명)</th>\n",
       "    </tr>\n",
       "  </thead>\n",
       "  <tbody>\n",
       "    <tr>\n",
       "      <th>1</th>\n",
       "      <td>2018</td>\n",
       "      <td>2444412</td>\n",
       "      <td>1212777</td>\n",
       "      <td>1231635</td>\n",
       "    </tr>\n",
       "    <tr>\n",
       "      <th>2</th>\n",
       "      <td>2019</td>\n",
       "      <td>2429940</td>\n",
       "      <td>1203754</td>\n",
       "      <td>1226186</td>\n",
       "    </tr>\n",
       "    <tr>\n",
       "      <th>3</th>\n",
       "      <td>2020</td>\n",
       "      <td>2410700</td>\n",
       "      <td>1190271</td>\n",
       "      <td>1220429</td>\n",
       "    </tr>\n",
       "    <tr>\n",
       "      <th>4</th>\n",
       "      <td>2021</td>\n",
       "      <td>2387911</td>\n",
       "      <td>1177420</td>\n",
       "      <td>1210491</td>\n",
       "    </tr>\n",
       "    <tr>\n",
       "      <th>5</th>\n",
       "      <td>2022</td>\n",
       "      <td>2366852</td>\n",
       "      <td>1165698</td>\n",
       "      <td>1201154</td>\n",
       "    </tr>\n",
       "  </tbody>\n",
       "</table>\n",
       "</div>"
      ],
      "text/plain": [
       "     시점  총인구 (명)   남자 (명)   여자 (명)\n",
       "1  2018  2444412  1212777  1231635\n",
       "2  2019  2429940  1203754  1226186\n",
       "3  2020  2410700  1190271  1220429\n",
       "4  2021  2387911  1177420  1210491\n",
       "5  2022  2366852  1165698  1201154"
      ]
     },
     "execution_count": 25,
     "metadata": {},
     "output_type": "execute_result"
    }
   ],
   "source": [
    "# 0번 행 삭제\n",
    "popDF.drop(0,inplace=True)\n",
    "popDF"
   ]
  },
  {
   "cell_type": "markdown",
   "metadata": {},
   "source": [
    "##### 총 인구 수 출력"
   ]
  },
  {
   "cell_type": "code",
   "execution_count": 26,
   "metadata": {},
   "outputs": [],
   "source": [
    "popDF1 = popDF.drop(['남자 (명)','여자 (명)'],axis=1)"
   ]
  },
  {
   "cell_type": "code",
   "execution_count": 27,
   "metadata": {},
   "outputs": [],
   "source": [
    "popDF1 = popDF1[['시점','총인구 (명)']].astype('int64')"
   ]
  },
  {
   "cell_type": "code",
   "execution_count": 28,
   "metadata": {},
   "outputs": [],
   "source": [
    "diff=[0]\n",
    "for i in range(popDF1['시점'].count()-1):\n",
    "    num = popDF1.iloc[i+1,1]-popDF1.iloc[i,1]\n",
    "    diff.append(num)\n",
    "diff = tuple(diff)"
   ]
  },
  {
   "cell_type": "code",
   "execution_count": 29,
   "metadata": {},
   "outputs": [
    {
     "data": {
      "text/plain": [
       "1        0\n",
       "2   -14472\n",
       "3   -19240\n",
       "4   -22789\n",
       "5   -21059\n",
       "Name: 인구증감, dtype: int64"
      ]
     },
     "execution_count": 29,
     "metadata": {},
     "output_type": "execute_result"
    }
   ],
   "source": [
    "popDF1['인구증감'] = diff\n",
    "popDF1['인구증감'].astype('int64')"
   ]
  },
  {
   "cell_type": "code",
   "execution_count": 30,
   "metadata": {},
   "outputs": [],
   "source": [
    "rate_diff = [0]\n",
    "for i in range(popDF1['시점'].count()-1):\n",
    "    num = popDF1.iloc[i+1,2]/popDF1.iloc[i,1]\n",
    "    rate_diff.append(num*100)\n",
    "rate_diff = tuple(rate_diff)"
   ]
  },
  {
   "cell_type": "code",
   "execution_count": 31,
   "metadata": {},
   "outputs": [
    {
     "data": {
      "text/html": [
       "<div>\n",
       "<style scoped>\n",
       "    .dataframe tbody tr th:only-of-type {\n",
       "        vertical-align: middle;\n",
       "    }\n",
       "\n",
       "    .dataframe tbody tr th {\n",
       "        vertical-align: top;\n",
       "    }\n",
       "\n",
       "    .dataframe thead th {\n",
       "        text-align: right;\n",
       "    }\n",
       "</style>\n",
       "<table border=\"1\" class=\"dataframe\">\n",
       "  <thead>\n",
       "    <tr style=\"text-align: right;\">\n",
       "      <th></th>\n",
       "      <th>시점</th>\n",
       "      <th>총인구 (명)</th>\n",
       "      <th>인구증감</th>\n",
       "      <th>인구증감률 (%)</th>\n",
       "    </tr>\n",
       "  </thead>\n",
       "  <tbody>\n",
       "    <tr>\n",
       "      <th>1</th>\n",
       "      <td>2018</td>\n",
       "      <td>2444412</td>\n",
       "      <td>0</td>\n",
       "      <td>0.000000</td>\n",
       "    </tr>\n",
       "    <tr>\n",
       "      <th>2</th>\n",
       "      <td>2019</td>\n",
       "      <td>2429940</td>\n",
       "      <td>-14472</td>\n",
       "      <td>-0.592044</td>\n",
       "    </tr>\n",
       "    <tr>\n",
       "      <th>3</th>\n",
       "      <td>2020</td>\n",
       "      <td>2410700</td>\n",
       "      <td>-19240</td>\n",
       "      <td>-0.791789</td>\n",
       "    </tr>\n",
       "    <tr>\n",
       "      <th>4</th>\n",
       "      <td>2021</td>\n",
       "      <td>2387911</td>\n",
       "      <td>-22789</td>\n",
       "      <td>-0.945327</td>\n",
       "    </tr>\n",
       "    <tr>\n",
       "      <th>5</th>\n",
       "      <td>2022</td>\n",
       "      <td>2366852</td>\n",
       "      <td>-21059</td>\n",
       "      <td>-0.881901</td>\n",
       "    </tr>\n",
       "  </tbody>\n",
       "</table>\n",
       "</div>"
      ],
      "text/plain": [
       "     시점  총인구 (명)   인구증감  인구증감률 (%)\n",
       "1  2018  2444412      0   0.000000\n",
       "2  2019  2429940 -14472  -0.592044\n",
       "3  2020  2410700 -19240  -0.791789\n",
       "4  2021  2387911 -22789  -0.945327\n",
       "5  2022  2366852 -21059  -0.881901"
      ]
     },
     "execution_count": 31,
     "metadata": {},
     "output_type": "execute_result"
    }
   ],
   "source": [
    "popDF1['인구증감률 (%)'] = rate_diff\n",
    "popDF1['인구증감률 (%)'].astype('float64')\n",
    "popDF1"
   ]
  },
  {
   "cell_type": "markdown",
   "metadata": {},
   "source": [
    "##### 남성 인구수 출력"
   ]
  },
  {
   "cell_type": "code",
   "execution_count": 32,
   "metadata": {},
   "outputs": [],
   "source": [
    "man_popDF = popDF.drop(['총인구 (명)','여자 (명)'],axis=1)\n",
    "man_popDF = man_popDF[['시점','남자 (명)']].astype('int64')"
   ]
  },
  {
   "cell_type": "code",
   "execution_count": 33,
   "metadata": {},
   "outputs": [],
   "source": [
    "diff=[0]\n",
    "for i in range(man_popDF['시점'].count()-1):\n",
    "    num = man_popDF.iloc[i+1,1]-man_popDF.iloc[i,1]\n",
    "    diff.append(num)\n",
    "diff = tuple(diff)"
   ]
  },
  {
   "cell_type": "code",
   "execution_count": 34,
   "metadata": {},
   "outputs": [
    {
     "data": {
      "text/plain": [
       "1        0\n",
       "2    -9023\n",
       "3   -13483\n",
       "4   -12851\n",
       "5   -11722\n",
       "Name: 인구증감, dtype: int64"
      ]
     },
     "execution_count": 34,
     "metadata": {},
     "output_type": "execute_result"
    }
   ],
   "source": [
    "man_popDF['인구증감'] = diff\n",
    "man_popDF['인구증감'].astype('int64')"
   ]
  },
  {
   "cell_type": "code",
   "execution_count": 35,
   "metadata": {},
   "outputs": [],
   "source": [
    "rate_diff = [0]\n",
    "for i in range(man_popDF['시점'].count()-1):\n",
    "    num = man_popDF.iloc[i+1,2]/man_popDF.iloc[i,1]\n",
    "    rate_diff.append(num*100)\n",
    "rate_diff = tuple(rate_diff)"
   ]
  },
  {
   "cell_type": "code",
   "execution_count": 36,
   "metadata": {},
   "outputs": [
    {
     "data": {
      "text/html": [
       "<div>\n",
       "<style scoped>\n",
       "    .dataframe tbody tr th:only-of-type {\n",
       "        vertical-align: middle;\n",
       "    }\n",
       "\n",
       "    .dataframe tbody tr th {\n",
       "        vertical-align: top;\n",
       "    }\n",
       "\n",
       "    .dataframe thead th {\n",
       "        text-align: right;\n",
       "    }\n",
       "</style>\n",
       "<table border=\"1\" class=\"dataframe\">\n",
       "  <thead>\n",
       "    <tr style=\"text-align: right;\">\n",
       "      <th></th>\n",
       "      <th>시점</th>\n",
       "      <th>남자 (명)</th>\n",
       "      <th>인구증감</th>\n",
       "      <th>인구증감률 (%)</th>\n",
       "    </tr>\n",
       "  </thead>\n",
       "  <tbody>\n",
       "    <tr>\n",
       "      <th>1</th>\n",
       "      <td>2018</td>\n",
       "      <td>1212777</td>\n",
       "      <td>0</td>\n",
       "      <td>0.000000</td>\n",
       "    </tr>\n",
       "    <tr>\n",
       "      <th>2</th>\n",
       "      <td>2019</td>\n",
       "      <td>1203754</td>\n",
       "      <td>-9023</td>\n",
       "      <td>-0.743995</td>\n",
       "    </tr>\n",
       "    <tr>\n",
       "      <th>3</th>\n",
       "      <td>2020</td>\n",
       "      <td>1190271</td>\n",
       "      <td>-13483</td>\n",
       "      <td>-1.120079</td>\n",
       "    </tr>\n",
       "    <tr>\n",
       "      <th>4</th>\n",
       "      <td>2021</td>\n",
       "      <td>1177420</td>\n",
       "      <td>-12851</td>\n",
       "      <td>-1.079670</td>\n",
       "    </tr>\n",
       "    <tr>\n",
       "      <th>5</th>\n",
       "      <td>2022</td>\n",
       "      <td>1165698</td>\n",
       "      <td>-11722</td>\n",
       "      <td>-0.995567</td>\n",
       "    </tr>\n",
       "  </tbody>\n",
       "</table>\n",
       "</div>"
      ],
      "text/plain": [
       "     시점   남자 (명)   인구증감  인구증감률 (%)\n",
       "1  2018  1212777      0   0.000000\n",
       "2  2019  1203754  -9023  -0.743995\n",
       "3  2020  1190271 -13483  -1.120079\n",
       "4  2021  1177420 -12851  -1.079670\n",
       "5  2022  1165698 -11722  -0.995567"
      ]
     },
     "execution_count": 36,
     "metadata": {},
     "output_type": "execute_result"
    }
   ],
   "source": [
    "man_popDF['인구증감률 (%)'] = rate_diff\n",
    "man_popDF['인구증감률 (%)'].astype('float64')\n",
    "man_popDF"
   ]
  },
  {
   "cell_type": "markdown",
   "metadata": {},
   "source": [
    "##### 여성 인구수 출력"
   ]
  },
  {
   "cell_type": "code",
   "execution_count": 37,
   "metadata": {},
   "outputs": [],
   "source": [
    "woman_popDF = popDF.drop(['총인구 (명)','남자 (명)'],axis=1)\n",
    "woman_popDF = woman_popDF[['시점','여자 (명)']].astype('int64')"
   ]
  },
  {
   "cell_type": "code",
   "execution_count": 38,
   "metadata": {},
   "outputs": [],
   "source": [
    "diff=[0]\n",
    "for i in range(woman_popDF['시점'].count()-1):\n",
    "    num = woman_popDF.iloc[i+1,1]-woman_popDF.iloc[i,1]\n",
    "    diff.append(num)\n",
    "diff = tuple(diff)"
   ]
  },
  {
   "cell_type": "code",
   "execution_count": 39,
   "metadata": {},
   "outputs": [
    {
     "data": {
      "text/plain": [
       "1       0\n",
       "2   -5449\n",
       "3   -5757\n",
       "4   -9938\n",
       "5   -9337\n",
       "Name: 인구증감, dtype: int64"
      ]
     },
     "execution_count": 39,
     "metadata": {},
     "output_type": "execute_result"
    }
   ],
   "source": [
    "woman_popDF['인구증감'] = diff\n",
    "woman_popDF['인구증감'].astype('int64')"
   ]
  },
  {
   "cell_type": "code",
   "execution_count": 40,
   "metadata": {},
   "outputs": [],
   "source": [
    "rate_diff = [0]\n",
    "for i in range(woman_popDF['시점'].count()-1):\n",
    "    num = woman_popDF.iloc[i+1,2]/woman_popDF.iloc[i,1]\n",
    "    rate_diff.append(num*100)\n",
    "rate_diff = tuple(rate_diff)"
   ]
  },
  {
   "cell_type": "code",
   "execution_count": 41,
   "metadata": {},
   "outputs": [
    {
     "data": {
      "text/html": [
       "<div>\n",
       "<style scoped>\n",
       "    .dataframe tbody tr th:only-of-type {\n",
       "        vertical-align: middle;\n",
       "    }\n",
       "\n",
       "    .dataframe tbody tr th {\n",
       "        vertical-align: top;\n",
       "    }\n",
       "\n",
       "    .dataframe thead th {\n",
       "        text-align: right;\n",
       "    }\n",
       "</style>\n",
       "<table border=\"1\" class=\"dataframe\">\n",
       "  <thead>\n",
       "    <tr style=\"text-align: right;\">\n",
       "      <th></th>\n",
       "      <th>시점</th>\n",
       "      <th>여자 (명)</th>\n",
       "      <th>인구증감</th>\n",
       "      <th>인구증감률 (%)</th>\n",
       "    </tr>\n",
       "  </thead>\n",
       "  <tbody>\n",
       "    <tr>\n",
       "      <th>1</th>\n",
       "      <td>2018</td>\n",
       "      <td>1231635</td>\n",
       "      <td>0</td>\n",
       "      <td>0.000000</td>\n",
       "    </tr>\n",
       "    <tr>\n",
       "      <th>2</th>\n",
       "      <td>2019</td>\n",
       "      <td>1226186</td>\n",
       "      <td>-5449</td>\n",
       "      <td>-0.442420</td>\n",
       "    </tr>\n",
       "    <tr>\n",
       "      <th>3</th>\n",
       "      <td>2020</td>\n",
       "      <td>1220429</td>\n",
       "      <td>-5757</td>\n",
       "      <td>-0.469505</td>\n",
       "    </tr>\n",
       "    <tr>\n",
       "      <th>4</th>\n",
       "      <td>2021</td>\n",
       "      <td>1210491</td>\n",
       "      <td>-9938</td>\n",
       "      <td>-0.814304</td>\n",
       "    </tr>\n",
       "    <tr>\n",
       "      <th>5</th>\n",
       "      <td>2022</td>\n",
       "      <td>1201154</td>\n",
       "      <td>-9337</td>\n",
       "      <td>-0.771340</td>\n",
       "    </tr>\n",
       "  </tbody>\n",
       "</table>\n",
       "</div>"
      ],
      "text/plain": [
       "     시점   여자 (명)  인구증감  인구증감률 (%)\n",
       "1  2018  1231635     0   0.000000\n",
       "2  2019  1226186 -5449  -0.442420\n",
       "3  2020  1220429 -5757  -0.469505\n",
       "4  2021  1210491 -9938  -0.814304\n",
       "5  2022  1201154 -9337  -0.771340"
      ]
     },
     "execution_count": 41,
     "metadata": {},
     "output_type": "execute_result"
    }
   ],
   "source": [
    "woman_popDF['인구증감률 (%)'] = rate_diff\n",
    "woman_popDF['인구증감률 (%)'].astype('float64')\n",
    "woman_popDF"
   ]
  }
 ],
 "metadata": {
  "kernelspec": {
   "display_name": "PY39",
   "language": "python",
   "name": "python3"
  },
  "language_info": {
   "codemirror_mode": {
    "name": "ipython",
    "version": 3
   },
   "file_extension": ".py",
   "mimetype": "text/x-python",
   "name": "python",
   "nbconvert_exporter": "python",
   "pygments_lexer": "ipython3",
   "version": "3.9.19"
  }
 },
 "nbformat": 4,
 "nbformat_minor": 2
}
