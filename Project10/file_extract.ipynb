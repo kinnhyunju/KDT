{
 "cells": [
  {
   "cell_type": "markdown",
   "metadata": {},
   "source": [
    "### 파일 배경 제거\n",
    "- 바나나 파일 배경 제거"
   ]
  },
  {
   "cell_type": "code",
   "execution_count": 1,
   "metadata": {},
   "outputs": [],
   "source": [
    "# 모듈 로딩\n",
    "\n",
    "from rembg import remove\n",
    "from PIL import Image\n",
    "import os"
   ]
  },
  {
   "cell_type": "code",
   "execution_count": 2,
   "metadata": {},
   "outputs": [
    {
     "data": {
      "text/plain": [
       "['00507966201_20140702.jpg',\n",
       " '02917245_1_960.jpg',\n",
       " '02917245_6_960.jpg',\n",
       " '1-11-optimized.jpg',\n",
       " '1000000061_detail_167.png',\n",
       " '1000571106285_i5_750.jpg',\n",
       " '105310_20221116095537157.jpg',\n",
       " '105310_2022111609553718.jpg',\n",
       " '112966942.2.jpg',\n",
       " '12989768_1.jpg']"
      ]
     },
     "execution_count": 2,
     "metadata": {},
     "output_type": "execute_result"
    }
   ],
   "source": [
    "filelist = os.listdir('../TORCH_IMAGE/project/banana/')\n",
    "filelist[:10]"
   ]
  },
  {
   "cell_type": "code",
   "execution_count": 3,
   "metadata": {},
   "outputs": [
    {
     "name": "stderr",
     "output_type": "stream",
     "text": [
      "c:\\Users\\kdp\\anaconda3\\envs\\TORCH_CV_38\\lib\\site-packages\\PIL\\Image.py:1056: UserWarning: Palette images with Transparency expressed in bytes should be converted to RGBA images\n",
      "  warnings.warn(\n"
     ]
    }
   ],
   "source": [
    "# input_path = '../TORCH_IMAGE/project/banana_original/' # 배경 제거할 이미지 경로\n",
    "# output_path =  '../TORCH_IMAGE/project/banana/' # 저장할 이미지 경로\n",
    "\n",
    "# for file in filelist:\n",
    "#     img = Image.open(input_path+file)\n",
    "#     out = remove(img)\n",
    "\n",
    "#     # JPEG는 알파 채널을 지원하지 않으므로 RGB로 변환\n",
    "#     if out.mode == 'RGBA':\n",
    "#         out = out.convert('RGB')\n",
    "\n",
    "#     out.save(output_path+file)"
   ]
  },
  {
   "cell_type": "code",
   "execution_count": 7,
   "metadata": {},
   "outputs": [
    {
     "data": {
      "text/plain": [
       "['rotten_banana_result (1).jpg',\n",
       " 'rotten_banana_result (1).png',\n",
       " 'rotten_banana_result (10).jpg',\n",
       " 'rotten_banana_result (100).jpg',\n",
       " 'rotten_banana_result (101).jpg',\n",
       " 'rotten_banana_result (102).jpg',\n",
       " 'rotten_banana_result (103).jpg',\n",
       " 'rotten_banana_result (104).jpg',\n",
       " 'rotten_banana_result (105).jpg',\n",
       " 'rotten_banana_result (106).jpg']"
      ]
     },
     "execution_count": 7,
     "metadata": {},
     "output_type": "execute_result"
    }
   ],
   "source": [
    "filelist2 = os.listdir('../TORCH_IMAGE/project/rotten_banana/')\n",
    "filelist2[:10]"
   ]
  },
  {
   "cell_type": "code",
   "execution_count": 8,
   "metadata": {},
   "outputs": [],
   "source": [
    "input_path = '../TORCH_IMAGE/project/rotten_banana/' # 배경 제거할 이미지 경로\n",
    "output_path =  '../TORCH_IMAGE/project/banana/' # 저장할 이미지 경로\n",
    "\n",
    "for file in filelist2:\n",
    "    img = Image.open(input_path+file)\n",
    "    out = remove(img)\n",
    "\n",
    "    # JPEG는 알파 채널을 지원하지 않으므로 RGB로 변환\n",
    "    if out.mode == 'RGBA':\n",
    "        out = out.convert('RGB')\n",
    "\n",
    "    out.save(output_path+file)"
   ]
  },
  {
   "cell_type": "code",
   "execution_count": null,
   "metadata": {},
   "outputs": [],
   "source": []
  }
 ],
 "metadata": {
  "kernelspec": {
   "display_name": "TORCH_CV_38",
   "language": "python",
   "name": "python3"
  },
  "language_info": {
   "codemirror_mode": {
    "name": "ipython",
    "version": 3
   },
   "file_extension": ".py",
   "mimetype": "text/x-python",
   "name": "python",
   "nbconvert_exporter": "python",
   "pygments_lexer": "ipython3",
   "version": "3.8.19"
  }
 },
 "nbformat": 4,
 "nbformat_minor": 2
}
