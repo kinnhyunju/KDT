{
 "cells": [
  {
   "cell_type": "markdown",
   "metadata": {},
   "source": [
    "1. 데이터를 저장 후 몇 가지 문제를 코드로 작성합니다."
   ]
  },
  {
   "cell_type": "code",
   "execution_count": 3,
   "metadata": {},
   "outputs": [],
   "source": [
    "import pandas as pd"
   ]
  },
  {
   "cell_type": "code",
   "execution_count": 4,
   "metadata": {},
   "outputs": [],
   "source": [
    "# 01) 데이터를 저장해 주세요\n",
    "data = {'이름':['메로나','비비빅','죠스바'],'가격':[300,400,250],'재고':[20,3,100]}"
   ]
  },
  {
   "cell_type": "code",
   "execution_count": 5,
   "metadata": {},
   "outputs": [
    {
     "name": "stdout",
     "output_type": "stream",
     "text": [
      "RangeIndex(start=0, stop=3, step=1)\n",
      "\n",
      "Index(['이름', '가격', '재고'], dtype='object')\n",
      "\n",
      "[['메로나' 300 20]\n",
      " ['비비빅' 400 3]\n",
      " ['죠스바' 250 100]]\n",
      "\n",
      "2\n",
      "\n",
      "(3, 3)\n",
      "\n",
      "이름    object\n",
      "가격     int64\n",
      "재고     int64\n",
      "dtype: object\n"
     ]
    }
   ],
   "source": [
    "# 02) 데이터 저장 후 주요 속성 6가지를 출력하세요.\n",
    "dataDF=pd.DataFrame(data)\n",
    "dataDF\n",
    "print(dataDF.index,dataDF.columns,dataDF.values,dataDF.ndim,dataDF.shape,dataDF.dtypes,sep='\\n\\n')"
   ]
  },
  {
   "cell_type": "code",
   "execution_count": 6,
   "metadata": {},
   "outputs": [
    {
     "data": {
      "text/plain": [
       "0    300\n",
       "1    400\n",
       "2    250\n",
       "Name: 가격, dtype: int64"
      ]
     },
     "execution_count": 6,
     "metadata": {},
     "output_type": "execute_result"
    }
   ],
   "source": [
    "# 03) 가격 데이터만 추출하세요\n",
    "dataDF['가격']"
   ]
  },
  {
   "cell_type": "code",
   "execution_count": 7,
   "metadata": {},
   "outputs": [
    {
     "data": {
      "text/html": [
       "<div>\n",
       "<style scoped>\n",
       "    .dataframe tbody tr th:only-of-type {\n",
       "        vertical-align: middle;\n",
       "    }\n",
       "\n",
       "    .dataframe tbody tr th {\n",
       "        vertical-align: top;\n",
       "    }\n",
       "\n",
       "    .dataframe thead th {\n",
       "        text-align: right;\n",
       "    }\n",
       "</style>\n",
       "<table border=\"1\" class=\"dataframe\">\n",
       "  <thead>\n",
       "    <tr style=\"text-align: right;\">\n",
       "      <th></th>\n",
       "      <th>가격</th>\n",
       "      <th>재고</th>\n",
       "    </tr>\n",
       "  </thead>\n",
       "  <tbody>\n",
       "    <tr>\n",
       "      <th>0</th>\n",
       "      <td>300</td>\n",
       "      <td>20</td>\n",
       "    </tr>\n",
       "    <tr>\n",
       "      <th>1</th>\n",
       "      <td>400</td>\n",
       "      <td>3</td>\n",
       "    </tr>\n",
       "    <tr>\n",
       "      <th>2</th>\n",
       "      <td>250</td>\n",
       "      <td>100</td>\n",
       "    </tr>\n",
       "  </tbody>\n",
       "</table>\n",
       "</div>"
      ],
      "text/plain": [
       "    가격   재고\n",
       "0  300   20\n",
       "1  400    3\n",
       "2  250  100"
      ]
     },
     "execution_count": 7,
     "metadata": {},
     "output_type": "execute_result"
    }
   ],
   "source": [
    "# 04) 이름과 재고 데이터를 추출하세요.\n",
    "dataDF[['가격','재고']]"
   ]
  },
  {
   "cell_type": "code",
   "execution_count": 8,
   "metadata": {},
   "outputs": [
    {
     "data": {
      "text/plain": [
       "이름    비비빅\n",
       "가격    400\n",
       "재고      3\n",
       "Name: 1, dtype: object"
      ]
     },
     "execution_count": 8,
     "metadata": {},
     "output_type": "execute_result"
    }
   ],
   "source": [
    "# 05) 비비빅의 가격과 재고 데이터를 추출 하세요.\n",
    "dataDF.loc[1]"
   ]
  },
  {
   "cell_type": "code",
   "execution_count": 9,
   "metadata": {},
   "outputs": [
    {
     "data": {
      "text/html": [
       "<div>\n",
       "<style scoped>\n",
       "    .dataframe tbody tr th:only-of-type {\n",
       "        vertical-align: middle;\n",
       "    }\n",
       "\n",
       "    .dataframe tbody tr th {\n",
       "        vertical-align: top;\n",
       "    }\n",
       "\n",
       "    .dataframe thead th {\n",
       "        text-align: right;\n",
       "    }\n",
       "</style>\n",
       "<table border=\"1\" class=\"dataframe\">\n",
       "  <thead>\n",
       "    <tr style=\"text-align: right;\">\n",
       "      <th></th>\n",
       "      <th>이름</th>\n",
       "      <th>가격</th>\n",
       "      <th>재고</th>\n",
       "    </tr>\n",
       "  </thead>\n",
       "  <tbody>\n",
       "    <tr>\n",
       "      <th>0</th>\n",
       "      <td>메로나</td>\n",
       "      <td>300</td>\n",
       "      <td>20</td>\n",
       "    </tr>\n",
       "    <tr>\n",
       "      <th>2</th>\n",
       "      <td>죠스바</td>\n",
       "      <td>250</td>\n",
       "      <td>100</td>\n",
       "    </tr>\n",
       "  </tbody>\n",
       "</table>\n",
       "</div>"
      ],
      "text/plain": [
       "    이름   가격   재고\n",
       "0  메로나  300   20\n",
       "2  죠스바  250  100"
      ]
     },
     "execution_count": 9,
     "metadata": {},
     "output_type": "execute_result"
    }
   ],
   "source": [
    "# 06) 메로나와 죠스바의 가격, 재고 데이터를 추출 하세요\n",
    "dataDF.iloc[[0,2]]"
   ]
  },
  {
   "cell_type": "code",
   "execution_count": 10,
   "metadata": {},
   "outputs": [],
   "source": [
    "# 07) 행 인덱스를 ‘일’, ‘이’, ‘삼’으로 변경해 주세요."
   ]
  },
  {
   "cell_type": "code",
   "execution_count": 11,
   "metadata": {},
   "outputs": [
    {
     "data": {
      "text/html": [
       "<div>\n",
       "<style scoped>\n",
       "    .dataframe tbody tr th:only-of-type {\n",
       "        vertical-align: middle;\n",
       "    }\n",
       "\n",
       "    .dataframe tbody tr th {\n",
       "        vertical-align: top;\n",
       "    }\n",
       "\n",
       "    .dataframe thead th {\n",
       "        text-align: right;\n",
       "    }\n",
       "</style>\n",
       "<table border=\"1\" class=\"dataframe\">\n",
       "  <thead>\n",
       "    <tr style=\"text-align: right;\">\n",
       "      <th></th>\n",
       "      <th>이름</th>\n",
       "      <th>가격</th>\n",
       "      <th>재고</th>\n",
       "    </tr>\n",
       "  </thead>\n",
       "  <tbody>\n",
       "    <tr>\n",
       "      <th>일</th>\n",
       "      <td>메로나</td>\n",
       "      <td>300</td>\n",
       "      <td>20</td>\n",
       "    </tr>\n",
       "    <tr>\n",
       "      <th>이</th>\n",
       "      <td>비비빅</td>\n",
       "      <td>400</td>\n",
       "      <td>3</td>\n",
       "    </tr>\n",
       "    <tr>\n",
       "      <th>삼</th>\n",
       "      <td>죠스바</td>\n",
       "      <td>250</td>\n",
       "      <td>100</td>\n",
       "    </tr>\n",
       "  </tbody>\n",
       "</table>\n",
       "</div>"
      ],
      "text/plain": [
       "    이름   가격   재고\n",
       "일  메로나  300   20\n",
       "이  비비빅  400    3\n",
       "삼  죠스바  250  100"
      ]
     },
     "execution_count": 11,
     "metadata": {},
     "output_type": "execute_result"
    }
   ],
   "source": [
    "dataDF.index = ['일', '이', '삼']\n",
    "dataDF"
   ]
  },
  {
   "cell_type": "code",
   "execution_count": 12,
   "metadata": {},
   "outputs": [
    {
     "data": {
      "text/html": [
       "<div>\n",
       "<style scoped>\n",
       "    .dataframe tbody tr th:only-of-type {\n",
       "        vertical-align: middle;\n",
       "    }\n",
       "\n",
       "    .dataframe tbody tr th {\n",
       "        vertical-align: top;\n",
       "    }\n",
       "\n",
       "    .dataframe thead th {\n",
       "        text-align: right;\n",
       "    }\n",
       "</style>\n",
       "<table border=\"1\" class=\"dataframe\">\n",
       "  <thead>\n",
       "    <tr style=\"text-align: right;\">\n",
       "      <th></th>\n",
       "      <th>이름</th>\n",
       "      <th>가격</th>\n",
       "      <th>재고</th>\n",
       "      <th>총가격</th>\n",
       "    </tr>\n",
       "  </thead>\n",
       "  <tbody>\n",
       "    <tr>\n",
       "      <th>일</th>\n",
       "      <td>메로나</td>\n",
       "      <td>300</td>\n",
       "      <td>20</td>\n",
       "      <td>0</td>\n",
       "    </tr>\n",
       "    <tr>\n",
       "      <th>이</th>\n",
       "      <td>비비빅</td>\n",
       "      <td>400</td>\n",
       "      <td>3</td>\n",
       "      <td>0</td>\n",
       "    </tr>\n",
       "    <tr>\n",
       "      <th>삼</th>\n",
       "      <td>죠스바</td>\n",
       "      <td>250</td>\n",
       "      <td>100</td>\n",
       "      <td>0</td>\n",
       "    </tr>\n",
       "  </tbody>\n",
       "</table>\n",
       "</div>"
      ],
      "text/plain": [
       "    이름   가격   재고  총가격\n",
       "일  메로나  300   20    0\n",
       "이  비비빅  400    3    0\n",
       "삼  죠스바  250  100    0"
      ]
     },
     "execution_count": 12,
     "metadata": {},
     "output_type": "execute_result"
    }
   ],
   "source": [
    "# 08) 총가격 컬럼을 추가 후 0으로 값을 채워 주세요.\n",
    "dataDF['총가격'] = 0\n",
    "dataDF"
   ]
  },
  {
   "cell_type": "code",
   "execution_count": 13,
   "metadata": {},
   "outputs": [
    {
     "data": {
      "text/html": [
       "<div>\n",
       "<style scoped>\n",
       "    .dataframe tbody tr th:only-of-type {\n",
       "        vertical-align: middle;\n",
       "    }\n",
       "\n",
       "    .dataframe tbody tr th {\n",
       "        vertical-align: top;\n",
       "    }\n",
       "\n",
       "    .dataframe thead th {\n",
       "        text-align: right;\n",
       "    }\n",
       "</style>\n",
       "<table border=\"1\" class=\"dataframe\">\n",
       "  <thead>\n",
       "    <tr style=\"text-align: right;\">\n",
       "      <th></th>\n",
       "      <th>이름</th>\n",
       "      <th>가격</th>\n",
       "      <th>재고</th>\n",
       "      <th>총가격</th>\n",
       "    </tr>\n",
       "  </thead>\n",
       "  <tbody>\n",
       "    <tr>\n",
       "      <th>일</th>\n",
       "      <td>메로나</td>\n",
       "      <td>300</td>\n",
       "      <td>20</td>\n",
       "      <td>0</td>\n",
       "    </tr>\n",
       "    <tr>\n",
       "      <th>이</th>\n",
       "      <td>비비빅</td>\n",
       "      <td>400</td>\n",
       "      <td>3</td>\n",
       "      <td>0</td>\n",
       "    </tr>\n",
       "    <tr>\n",
       "      <th>삼</th>\n",
       "      <td>죠스바</td>\n",
       "      <td>250</td>\n",
       "      <td>100</td>\n",
       "      <td>0</td>\n",
       "    </tr>\n",
       "    <tr>\n",
       "      <th>사</th>\n",
       "      <td>빵빠레</td>\n",
       "      <td>550</td>\n",
       "      <td>10</td>\n",
       "      <td>0</td>\n",
       "    </tr>\n",
       "  </tbody>\n",
       "</table>\n",
       "</div>"
      ],
      "text/plain": [
       "    이름   가격   재고  총가격\n",
       "일  메로나  300   20    0\n",
       "이  비비빅  400    3    0\n",
       "삼  죠스바  250  100    0\n",
       "사  빵빠레  550   10    0"
      ]
     },
     "execution_count": 13,
     "metadata": {},
     "output_type": "execute_result"
    }
   ],
   "source": [
    "# 09) ‘빵빠레’, 550원, 10개 데이터를 추가해 주세요.\n",
    "dataDF.loc['사'] = ['빵빠레',550,10,0]\n",
    "dataDF"
   ]
  },
  {
   "cell_type": "code",
   "execution_count": 14,
   "metadata": {},
   "outputs": [
    {
     "data": {
      "text/html": [
       "<div>\n",
       "<style scoped>\n",
       "    .dataframe tbody tr th:only-of-type {\n",
       "        vertical-align: middle;\n",
       "    }\n",
       "\n",
       "    .dataframe tbody tr th {\n",
       "        vertical-align: top;\n",
       "    }\n",
       "\n",
       "    .dataframe thead th {\n",
       "        text-align: right;\n",
       "    }\n",
       "</style>\n",
       "<table border=\"1\" class=\"dataframe\">\n",
       "  <thead>\n",
       "    <tr style=\"text-align: right;\">\n",
       "      <th></th>\n",
       "      <th>이름</th>\n",
       "      <th>가격</th>\n",
       "      <th>재고</th>\n",
       "      <th>총가격</th>\n",
       "    </tr>\n",
       "  </thead>\n",
       "  <tbody>\n",
       "    <tr>\n",
       "      <th>일</th>\n",
       "      <td>메로나</td>\n",
       "      <td>300</td>\n",
       "      <td>20</td>\n",
       "      <td>0</td>\n",
       "    </tr>\n",
       "    <tr>\n",
       "      <th>이</th>\n",
       "      <td>비비빅</td>\n",
       "      <td>400</td>\n",
       "      <td>23</td>\n",
       "      <td>0</td>\n",
       "    </tr>\n",
       "    <tr>\n",
       "      <th>삼</th>\n",
       "      <td>죠스바</td>\n",
       "      <td>250</td>\n",
       "      <td>100</td>\n",
       "      <td>0</td>\n",
       "    </tr>\n",
       "    <tr>\n",
       "      <th>사</th>\n",
       "      <td>빵빠레</td>\n",
       "      <td>550</td>\n",
       "      <td>10</td>\n",
       "      <td>0</td>\n",
       "    </tr>\n",
       "  </tbody>\n",
       "</table>\n",
       "</div>"
      ],
      "text/plain": [
       "    이름   가격   재고  총가격\n",
       "일  메로나  300   20    0\n",
       "이  비비빅  400   23    0\n",
       "삼  죠스바  250  100    0\n",
       "사  빵빠레  550   10    0"
      ]
     },
     "execution_count": 14,
     "metadata": {},
     "output_type": "execute_result"
    }
   ],
   "source": [
    "# 10) 비비빅의 재고를 23로 변경해 주세요.\n",
    "dataDF.loc['이','재고'] = 23\n",
    "dataDF"
   ]
  },
  {
   "cell_type": "markdown",
   "metadata": {},
   "source": [
    "2. OHLC(Open/High/Low/Close) 가격정보 데이터입니다."
   ]
  },
  {
   "cell_type": "code",
   "execution_count": 15,
   "metadata": {},
   "outputs": [
    {
     "data": {
      "text/html": [
       "<div>\n",
       "<style scoped>\n",
       "    .dataframe tbody tr th:only-of-type {\n",
       "        vertical-align: middle;\n",
       "    }\n",
       "\n",
       "    .dataframe tbody tr th {\n",
       "        vertical-align: top;\n",
       "    }\n",
       "\n",
       "    .dataframe thead th {\n",
       "        text-align: right;\n",
       "    }\n",
       "</style>\n",
       "<table border=\"1\" class=\"dataframe\">\n",
       "  <thead>\n",
       "    <tr style=\"text-align: right;\">\n",
       "      <th></th>\n",
       "      <th>시가</th>\n",
       "      <th>고가</th>\n",
       "      <th>저가</th>\n",
       "      <th>종가</th>\n",
       "    </tr>\n",
       "  </thead>\n",
       "  <tbody>\n",
       "    <tr>\n",
       "      <th>0</th>\n",
       "      <td>2000</td>\n",
       "      <td>3050</td>\n",
       "      <td>2050</td>\n",
       "      <td>1980</td>\n",
       "    </tr>\n",
       "    <tr>\n",
       "      <th>1</th>\n",
       "      <td>7500</td>\n",
       "      <td>2050</td>\n",
       "      <td>2050</td>\n",
       "      <td>1980</td>\n",
       "    </tr>\n",
       "    <tr>\n",
       "      <th>2</th>\n",
       "      <td>15450</td>\n",
       "      <td>15050</td>\n",
       "      <td>15550</td>\n",
       "      <td>14900</td>\n",
       "    </tr>\n",
       "  </tbody>\n",
       "</table>\n",
       "</div>"
      ],
      "text/plain": [
       "      시가     고가     저가     종가\n",
       "0   2000   3050   2050   1980\n",
       "1   7500   2050   2050   1980\n",
       "2  15450  15050  15550  14900"
      ]
     },
     "execution_count": 15,
     "metadata": {},
     "output_type": "execute_result"
    }
   ],
   "source": [
    "# 01) 데이터를 저장해 주세요. \n",
    "data2 =  [[2000, 3050, 2050, 1980], [7500, 2050, 2050, 1980], [15450, 15050, 15550, 14900]]\n",
    "d_DF = pd.DataFrame(data2,columns=['시가','고가','저가','종가'])\n",
    "d_DF"
   ]
  },
  {
   "cell_type": "code",
   "execution_count": 16,
   "metadata": {},
   "outputs": [
    {
     "name": "stdout",
     "output_type": "stream",
     "text": [
      "RangeIndex(start=0, stop=3, step=1)\n",
      "\n",
      "Index(['시가', '고가', '저가', '종가'], dtype='object')\n",
      "\n",
      "[[ 2000  3050  2050  1980]\n",
      " [ 7500  2050  2050  1980]\n",
      " [15450 15050 15550 14900]]\n",
      "\n",
      "2\n",
      "\n",
      "(3, 4)\n",
      "\n",
      "시가    int64\n",
      "고가    int64\n",
      "저가    int64\n",
      "종가    int64\n",
      "dtype: object\n"
     ]
    }
   ],
   "source": [
    "# 02) 데이터 저장 후 주요 속성 6가지를 출력하세요.\n",
    "print(d_DF.index,d_DF.columns,d_DF.values,d_DF.ndim,d_DF.shape,d_DF.dtypes,sep='\\n\\n')"
   ]
  },
  {
   "cell_type": "code",
   "execution_count": 17,
   "metadata": {},
   "outputs": [
    {
     "data": {
      "text/html": [
       "<div>\n",
       "<style scoped>\n",
       "    .dataframe tbody tr th:only-of-type {\n",
       "        vertical-align: middle;\n",
       "    }\n",
       "\n",
       "    .dataframe tbody tr th {\n",
       "        vertical-align: top;\n",
       "    }\n",
       "\n",
       "    .dataframe thead th {\n",
       "        text-align: right;\n",
       "    }\n",
       "</style>\n",
       "<table border=\"1\" class=\"dataframe\">\n",
       "  <thead>\n",
       "    <tr style=\"text-align: right;\">\n",
       "      <th></th>\n",
       "      <th>시가</th>\n",
       "      <th>고가</th>\n",
       "      <th>저가</th>\n",
       "      <th>종가</th>\n",
       "    </tr>\n",
       "  </thead>\n",
       "  <tbody>\n",
       "    <tr>\n",
       "      <th>2024-01-01</th>\n",
       "      <td>2000</td>\n",
       "      <td>3050</td>\n",
       "      <td>2050</td>\n",
       "      <td>1980</td>\n",
       "    </tr>\n",
       "    <tr>\n",
       "      <th>2024-02-01</th>\n",
       "      <td>7500</td>\n",
       "      <td>2050</td>\n",
       "      <td>2050</td>\n",
       "      <td>1980</td>\n",
       "    </tr>\n",
       "    <tr>\n",
       "      <th>2024-03-01</th>\n",
       "      <td>15450</td>\n",
       "      <td>15050</td>\n",
       "      <td>15550</td>\n",
       "      <td>14900</td>\n",
       "    </tr>\n",
       "  </tbody>\n",
       "</table>\n",
       "</div>"
      ],
      "text/plain": [
       "               시가     고가     저가     종가\n",
       "2024-01-01   2000   3050   2050   1980\n",
       "2024-02-01   7500   2050   2050   1980\n",
       "2024-03-01  15450  15050  15550  14900"
      ]
     },
     "execution_count": 17,
     "metadata": {},
     "output_type": "execute_result"
    }
   ],
   "source": [
    "# 03) 행 인덱스를 2024-01-01, 2024-02-01, 2024-03-01 데이터로 변경해 주세요.\n",
    "d_DF.index = ['2024-01-01', '2024-02-01', '2024-03-01']\n",
    "d_DF"
   ]
  },
  {
   "cell_type": "code",
   "execution_count": 18,
   "metadata": {},
   "outputs": [
    {
     "data": {
      "text/html": [
       "<div>\n",
       "<style scoped>\n",
       "    .dataframe tbody tr th:only-of-type {\n",
       "        vertical-align: middle;\n",
       "    }\n",
       "\n",
       "    .dataframe tbody tr th {\n",
       "        vertical-align: top;\n",
       "    }\n",
       "\n",
       "    .dataframe thead th {\n",
       "        text-align: right;\n",
       "    }\n",
       "</style>\n",
       "<table border=\"1\" class=\"dataframe\">\n",
       "  <thead>\n",
       "    <tr style=\"text-align: right;\">\n",
       "      <th></th>\n",
       "      <th>Open</th>\n",
       "      <th>High</th>\n",
       "      <th>Low</th>\n",
       "      <th>Close</th>\n",
       "    </tr>\n",
       "  </thead>\n",
       "  <tbody>\n",
       "    <tr>\n",
       "      <th>2024-01-01</th>\n",
       "      <td>2000</td>\n",
       "      <td>3050</td>\n",
       "      <td>2050</td>\n",
       "      <td>1980</td>\n",
       "    </tr>\n",
       "    <tr>\n",
       "      <th>2024-02-01</th>\n",
       "      <td>7500</td>\n",
       "      <td>2050</td>\n",
       "      <td>2050</td>\n",
       "      <td>1980</td>\n",
       "    </tr>\n",
       "    <tr>\n",
       "      <th>2024-03-01</th>\n",
       "      <td>15450</td>\n",
       "      <td>15050</td>\n",
       "      <td>15550</td>\n",
       "      <td>14900</td>\n",
       "    </tr>\n",
       "  </tbody>\n",
       "</table>\n",
       "</div>"
      ],
      "text/plain": [
       "             Open   High    Low  Close\n",
       "2024-01-01   2000   3050   2050   1980\n",
       "2024-02-01   7500   2050   2050   1980\n",
       "2024-03-01  15450  15050  15550  14900"
      ]
     },
     "execution_count": 18,
     "metadata": {},
     "output_type": "execute_result"
    }
   ],
   "source": [
    "# 04) 열 인덱스를 Open/High/Low/Close로 변경해 주세요.\n",
    "d_DF.columns = ['Open','High','Low','Close']\n",
    "d_DF"
   ]
  },
  {
   "cell_type": "code",
   "execution_count": 19,
   "metadata": {},
   "outputs": [
    {
     "data": {
      "text/plain": [
       "High     2050\n",
       "Close    1980\n",
       "Name: 2024-02-01, dtype: int64"
      ]
     },
     "execution_count": 19,
     "metadata": {},
     "output_type": "execute_result"
    }
   ],
   "source": [
    "# 05) 2024-02-01의 High, Close 데이터를 추출 하세요.\n",
    "d_DF.loc['2024-02-01',['High','Close']]"
   ]
  },
  {
   "cell_type": "code",
   "execution_count": 20,
   "metadata": {},
   "outputs": [
    {
     "data": {
      "text/html": [
       "<div>\n",
       "<style scoped>\n",
       "    .dataframe tbody tr th:only-of-type {\n",
       "        vertical-align: middle;\n",
       "    }\n",
       "\n",
       "    .dataframe tbody tr th {\n",
       "        vertical-align: top;\n",
       "    }\n",
       "\n",
       "    .dataframe thead th {\n",
       "        text-align: right;\n",
       "    }\n",
       "</style>\n",
       "<table border=\"1\" class=\"dataframe\">\n",
       "  <thead>\n",
       "    <tr style=\"text-align: right;\">\n",
       "      <th></th>\n",
       "      <th>Open</th>\n",
       "      <th>High</th>\n",
       "      <th>Low</th>\n",
       "      <th>Close</th>\n",
       "    </tr>\n",
       "  </thead>\n",
       "  <tbody>\n",
       "    <tr>\n",
       "      <th>2024-01-01</th>\n",
       "      <td>2000</td>\n",
       "      <td>3050</td>\n",
       "      <td>2050</td>\n",
       "      <td>1980</td>\n",
       "    </tr>\n",
       "    <tr>\n",
       "      <th>2024-02-01</th>\n",
       "      <td>7500</td>\n",
       "      <td>2050</td>\n",
       "      <td>2050</td>\n",
       "      <td>1980</td>\n",
       "    </tr>\n",
       "    <tr>\n",
       "      <th>2024-03-01</th>\n",
       "      <td>15450</td>\n",
       "      <td>15050</td>\n",
       "      <td>15550</td>\n",
       "      <td>14900</td>\n",
       "    </tr>\n",
       "    <tr>\n",
       "      <th>2024-04-01</th>\n",
       "      <td>3200</td>\n",
       "      <td>3550</td>\n",
       "      <td>3000</td>\n",
       "      <td>2990</td>\n",
       "    </tr>\n",
       "  </tbody>\n",
       "</table>\n",
       "</div>"
      ],
      "text/plain": [
       "             Open   High    Low  Close\n",
       "2024-01-01   2000   3050   2050   1980\n",
       "2024-02-01   7500   2050   2050   1980\n",
       "2024-03-01  15450  15050  15550  14900\n",
       "2024-04-01   3200   3550   3000   2990"
      ]
     },
     "execution_count": 20,
     "metadata": {},
     "output_type": "execute_result"
    }
   ],
   "source": [
    "# 06) 2024-04-01의 3200, 3550, 3000, 2990 데이터를 추가해 주세요.\n",
    "d_DF.loc['2024-04-01']= [3200, 3550, 3000, 2990]\n",
    "d_DF"
   ]
  },
  {
   "cell_type": "code",
   "execution_count": 21,
   "metadata": {},
   "outputs": [
    {
     "data": {
      "text/html": [
       "<div>\n",
       "<style scoped>\n",
       "    .dataframe tbody tr th:only-of-type {\n",
       "        vertical-align: middle;\n",
       "    }\n",
       "\n",
       "    .dataframe tbody tr th {\n",
       "        vertical-align: top;\n",
       "    }\n",
       "\n",
       "    .dataframe thead th {\n",
       "        text-align: right;\n",
       "    }\n",
       "</style>\n",
       "<table border=\"1\" class=\"dataframe\">\n",
       "  <thead>\n",
       "    <tr style=\"text-align: right;\">\n",
       "      <th></th>\n",
       "      <th>Open</th>\n",
       "      <th>High</th>\n",
       "      <th>Low</th>\n",
       "      <th>Close</th>\n",
       "    </tr>\n",
       "  </thead>\n",
       "  <tbody>\n",
       "    <tr>\n",
       "      <th>2024-02-01</th>\n",
       "      <td>7500</td>\n",
       "      <td>2050</td>\n",
       "      <td>2050</td>\n",
       "      <td>1980</td>\n",
       "    </tr>\n",
       "    <tr>\n",
       "      <th>2024-03-01</th>\n",
       "      <td>15450</td>\n",
       "      <td>15050</td>\n",
       "      <td>15550</td>\n",
       "      <td>14900</td>\n",
       "    </tr>\n",
       "    <tr>\n",
       "      <th>2024-04-01</th>\n",
       "      <td>3200</td>\n",
       "      <td>3550</td>\n",
       "      <td>3000</td>\n",
       "      <td>2990</td>\n",
       "    </tr>\n",
       "  </tbody>\n",
       "</table>\n",
       "</div>"
      ],
      "text/plain": [
       "             Open   High    Low  Close\n",
       "2024-02-01   7500   2050   2050   1980\n",
       "2024-03-01  15450  15050  15550  14900\n",
       "2024-04-01   3200   3550   3000   2990"
      ]
     },
     "execution_count": 21,
     "metadata": {},
     "output_type": "execute_result"
    }
   ],
   "source": [
    "# 07) 2024-01-01 데이터를 삭제해 주세요.\n",
    "d_DF.drop(index='2024-01-01',inplace=True)\n",
    "d_DF"
   ]
  },
  {
   "cell_type": "code",
   "execution_count": 22,
   "metadata": {},
   "outputs": [
    {
     "data": {
      "text/html": [
       "<div>\n",
       "<style scoped>\n",
       "    .dataframe tbody tr th:only-of-type {\n",
       "        vertical-align: middle;\n",
       "    }\n",
       "\n",
       "    .dataframe tbody tr th {\n",
       "        vertical-align: top;\n",
       "    }\n",
       "\n",
       "    .dataframe thead th {\n",
       "        text-align: right;\n",
       "    }\n",
       "</style>\n",
       "<table border=\"1\" class=\"dataframe\">\n",
       "  <thead>\n",
       "    <tr style=\"text-align: right;\">\n",
       "      <th></th>\n",
       "      <th>Open</th>\n",
       "      <th>High</th>\n",
       "      <th>Low</th>\n",
       "      <th>Close</th>\n",
       "    </tr>\n",
       "  </thead>\n",
       "  <tbody>\n",
       "    <tr>\n",
       "      <th>2024-02-01</th>\n",
       "      <td>7500</td>\n",
       "      <td>2050</td>\n",
       "      <td>2050</td>\n",
       "      <td>1980</td>\n",
       "    </tr>\n",
       "    <tr>\n",
       "      <th>2024-03-01</th>\n",
       "      <td>15450</td>\n",
       "      <td>15050</td>\n",
       "      <td>14000</td>\n",
       "      <td>14900</td>\n",
       "    </tr>\n",
       "    <tr>\n",
       "      <th>2024-04-01</th>\n",
       "      <td>3200</td>\n",
       "      <td>3550</td>\n",
       "      <td>3000</td>\n",
       "      <td>2990</td>\n",
       "    </tr>\n",
       "  </tbody>\n",
       "</table>\n",
       "</div>"
      ],
      "text/plain": [
       "             Open   High    Low  Close\n",
       "2024-02-01   7500   2050   2050   1980\n",
       "2024-03-01  15450  15050  14000  14900\n",
       "2024-04-01   3200   3550   3000   2990"
      ]
     },
     "execution_count": 22,
     "metadata": {},
     "output_type": "execute_result"
    }
   ],
   "source": [
    "# 08) 2024-03-01의 Low값을 14000으로 변경해 주세요\n",
    "d_DF.iloc[1,2] = 14000\n",
    "d_DF"
   ]
  },
  {
   "cell_type": "code",
   "execution_count": 23,
   "metadata": {},
   "outputs": [
    {
     "data": {
      "text/html": [
       "<div>\n",
       "<style scoped>\n",
       "    .dataframe tbody tr th:only-of-type {\n",
       "        vertical-align: middle;\n",
       "    }\n",
       "\n",
       "    .dataframe tbody tr th {\n",
       "        vertical-align: top;\n",
       "    }\n",
       "\n",
       "    .dataframe thead th {\n",
       "        text-align: right;\n",
       "    }\n",
       "</style>\n",
       "<table border=\"1\" class=\"dataframe\">\n",
       "  <thead>\n",
       "    <tr style=\"text-align: right;\">\n",
       "      <th></th>\n",
       "      <th>Open</th>\n",
       "      <th>High</th>\n",
       "      <th>Low</th>\n",
       "      <th>Close</th>\n",
       "      <th>Average</th>\n",
       "    </tr>\n",
       "  </thead>\n",
       "  <tbody>\n",
       "    <tr>\n",
       "      <th>2024-02-01</th>\n",
       "      <td>7500</td>\n",
       "      <td>2050</td>\n",
       "      <td>2050</td>\n",
       "      <td>1980</td>\n",
       "      <td>0</td>\n",
       "    </tr>\n",
       "    <tr>\n",
       "      <th>2024-03-01</th>\n",
       "      <td>15450</td>\n",
       "      <td>15050</td>\n",
       "      <td>14000</td>\n",
       "      <td>14900</td>\n",
       "      <td>0</td>\n",
       "    </tr>\n",
       "    <tr>\n",
       "      <th>2024-04-01</th>\n",
       "      <td>3200</td>\n",
       "      <td>3550</td>\n",
       "      <td>3000</td>\n",
       "      <td>2990</td>\n",
       "      <td>0</td>\n",
       "    </tr>\n",
       "  </tbody>\n",
       "</table>\n",
       "</div>"
      ],
      "text/plain": [
       "             Open   High    Low  Close  Average\n",
       "2024-02-01   7500   2050   2050   1980        0\n",
       "2024-03-01  15450  15050  14000  14900        0\n",
       "2024-04-01   3200   3550   3000   2990        0"
      ]
     },
     "execution_count": 23,
     "metadata": {},
     "output_type": "execute_result"
    }
   ],
   "source": [
    "# 09) Average 컬럼을 추가 후 0으로 값을 채워 주세요.\n",
    "d_DF['Average'] = 0\n",
    "d_DF"
   ]
  },
  {
   "cell_type": "code",
   "execution_count": 24,
   "metadata": {},
   "outputs": [
    {
     "data": {
      "text/html": [
       "<div>\n",
       "<style scoped>\n",
       "    .dataframe tbody tr th:only-of-type {\n",
       "        vertical-align: middle;\n",
       "    }\n",
       "\n",
       "    .dataframe tbody tr th {\n",
       "        vertical-align: top;\n",
       "    }\n",
       "\n",
       "    .dataframe thead th {\n",
       "        text-align: right;\n",
       "    }\n",
       "</style>\n",
       "<table border=\"1\" class=\"dataframe\">\n",
       "  <thead>\n",
       "    <tr style=\"text-align: right;\">\n",
       "      <th></th>\n",
       "      <th>Open</th>\n",
       "      <th>High</th>\n",
       "      <th>Low</th>\n",
       "      <th>Close</th>\n",
       "      <th>Average</th>\n",
       "    </tr>\n",
       "  </thead>\n",
       "  <tbody>\n",
       "    <tr>\n",
       "      <th>2024-02-01</th>\n",
       "      <td>7500</td>\n",
       "      <td>2050</td>\n",
       "      <td>2050</td>\n",
       "      <td>1980</td>\n",
       "      <td>0</td>\n",
       "    </tr>\n",
       "    <tr>\n",
       "      <th>2024-03-01</th>\n",
       "      <td>15450</td>\n",
       "      <td>15050</td>\n",
       "      <td>14000</td>\n",
       "      <td>14900</td>\n",
       "      <td>0</td>\n",
       "    </tr>\n",
       "    <tr>\n",
       "      <th>2024-04-01</th>\n",
       "      <td>3200</td>\n",
       "      <td>3550</td>\n",
       "      <td>3000</td>\n",
       "      <td>2990</td>\n",
       "      <td>0</td>\n",
       "    </tr>\n",
       "    <tr>\n",
       "      <th>Total</th>\n",
       "      <td>0</td>\n",
       "      <td>0</td>\n",
       "      <td>0</td>\n",
       "      <td>0</td>\n",
       "      <td>0</td>\n",
       "    </tr>\n",
       "  </tbody>\n",
       "</table>\n",
       "</div>"
      ],
      "text/plain": [
       "             Open   High    Low  Close  Average\n",
       "2024-02-01   7500   2050   2050   1980        0\n",
       "2024-03-01  15450  15050  14000  14900        0\n",
       "2024-04-01   3200   3550   3000   2990        0\n",
       "Total           0      0      0      0        0"
      ]
     },
     "execution_count": 24,
     "metadata": {},
     "output_type": "execute_result"
    }
   ],
   "source": [
    "# 10) Total행을 추가 후 0으로 값을 채워 주세요.\n",
    "d_DF.loc['Total'] = 0\n",
    "d_DF"
   ]
  },
  {
   "cell_type": "markdown",
   "metadata": {},
   "source": [
    "3. 아래 단답형 문제에 답해주세요."
   ]
  },
  {
   "cell_type": "code",
   "execution_count": 25,
   "metadata": {},
   "outputs": [
    {
     "data": {
      "text/plain": [
       "' \\n(3-01) 판다스는 ( )를 분석하기 위한 패키지입니다.           \\n데이터\\n\\n(3-02) 판다스에서는 다양한 종류의 데이터를 ( )형태로 저장합니다. \\n데이터프레임\\n\\n(3-03) 판다스에서는 1차원 데이터를 저장하는 자료구조를 ( )라고 합니다. \\n시리즈 Series\\n\\n(3-04) 판다스에서는 2차원 데이터를 저장하는 자료구조를 ( )라고 합니다. \\n데이터프레임 DataFrame\\n\\n(3-05) 판다스는 내부적으로 데이터를 ( )형태로 저장합니다. \\n행렬,표  ===> Array\\n\\n(3-06) 판다스에서는 1개 열/column 추출 시 자료구조는 ( )입니다. \\n시리즈\\n\\n(3-07) 판다스에서는 1개 행/row 추출 시 자료구조는 ( )입니다. \\n시리즈\\n\\n(3-08) 판다스에서는 2개 이상 열/column 또는 행/row 추출 시 자료구조는 ( )입니다.\\n데이터프레임\\n'"
      ]
     },
     "execution_count": 25,
     "metadata": {},
     "output_type": "execute_result"
    }
   ],
   "source": [
    "''' \n",
    "(3-01) 판다스는 ( )를 분석하기 위한 패키지입니다.           \n",
    "데이터\n",
    "\n",
    "(3-02) 판다스에서는 다양한 종류의 데이터를 ( )형태로 저장합니다. \n",
    "데이터프레임\n",
    "\n",
    "(3-03) 판다스에서는 1차원 데이터를 저장하는 자료구조를 ( )라고 합니다. \n",
    "시리즈 Series\n",
    "\n",
    "(3-04) 판다스에서는 2차원 데이터를 저장하는 자료구조를 ( )라고 합니다. \n",
    "데이터프레임 DataFrame\n",
    "\n",
    "(3-05) 판다스는 내부적으로 데이터를 ( )형태로 저장합니다. \n",
    "행렬,표  ===> Array\n",
    "\n",
    "(3-06) 판다스에서는 1개 열/column 추출 시 자료구조는 ( )입니다. \n",
    "시리즈\n",
    "\n",
    "(3-07) 판다스에서는 1개 행/row 추출 시 자료구조는 ( )입니다. \n",
    "시리즈\n",
    "\n",
    "(3-08) 판다스에서는 2개 이상 열/column 또는 행/row 추출 시 자료구조는 ( )입니다.\n",
    "데이터프레임\n",
    "'''"
   ]
  }
 ],
 "metadata": {
  "kernelspec": {
   "display_name": "PY39",
   "language": "python",
   "name": "python3"
  },
  "language_info": {
   "codemirror_mode": {
    "name": "ipython",
    "version": 3
   },
   "file_extension": ".py",
   "mimetype": "text/x-python",
   "name": "python",
   "nbconvert_exporter": "python",
   "pygments_lexer": "ipython3",
   "version": "3.9.19"
  }
 },
 "nbformat": 4,
 "nbformat_minor": 2
}
