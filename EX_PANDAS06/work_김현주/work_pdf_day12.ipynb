{
 "cells": [
  {
   "cell_type": "markdown",
   "metadata": {},
   "source": [
    "## 시리즈 (Series)"
   ]
  },
  {
   "cell_type": "markdown",
   "metadata": {},
   "source": [
    "- 딕셔너리 -> 시리즈"
   ]
  },
  {
   "cell_type": "code",
   "execution_count": 1,
   "metadata": {},
   "outputs": [],
   "source": [
    "import pandas as pd"
   ]
  },
  {
   "cell_type": "code",
   "execution_count": 2,
   "metadata": {},
   "outputs": [],
   "source": [
    "dict_data = {'a':1, 'b':2, 'c':3}"
   ]
  },
  {
   "cell_type": "code",
   "execution_count": 3,
   "metadata": {},
   "outputs": [],
   "source": [
    "sr = pd.Series(dict_data)"
   ]
  },
  {
   "cell_type": "code",
   "execution_count": 4,
   "metadata": {},
   "outputs": [
    {
     "name": "stdout",
     "output_type": "stream",
     "text": [
      "type : <class 'pandas.core.series.Series'>\n",
      "\n",
      "\n",
      "sr:\n",
      "a    1\n",
      "b    2\n",
      "c    3\n",
      "dtype: int64\n"
     ]
    }
   ],
   "source": [
    "print(f'type : {type(sr)}')\n",
    "print('\\n')\n",
    "print(f'sr:\\n{sr}')"
   ]
  },
  {
   "cell_type": "markdown",
   "metadata": {},
   "source": [
    "- 리스트 -> 시리즈"
   ]
  },
  {
   "cell_type": "code",
   "execution_count": 5,
   "metadata": {},
   "outputs": [],
   "source": [
    "list_data = ['2019-01-02',3.14,'ABC',100,True]"
   ]
  },
  {
   "cell_type": "code",
   "execution_count": 6,
   "metadata": {},
   "outputs": [],
   "source": [
    "sr = pd.Series(list_data)"
   ]
  },
  {
   "cell_type": "code",
   "execution_count": 7,
   "metadata": {},
   "outputs": [
    {
     "name": "stdout",
     "output_type": "stream",
     "text": [
      "sr:\n",
      "0    2019-01-02\n",
      "1          3.14\n",
      "2           ABC\n",
      "3           100\n",
      "4          True\n",
      "dtype: object\n",
      "\n",
      "\n"
     ]
    }
   ],
   "source": [
    "print(f'sr:\\n{sr}')\n",
    "print('\\n')\n",
    "idx=sr.index\n",
    "val = sr.values"
   ]
  },
  {
   "cell_type": "markdown",
   "metadata": {},
   "source": [
    "- 튜플 -> 시리즈"
   ]
  },
  {
   "cell_type": "code",
   "execution_count": 8,
   "metadata": {},
   "outputs": [
    {
     "name": "stdout",
     "output_type": "stream",
     "text": [
      "이름              영인\n",
      "생년월일    2010-05-01\n",
      "성별               여\n",
      "학생여부          True\n",
      "dtype: object\n"
     ]
    }
   ],
   "source": [
    "tup_data = ('영인','2010-05-01','여',True)\n",
    "sr = pd.Series(tup_data,index=['이름','생년월일','성별','학생여부'])\n",
    "print(sr)"
   ]
  },
  {
   "cell_type": "code",
   "execution_count": 9,
   "metadata": {},
   "outputs": [
    {
     "name": "stdout",
     "output_type": "stream",
     "text": [
      "영인\n",
      "영인\n"
     ]
    }
   ],
   "source": [
    "print(sr.iloc[0])\n",
    "print(sr['이름'])\n"
   ]
  },
  {
   "cell_type": "code",
   "execution_count": 10,
   "metadata": {},
   "outputs": [
    {
     "name": "stdout",
     "output_type": "stream",
     "text": [
      "생년월일    2010-05-01\n",
      "성별               여\n",
      "dtype: object\n",
      "\n",
      "\n",
      "생년월일    2010-05-01\n",
      "성별               여\n",
      "dtype: object\n"
     ]
    }
   ],
   "source": [
    "# 여러개의 원소를 선택 (인덱스 리스트 활용)\n",
    "print(sr.iloc[[1,2]])\n",
    "print('\\n')\n",
    "print(sr[['생년월일','성별']])\n"
   ]
  },
  {
   "cell_type": "code",
   "execution_count": 11,
   "metadata": {},
   "outputs": [
    {
     "name": "stdout",
     "output_type": "stream",
     "text": [
      "생년월일    2010-05-01\n",
      "dtype: object\n",
      "\n",
      "\n",
      "생년월일    2010-05-01\n",
      "성별               여\n",
      "dtype: object\n"
     ]
    }
   ],
   "source": [
    "# 여러개의 원소를 선택 (인덱스 범위 지정)\n",
    "print(sr.iloc[1:2])             # 시작인덱스 : 끝인덱스 (끝인덱스는 미포함)\n",
    "print('\\n')\n",
    "print(sr['생년월일':'성별'])     # 시작인덱스명 : 끝인덱스명 (모두 포함)"
   ]
  },
  {
   "cell_type": "markdown",
   "metadata": {},
   "source": [
    "## 데이터 프레임 (DataFrame)"
   ]
  },
  {
   "cell_type": "markdown",
   "metadata": {},
   "source": [
    "- 딕셔너리 -> 데이터프레임"
   ]
  },
  {
   "cell_type": "code",
   "execution_count": 12,
   "metadata": {},
   "outputs": [],
   "source": [
    "# 열이름을 key, 리스트를 value로 갖는 딕셔너리 정의 (2차원 배열)\n",
    "dict_data = {'c0':[1,2,3], 'c1':[4,5,6], 'c2':[7,8,9], 'c3':[10,11,12], 'c4':[13,14,15]}"
   ]
  },
  {
   "cell_type": "code",
   "execution_count": 13,
   "metadata": {},
   "outputs": [
    {
     "name": "stdout",
     "output_type": "stream",
     "text": [
      "<class 'pandas.core.frame.DataFrame'>\n",
      "\n",
      "\n",
      "   c0  c1  c2  c3  c4\n",
      "0   1   4   7  10  13\n",
      "1   2   5   8  11  14\n",
      "2   3   6   9  12  15\n"
     ]
    }
   ],
   "source": [
    "# 판다스 DataFrame() 함수로 딕셔너리를 데이터 프레임으로 변환\n",
    "df = pd.DataFrame(dict_data)\n",
    "print(type(df))\n",
    "print('\\n')\n",
    "print(df)"
   ]
  },
  {
   "cell_type": "markdown",
   "metadata": {},
   "source": [
    "- 행 인덱스, 열이름 설정"
   ]
  },
  {
   "cell_type": "code",
   "execution_count": 14,
   "metadata": {},
   "outputs": [
    {
     "name": "stdout",
     "output_type": "stream",
     "text": [
      "df =======================\n",
      "     나이 성별   학교\n",
      "준서  15  남  덕영중\n",
      "예은  17  여  수리중\n"
     ]
    }
   ],
   "source": [
    "# 행 인덱스/열 이름 지정하여 데이터프레임 만들기\n",
    "df = pd.DataFrame([[15,'남','덕영중'],[17,'여','수리중']],index=['준서','예은'],columns=['나이','성별','학교'])\n",
    "print(\"df =======================\\n\", df)"
   ]
  },
  {
   "cell_type": "code",
   "execution_count": 15,
   "metadata": {},
   "outputs": [
    {
     "name": "stdout",
     "output_type": "stream",
     "text": [
      "df.index => Index(['준서', '예은'], dtype='object')\n",
      "df.columns => Index(['나이', '성별', '학교'], dtype='object')\n"
     ]
    }
   ],
   "source": [
    "# 데이터 프레임\n",
    "print(\"df.index =>\",df.index)\n",
    "print(\"df.columns =>\",df.columns)"
   ]
  },
  {
   "cell_type": "markdown",
   "metadata": {},
   "source": [
    "- 행 인덱스, 열 이름 변경"
   ]
  },
  {
   "cell_type": "code",
   "execution_count": 16,
   "metadata": {},
   "outputs": [
    {
     "name": "stdout",
     "output_type": "stream",
     "text": [
      "     연령 남녀   소속\n",
      "학생1  15  남  덕영중\n",
      "학생2  17  여  수리중\n",
      "\n",
      "\n",
      "Index(['학생1', '학생2'], dtype='object')\n",
      "\n",
      "\n",
      "Index(['연령', '남녀', '소속'], dtype='object')\n"
     ]
    }
   ],
   "source": [
    "df.index=['학생1','학생2']\n",
    "df.columns=['연령','남녀','소속']\n",
    "\n",
    "print(df)               # 데이터프레임\n",
    "print('\\n')\n",
    "print(df.index)         # 행 인덱스\n",
    "print('\\n')\n",
    "print(df.columns)       # 열 이름"
   ]
  },
  {
   "cell_type": "markdown",
   "metadata": {},
   "source": [
    "- 행 인덱스, 열 이름 변경"
   ]
  },
  {
   "cell_type": "code",
   "execution_count": 17,
   "metadata": {},
   "outputs": [
    {
     "name": "stdout",
     "output_type": "stream",
     "text": [
      "df2 =======================\n",
      "     연령 남녀   소속\n",
      "학생1  15  남  덕영중\n",
      "학생2  17  여  수리중\n",
      "df3 =======================\n",
      "     연령 남녀   소속\n",
      "학생1  15  남  덕영중\n",
      "학생2  17  여  수리중\n"
     ]
    }
   ],
   "source": [
    "# 열 이름 중 '나이'를 '연령', '성별'을 '남녀', '학교'를 '소속'으로\n",
    "df2 = df.rename(columns={'나이':'연령', '성별':'남녀', '학교':'소속'})\n",
    "print(f\"df2 =======================\\n{df2}\")\n",
    "# df의 행 인덱스 중에서 '준서'를 '학생1', '예은'을 '학생2'로 바꾸기\n",
    "df3 = df.rename(index={'준서':'학생1', '예은':'학생2'})\n",
    "# df 출력 (변경 후)\n",
    "print(f\"df3 =======================\\n{df3}\")\n"
   ]
  },
  {
   "cell_type": "markdown",
   "metadata": {},
   "source": [
    "- 행 삭제"
   ]
  },
  {
   "cell_type": "code",
   "execution_count": 18,
   "metadata": {},
   "outputs": [
    {
     "name": "stdout",
     "output_type": "stream",
     "text": [
      "    수학  영어   음악   체육\n",
      "서준  90  98   85  100\n",
      "우현  80  89   95   90\n",
      "인아  70  95  100   90\n"
     ]
    }
   ],
   "source": [
    "# DataFrame() 함수로 데이터프레임 변환, 변수 df에 저장\n",
    "exam_data = {'수학':[90,80,70],'영어':[98,89,95],'음악':[85,95,100],'체육':[100,90,90]}\n",
    "df = pd.DataFrame(exam_data,index=['서준','우현','인아'])\n",
    "print(df)\n",
    "\n"
   ]
  },
  {
   "cell_type": "code",
   "execution_count": 19,
   "metadata": {},
   "outputs": [
    {
     "name": "stdout",
     "output_type": "stream",
     "text": [
      "    수학  영어   음악   체육\n",
      "서준  90  98   85  100\n",
      "인아  70  95  100   90\n",
      "\n",
      "\n",
      "    수학  영어  음악   체육\n",
      "서준  90  98  85  100\n"
     ]
    },
    {
     "name": "stderr",
     "output_type": "stream",
     "text": [
      "C:\\Users\\kdp\\AppData\\Local\\Temp\\ipykernel_13448\\2402707384.py:3: SettingWithCopyWarning: \n",
      "A value is trying to be set on a copy of a slice from a DataFrame\n",
      "\n",
      "See the caveats in the documentation: https://pandas.pydata.org/pandas-docs/stable/user_guide/indexing.html#returning-a-view-versus-a-copy\n",
      "  df2.drop('우현',inplace=True)\n",
      "C:\\Users\\kdp\\AppData\\Local\\Temp\\ipykernel_13448\\2402707384.py:8: SettingWithCopyWarning: \n",
      "A value is trying to be set on a copy of a slice from a DataFrame\n",
      "\n",
      "See the caveats in the documentation: https://pandas.pydata.org/pandas-docs/stable/user_guide/indexing.html#returning-a-view-versus-a-copy\n",
      "  df3.drop(['우현','인아'],axis=0,inplace=True)\n"
     ]
    }
   ],
   "source": [
    "# 데이터프레임 df를 복제하여 변수 df2에 저장, df2의 1개 행을 삭제\n",
    "df2 = df[:]\n",
    "df2.drop('우현',inplace=True)\n",
    "print(df2)\n",
    "print('\\n')\n",
    "# 데이터프레임 df를 복제하여 변수 df3에 저장, df3의 2개 행을 삭제\n",
    "df3 = df[:]\n",
    "df3.drop(['우현','인아'],axis=0,inplace=True)\n",
    "print(df3)"
   ]
  },
  {
   "cell_type": "markdown",
   "metadata": {},
   "source": [
    "- 열 삭제"
   ]
  },
  {
   "cell_type": "code",
   "execution_count": 20,
   "metadata": {},
   "outputs": [
    {
     "name": "stdout",
     "output_type": "stream",
     "text": [
      "    수학  영어   음악   체육\n",
      "서준  90  98   85  100\n",
      "우현  80  89   95   90\n",
      "인아  70  95  100   90\n"
     ]
    }
   ],
   "source": [
    "# DataFrame() 함수로 데이터프레임 변환, 변수 df에 저장\n",
    "exam_data = {'수학':[90,80,70],'영어':[98,89,95],'음악':[85,95,100],'체육':[100,90,90]}\n",
    "df = pd.DataFrame(exam_data,index=['서준','우현','인아'])\n",
    "print(df)"
   ]
  },
  {
   "cell_type": "code",
   "execution_count": 21,
   "metadata": {},
   "outputs": [
    {
     "name": "stdout",
     "output_type": "stream",
     "text": [
      "    영어   음악   체육\n",
      "서준  98   85  100\n",
      "우현  89   95   90\n",
      "인아  95  100   90\n",
      "\n",
      "\n",
      "    수학   체육\n",
      "서준  90  100\n",
      "우현  80   90\n",
      "인아  70   90\n"
     ]
    },
    {
     "name": "stderr",
     "output_type": "stream",
     "text": [
      "C:\\Users\\kdp\\AppData\\Local\\Temp\\ipykernel_13448\\2257319218.py:3: SettingWithCopyWarning: \n",
      "A value is trying to be set on a copy of a slice from a DataFrame\n",
      "\n",
      "See the caveats in the documentation: https://pandas.pydata.org/pandas-docs/stable/user_guide/indexing.html#returning-a-view-versus-a-copy\n",
      "  df4.drop('수학',axis=1,inplace=True)\n",
      "C:\\Users\\kdp\\AppData\\Local\\Temp\\ipykernel_13448\\2257319218.py:8: SettingWithCopyWarning: \n",
      "A value is trying to be set on a copy of a slice from a DataFrame\n",
      "\n",
      "See the caveats in the documentation: https://pandas.pydata.org/pandas-docs/stable/user_guide/indexing.html#returning-a-view-versus-a-copy\n",
      "  df5.drop(['영어','음악'],axis=1,inplace=True)\n"
     ]
    }
   ],
   "source": [
    "# 데이터프레임 df를 복제하여 변수 df4에 저장, df4의 1개 열을 삭제\n",
    "df4 = df[:]\n",
    "df4.drop('수학',axis=1,inplace=True)\n",
    "print(df4)\n",
    "print('\\n')\n",
    "# 데이터프레임 df를 복제하여 변수 df5에 저장, df5의 2개 열을 삭제\n",
    "df5 = df[:]\n",
    "df5.drop(['영어','음악'],axis=1,inplace=True)\n",
    "print(df5)"
   ]
  },
  {
   "cell_type": "markdown",
   "metadata": {},
   "source": [
    "- 행 선택"
   ]
  },
  {
   "cell_type": "code",
   "execution_count": 22,
   "metadata": {},
   "outputs": [
    {
     "name": "stdout",
     "output_type": "stream",
     "text": [
      "    수학  영어   음악   체육\n",
      "서준  90  98   85  100\n",
      "우현  80  89   95   90\n",
      "인아  70  95  100   90\n"
     ]
    }
   ],
   "source": [
    "# DataFrame() 함수로 데이터프레임 변환, 변수 df에 저장\n",
    "exam_data = {'수학':[90,80,70],'영어':[98,89,95],'음악':[85,95,100],'체육':[100,90,90]}\n",
    "df = pd.DataFrame(exam_data,index=['서준','우현','인아'])\n",
    "print(df)"
   ]
  },
  {
   "cell_type": "code",
   "execution_count": 23,
   "metadata": {},
   "outputs": [
    {
     "name": "stdout",
     "output_type": "stream",
     "text": [
      "label1=>\n",
      " 수학     90\n",
      "영어     98\n",
      "음악     85\n",
      "체육    100\n",
      "Name: 서준, dtype: int64\n",
      "\n",
      "\n",
      "position1=>\n",
      " 수학     90\n",
      "영어     98\n",
      "음악     85\n",
      "체육    100\n",
      "Name: 서준, dtype: int64\n"
     ]
    }
   ],
   "source": [
    "# 행 인덱스를 사용하여 행 1개를 선택\n",
    "label1 = df.loc['서준']             # loc 인덱서 이름 활용\n",
    "position1 = df.iloc[0]              # iloc 인덱서 활용\n",
    "print('label1=>\\n',label1)\n",
    "print('\\n')\n",
    "print('position1=>\\n',position1)"
   ]
  },
  {
   "cell_type": "code",
   "execution_count": 24,
   "metadata": {},
   "outputs": [
    {
     "name": "stdout",
     "output_type": "stream",
     "text": [
      "    수학  영어  음악   체육\n",
      "서준  90  98  85  100\n",
      "우현  80  89  95   90\n",
      "\n",
      "\n",
      "    수학  영어  음악   체육\n",
      "서준  90  98  85  100\n",
      "우현  80  89  95   90\n",
      "\n",
      "\n"
     ]
    }
   ],
   "source": [
    "# 행 인덱스를 사용하여 2개 이상의 행 선택\n",
    "label2 = df.loc[['서준','우현']]\n",
    "position2 = df.iloc[[0,1]]\n",
    "print(label2)\n",
    "print('\\n')\n",
    "print(position2)\n",
    "print('\\n')"
   ]
  },
  {
   "cell_type": "code",
   "execution_count": 25,
   "metadata": {},
   "outputs": [
    {
     "name": "stdout",
     "output_type": "stream",
     "text": [
      "    수학  영어  음악   체육\n",
      "서준  90  98  85  100\n",
      "우현  80  89  95   90\n",
      "\n",
      "\n",
      "    수학  영어  음악   체육\n",
      "서준  90  98  85  100\n"
     ]
    }
   ],
   "source": [
    "# 행 인덱스의 범위를 지정하여 행 선택\n",
    "label3 = df.loc['서준':'우현']\n",
    "position3 = df.iloc[0:1]\n",
    "print(label3)\n",
    "print('\\n')\n",
    "print(position3)"
   ]
  },
  {
   "cell_type": "markdown",
   "metadata": {},
   "source": [
    "- 열 선택"
   ]
  },
  {
   "cell_type": "code",
   "execution_count": 26,
   "metadata": {},
   "outputs": [
    {
     "name": "stdout",
     "output_type": "stream",
     "text": [
      "   이름  수학  영어   음악   체육\n",
      "0  서준  90  98   85  100\n",
      "1  우현  80  89   95   90\n",
      "2  인아  70  95  100   90\n",
      "type: <class 'pandas.core.frame.DataFrame'>\n"
     ]
    }
   ],
   "source": [
    "exam_data = {'이름' : [ '서준', '우현', '인아'],\n",
    "'수학' : [ 90, 80, 70],\n",
    "'영어' : [ 98, 89, 95],\n",
    "'음악' : [ 85, 95, 100],\n",
    "'체육' : [ 100, 90, 90]}\n",
    "df = pd.DataFrame(exam_data)\n",
    "print(df)\n",
    "print(\"type:\",type(df))"
   ]
  },
  {
   "cell_type": "code",
   "execution_count": 27,
   "metadata": {},
   "outputs": [
    {
     "name": "stdout",
     "output_type": "stream",
     "text": [
      "0    90\n",
      "1    80\n",
      "2    70\n",
      "Name: 수학, dtype: int64\n",
      "\n",
      "\n",
      "type : <class 'pandas.core.series.Series'>\n"
     ]
    }
   ],
   "source": [
    "# '수학' 점수 데이터만 선택, 변수 math1에 저장\n",
    "math1 = df['수학']\n",
    "print(math1)\n",
    "print('\\n')\n",
    "print('type :',type(math1))"
   ]
  },
  {
   "cell_type": "code",
   "execution_count": 28,
   "metadata": {},
   "outputs": [
    {
     "name": "stdout",
     "output_type": "stream",
     "text": [
      "0    98\n",
      "1    89\n",
      "2    95\n",
      "Name: 영어, dtype: int64\n",
      "\n",
      "\n",
      "type : <class 'pandas.core.series.Series'>\n"
     ]
    }
   ],
   "source": [
    "# '영어'점수 데이터만 선택, 변수 english에 저장\n",
    "english = df.영어\n",
    "print(english)\n",
    "print('\\n')\n",
    "print('type :',type(english))"
   ]
  },
  {
   "cell_type": "code",
   "execution_count": 29,
   "metadata": {},
   "outputs": [
    {
     "name": "stdout",
     "output_type": "stream",
     "text": [
      "    음악   체육\n",
      "0   85  100\n",
      "1   95   90\n",
      "2  100   90\n",
      "\n",
      "\n",
      "type : <class 'pandas.core.frame.DataFrame'>\n"
     ]
    }
   ],
   "source": [
    "# '음악','체육' 점수 데이터를 선택, 변수 music_gym에 저장\n",
    "music_gym = df[['음악','체육']]\n",
    "print(music_gym)\n",
    "print('\\n')\n",
    "print('type :',type(music_gym))"
   ]
  },
  {
   "cell_type": "code",
   "execution_count": 30,
   "metadata": {},
   "outputs": [
    {
     "name": "stdout",
     "output_type": "stream",
     "text": [
      "   수학\n",
      "0  90\n",
      "1  80\n",
      "2  70\n",
      "\n",
      "\n",
      "type : <class 'pandas.core.frame.DataFrame'>\n"
     ]
    }
   ],
   "source": [
    "# '수학' 점수 데이터만 선택, 변수 math2에 저장  \n",
    "# ===> df[] 안에 하나일지라도 [리스트형식]으로 데이터를 넣으면 데이터프레임 타입으로 출력됨\n",
    "math2 = df[['수학']]\n",
    "print(math2)\n",
    "print('\\n')\n",
    "print('type :',type(math2))"
   ]
  },
  {
   "cell_type": "markdown",
   "metadata": {},
   "source": [
    "- 원소 선택"
   ]
  },
  {
   "cell_type": "code",
   "execution_count": 31,
   "metadata": {},
   "outputs": [],
   "source": [
    "exam_data = {'이름' : [ '서준', '우현', '인아'],\n",
    "'수학' : [ 90, 80, 70],\n",
    "'영어' : [ 98, 89, 95],\n",
    "'음악' : [ 85, 95, 100],\n",
    "'체육' : [ 100, 90, 90]}\n",
    "df = pd.DataFrame(exam_data)"
   ]
  },
  {
   "cell_type": "code",
   "execution_count": 32,
   "metadata": {},
   "outputs": [
    {
     "name": "stdout",
     "output_type": "stream",
     "text": [
      "    수학  영어   음악   체육\n",
      "이름                  \n",
      "서준  90  98   85  100\n",
      "우현  80  89   95   90\n",
      "인아  70  95  100   90\n"
     ]
    }
   ],
   "source": [
    "# '이름' 열을 새로운 인덱스로 지정하고, df 객체에 변경사항 반영\n",
    "df.set_index('이름',inplace=True)\n",
    "print(df)"
   ]
  },
  {
   "cell_type": "code",
   "execution_count": 33,
   "metadata": {},
   "outputs": [
    {
     "name": "stdout",
     "output_type": "stream",
     "text": [
      "85\n",
      "85\n"
     ]
    }
   ],
   "source": [
    "# 데이터프레임 df의 특정 원소 1개 선택 ('서준'의 '음악'점수)\n",
    "a = df.loc['서준','음악']\n",
    "print(a)\n",
    "b = df.iloc[0,2]\n",
    "print(b)"
   ]
  },
  {
   "cell_type": "code",
   "execution_count": 34,
   "metadata": {},
   "outputs": [
    {
     "name": "stdout",
     "output_type": "stream",
     "text": [
      "음악     85\n",
      "체육    100\n",
      "Name: 서준, dtype: int64\n",
      "음악     85\n",
      "체육    100\n",
      "Name: 서준, dtype: int64\n",
      "음악     85\n",
      "체육    100\n",
      "Name: 서준, dtype: int64\n"
     ]
    }
   ],
   "source": [
    "# 데이터프레임 df의 특정 원소 2개 이상 선택 ('서준'의 '음악','체육'점수)\n",
    "c = df.loc['서준',['음악','체육']]\n",
    "print(c)\n",
    "d = df.iloc[0,[2,3]]\n",
    "print(d)\n",
    "f = df.iloc[0,2:]\n",
    "print(f)"
   ]
  },
  {
   "cell_type": "code",
   "execution_count": 35,
   "metadata": {},
   "outputs": [
    {
     "name": "stdout",
     "output_type": "stream",
     "text": [
      "    음악   체육\n",
      "이름         \n",
      "서준  85  100\n",
      "우현  95   90\n",
      "    음악   체육\n",
      "이름         \n",
      "서준  85  100\n",
      "우현  95   90\n",
      "    음악   체육\n",
      "이름         \n",
      "서준  85  100\n",
      "우현  95   90\n"
     ]
    }
   ],
   "source": [
    "# df의 2개 이상의 행과 열로부터 원소 선택 ('서준','우현'의 '음악','체육'점수)\n",
    "g = df.loc[['서준','우현'],['음악','체육']]\n",
    "print(g)\n",
    "h = df.iloc[[0,1],[2,3]]\n",
    "print(h)\n",
    "i = df.loc['서준':'우현','음악':'체육']\n",
    "print(i)\n",
    "j = df.iloc[0:2,2:]"
   ]
  },
  {
   "cell_type": "markdown",
   "metadata": {},
   "source": [
    "- 열 추가"
   ]
  },
  {
   "cell_type": "code",
   "execution_count": 36,
   "metadata": {},
   "outputs": [
    {
     "name": "stdout",
     "output_type": "stream",
     "text": [
      "   이름  수학  영어   음악   체육\n",
      "0  서준  90  98   85  100\n",
      "1  우현  80  89   95   90\n",
      "2  인아  70  95  100   90\n",
      "\n",
      "\n",
      "   이름  수학  영어   음악   체육  국어\n",
      "0  서준  90  98   85  100  80\n",
      "1  우현  80  89   95   90  80\n",
      "2  인아  70  95  100   90  80\n"
     ]
    }
   ],
   "source": [
    "exam_data = {'이름' : [ '서준', '우현', '인아'],\n",
    "'수학' : [ 90, 80, 70],\n",
    "'영어' : [ 98, 89, 95],\n",
    "'음악' : [ 85, 95, 100],\n",
    "'체육' : [ 100, 90, 90]}\n",
    "df = pd.DataFrame(exam_data)\n",
    "print(df)\n",
    "print('\\n')\n",
    "# 데이터프레임 df에 '국어' 점수 열(column)을 추가. 데이터 값은 80 지정\n",
    "df['국어'] = 80\n",
    "print(df)"
   ]
  },
  {
   "cell_type": "markdown",
   "metadata": {},
   "source": [
    "- 행 추가"
   ]
  },
  {
   "cell_type": "code",
   "execution_count": 37,
   "metadata": {},
   "outputs": [
    {
     "name": "stdout",
     "output_type": "stream",
     "text": [
      "   이름  수학  영어   음악   체육\n",
      "0  서준  90  98   85  100\n",
      "1  우현  80  89   95   90\n",
      "2  인아  70  95  100   90\n"
     ]
    }
   ],
   "source": [
    "exam_data = {'이름' : [ '서준', '우현', '인아'],\n",
    "'수학' : [ 90, 80, 70],\n",
    "'영어' : [ 98, 89, 95],\n",
    "'음악' : [ 85, 95, 100],\n",
    "'체육' : [ 100, 90, 90]}\n",
    "df = pd.DataFrame(exam_data)\n",
    "print(df)"
   ]
  },
  {
   "cell_type": "code",
   "execution_count": 38,
   "metadata": {},
   "outputs": [
    {
     "name": "stdout",
     "output_type": "stream",
     "text": [
      "   이름  수학  영어   음악   체육\n",
      "0  서준  90  98   85  100\n",
      "1  우현  80  89   95   90\n",
      "2  인아  70  95  100   90\n",
      "3   0   0   0    0    0\n",
      "\n",
      "\n",
      "   이름  수학  영어   음악   체육\n",
      "0  서준  90  98   85  100\n",
      "1  우현  80  89   95   90\n",
      "2  인아  70  95  100   90\n",
      "3   0   0   0    0    0\n",
      "4  동규  90  80   70   60\n",
      "\n",
      "\n",
      "    이름  수학  영어   음악   체육\n",
      "0   서준  90  98   85  100\n",
      "1   우현  80  89   95   90\n",
      "2   인아  70  95  100   90\n",
      "3    0   0   0    0    0\n",
      "4   동규  90  80   70   60\n",
      "행5   0   0   0    0    0\n"
     ]
    }
   ],
   "source": [
    "# 새로운 행(row)을 추가 - 같은 원소 값을 입력\n",
    "df.loc[3] = 0\n",
    "print(df)\n",
    "print('\\n')\n",
    "# 새로운 행(row)을 추가 - 원소 값 여러 개의 배열 입력\n",
    "df.loc[4] = ['동규',90,80,70,60]\n",
    "print(df)\n",
    "print('\\n')\n",
    "# 새로운 행(row)을 추가 - 기존 행을 복사\n",
    "df.loc['행5'] = df.loc[3]\n",
    "print(df)"
   ]
  },
  {
   "cell_type": "markdown",
   "metadata": {},
   "source": [
    "- 원소 값 변경"
   ]
  },
  {
   "cell_type": "code",
   "execution_count": 39,
   "metadata": {},
   "outputs": [
    {
     "name": "stdout",
     "output_type": "stream",
     "text": [
      "    수학  영어   음악   체육\n",
      "이름                  \n",
      "서준  90  98   85  100\n",
      "우현  80  89   95   90\n",
      "인아  70  95  100   90\n"
     ]
    }
   ],
   "source": [
    "exam_data = {'이름' : [ '서준', '우현', '인아'],\n",
    "'수학' : [ 90, 80, 70],\n",
    "'영어' : [ 98, 89, 95],\n",
    "'음악' : [ 85, 95, 100],\n",
    "'체육' : [ 100, 90, 90]}\n",
    "df = pd.DataFrame(exam_data)\n",
    "# '이름' 열을 새로운 인덱스로 지정하고, df 객체에 변경사항 반영\n",
    "df.set_index('이름',inplace=True)\n",
    "print(df)"
   ]
  },
  {
   "cell_type": "code",
   "execution_count": 40,
   "metadata": {},
   "outputs": [
    {
     "name": "stdout",
     "output_type": "stream",
     "text": [
      "    수학  영어   음악  체육\n",
      "이름                 \n",
      "서준  90  98   85  80\n",
      "우현  80  89   95  90\n",
      "인아  70  95  100  90\n",
      "\n",
      "\n",
      "    수학  영어   음악   체육\n",
      "이름                  \n",
      "서준  90  98   85  100\n",
      "우현  80  89   95   90\n",
      "인아  70  95  100   90\n",
      "\n",
      "\n"
     ]
    }
   ],
   "source": [
    "# 데이터프레임 df의 특정 원소를 변경하는 방법: '서준'의 '체육' 점수\n",
    "df.iloc[0,3] = 80\n",
    "print(df)\n",
    "print('\\n')\n",
    "df.loc['서준','체육'] = 100\n",
    "print(df)\n",
    "print('\\n')"
   ]
  },
  {
   "cell_type": "code",
   "execution_count": 41,
   "metadata": {},
   "outputs": [
    {
     "name": "stdout",
     "output_type": "stream",
     "text": [
      "    수학  영어   음악  체육\n",
      "이름                 \n",
      "서준  90  98   50  50\n",
      "우현  80  89   95  90\n",
      "인아  70  95  100  90\n",
      "\n",
      "\n",
      "    수학  영어   음악  체육\n",
      "이름                 \n",
      "서준  90  98  100  50\n",
      "우현  80  89   95  90\n",
      "인아  70  95  100  90\n"
     ]
    }
   ],
   "source": [
    "# 데이터프레임 df의 원소 여러 개를 변경하는 방법: '서준'의 '음악','체육' 점수\n",
    "df.loc['서준',['음악','체육']] = 50\n",
    "print(df)\n",
    "print('\\n')\n",
    "df.loc['서준',['음악','체육']] = 100,50\n",
    "print(df)"
   ]
  },
  {
   "cell_type": "code",
   "execution_count": null,
   "metadata": {},
   "outputs": [],
   "source": []
  }
 ],
 "metadata": {
  "kernelspec": {
   "display_name": "PY39",
   "language": "python",
   "name": "python3"
  },
  "language_info": {
   "codemirror_mode": {
    "name": "ipython",
    "version": 3
   },
   "file_extension": ".py",
   "mimetype": "text/x-python",
   "name": "python",
   "nbconvert_exporter": "python",
   "pygments_lexer": "ipython3",
   "version": "3.9.19"
  }
 },
 "nbformat": 4,
 "nbformat_minor": 2
}
