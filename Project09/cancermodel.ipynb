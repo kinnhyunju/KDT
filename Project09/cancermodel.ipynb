{
 "cells": [
  {
   "cell_type": "markdown",
   "metadata": {},
   "source": [
    "##### 저장된 모델 활용\n",
    "- 모델 파일 종류\n",
    "    * 가중치 및 절편 저장 파일 => 동일한 구조의 모델 인스턴스 생성 후 사용 가능\n",
    "    * 모델 전체 저장 파일 => 바로 로딩 후 사용 가능"
   ]
  },
  {
   "cell_type": "code",
   "execution_count": 1,
   "metadata": {},
   "outputs": [],
   "source": [
    "# 모듈 로딩\n",
    "import torch\n",
    "import torch.nn as nn\n",
    "import torch.nn.functional as F\n",
    "from torchinfo import summary\n",
    "from classes import CancerModel\n",
    "\n",
    "import pandas as pd"
   ]
  },
  {
   "cell_type": "code",
   "execution_count": 2,
   "metadata": {},
   "outputs": [],
   "source": [
    "# class CancerModel(nn.Module):\n",
    "#     def __init__(self,in_out=5,perceptrons = []) :\n",
    "#         super().__init__()\n",
    "#         self.i_layer = nn.Linear(14,perceptrons[0] if len(perceptrons)>0 else in_out)\n",
    "        \n",
    "#         self.h_layers = nn.ModuleList()\n",
    "#         for idx in range(len(perceptrons)-1) :\n",
    "#             self.h_layers.append(nn.Linear(perceptrons[idx], perceptrons[idx+1]))\n",
    "\n",
    "#         self.o_layer = nn.Linear(perceptrons[-1] if len(perceptrons)>0 else in_out,1)\n",
    "\n",
    "#     def forward(self, x):\n",
    "#         # 입력층\n",
    "#         y = F.relu(self.i_layer(x))\n",
    "\n",
    "#         # 은닉층\n",
    "#         for layer in self.h_layers:\n",
    "#             y = F.relu(layer(y))\n",
    "        \n",
    "#         # 출력층\n",
    "#         return F.sigmoid(self.o_layer(y))"
   ]
  },
  {
   "cell_type": "code",
   "execution_count": 3,
   "metadata": {},
   "outputs": [],
   "source": [
    "# # Dropout 실시\n",
    "\n",
    "# class CancerModel(nn.Module):\n",
    "#     def __init__(self,in_out=5,perceptrons = []) :\n",
    "#         super(CancerModel, self).__init__()\n",
    "#         self.i_layer = nn.Linear(14,perceptrons[0] if len(perceptrons)>0 else in_out)\n",
    "        \n",
    "#         self.h_layers = nn.ModuleList()\n",
    "#         for idx in range(len(perceptrons)-1) :\n",
    "#             self.h_layers.append(nn.Linear(perceptrons[idx], perceptrons[idx+1]))\n",
    "#         self.dropout_prob = 0.5\n",
    "\n",
    "#         self.o_layer = nn.Linear(perceptrons[-1] if len(perceptrons)>0 else in_out,1)\n",
    "\n",
    "#     def forward(self, x):\n",
    "#         # 입력층\n",
    "#         y = F.relu(self.i_layer(x))\n",
    "\n",
    "#         # 은닉층\n",
    "#         for layer in self.h_layers:\n",
    "#             y = F.relu(layer(y))\n",
    "#             y = F.dropout(y, p=self.dropout_prob)\n",
    "#         # 출력층\n",
    "#         return F.sigmoid(self.o_layer(y))"
   ]
  },
  {
   "cell_type": "code",
   "execution_count": 4,
   "metadata": {},
   "outputs": [],
   "source": [
    "## 모델 파일 관련\n",
    "### models 폴더 아래 프로젝트 폴더 아래 모델 파일 저장\n",
    "import os\n",
    "\n",
    "# 저장 경로\n",
    "SAVE_PATH = '../DeepLearning/models/project/'\n",
    "# 저장 파일명\n",
    "SAVE_FILE = SAVE_PATH+'model_train_wb.pth'\n",
    "\n",
    "# 모델 구조 및 파라미터 모두 저장 파일명\n",
    "SAVE_MODEL = SAVE_PATH+'model_all.pth'"
   ]
  },
  {
   "cell_type": "code",
   "execution_count": 5,
   "metadata": {},
   "outputs": [],
   "source": [
    "# 경로상 폴더 존재 여부 체크\n",
    "if not os.path.exists(SAVE_PATH) : os.makedirs(SAVE_PATH)   # 폴더 / 폴더 / ...  하위폴더까지 생성"
   ]
  },
  {
   "cell_type": "markdown",
   "metadata": {},
   "source": [
    "#### 모델 로딩"
   ]
  },
  {
   "cell_type": "code",
   "execution_count": 6,
   "metadata": {},
   "outputs": [],
   "source": [
    "# cancerModel = torch.load(SAVE_MODEL, weights_only=False)"
   ]
  },
  {
   "cell_type": "code",
   "execution_count": 7,
   "metadata": {},
   "outputs": [],
   "source": [
    "# summary(cancerModel)"
   ]
  },
  {
   "cell_type": "code",
   "execution_count": 8,
   "metadata": {},
   "outputs": [],
   "source": [
    "def prerocessing():\n",
    "    lungDF = pd.DataFrame([[0,0,0,0,0,0,0,0,0,0,0,0,0,0,0]],columns=['age', 'gender', 'diagnosis_date', 'cancer_stage', 'beginning_of_treatment_date',  'family_history', \n",
    " 'smoking_status', 'bmi', 'cholesterol_level', 'hypertension', 'asthma', 'cirrhosis', 'other_cancer', 'treatment_type', 'end_treatment_date'])\n",
    "    data = input('데이터를 입력하세요').split(',')\n",
    "    lungDF.loc[0] = data\n",
    "    lungDF['age'] = (lungDF['age'].astype('float64')).astype('int')\n",
    "    lungDF['bmi'] = lungDF['bmi'].astype('float64')\n",
    "    lungDF['cholesterol_level'] = lungDF['cholesterol_level'].astype('int64')\n",
    "    lungDF['hypertension'] = lungDF['hypertension'].astype('int64')\n",
    "    lungDF['asthma'] = lungDF['asthma'].astype('int64')\n",
    "    lungDF['cirrhosis'] = lungDF['cirrhosis'].astype('int64')\n",
    "    lungDF['other_cancer'] = lungDF['other_cancer'].astype('int64')\n",
    "    lungDF['beginning_of_treatment_date'] = pd.to_datetime(lungDF['beginning_of_treatment_date'])\n",
    "    lungDF['end_treatment_date'] = pd.to_datetime(lungDF['end_treatment_date'])\n",
    "    lungDF['diagnosis_date'] = pd.to_datetime(lungDF['diagnosis_date'])\n",
    "    lungDF['cancer_stage'] = lungDF['cancer_stage'].replace({'Stage I':1,'Stage II':2, 'Stage III':3, 'Stage IV':4})\n",
    "    lungDF['gender'] = lungDF['gender'].replace({'Male':0, 'Female':1})\n",
    "    lungDF['family_history'] = lungDF['family_history'].replace({'No':0, 'Yes':1})\n",
    "    lungDF['smoking_status'] = lungDF['smoking_status'].replace({'Never Smoked':0,'Passive Smoker':1,'Former Smoker':2,'Current Smoker':3})\n",
    "    lungDF['treatment_type'] = lungDF['treatment_type'].replace({'Chemotherapy':0,'Combined':1,'Radiation':2,'Surgery':3})\n",
    "    lungDF['start_days'] = (lungDF['beginning_of_treatment_date']-lungDF['diagnosis_date']).dt.days\n",
    "    lungDF['treatment_days'] = (lungDF['end_treatment_date'] - lungDF['beginning_of_treatment_date']).dt.days\n",
    "    cancerDF = lungDF.drop(['diagnosis_date','beginning_of_treatment_date','end_treatment_date'], axis=1)\n",
    "\n",
    "    return cancerDF.loc[0].to_list()"
   ]
  },
  {
   "cell_type": "markdown",
   "metadata": {},
   "source": [
    "#### 예측"
   ]
  },
  {
   "cell_type": "code",
   "execution_count": 9,
   "metadata": {},
   "outputs": [],
   "source": [
    "# data = prerocessing()\n",
    "# dataTS = torch.FloatTensor(data).reshape(1,-1)"
   ]
  },
  {
   "cell_type": "code",
   "execution_count": 10,
   "metadata": {},
   "outputs": [],
   "source": [
    "# cancerModel.eval()\n",
    "\n",
    "# with torch.no_grad():\n",
    "#     pre_val = cancerModel(dataTS)"
   ]
  },
  {
   "cell_type": "code",
   "execution_count": 11,
   "metadata": {},
   "outputs": [],
   "source": [
    "# pre_val"
   ]
  },
  {
   "cell_type": "code",
   "execution_count": 12,
   "metadata": {},
   "outputs": [],
   "source": [
    "# 'Survived : True' if (pre_val>0.2182).item() else 'Survived : False'"
   ]
  },
  {
   "cell_type": "code",
   "execution_count": 13,
   "metadata": {},
   "outputs": [],
   "source": [
    "def detecting():\n",
    "    cancerModel = CancerModel()\n",
    "    data = prerocessing()\n",
    "    dataTS = torch.FloatTensor(data).reshape(1,-1)\n",
    "\n",
    "    cancerModel.eval()\n",
    "\n",
    "    with torch.no_grad():\n",
    "        pre_val = cancerModel(dataTS)\n",
    "\n",
    "    result = 'Survived : True' if (pre_val>0.2182).item() else 'Survived : False'\n",
    "    return result\n"
   ]
  },
  {
   "cell_type": "code",
   "execution_count": 14,
   "metadata": {},
   "outputs": [
    {
     "name": "stdout",
     "output_type": "stream",
     "text": [
      "Survived : True\n"
     ]
    }
   ],
   "source": [
    "result = detecting()\n",
    "print(result)"
   ]
  },
  {
   "cell_type": "code",
   "execution_count": null,
   "metadata": {},
   "outputs": [],
   "source": []
  }
 ],
 "metadata": {
  "kernelspec": {
   "display_name": "TORCH_38",
   "language": "python",
   "name": "python3"
  },
  "language_info": {
   "codemirror_mode": {
    "name": "ipython",
    "version": 3
   },
   "file_extension": ".py",
   "mimetype": "text/x-python",
   "name": "python",
   "nbconvert_exporter": "python",
   "pygments_lexer": "ipython3",
   "version": "3.8.19"
  }
 },
 "nbformat": 4,
 "nbformat_minor": 2
}
