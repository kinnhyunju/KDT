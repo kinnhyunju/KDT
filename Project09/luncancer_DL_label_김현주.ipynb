{
 "cells": [
  {
   "cell_type": "markdown",
   "metadata": {},
   "source": [
    "#### 폐암 사망 데이터 분석\n",
    "- 사용 데이터 : lung_cancer_mortality_data_large_v2.csv\n",
    "- 피처/속성 : 15개\n",
    "- 타겟/라벨 : survived\n",
    "- 학습-방법 : 지도학습 > 분류> 이진분류\n",
    "- 학습 알고리즘 : 인공신경망(ANN) -> 심층 신경망 (MLP, DNN) : 은닉층이 많은 구성\n",
    "- 프레임워크 : Pytorch"
   ]
  },
  {
   "cell_type": "code",
   "execution_count": 1,
   "metadata": {},
   "outputs": [],
   "source": [
    "import pandas as pd\n",
    "import matplotlib.pyplot as plt\n",
    "\n",
    "from sklearn.model_selection import train_test_split\n",
    "from sklearn.preprocessing import *\n",
    "\n",
    "from imblearn.over_sampling import SMOTE\n",
    "\n",
    "import torch\n",
    "import torch.nn as nn\n",
    "import torch.nn.functional as F\n",
    "from torch.utils.data import Dataset, DataLoader\n",
    "import torch.optim as optim\n",
    "import torch.optim.lr_scheduler as lr_scheduler \n",
    "from torchmetrics.classification import BinaryF1Score, BinaryConfusionMatrix, BinaryAccuracy, BinaryRecall, BinaryPrecision, BinarySpecificity\n",
    "from torchinfo import summary"
   ]
  },
  {
   "cell_type": "markdown",
   "metadata": {},
   "source": [
    "#### 1. 데이터 불러오기"
   ]
  },
  {
   "cell_type": "code",
   "execution_count": 2,
   "metadata": {},
   "outputs": [
    {
     "data": {
      "text/html": [
       "<div>\n",
       "<style scoped>\n",
       "    .dataframe tbody tr th:only-of-type {\n",
       "        vertical-align: middle;\n",
       "    }\n",
       "\n",
       "    .dataframe tbody tr th {\n",
       "        vertical-align: top;\n",
       "    }\n",
       "\n",
       "    .dataframe thead th {\n",
       "        text-align: right;\n",
       "    }\n",
       "</style>\n",
       "<table border=\"1\" class=\"dataframe\">\n",
       "  <thead>\n",
       "    <tr style=\"text-align: right;\">\n",
       "      <th></th>\n",
       "      <th>id</th>\n",
       "      <th>age</th>\n",
       "      <th>gender</th>\n",
       "      <th>country</th>\n",
       "      <th>diagnosis_date</th>\n",
       "      <th>cancer_stage</th>\n",
       "      <th>beginning_of_treatment_date</th>\n",
       "      <th>family_history</th>\n",
       "      <th>smoking_status</th>\n",
       "      <th>bmi</th>\n",
       "      <th>cholesterol_level</th>\n",
       "      <th>hypertension</th>\n",
       "      <th>asthma</th>\n",
       "      <th>cirrhosis</th>\n",
       "      <th>other_cancer</th>\n",
       "      <th>treatment_type</th>\n",
       "      <th>end_treatment_date</th>\n",
       "      <th>survived</th>\n",
       "    </tr>\n",
       "  </thead>\n",
       "  <tbody>\n",
       "    <tr>\n",
       "      <th>0</th>\n",
       "      <td>1</td>\n",
       "      <td>64.0</td>\n",
       "      <td>Female</td>\n",
       "      <td>Germany</td>\n",
       "      <td>2016-04-07</td>\n",
       "      <td>Stage III</td>\n",
       "      <td>2016-04-21</td>\n",
       "      <td>No</td>\n",
       "      <td>Never Smoked</td>\n",
       "      <td>31.1</td>\n",
       "      <td>257</td>\n",
       "      <td>1</td>\n",
       "      <td>1</td>\n",
       "      <td>0</td>\n",
       "      <td>0</td>\n",
       "      <td>Combined</td>\n",
       "      <td>2017-11-15</td>\n",
       "      <td>0</td>\n",
       "    </tr>\n",
       "    <tr>\n",
       "      <th>1</th>\n",
       "      <td>2</td>\n",
       "      <td>50.0</td>\n",
       "      <td>Male</td>\n",
       "      <td>Czech Republic</td>\n",
       "      <td>2023-04-22</td>\n",
       "      <td>Stage III</td>\n",
       "      <td>2023-05-02</td>\n",
       "      <td>Yes</td>\n",
       "      <td>Passive Smoker</td>\n",
       "      <td>25.9</td>\n",
       "      <td>208</td>\n",
       "      <td>1</td>\n",
       "      <td>0</td>\n",
       "      <td>0</td>\n",
       "      <td>0</td>\n",
       "      <td>Radiation</td>\n",
       "      <td>2024-04-25</td>\n",
       "      <td>0</td>\n",
       "    </tr>\n",
       "    <tr>\n",
       "      <th>2</th>\n",
       "      <td>3</td>\n",
       "      <td>65.0</td>\n",
       "      <td>Male</td>\n",
       "      <td>Romania</td>\n",
       "      <td>2023-04-07</td>\n",
       "      <td>Stage IV</td>\n",
       "      <td>2023-04-12</td>\n",
       "      <td>No</td>\n",
       "      <td>Never Smoked</td>\n",
       "      <td>18.9</td>\n",
       "      <td>193</td>\n",
       "      <td>0</td>\n",
       "      <td>0</td>\n",
       "      <td>0</td>\n",
       "      <td>0</td>\n",
       "      <td>Surgery</td>\n",
       "      <td>2025-03-11</td>\n",
       "      <td>0</td>\n",
       "    </tr>\n",
       "    <tr>\n",
       "      <th>3</th>\n",
       "      <td>4</td>\n",
       "      <td>51.0</td>\n",
       "      <td>Female</td>\n",
       "      <td>Latvia</td>\n",
       "      <td>2016-02-07</td>\n",
       "      <td>Stage III</td>\n",
       "      <td>2016-02-13</td>\n",
       "      <td>Yes</td>\n",
       "      <td>Former Smoker</td>\n",
       "      <td>34.6</td>\n",
       "      <td>249</td>\n",
       "      <td>1</td>\n",
       "      <td>1</td>\n",
       "      <td>1</td>\n",
       "      <td>0</td>\n",
       "      <td>Surgery</td>\n",
       "      <td>2017-04-14</td>\n",
       "      <td>1</td>\n",
       "    </tr>\n",
       "    <tr>\n",
       "      <th>4</th>\n",
       "      <td>5</td>\n",
       "      <td>37.0</td>\n",
       "      <td>Male</td>\n",
       "      <td>Greece</td>\n",
       "      <td>2023-12-01</td>\n",
       "      <td>Stage I</td>\n",
       "      <td>2023-12-03</td>\n",
       "      <td>Yes</td>\n",
       "      <td>Never Smoked</td>\n",
       "      <td>40.2</td>\n",
       "      <td>262</td>\n",
       "      <td>0</td>\n",
       "      <td>0</td>\n",
       "      <td>0</td>\n",
       "      <td>0</td>\n",
       "      <td>Chemotherapy</td>\n",
       "      <td>2024-09-20</td>\n",
       "      <td>0</td>\n",
       "    </tr>\n",
       "  </tbody>\n",
       "</table>\n",
       "</div>"
      ],
      "text/plain": [
       "   id   age  gender         country diagnosis_date cancer_stage  \\\n",
       "0   1  64.0  Female         Germany     2016-04-07    Stage III   \n",
       "1   2  50.0    Male  Czech Republic     2023-04-22    Stage III   \n",
       "2   3  65.0    Male         Romania     2023-04-07     Stage IV   \n",
       "3   4  51.0  Female          Latvia     2016-02-07    Stage III   \n",
       "4   5  37.0    Male          Greece     2023-12-01      Stage I   \n",
       "\n",
       "  beginning_of_treatment_date family_history  smoking_status   bmi  \\\n",
       "0                  2016-04-21             No    Never Smoked  31.1   \n",
       "1                  2023-05-02            Yes  Passive Smoker  25.9   \n",
       "2                  2023-04-12             No    Never Smoked  18.9   \n",
       "3                  2016-02-13            Yes   Former Smoker  34.6   \n",
       "4                  2023-12-03            Yes    Never Smoked  40.2   \n",
       "\n",
       "   cholesterol_level  hypertension  asthma  cirrhosis  other_cancer  \\\n",
       "0                257             1       1          0             0   \n",
       "1                208             1       0          0             0   \n",
       "2                193             0       0          0             0   \n",
       "3                249             1       1          1             0   \n",
       "4                262             0       0          0             0   \n",
       "\n",
       "  treatment_type end_treatment_date  survived  \n",
       "0       Combined         2017-11-15         0  \n",
       "1      Radiation         2024-04-25         0  \n",
       "2        Surgery         2025-03-11         0  \n",
       "3        Surgery         2017-04-14         1  \n",
       "4   Chemotherapy         2024-09-20         0  "
      ]
     },
     "execution_count": 2,
     "metadata": {},
     "output_type": "execute_result"
    }
   ],
   "source": [
    "data = './lung_cancer_mortality_data_large_v2.csv'\n",
    "lungDF = pd.read_csv(data)\n",
    "lungDF.head()"
   ]
  },
  {
   "cell_type": "code",
   "execution_count": 3,
   "metadata": {},
   "outputs": [],
   "source": [
    "lungDF = lungDF.drop(['id','country'], axis=1)"
   ]
  },
  {
   "cell_type": "code",
   "execution_count": 4,
   "metadata": {},
   "outputs": [
    {
     "name": "stdout",
     "output_type": "stream",
     "text": [
      "<class 'pandas.core.frame.DataFrame'>\n",
      "RangeIndex: 3250000 entries, 0 to 3249999\n",
      "Data columns (total 16 columns):\n",
      " #   Column                       Dtype  \n",
      "---  ------                       -----  \n",
      " 0   age                          float64\n",
      " 1   gender                       object \n",
      " 2   diagnosis_date               object \n",
      " 3   cancer_stage                 object \n",
      " 4   beginning_of_treatment_date  object \n",
      " 5   family_history               object \n",
      " 6   smoking_status               object \n",
      " 7   bmi                          float64\n",
      " 8   cholesterol_level            int64  \n",
      " 9   hypertension                 int64  \n",
      " 10  asthma                       int64  \n",
      " 11  cirrhosis                    int64  \n",
      " 12  other_cancer                 int64  \n",
      " 13  treatment_type               object \n",
      " 14  end_treatment_date           object \n",
      " 15  survived                     int64  \n",
      "dtypes: float64(2), int64(6), object(8)\n",
      "memory usage: 396.7+ MB\n"
     ]
    }
   ],
   "source": [
    "lungDF.info()"
   ]
  },
  {
   "cell_type": "markdown",
   "metadata": {},
   "source": [
    "#### 2. 데이터 전처리"
   ]
  },
  {
   "cell_type": "code",
   "execution_count": 5,
   "metadata": {},
   "outputs": [],
   "source": [
    "lungDF['age'] = lungDF['age'].astype('int')\n",
    "lungDF['beginning_of_treatment_date'] = pd.to_datetime(lungDF['beginning_of_treatment_date'])\n",
    "lungDF['end_treatment_date'] = pd.to_datetime(lungDF['end_treatment_date'])\n",
    "lungDF['diagnosis_date'] = pd.to_datetime(lungDF['diagnosis_date'])"
   ]
  },
  {
   "cell_type": "code",
   "execution_count": 6,
   "metadata": {},
   "outputs": [
    {
     "name": "stdout",
     "output_type": "stream",
     "text": [
      "<class 'pandas.core.frame.DataFrame'>\n",
      "RangeIndex: 3250000 entries, 0 to 3249999\n",
      "Data columns (total 16 columns):\n",
      " #   Column                       Dtype         \n",
      "---  ------                       -----         \n",
      " 0   age                          int32         \n",
      " 1   gender                       int64         \n",
      " 2   diagnosis_date               datetime64[ns]\n",
      " 3   cancer_stage                 int64         \n",
      " 4   beginning_of_treatment_date  datetime64[ns]\n",
      " 5   family_history               int64         \n",
      " 6   smoking_status               object        \n",
      " 7   bmi                          float64       \n",
      " 8   cholesterol_level            int64         \n",
      " 9   hypertension                 int64         \n",
      " 10  asthma                       int64         \n",
      " 11  cirrhosis                    int64         \n",
      " 12  other_cancer                 int64         \n",
      " 13  treatment_type               object        \n",
      " 14  end_treatment_date           datetime64[ns]\n",
      " 15  survived                     int64         \n",
      "dtypes: datetime64[ns](3), float64(1), int32(1), int64(9), object(2)\n",
      "memory usage: 384.3+ MB\n"
     ]
    }
   ],
   "source": [
    "lungDF['cancer_stage'] = lungDF['cancer_stage'].replace({'Stage I':1,'Stage II':2, 'Stage III':3, 'Stage IV':4})\n",
    "lungDF['gender'] = lungDF['gender'].replace({'Male':0, 'Female':1})\n",
    "lungDF['family_history'] = lungDF['family_history'].replace({'No':0, 'Yes':1})\n",
    "lungDF.info()"
   ]
  },
  {
   "cell_type": "code",
   "execution_count": 7,
   "metadata": {},
   "outputs": [
    {
     "data": {
      "text/plain": [
       "smoking_status\n",
       "Passive Smoker    814289\n",
       "Former Smoker     812264\n",
       "Current Smoker    811824\n",
       "Never Smoked      811623\n",
       "Name: count, dtype: int64"
      ]
     },
     "execution_count": 7,
     "metadata": {},
     "output_type": "execute_result"
    }
   ],
   "source": [
    "lungDF['smoking_status'].value_counts()"
   ]
  },
  {
   "cell_type": "code",
   "execution_count": 8,
   "metadata": {},
   "outputs": [
    {
     "data": {
      "text/plain": [
       "treatment_type\n",
       "Surgery         813480\n",
       "Chemotherapy    812702\n",
       "Radiation       812263\n",
       "Combined        811555\n",
       "Name: count, dtype: int64"
      ]
     },
     "execution_count": 8,
     "metadata": {},
     "output_type": "execute_result"
    }
   ],
   "source": [
    "lungDF['treatment_type'].value_counts()"
   ]
  },
  {
   "cell_type": "code",
   "execution_count": 9,
   "metadata": {},
   "outputs": [],
   "source": [
    "endcoder = LabelEncoder()"
   ]
  },
  {
   "cell_type": "code",
   "execution_count": 10,
   "metadata": {},
   "outputs": [],
   "source": [
    "lungDF['smoking_status'] = lungDF['smoking_status'].replace({'Never Smoked':0,'Passive Smoker':1,'Former Smoker':2,'Current Smoker':3})"
   ]
  },
  {
   "cell_type": "code",
   "execution_count": 11,
   "metadata": {},
   "outputs": [],
   "source": [
    "endcoder.fit(lungDF['treatment_type'])\n",
    "lungDF['treatment_type'] = endcoder.transform(lungDF['treatment_type'])"
   ]
  },
  {
   "cell_type": "code",
   "execution_count": 12,
   "metadata": {},
   "outputs": [
    {
     "data": {
      "text/html": [
       "<div>\n",
       "<style scoped>\n",
       "    .dataframe tbody tr th:only-of-type {\n",
       "        vertical-align: middle;\n",
       "    }\n",
       "\n",
       "    .dataframe tbody tr th {\n",
       "        vertical-align: top;\n",
       "    }\n",
       "\n",
       "    .dataframe thead th {\n",
       "        text-align: right;\n",
       "    }\n",
       "</style>\n",
       "<table border=\"1\" class=\"dataframe\">\n",
       "  <thead>\n",
       "    <tr style=\"text-align: right;\">\n",
       "      <th></th>\n",
       "      <th>age</th>\n",
       "      <th>gender</th>\n",
       "      <th>diagnosis_date</th>\n",
       "      <th>cancer_stage</th>\n",
       "      <th>beginning_of_treatment_date</th>\n",
       "      <th>family_history</th>\n",
       "      <th>smoking_status</th>\n",
       "      <th>bmi</th>\n",
       "      <th>cholesterol_level</th>\n",
       "      <th>hypertension</th>\n",
       "      <th>asthma</th>\n",
       "      <th>cirrhosis</th>\n",
       "      <th>other_cancer</th>\n",
       "      <th>treatment_type</th>\n",
       "      <th>end_treatment_date</th>\n",
       "      <th>survived</th>\n",
       "      <th>start_days</th>\n",
       "      <th>treatment_days</th>\n",
       "    </tr>\n",
       "  </thead>\n",
       "  <tbody>\n",
       "    <tr>\n",
       "      <th>0</th>\n",
       "      <td>64</td>\n",
       "      <td>1</td>\n",
       "      <td>2016-04-07</td>\n",
       "      <td>3</td>\n",
       "      <td>2016-04-21</td>\n",
       "      <td>0</td>\n",
       "      <td>0</td>\n",
       "      <td>31.1</td>\n",
       "      <td>257</td>\n",
       "      <td>1</td>\n",
       "      <td>1</td>\n",
       "      <td>0</td>\n",
       "      <td>0</td>\n",
       "      <td>1</td>\n",
       "      <td>2017-11-15</td>\n",
       "      <td>0</td>\n",
       "      <td>14</td>\n",
       "      <td>573</td>\n",
       "    </tr>\n",
       "    <tr>\n",
       "      <th>1</th>\n",
       "      <td>50</td>\n",
       "      <td>0</td>\n",
       "      <td>2023-04-22</td>\n",
       "      <td>3</td>\n",
       "      <td>2023-05-02</td>\n",
       "      <td>1</td>\n",
       "      <td>1</td>\n",
       "      <td>25.9</td>\n",
       "      <td>208</td>\n",
       "      <td>1</td>\n",
       "      <td>0</td>\n",
       "      <td>0</td>\n",
       "      <td>0</td>\n",
       "      <td>2</td>\n",
       "      <td>2024-04-25</td>\n",
       "      <td>0</td>\n",
       "      <td>10</td>\n",
       "      <td>359</td>\n",
       "    </tr>\n",
       "    <tr>\n",
       "      <th>2</th>\n",
       "      <td>65</td>\n",
       "      <td>0</td>\n",
       "      <td>2023-04-07</td>\n",
       "      <td>4</td>\n",
       "      <td>2023-04-12</td>\n",
       "      <td>0</td>\n",
       "      <td>0</td>\n",
       "      <td>18.9</td>\n",
       "      <td>193</td>\n",
       "      <td>0</td>\n",
       "      <td>0</td>\n",
       "      <td>0</td>\n",
       "      <td>0</td>\n",
       "      <td>3</td>\n",
       "      <td>2025-03-11</td>\n",
       "      <td>0</td>\n",
       "      <td>5</td>\n",
       "      <td>699</td>\n",
       "    </tr>\n",
       "    <tr>\n",
       "      <th>3</th>\n",
       "      <td>51</td>\n",
       "      <td>1</td>\n",
       "      <td>2016-02-07</td>\n",
       "      <td>3</td>\n",
       "      <td>2016-02-13</td>\n",
       "      <td>1</td>\n",
       "      <td>2</td>\n",
       "      <td>34.6</td>\n",
       "      <td>249</td>\n",
       "      <td>1</td>\n",
       "      <td>1</td>\n",
       "      <td>1</td>\n",
       "      <td>0</td>\n",
       "      <td>3</td>\n",
       "      <td>2017-04-14</td>\n",
       "      <td>1</td>\n",
       "      <td>6</td>\n",
       "      <td>426</td>\n",
       "    </tr>\n",
       "    <tr>\n",
       "      <th>4</th>\n",
       "      <td>37</td>\n",
       "      <td>0</td>\n",
       "      <td>2023-12-01</td>\n",
       "      <td>1</td>\n",
       "      <td>2023-12-03</td>\n",
       "      <td>1</td>\n",
       "      <td>0</td>\n",
       "      <td>40.2</td>\n",
       "      <td>262</td>\n",
       "      <td>0</td>\n",
       "      <td>0</td>\n",
       "      <td>0</td>\n",
       "      <td>0</td>\n",
       "      <td>0</td>\n",
       "      <td>2024-09-20</td>\n",
       "      <td>0</td>\n",
       "      <td>2</td>\n",
       "      <td>292</td>\n",
       "    </tr>\n",
       "  </tbody>\n",
       "</table>\n",
       "</div>"
      ],
      "text/plain": [
       "   age  gender diagnosis_date  cancer_stage beginning_of_treatment_date  \\\n",
       "0   64       1     2016-04-07             3                  2016-04-21   \n",
       "1   50       0     2023-04-22             3                  2023-05-02   \n",
       "2   65       0     2023-04-07             4                  2023-04-12   \n",
       "3   51       1     2016-02-07             3                  2016-02-13   \n",
       "4   37       0     2023-12-01             1                  2023-12-03   \n",
       "\n",
       "   family_history  smoking_status   bmi  cholesterol_level  hypertension  \\\n",
       "0               0               0  31.1                257             1   \n",
       "1               1               1  25.9                208             1   \n",
       "2               0               0  18.9                193             0   \n",
       "3               1               2  34.6                249             1   \n",
       "4               1               0  40.2                262             0   \n",
       "\n",
       "   asthma  cirrhosis  other_cancer  treatment_type end_treatment_date  \\\n",
       "0       1          0             0               1         2017-11-15   \n",
       "1       0          0             0               2         2024-04-25   \n",
       "2       0          0             0               3         2025-03-11   \n",
       "3       1          1             0               3         2017-04-14   \n",
       "4       0          0             0               0         2024-09-20   \n",
       "\n",
       "   survived  start_days  treatment_days  \n",
       "0         0          14             573  \n",
       "1         0          10             359  \n",
       "2         0           5             699  \n",
       "3         1           6             426  \n",
       "4         0           2             292  "
      ]
     },
     "execution_count": 12,
     "metadata": {},
     "output_type": "execute_result"
    }
   ],
   "source": [
    "lungDF['start_days'] = (lungDF['beginning_of_treatment_date']-lungDF['diagnosis_date']).dt.days\n",
    "lungDF['treatment_days'] = (lungDF['end_treatment_date'] - lungDF['beginning_of_treatment_date']).dt.days\n",
    "lungDF.head()"
   ]
  },
  {
   "cell_type": "code",
   "execution_count": 13,
   "metadata": {},
   "outputs": [
    {
     "name": "stdout",
     "output_type": "stream",
     "text": [
      "<class 'pandas.core.frame.DataFrame'>\n",
      "RangeIndex: 3250000 entries, 0 to 3249999\n",
      "Data columns (total 15 columns):\n",
      " #   Column             Dtype  \n",
      "---  ------             -----  \n",
      " 0   age                int32  \n",
      " 1   gender             int64  \n",
      " 2   cancer_stage       int64  \n",
      " 3   family_history     int64  \n",
      " 4   smoking_status     int64  \n",
      " 5   bmi                float64\n",
      " 6   cholesterol_level  int64  \n",
      " 7   hypertension       int64  \n",
      " 8   asthma             int64  \n",
      " 9   cirrhosis          int64  \n",
      " 10  other_cancer       int64  \n",
      " 11  treatment_type     int32  \n",
      " 12  survived           int64  \n",
      " 13  start_days         int64  \n",
      " 14  treatment_days     int64  \n",
      "dtypes: float64(1), int32(2), int64(12)\n",
      "memory usage: 347.1 MB\n"
     ]
    }
   ],
   "source": [
    "cancerDF = lungDF.drop(['diagnosis_date','beginning_of_treatment_date','end_treatment_date'], axis=1)\n",
    "cancerDF.info()"
   ]
  },
  {
   "cell_type": "markdown",
   "metadata": {},
   "source": [
    "3. 모델 클래스 설계 및 정의\n",
    "- - -\n",
    "- 클래스 목적 : lungcancer 데이터 학습 및 추론 목적\n",
    "- 클래스 이름 : CancerModel\n",
    "- 부모 클래스 : nn.Module\n",
    "- 매 개 변 수 : 층별 입출력 개수 고정하므로 필요 없음\n",
    "- 속성 / 필드 :\n",
    "- 기능 / 역할 : __init__() : 모델 구조 설정, forward() : 순방향 학습 <=오버라이딩(상속관계에서만 가능)\n",
    "- 클래스 구조\n",
    "    * 입력층 : 입력 20개   / 출력 1000개\n",
    "    * 은닉층 : 입력 1000개 / 출력 500개\n",
    "    * 은닉층 : 입력 500개  / 출력 200개\n",
    "    * 은닉층 : 입력 200개  / 출력 100개\n",
    "    * 은닉층 : 입력 100개  / 출력 50개\n",
    "    * 출력층 : 입력 50개  / 출력 1개(이진분류)\n",
    "- - -\n",
    "- 손실함수 / 활성화 함수\n",
    "    * 클래스 형태 ==> nn.BCELoss, nn.leakyReLU ==> __init__() 메서드\n",
    "    * 함수 형태 ==> torch.nn.fuctional 아래에 ==> forward() 메서드"
   ]
  },
  {
   "cell_type": "code",
   "execution_count": 14,
   "metadata": {},
   "outputs": [],
   "source": [
    "# class CancerModel(nn.Module):\n",
    "#     def __init__(self,in_out=5,perceptrons = []) :\n",
    "#         super().__init__()\n",
    "#         self.i_layer = nn.Linear(14,perceptrons[0] if len(perceptrons)>0 else in_out)\n",
    "        \n",
    "#         self.h_layers = nn.ModuleList()\n",
    "#         for idx in range(len(perceptrons)-1) :\n",
    "#             self.h_layers.append(nn.Linear(perceptrons[idx], perceptrons[idx+1]))\n",
    "\n",
    "#         self.o_layer = nn.Linear(perceptrons[-1] if len(perceptrons)>0 else in_out,1)\n",
    "\n",
    "#     def forward(self, x):\n",
    "#         # 입력층\n",
    "#         y = F.relu(self.i_layer(x))\n",
    "\n",
    "#         # 은닉층\n",
    "#         for layer in self.h_layers:\n",
    "#             y = F.relu(layer(y))\n",
    "        \n",
    "#         # 출력층\n",
    "#         return self.o_layer(y)"
   ]
  },
  {
   "cell_type": "code",
   "execution_count": 15,
   "metadata": {},
   "outputs": [],
   "source": [
    "# Dropout 실시\n",
    "\n",
    "class CancerModel(nn.Module):\n",
    "    def __init__(self,in_out=5,perceptrons = []) :\n",
    "        super(CancerModel, self).__init__()\n",
    "        self.i_layer = nn.Linear(14,perceptrons[0] if len(perceptrons)>0 else in_out)\n",
    "        \n",
    "        self.h_layers = nn.ModuleList()\n",
    "        for idx in range(len(perceptrons)-1) :\n",
    "            self.h_layers.append(nn.Linear(perceptrons[idx], perceptrons[idx+1]))\n",
    "        self.dropout_prob = 0.5\n",
    "\n",
    "        self.o_layer = nn.Linear(perceptrons[-1] if len(perceptrons)>0 else in_out,1)\n",
    "\n",
    "    def forward(self, x):\n",
    "        # 입력층\n",
    "        y = F.relu(self.i_layer(x))\n",
    "\n",
    "        # 은닉층\n",
    "        for layer in self.h_layers:\n",
    "            y = F.relu(layer(y))\n",
    "            y = F.dropout(y, p=self.dropout_prob)\n",
    "        # 출력층\n",
    "        return self.o_layer(y)"
   ]
  },
  {
   "cell_type": "code",
   "execution_count": 16,
   "metadata": {},
   "outputs": [
    {
     "name": "stdout",
     "output_type": "stream",
     "text": [
      "CancerModel(\n",
      "  (i_layer): Linear(in_features=14, out_features=32, bias=True)\n",
      "  (h_layers): ModuleList(\n",
      "    (0): Linear(in_features=32, out_features=64, bias=True)\n",
      "    (1): Linear(in_features=64, out_features=128, bias=True)\n",
      "    (2): Linear(in_features=128, out_features=64, bias=True)\n",
      "    (3): Linear(in_features=64, out_features=32, bias=True)\n",
      "    (4): Linear(in_features=32, out_features=16, bias=True)\n",
      "  )\n",
      "  (o_layer): Linear(in_features=16, out_features=1, bias=True)\n",
      ")\n"
     ]
    }
   ],
   "source": [
    "model = CancerModel(perceptrons=[32,64,128,64,32,16])\n",
    "print(model)"
   ]
  },
  {
   "cell_type": "code",
   "execution_count": 17,
   "metadata": {},
   "outputs": [
    {
     "data": {
      "text/plain": [
       "==========================================================================================\n",
       "Layer (type:depth-idx)                   Output Shape              Param #\n",
       "==========================================================================================\n",
       "CancerModel                              [1000000, 1]              --\n",
       "├─Linear: 1-1                            [1000000, 32]             480\n",
       "├─ModuleList: 1-2                        --                        --\n",
       "│    └─Linear: 2-1                       [1000000, 64]             2,112\n",
       "│    └─Linear: 2-2                       [1000000, 128]            8,320\n",
       "│    └─Linear: 2-3                       [1000000, 64]             8,256\n",
       "│    └─Linear: 2-4                       [1000000, 32]             2,080\n",
       "│    └─Linear: 2-5                       [1000000, 16]             528\n",
       "├─Linear: 1-3                            [1000000, 1]              17\n",
       "==========================================================================================\n",
       "Total params: 21,793\n",
       "Trainable params: 21,793\n",
       "Non-trainable params: 0\n",
       "Total mult-adds (G): 21.79\n",
       "==========================================================================================\n",
       "Input size (MB): 56.00\n",
       "Forward/backward pass size (MB): 2696.00\n",
       "Params size (MB): 0.09\n",
       "Estimated Total Size (MB): 2752.09\n",
       "=========================================================================================="
      ]
     },
     "execution_count": 17,
     "metadata": {},
     "output_type": "execute_result"
    }
   ],
   "source": [
    "# 모델 사용 메모리 정보 확인\n",
    "summary(model, input_size=(1000000,14))"
   ]
  },
  {
   "cell_type": "markdown",
   "metadata": {},
   "source": [
    "4. 데이터셋 클래스 설계 및 정의\n",
    "- - -\n",
    "- 데이터셋 : lung_cancer_mortality_data_large_v2.csv\n",
    "- 피처 개수 : 15개\n",
    "- 타겟 개수 : 1개\n",
    "- 클래스 이름 : CancerDataset\n",
    "- 부모 클래스 : utils.data.Dataset\n",
    "- 속성 / 필드 : featureDF, targetDF, n_rows, n_features\n",
    "- 필수 메서드\n",
    "    * _ _init_ _(self)\n",
    "    * _ _len_ _(self)\n",
    "    * _ _getitem_ _(self, index) : 특정 인덱스의 피처와 타겟 반환"
   ]
  },
  {
   "cell_type": "code",
   "execution_count": 18,
   "metadata": {},
   "outputs": [],
   "source": [
    "class CancerDataset(Dataset):\n",
    "    def __init__(self, featureDF, targetDF):\n",
    "        self.featureDF = featureDF\n",
    "        self.targetDF = targetDF\n",
    "        self.n_rows = featureDF.shape[0]\n",
    "        self.n_features = featureDF.shape[1]\n",
    "\n",
    "    def __len__(self):\n",
    "        return self.n_rows\n",
    "    \n",
    "    def __getitem__(self, index):\n",
    "        featureTS = torch.FloatTensor(self.featureDF.iloc[index].values)\n",
    "        targetTS = torch.FloatTensor(self.targetDF.iloc[index].values)\n",
    "\n",
    "        return featureTS, targetTS"
   ]
  },
  {
   "cell_type": "code",
   "execution_count": 19,
   "metadata": {},
   "outputs": [],
   "source": [
    "## 데이터셋 인스턴스 생성\n",
    "# 피처와 타겟 추출\n",
    "featureDF = cancerDF.drop('survived',axis=1)\n",
    "targetDF = cancerDF[['survived']]\n",
    "\n",
    "# 커스텀 데이터셋 인스턴스 생성\n",
    "cancerDS = CancerDataset(featureDF, targetDF)\n",
    "\n",
    "# 데이터 로더 인스턴스 생성\n",
    "cancerDL = DataLoader(cancerDS)\n",
    "# for feature, target in cancerDL:\n",
    "#     print(feature.shape, target.shape, feature, target, sep='\\n')\n",
    "#     break"
   ]
  },
  {
   "cell_type": "markdown",
   "metadata": {},
   "source": [
    "5. 학습 준비"
   ]
  },
  {
   "cell_type": "code",
   "execution_count": 20,
   "metadata": {},
   "outputs": [],
   "source": [
    "### 학습 진행 관련 설정\n",
    "EPOCH = 100\n",
    "BATCH_SIZE = 64\n",
    "DEVICE = 'cuda' if torch.cuda.is_available() else 'cpu'\n",
    "LR = 0.001"
   ]
  },
  {
   "cell_type": "code",
   "execution_count": 21,
   "metadata": {},
   "outputs": [],
   "source": [
    "# 모델 인스턴스 생성\n",
    "model = CancerModel(perceptrons=[32,64,16,8]).to(DEVICE)"
   ]
  },
  {
   "cell_type": "code",
   "execution_count": 22,
   "metadata": {},
   "outputs": [
    {
     "name": "stdout",
     "output_type": "stream",
     "text": [
      "(1828125, 14) (812500, 14) (609375, 14)\n",
      "(1828125, 1) (812500, 1) (609375, 1)\n"
     ]
    }
   ],
   "source": [
    "# 학습/검증/테스트용 데이터 분리\n",
    "X_train, X_test, y_train, y_test = train_test_split(featureDF, targetDF, random_state=7, stratify=targetDF)\n",
    "X_train, X_val, y_train, y_val = train_test_split(X_train, y_train, random_state=7, stratify=y_train)\n",
    "print(f'{X_train.shape} {X_test.shape} {X_val.shape}')\n",
    "print(f'{y_train.shape} {y_test.shape} {y_val.shape}')\n",
    "\n",
    "# # 오버 샘플링하기 - SMOTE 이용 ------------------------------------------\n",
    "# smote = SMOTE(sampling_strategy=0.6, random_state=23)\n",
    "# X_train, y_train = smote.fit_resample(X_train, y_train)\n",
    "\n",
    "# 학습/검증/테스트용 데이터셋 생성\n",
    "trainDS = CancerDataset(X_train, y_train)\n",
    "valDS = CancerDataset(X_val, y_val)\n",
    "testDS = CancerDataset(X_test, y_test)\n",
    "\n",
    "# 학습용 데이터로더 인스턴스\n",
    "trainDL = DataLoader(trainDS, batch_size=BATCH_SIZE)"
   ]
  },
  {
   "cell_type": "code",
   "execution_count": 29,
   "metadata": {},
   "outputs": [
    {
     "name": "stdout",
     "output_type": "stream",
     "text": [
      "0.2196004102564103\n"
     ]
    }
   ],
   "source": [
    "# 클래스 가중치\n",
    "values = y_train.value_counts().values.tolist()\n",
    "weight = values[0]/sum(values)\n",
    "Weight = torch.FloatTensor([weight]).to(DEVICE)"
   ]
  },
  {
   "cell_type": "code",
   "execution_count": 24,
   "metadata": {},
   "outputs": [
    {
     "name": "stderr",
     "output_type": "stream",
     "text": [
      "c:\\Users\\kdp\\anaconda3\\envs\\TORCH_38\\lib\\site-packages\\torch\\optim\\lr_scheduler.py:60: UserWarning: The verbose parameter is deprecated. Please use get_last_lr() to access the learning rate.\n",
      "  warnings.warn(\n"
     ]
    }
   ],
   "source": [
    "# 최적화 인스턴스\n",
    "optimizer = optim.RMSprop(model.parameters(), lr=LR)\n",
    "\n",
    "# 최적화 스케줄링 인스턴스 생성\n",
    "scheduler = lr_scheduler.ReduceLROnPlateau(optimizer, mode='max',patience=5, verbose=True)\n",
    "\n",
    "# 손실함수 인스턴스 : BCELoss / 예측값은 확률값으로 전달 ==> sigmoid() AF 처리 후 전달\n",
    "reqLoss = nn.BCEWithLogitsLoss(weight=Weight)"
   ]
  },
  {
   "cell_type": "markdown",
   "metadata": {},
   "source": [
    "6. 학습 진행"
   ]
  },
  {
   "cell_type": "code",
   "execution_count": 25,
   "metadata": {},
   "outputs": [],
   "source": [
    "### models 폴더 아래 프로젝트 폴더 아래 모델 파일 저장\n",
    "import os\n",
    "\n",
    "# 저장 경로\n",
    "SAVE_PATH = '../DeepLearning/models/project/'\n",
    "# 저장 파일명\n",
    "SAVE_FILE = 'model_train_wb.pth'\n",
    "\n",
    "# 모델 구조 및 파라미터 모두 저장 파일명\n",
    "SAVE_MODEL = 'model_all.pth'"
   ]
  },
  {
   "cell_type": "code",
   "execution_count": 26,
   "metadata": {},
   "outputs": [],
   "source": [
    "# 경로상 폴더 존재 여부 체크\n",
    "if not os.path.exists(SAVE_PATH) : os.makedirs(SAVE_PATH)   # 폴더 / 폴더 / ...  하위폴더까지 생성"
   ]
  },
  {
   "cell_type": "code",
   "execution_count": 27,
   "metadata": {},
   "outputs": [
    {
     "name": "stdout",
     "output_type": "stream",
     "text": [
      "[1/100]\n",
      "- [TRAIN] LOSS : 0.23146880982149565 SCORE : 0.5625055027184119\n",
      "- [VALID] LOSS : 0.4108080565929413 SCORE : 1.0\n",
      "- [TEST]  LOSS : 0.4108094871044159 SCORE : 1.0\n",
      "scheduler.num_bad_epochs => 0\n",
      "[2/100]\n",
      "- [TRAIN] LOSS : 0.23109488361740113 SCORE : 0.5625107692307693\n",
      "- [VALID] LOSS : 0.4108528792858124 SCORE : 1.0\n",
      "- [TEST]  LOSS : 0.4108756184577942 SCORE : 1.0\n",
      "scheduler.num_bad_epochs => 1\n",
      "[3/100]\n",
      "- [TRAIN] LOSS : 0.23108625784536507 SCORE : 0.5625107692307693\n",
      "- [VALID] LOSS : 0.41080835461616516 SCORE : 1.0\n",
      "- [TEST]  LOSS : 0.4108092188835144 SCORE : 1.0\n",
      "scheduler.num_bad_epochs => 2\n",
      "[4/100]\n",
      "- [TRAIN] LOSS : 0.23108598473064715 SCORE : 0.5625107692307693\n",
      "- [VALID] LOSS : 0.41080835461616516 SCORE : 1.0\n",
      "- [TEST]  LOSS : 0.4108092188835144 SCORE : 1.0\n",
      "scheduler.num_bad_epochs => 3\n",
      "[5/100]\n",
      "- [TRAIN] LOSS : 0.23108598473064715 SCORE : 0.5625107692307693\n",
      "- [VALID] LOSS : 0.41080835461616516 SCORE : 1.0\n",
      "- [TEST]  LOSS : 0.4108092188835144 SCORE : 1.0\n",
      "scheduler.num_bad_epochs => 4\n",
      "[6/100]\n",
      "- [TRAIN] LOSS : 0.23108598473064715 SCORE : 0.5625107692307693\n",
      "- [VALID] LOSS : 0.41080835461616516 SCORE : 1.0\n",
      "- [TEST]  LOSS : 0.4108092188835144 SCORE : 1.0\n",
      "scheduler.num_bad_epochs => 5\n",
      "[7/100]\n",
      "- [TRAIN] LOSS : 0.23108598473064715 SCORE : 0.5625107692307693\n",
      "- [VALID] LOSS : 0.41080835461616516 SCORE : 1.0\n",
      "- [TEST]  LOSS : 0.4108092188835144 SCORE : 1.0\n",
      "scheduler.num_bad_epochs => 6\n",
      "[8/100]\n",
      "- [TRAIN] LOSS : 0.23108598473064715 SCORE : 0.5625107692307693\n",
      "- [VALID] LOSS : 0.41080835461616516 SCORE : 1.0\n",
      "- [TEST]  LOSS : 0.4108092188835144 SCORE : 1.0\n",
      "scheduler.num_bad_epochs => 7\n",
      "[9/100]\n",
      "- [TRAIN] LOSS : 0.23108598473064715 SCORE : 0.5625107692307693\n",
      "- [VALID] LOSS : 0.41080835461616516 SCORE : 1.0\n",
      "- [TEST]  LOSS : 0.4108092188835144 SCORE : 1.0\n",
      "scheduler.num_bad_epochs => 8\n",
      "성능 개선이 없어서 8 EPOCH에 조기 종료함!\n"
     ]
    }
   ],
   "source": [
    "# 학습 효과 확인\n",
    "Loss_History, Score_History = [[],[],[]],[[],[],[]]\n",
    "CNT = cancerDS.n_rows/BATCH_SIZE\n",
    "\n",
    "for epoch in range(EPOCH):\n",
    "    # 학습 모드로 모델 설정\n",
    "    model.train()\n",
    "\n",
    "    # 배치크기만큼 데이터 로딩 후 학습 진행\n",
    "    total_loss, total_score = 0,0\n",
    "\n",
    "    for featureTS, targetTS in trainDL:\n",
    "        # 학습 진행\n",
    "        pre_y = model(featureTS)\n",
    "\n",
    "        # 손실 계산\n",
    "        loss = reqLoss(pre_y,targetTS)\n",
    "        total_loss += loss.item()\n",
    "\n",
    "        # 성능평가 계산\n",
    "        score = BinarySpecificity(threshold=weight)(pre_y, targetTS)\n",
    "        total_score += score.item()\n",
    "\n",
    "        # 최적화 진행\n",
    "        optimizer.zero_grad()\n",
    "        loss.backward()\n",
    "        optimizer.step()\n",
    "    \n",
    "    # 에포크 당 검증\n",
    "    # 검증 모드로 모델 설정\n",
    "    model.eval()\n",
    "\n",
    "    with torch.no_grad():\n",
    "        # 검증용 데이터셋 생성\n",
    "        val_feature_TS = torch.FloatTensor(valDS.featureDF.values)\n",
    "        val_target_TS = torch.FloatTensor(valDS.targetDF.values)\n",
    "\n",
    "        # 평가\n",
    "        pre_val = model(val_feature_TS)\n",
    "        \n",
    "        # 손실 계산\n",
    "        loss_val = reqLoss(pre_val, val_target_TS)\n",
    "        \n",
    "        # 성능 평가\n",
    "        score_val = BinarySpecificity(threshold=weight)(pre_val, val_target_TS)\n",
    "        \n",
    "\n",
    "    # 테스트 데이터 확인\n",
    "    model.eval()\n",
    "\n",
    "    with torch.no_grad():\n",
    "        # 테스트용 데이터셋 생성\n",
    "        test_featureTS = torch.FloatTensor(testDS.featureDF.values)\n",
    "        test_target_TS = torch.FloatTensor(testDS.targetDF.values)\n",
    "\n",
    "        # 평가\n",
    "        pre_test = model(test_featureTS)\n",
    "\n",
    "        # 손실 계산\n",
    "        loss_test = reqLoss(pre_test, test_target_TS)\n",
    "\n",
    "        # 성능 평가\n",
    "        score_test = BinarySpecificity(threshold=weight)(pre_test, test_target_TS)\n",
    "    \n",
    "    # 에포크 당 손실과 성능 평가 값 저장\n",
    "    Loss_History[0].append(total_loss/CNT)\n",
    "    Score_History[0].append(total_score/CNT)\n",
    "\n",
    "    Loss_History[1].append(loss_val)\n",
    "    Score_History[1].append(score_val)\n",
    "    \n",
    "    Loss_History[2].append(loss_test)\n",
    "    Score_History[2].append(score_test)\n",
    "    \n",
    "\n",
    "    print(f'[{epoch+1}/{EPOCH}]\\n- [TRAIN] LOSS : {Loss_History[0][-1]} SCORE : {Score_History[0][-1]}')\n",
    "    print(f'- [VALID] LOSS : {Loss_History[1][-1]} SCORE : {Score_History[1][-1]}')\n",
    "    print(f'- [TEST]  LOSS : {Loss_History[2][-1]} SCORE : {Score_History[2][-1]}')\n",
    "\n",
    "    # 최적화 스케줄러 인스턴스 업데이트\n",
    "    scheduler.step(score_val)\n",
    "    print(f'scheduler.num_bad_epochs => {scheduler.num_bad_epochs}')\n",
    "\n",
    "    # 성능이 좋은 학습 가중치 저장\n",
    "    # SAVE_FILE = f'model_train_wb{epoch}_{score_val:.2f}.pth'  # 성능이 좋아진 에포크, 스코어마다 파일 새로 저장\n",
    "    if len(Score_History[1]) == 1:\n",
    "        # 첫번째라서 무조건 모델 파라미터 저장\n",
    "        torch.save(model.state_dict(), SAVE_PATH+SAVE_FILE)\n",
    "        # 모델 전체 저장\n",
    "        torch.save(model, SAVE_PATH+SAVE_MODEL)\n",
    "    else : \n",
    "        if Score_History[1][-1] > max(Score_History[1][:-1]) :\n",
    "            torch.save(model.state_dict(), SAVE_PATH+SAVE_FILE)\n",
    "            torch.save(model, SAVE_PATH+SAVE_MODEL)\n",
    "\n",
    "    # 손실감소(또는 성능개선)가 안되는 경우 조기 종료\n",
    "    if scheduler.num_bad_epochs >= scheduler.patience :\n",
    "        print(f'성능 개선이 없어서 {scheduler.patience} EPOCH에 조기 종료함!')\n",
    "        break"
   ]
  },
  {
   "cell_type": "code",
   "execution_count": null,
   "metadata": {},
   "outputs": [],
   "source": []
  }
 ],
 "metadata": {
  "kernelspec": {
   "display_name": "TORCH_38",
   "language": "python",
   "name": "python3"
  },
  "language_info": {
   "codemirror_mode": {
    "name": "ipython",
    "version": 3
   },
   "file_extension": ".py",
   "mimetype": "text/x-python",
   "name": "python",
   "nbconvert_exporter": "python",
   "pygments_lexer": "ipython3",
   "version": "3.8.19"
  }
 },
 "nbformat": 4,
 "nbformat_minor": 2
}
