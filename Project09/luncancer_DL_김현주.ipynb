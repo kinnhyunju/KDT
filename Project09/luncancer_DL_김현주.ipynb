{
 "cells": [
  {
   "cell_type": "markdown",
   "metadata": {},
   "source": [
    "#### 폐암 사망 데이터 분석\n",
    "- 사용 데이터 : lung_cancer_mortality_data_large_v2.csv\n",
    "- 피처/속성 : 20개\n",
    "- 타겟/라벨 : survived\n",
    "- 학습-방법 : 지도학습 > 분류> 이진분류\n",
    "- 학습 알고리즘 : 인공신경망(ANN) -> 심층 신경망 (MLP, DNN) : 은닉층이 많은 구성\n",
    "- 프레임워크 : Pytorch"
   ]
  },
  {
   "cell_type": "code",
   "execution_count": null,
   "metadata": {},
   "outputs": [],
   "source": [
    "import pandas as pd\n",
    "import matplotlib.pyplot as plt\n",
    "\n",
    "from sklearn.model_selection import train_test_split\n",
    "from sklearn.preprocessing import *\n",
    "\n",
    "import torch\n",
    "import torch.nn as nn\n",
    "import torch.nn.functional as F\n",
    "from torch.utils.data import Dataset, DataLoader\n",
    "import torch.optim as optim\n",
    "import torch.optim.lr_scheduler as lr_scheduler \n",
    "from torchmetrics.classification import BinaryF1Score, BinaryConfusionMatrix, BinaryAccuracy, BinaryRecall, BinaryPrecision\n",
    "from torchinfo import summary"
   ]
  },
  {
   "cell_type": "markdown",
   "metadata": {},
   "source": [
    "#### 1. 데이터 불러오기"
   ]
  },
  {
   "cell_type": "code",
   "execution_count": null,
   "metadata": {},
   "outputs": [],
   "source": [
    "data = './lung_cancer_mortality_data_large_v2.csv'\n",
    "lungDF = pd.read_csv(data)\n",
    "lungDF.head()"
   ]
  },
  {
   "cell_type": "code",
   "execution_count": 3,
   "metadata": {},
   "outputs": [],
   "source": [
    "lungDF = lungDF.drop(['id','country'], axis=1)"
   ]
  },
  {
   "cell_type": "code",
   "execution_count": null,
   "metadata": {},
   "outputs": [],
   "source": [
    "lungDF.info()"
   ]
  },
  {
   "cell_type": "markdown",
   "metadata": {},
   "source": [
    "#### 2. 데이터 전처리"
   ]
  },
  {
   "cell_type": "code",
   "execution_count": 5,
   "metadata": {},
   "outputs": [],
   "source": [
    "lungDF['age'] = lungDF['age'].astype('int')\n",
    "lungDF['beginning_of_treatment_date'] = pd.to_datetime(lungDF['beginning_of_treatment_date'])\n",
    "lungDF['end_treatment_date'] = pd.to_datetime(lungDF['end_treatment_date'])\n",
    "lungDF['diagnosis_date'] = pd.to_datetime(lungDF['diagnosis_date'])"
   ]
  },
  {
   "cell_type": "code",
   "execution_count": null,
   "metadata": {},
   "outputs": [],
   "source": [
    "lungDF['cancer_stage'] = lungDF['cancer_stage'].replace({'Stage I':1,'Stage II':2, 'Stage III':3, 'Stage IV':4})\n",
    "lungDF['gender'] = lungDF['gender'].replace({'Male':0, 'Female':1})\n",
    "lungDF['family_history'] = lungDF['family_history'].replace({'No':0, 'Yes':1})\n",
    "lungDF.info()"
   ]
  },
  {
   "cell_type": "code",
   "execution_count": null,
   "metadata": {},
   "outputs": [],
   "source": [
    "lungDF['smoking_status'].value_counts()"
   ]
  },
  {
   "cell_type": "code",
   "execution_count": null,
   "metadata": {},
   "outputs": [],
   "source": [
    "lungDF['treatment_type'].value_counts()"
   ]
  },
  {
   "cell_type": "code",
   "execution_count": 9,
   "metadata": {},
   "outputs": [],
   "source": [
    "lungDF = pd.get_dummies(lungDF,columns=['smoking_status','treatment_type'], dtype=int)"
   ]
  },
  {
   "cell_type": "code",
   "execution_count": null,
   "metadata": {},
   "outputs": [],
   "source": [
    "lungDF['start_days'] = (lungDF['beginning_of_treatment_date']-lungDF['diagnosis_date']).dt.days\n",
    "lungDF['treatment_days'] = (lungDF['end_treatment_date'] - lungDF['beginning_of_treatment_date']).dt.days\n",
    "lungDF.head()"
   ]
  },
  {
   "cell_type": "code",
   "execution_count": null,
   "metadata": {},
   "outputs": [],
   "source": [
    "cancerDF = lungDF.drop(['diagnosis_date','beginning_of_treatment_date','end_treatment_date'], axis=1)\n",
    "cancerDF.info()"
   ]
  },
  {
   "cell_type": "markdown",
   "metadata": {},
   "source": [
    "3. 모델 클래스 설계 및 정의\n",
    "- - -\n",
    "- 클래스 목적 : lungcancer 데이터 학습 및 추론 목적\n",
    "- 클래스 이름 : CancerModel\n",
    "- 부모 클래스 : nn.Module\n",
    "- 매 개 변 수 : 층별 입출력 개수 고정하므로 필요 없음\n",
    "- 속성 / 필드 :\n",
    "- 기능 / 역할 : __init__() : 모델 구조 설정, forward() : 순방향 학습 <=오버라이딩(상속관계에서만 가능)\n",
    "- 클래스 구조\n",
    "    * 입력층 : 입력 20개   / 출력 1000개\n",
    "    * 은닉층 : 입력 1000개 / 출력 500개\n",
    "    * 은닉층 : 입력 500개  / 출력 200개\n",
    "    * 은닉층 : 입력 200개  / 출력 100개\n",
    "    * 은닉층 : 입력 100개  / 출력 50개\n",
    "    * 출력층 : 입력 50개  / 출력 1개(이진분류)\n",
    "- - -\n",
    "- 손실함수 / 활성화 함수\n",
    "    * 클래스 형태 ==> nn.BCELoss, nn.leakyReLU ==> __init__() 메서드\n",
    "    * 함수 형태 ==> torch.nn.fuctional 아래에 ==> forward() 메서드"
   ]
  },
  {
   "cell_type": "code",
   "execution_count": 12,
   "metadata": {},
   "outputs": [],
   "source": [
    "class CancerModel(nn.Module):\n",
    "    def __init__(self,in_out,perceptrons = []) :\n",
    "        super().__init__()\n",
    "        self.i_layer = nn.Linear(20,perceptrons[0] if len(perceptrons)>0 else in_out)\n",
    "        \n",
    "        self.h_layers = nn.ModuleList()\n",
    "        for idx in range(len(perceptrons)-1) :\n",
    "            self.h_layers.append(nn.Linear(perceptrons[idx], perceptrons[idx+1]))\n",
    "\n",
    "        self.o_layer = nn.Linear(perceptrons[-1] if len(perceptrons)>0 else in_out,1)\n",
    "\n",
    "    def forward(self, x):\n",
    "        # 입력층\n",
    "        y = F.leaky_relu(self.i_layer(x))\n",
    "\n",
    "        # 은닉층\n",
    "        for layer in self.h_layers:\n",
    "            y = F.leaky_relu(layer(y))\n",
    "        \n",
    "        # 출력층\n",
    "        return F.sigmoid(self.o_layer(y))\n"
   ]
  },
  {
   "cell_type": "code",
   "execution_count": null,
   "metadata": {},
   "outputs": [],
   "source": [
    "model = CancerModel(5,[400,200,100,50,20,10,5])\n",
    "print(model)"
   ]
  },
  {
   "cell_type": "code",
   "execution_count": null,
   "metadata": {},
   "outputs": [],
   "source": [
    "# 모델 사용 메모리 정보 확인\n",
    "summary(model, input_size=(1000000,20))"
   ]
  },
  {
   "cell_type": "markdown",
   "metadata": {},
   "source": [
    "4. 데이터셋 클래스 설계 및 정의\n",
    "- - -\n",
    "- 데이터셋 : lung_cancer_mortality_data_large_v2.csv\n",
    "- 피처 개수 : 20개\n",
    "- 타겟 개수 : 1개\n",
    "- 클래스 이름 : CancerDataset\n",
    "- 부모 클래스 : utils.data.Dataset\n",
    "- 속성 / 필드 : featureDF, targetDF, n_rows, n_features\n",
    "- 필수 메서드\n",
    "    * _ _init_ _(self)\n",
    "    * _ _len_ _(self)\n",
    "    * _ _getitem_ _(self, index) : 특정 인덱스의 피처와 타겟 반환"
   ]
  },
  {
   "cell_type": "code",
   "execution_count": 15,
   "metadata": {},
   "outputs": [],
   "source": [
    "class CancerDataset(Dataset):\n",
    "    def __init__(self, featureDF, targetDF):\n",
    "        self.featureDF = featureDF\n",
    "        self.targetDF = targetDF\n",
    "        self.n_rows = featureDF.shape[0]\n",
    "        self.n_features = featureDF.shape[1]\n",
    "\n",
    "    def __len__(self):\n",
    "        return self.n_rows\n",
    "    \n",
    "    def __getitem__(self, index):\n",
    "        featureTS = torch.FloatTensor(self.featureDF.iloc[index].values)\n",
    "        targetTS = torch.FloatTensor(self.targetDF.iloc[index].values)\n",
    "\n",
    "        return featureTS, targetTS"
   ]
  },
  {
   "cell_type": "code",
   "execution_count": null,
   "metadata": {},
   "outputs": [],
   "source": [
    "## 데이터셋 인스턴스 생성\n",
    "# 피처와 타겟 추출\n",
    "featureDF = cancerDF.drop('survived',axis=1)\n",
    "targetDF = cancerDF[['survived']]\n",
    "\n",
    "# 커스텀 데이터셋 인스턴스 생성\n",
    "cancerDS = CancerDataset(featureDF, targetDF)\n",
    "\n",
    "# 데이터 로더 인스턴스 생성\n",
    "cancerDL = DataLoader(cancerDS)\n",
    "for feature, target in cancerDL:\n",
    "    print(feature.shape, target.shape, feature, target, sep='\\n')\n",
    "    break"
   ]
  },
  {
   "cell_type": "markdown",
   "metadata": {},
   "source": [
    "5. 학습 준비"
   ]
  },
  {
   "cell_type": "code",
   "execution_count": 17,
   "metadata": {},
   "outputs": [],
   "source": [
    "### 학습 진행 관련 설정\n",
    "EPOCH = 5\n",
    "BATCH_SIZE = 1000\n",
    "DEVICE = 'cuda' if torch.cuda.is_available() else 'cpu'\n",
    "LR = 0.001"
   ]
  },
  {
   "cell_type": "code",
   "execution_count": 18,
   "metadata": {},
   "outputs": [],
   "source": [
    "# 모델 인스턴스 생성\n",
    "model = CancerModel(5,[32,64,100,50,20,10]).to(DEVICE)"
   ]
  },
  {
   "cell_type": "code",
   "execution_count": null,
   "metadata": {},
   "outputs": [],
   "source": [
    "# 학습/검증/테스트용 데이터 분리\n",
    "X_train, X_test, y_train, y_test = train_test_split(featureDF, targetDF, random_state=17, stratify=targetDF)\n",
    "X_train, X_val, y_train, y_val = train_test_split(X_train, y_train, random_state=17, stratify=y_train)\n",
    "print(f'{X_train.shape} {X_test.shape} {X_val.shape}')\n",
    "print(f'{y_train.shape} {y_test.shape} {y_val.shape}')\n",
    "\n",
    "# 학습/검증/테스트용 데이터셋 생성\n",
    "trainDS = CancerDataset(X_train, y_train)\n",
    "valDS = CancerDataset(X_val, y_val)\n",
    "testDS = CancerDataset(X_test, y_test)\n",
    "\n",
    "# 학습용 데이터로더 인스턴스\n",
    "trainDL = DataLoader(trainDS, batch_size=BATCH_SIZE)"
   ]
  },
  {
   "cell_type": "code",
   "execution_count": null,
   "metadata": {},
   "outputs": [],
   "source": [
    "# 최적화 인스턴스\n",
    "optimizer = optim.Adam(model.parameters(), lr=LR)\n",
    "\n",
    "# 최적화 스케줄링 인스턴스 생성\n",
    "scheduler = lr_scheduler.ReduceLROnPlateau(optimizer, mode='max',patience=5, verbose=True)\n",
    "\n",
    "# 손실함수 인스턴스 : BCELoss / 예측값은 확률값으로 전달 ==> sigmoid() AF 처리 후 전달\n",
    "reqLoss = nn.BCELoss()"
   ]
  },
  {
   "cell_type": "markdown",
   "metadata": {},
   "source": [
    "6. 학습 진행"
   ]
  },
  {
   "cell_type": "code",
   "execution_count": null,
   "metadata": {},
   "outputs": [],
   "source": [
    "# 학습 효과 확인\n",
    "Loss_History, Score_History = [[],[]],[[],[]]\n",
    "CNT = cancerDS.n_rows/BATCH_SIZE\n",
    "\n",
    "for epoch in range(EPOCH):\n",
    "    # 학습 모드로 모델 설정\n",
    "    model.train()\n",
    "\n",
    "    # 배치크기만큼 데이터 로딩 후 학습 진행\n",
    "    total_loss, total_score = 0,0\n",
    "\n",
    "    for featureTS, targetTS in trainDL:\n",
    "        # 학습 진행\n",
    "        pre_y = model(featureTS)\n",
    "\n",
    "        # 손실 계산\n",
    "        loss = reqLoss(pre_y,targetTS)\n",
    "        total_loss += loss.item()\n",
    "\n",
    "        # 성능평가 계산\n",
    "        score = BinaryF1Score()(pre_y, targetTS)\n",
    "        total_score += score.item()\n",
    "\n",
    "        # 최적화 진행\n",
    "        optimizer.zero_grad()\n",
    "        loss.backward()\n",
    "        optimizer.step()\n",
    "    \n",
    "    # 에포크 당 검증\n",
    "    # 검증 모드로 모델 설정\n",
    "    model.eval()\n",
    "\n",
    "    with torch.no_grad():\n",
    "        # 검증용 데이터셋 생성\n",
    "        val_feature_TS = torch.FloatTensor(valDS.featureDF.values)\n",
    "        val_target_TS = torch.FloatTensor(valDS.targetDF.values)\n",
    "\n",
    "        # 평가\n",
    "        pre_val = model(val_feature_TS)\n",
    "        # 손실 계산\n",
    "        loss_val = reqLoss(pre_val, val_target_TS)\n",
    "        # 성능 평가\n",
    "        score_val = BinaryF1Score()(pre_val, val_target_TS)\n",
    "    \n",
    "    # 에포크 당 손실과 성능 평가 값 저장\n",
    "    Loss_History[0].append(total_loss/CNT)\n",
    "    Score_History[0].append(total_score/CNT)\n",
    "    Loss_History[1].append(loss_val)\n",
    "    Score_History[1].append(score_val)\n",
    "\n",
    "    print(f'[{epoch}/{EPOCH}]\\n- [TRAIN] LOSS : {Loss_History[0][-1]} SCORE : {Score_History[0][-1]}')\n",
    "    print(f'- [VALID] LOSS : {Loss_History[1][-1]} SCORE : {Score_History[1][-1]}')\n",
    "\n",
    "    # 최적화 스케줄러 인스턴스 업데이트\n",
    "    scheduler.step(score_val)\n",
    "    print(f'scheduler.num_bad_epochs => {scheduler.num_bad_epochs}')\n",
    "\n",
    "    # 손실감소(또는 성능개선)가 안되는 경우 조기 종료\n",
    "    if scheduler.num_bad_epochs >= scheduler.patience :\n",
    "        print(f'성능 개선이 없어서 {scheduler.patience} EPOCH에 조기 종료함!')\n",
    "        break"
   ]
  },
  {
   "cell_type": "code",
   "execution_count": null,
   "metadata": {},
   "outputs": [],
   "source": []
  }
 ],
 "metadata": {
  "kernelspec": {
   "display_name": "TORCH_38",
   "language": "python",
   "name": "python3"
  },
  "language_info": {
   "codemirror_mode": {
    "name": "ipython",
    "version": 3
   },
   "file_extension": ".py",
   "mimetype": "text/x-python",
   "name": "python",
   "nbconvert_exporter": "python",
   "pygments_lexer": "ipython3",
   "version": "3.8.19"
  }
 },
 "nbformat": 4,
 "nbformat_minor": 2
}
